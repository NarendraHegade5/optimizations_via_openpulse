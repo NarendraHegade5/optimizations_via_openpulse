{
 "cells": [
  {
   "cell_type": "code",
   "execution_count": 1,
   "metadata": {},
   "outputs": [],
   "source": [
    "import numpy as np\n",
    "from scipy.optimize import minimize\n",
    "\n",
    "CNOT_UNITARY = np.array([[1, 0, 0, 0], [0, 1, 0, 0], [0, 0, 0, 1], [0, 0, 1, 0]])\n",
    "ISWAP_UNITARY = np.array([[1, 0, 0, 0], [0, 0, -1j, 0], [0, -1j, 0, 0], [0, 0, 0, 1]])"
   ]
  },
  {
   "cell_type": "markdown",
   "metadata": {},
   "source": [
    "---\n",
    "## Define Native Two-Qubit Gates"
   ]
  },
  {
   "cell_type": "code",
   "execution_count": 2,
   "metadata": {},
   "outputs": [],
   "source": [
    "class NativeTwoQubitGate(object):\n",
    "    num_params = -1\n",
    "\n",
    "    def get_unitary(self, params=[]):\n",
    "        assert len(params) == self.num_params\n",
    "        assert self.num_params != -1, 'Subclass should set num_params'\n",
    "        assert self.num_params in [0, 1], 'Currently doesn\\'t handle multi-parameter native gates'\n",
    "\n",
    "        return self._get_unitary(params)\n",
    "    \n",
    "    def _get_unitary(self, params=[]):\n",
    "        raise NotImplemented('Subclass should implement')\n",
    "        \n",
    "    def __str__(self):\n",
    "        return self.__class__.__name__\n",
    "\n",
    "    \n",
    "class NativeCNOT(NativeTwoQubitGate):\n",
    "    num_params = 0\n",
    "    \n",
    "    def _get_unitary(self, params=[]):\n",
    "        return CNOT_UNITARY\n",
    "\n",
    "\n",
    "class NativeiSWAP(NativeTwoQubitGate):\n",
    "    num_params = 0\n",
    "    \n",
    "    def _get_unitary(self, params=[]):\n",
    "        return ISWAP_UNITARY\n",
    "\n",
    "\n",
    "class NativeCR(NativeTwoQubitGate):\n",
    "    num_params = 1\n",
    "    \n",
    "    def _get_unitary(self, params=[]):\n",
    "        theta = params[0]\n",
    "        return np.array([\n",
    "            [np.cos(theta/2), -1j * np.sin(theta/2), 0, 0],\n",
    "            [-1j * np.sin(theta/2), np.cos(theta/2), 0, 0],\n",
    "            [0, 0, np.cos(theta/2), 1j * np.sin(theta/2)],\n",
    "            [0, 0, 1j * np.sin(theta/2), np.cos(theta/2)]])\n",
    "\n",
    "\n",
    "class NativeParametrizediSWAP(NativeTwoQubitGate):\n",
    "    num_params = 1\n",
    "    \n",
    "    def _get_unitary(self, params=[]):\n",
    "        theta = params[0]\n",
    "        return np.array([\n",
    "            [1, 0, 0, 0],\n",
    "            [0, np.cos(theta), -1j*np.sin(theta), 0],\n",
    "            [0, -1j*np.sin(theta), np.cos(theta), 0],\n",
    "            [0, 0, 0, 1]])\n",
    "\n",
    "    \n",
    "class NativeBSWAP(NativeTwoQubitGate):\n",
    "    pass\n",
    "\n",
    "class NativeMAP(NativeTwoQubitGate):\n",
    "    pass\n",
    "\n",
    "class NativeRIP(NativeTwoQubitGate):\n",
    "    pass\n",
    "\n",
    "class NativeMS(NativeTwoQubitGate):\n",
    "    pass"
   ]
  },
  {
   "cell_type": "markdown",
   "metadata": {},
   "source": [
    "## Define Target Two-Qubit Operations"
   ]
  },
  {
   "cell_type": "code",
   "execution_count": 3,
   "metadata": {},
   "outputs": [],
   "source": [
    "class TargetTwoQubitOperation(object):\n",
    "    def get_unitaries(self, params=None):\n",
    "        raise NotImplemented('Subclass should implement')\n",
    "        \n",
    "    def __str__(self):\n",
    "        return self.__class__.__name__\n",
    "\n",
    "\n",
    "class TargetCNOT(TargetTwoQubitOperation):\n",
    "    def get_unitaries(self):\n",
    "        return [CNOT_UNITARY]\n",
    "\n",
    "\n",
    "class TargetSWAP(TargetTwoQubitOperation):\n",
    "    def get_unitaries(self):\n",
    "        return [np.array([[1, 0, 0, 0],\n",
    "                          [0, 0, 1, 0],\n",
    "                          [0, 1, 0 ,0],\n",
    "                          [0, 0, 0, 1]])]\n",
    "\n",
    "    \n",
    "class TargetZZInteraction(TargetTwoQubitOperation):\n",
    "    def get_unitaries(self, params=None):\n",
    "        if params is None:\n",
    "            params = [np.random.random() for _ in range(10)] \n",
    "        return [np.diag([1, np.exp(1j * param), np.exp(1j * param), 1]) for param in params]"
   ]
  },
  {
   "cell_type": "markdown",
   "metadata": {},
   "source": [
    "## Define Minimization Problem"
   ]
  },
  {
   "cell_type": "code",
   "execution_count": 6,
   "metadata": {},
   "outputs": [],
   "source": [
    "def get_best_decomposition(target_two_qubit_operation, native_two_qubit_gate):\n",
    "    for k in [1, 2, 3]:\n",
    "        if has_k_step_decomposition(target_two_qubit_operation, native_two_qubit_gate, k):\n",
    "            return k\n",
    "    assert False, 'did not find any 3-step decomposition'\n",
    "            \n",
    "\n",
    "def has_k_step_decomposition(target_two_qubit_operation, native_two_qubit_gate, k):\n",
    "    for target_unitary in target_two_qubit_operation.get_unitaries():\n",
    "        num_failures = 0\n",
    "        while True:\n",
    "            result = k_step_minimization(target_unitary, native_two_qubit_gate, k)\n",
    "            if result.fun > -0.99:\n",
    "                num_failures += 1  # retry up to 10 times before giving up\n",
    "                if num_failures >= 10:\n",
    "                    return False\n",
    "            else:\n",
    "                break\n",
    "    return True\n",
    "\n",
    "\n",
    "def k_step_minimization(target_unitary, native_two_qubit_gate, k):\n",
    "    # there are k+1 single qubit layers and k two qubit layers\n",
    "    # yielding a total of 2(k+1) single qubit gates and k two qubit gates\n",
    "    # each single qubit gate has 3 parameters, so they contribute to 6k + 6 parameters\n",
    "    num_params = (6 * k + 6) + k * (native_two_qubit_gate.num_params)\n",
    "    params = [np.random.random() for _ in range(num_params)]\n",
    "\n",
    "    return minimize(get_fidelity, params,\n",
    "                    args=(target_unitary, native_two_qubit_gate, k),\n",
    "                    method='Nelder-Mead')\n",
    "\n",
    "\n",
    "def get_fidelity(params, target_unitary, native_two_qubit_gate, k):\n",
    "    params = list(params)  # so that we can call .pop()\n",
    "    single_qubit_u = []  # list of 2(k+1) single qubit gates\n",
    "    for i in range(2*(k + 1)):\n",
    "        a, b, c = params[3*i], params[3*i + 1], params[3*i + 2]  # generic single-qubit unitary has 3 params\n",
    "        single_qubit_u.append(np.array([[np.exp(1j * a) * np.cos(b), np.exp(1j * c) * np.sin(b)],\n",
    "                                        [-np.exp(-1j * c) * np.sin(b), np.exp(-1j * a) * np.cos(b)]]))\n",
    "\n",
    "    two_qubit_u = []  # list of k two-qubit gates\n",
    "    if native_two_qubit_gate.num_params == 0:\n",
    "        for _ in range(k):\n",
    "            two_qubit_u.append(native_two_qubit_gate.get_unitary())\n",
    "    else:\n",
    "        for i in range(k):\n",
    "            two_qubit_u.append(native_two_qubit_gate.get_unitary([params[-i]]))\n",
    "\n",
    "    actual_unitary = np.eye(4)\n",
    "    for i in range(k):\n",
    "        actual_unitary = actual_unitary @ np.kron(single_qubit_u.pop(), single_qubit_u.pop())\n",
    "        actual_unitary = actual_unitary @ two_qubit_u.pop()\n",
    "    actual_unitary = actual_unitary @ np.kron(single_qubit_u.pop(), single_qubit_u.pop())\n",
    "\n",
    "    fidelity = np.abs(np.trace(actual_unitary @ np.linalg.inv(target_unitary))) / 4\n",
    "    return -fidelity  # return negative, since we will minimize"
   ]
  },
  {
   "cell_type": "markdown",
   "metadata": {},
   "source": [
    "---\n",
    "## Results"
   ]
  },
  {
   "cell_type": "code",
   "execution_count": 7,
   "metadata": {},
   "outputs": [],
   "source": [
    "native_two_qubit_gates = [NativeCNOT(), NativeiSWAP(), NativeCR(), NativeParametrizediSWAP()]\n",
    "target_two_qubit_operations = [TargetCNOT(), TargetSWAP(), TargetZZInteraction()]"
   ]
  },
  {
   "cell_type": "code",
   "execution_count": 8,
   "metadata": {},
   "outputs": [],
   "source": [
    "results = {}\n",
    "for target_two_qubit_operation in target_two_qubit_operations:\n",
    "    for native_two_qubit_gate in native_two_qubit_gates:\n",
    "        k = get_best_decomposition(target_two_qubit_operation, native_two_qubit_gate)\n",
    "        results[(target_two_qubit_operation, native_two_qubit_gate)] = k"
   ]
  },
  {
   "cell_type": "code",
   "execution_count": 9,
   "metadata": {},
   "outputs": [
    {
     "name": "stdout",
     "output_type": "stream",
     "text": [
      "                                    CNOT               iSWAP                  CR   ParametrizediSWAP\n",
      "                CNOT                   1                   2                   1                   2\n",
      "                SWAP                   3                   3                   3                   3\n",
      "       ZZInteraction                   2                   2                   1                   2\n"
     ]
    }
   ],
   "source": [
    "row_format =\"{:>20}\" * (len(native_two_qubit_gates) + 1)\n",
    "print(row_format.format(\"\", *map(lambda s: str(s)[6:], native_two_qubit_gates)))\n",
    "for target_two_qubit_operation in target_two_qubit_operations:\n",
    "    row = [results[target_two_qubit_operation, native_two_qubit_gate] for native_two_qubit_gate in native_two_qubit_gates]\n",
    "    print(row_format.format(str(target_two_qubit_operation)[6:], *row))"
   ]
  },
  {
   "cell_type": "code",
   "execution_count": null,
   "metadata": {},
   "outputs": [],
   "source": []
  }
 ],
 "metadata": {
  "kernelspec": {
   "display_name": "Python 3",
   "language": "python",
   "name": "python3"
  },
  "language_info": {
   "codemirror_mode": {
    "name": "ipython",
    "version": 3
   },
   "file_extension": ".py",
   "mimetype": "text/x-python",
   "name": "python",
   "nbconvert_exporter": "python",
   "pygments_lexer": "ipython3",
   "version": "3.7.3"
  }
 },
 "nbformat": 4,
 "nbformat_minor": 2
}
