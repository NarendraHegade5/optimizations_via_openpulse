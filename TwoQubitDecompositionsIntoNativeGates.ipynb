{
 "cells": [
  {
   "cell_type": "markdown",
   "metadata": {},
   "source": [
    "### In progress. Added most of the native gates and target operations, now need to actually run them and correctly account for durations of each native gate."
   ]
  },
  {
   "cell_type": "code",
   "execution_count": 163,
   "metadata": {},
   "outputs": [],
   "source": [
    "import numpy as np\n",
    "from scipy.optimize import minimize, NonlinearConstraint\n",
    "from scipy.linalg import fractional_matrix_power\n",
    "\n",
    "CNOT_UNITARY = np.array([[1, 0, 0, 0], [0, 1, 0, 0], [0, 0, 0, 1], [0, 0, 1, 0]])\n",
    "ISWAP_UNITARY = np.array([[1, 0, 0, 0], [0, 0, -1j, 0], [0, -1j, 0, 0], [0, 0, 0, 1]])"
   ]
  },
  {
   "cell_type": "markdown",
   "metadata": {},
   "source": [
    "---\n",
    "## Define Native Two-Qubit Gates"
   ]
  },
  {
   "cell_type": "code",
   "execution_count": 2,
   "metadata": {},
   "outputs": [],
   "source": [
    "class NativeTwoQubitGate(object):\n",
    "    num_params = -1\n",
    "\n",
    "    def get_unitary(self, params=[]):\n",
    "        assert len(params) == self.num_params\n",
    "        assert self.num_params != -1, 'Subclass should set num_params'\n",
    "        assert self.num_params in [0, 1], 'Currently doesn\\'t handle multi-parameter native gates'\n",
    "\n",
    "        return self._get_unitary(params)\n",
    "    \n",
    "    def _get_unitary(self, params=[]):\n",
    "        raise NotImplemented('Subclass should implement')\n",
    "        \n",
    "    def __str__(self):\n",
    "        return self.__class__.__name__\n",
    "\n",
    "    \n",
    "class NativeCNOT(NativeTwoQubitGate):\n",
    "    num_params = 0\n",
    "    \n",
    "    def _get_unitary(self, params=[]):\n",
    "        return CNOT_UNITARY\n",
    "\n",
    "\n",
    "class NativeiSWAP(NativeTwoQubitGate):\n",
    "    num_params = 0\n",
    "    \n",
    "    def _get_unitary(self, params=[]):\n",
    "        return ISWAP_UNITARY\n",
    "\n",
    "\n",
    "class NativeCR(NativeTwoQubitGate):\n",
    "    num_params = 1\n",
    "    \n",
    "    def _get_unitary(self, params=[]):\n",
    "        theta = params[0]\n",
    "        return np.array([\n",
    "            [np.cos(theta/2), -1j * np.sin(theta/2), 0, 0],\n",
    "            [-1j * np.sin(theta/2), np.cos(theta/2), 0, 0],\n",
    "            [0, 0, np.cos(theta/2), 1j * np.sin(theta/2)],\n",
    "            [0, 0, 1j * np.sin(theta/2), np.cos(theta/2)]])\n",
    "\n",
    "\n",
    "class NativeParametrizediSWAP(NativeTwoQubitGate):\n",
    "    num_params = 1\n",
    "    \n",
    "    def _get_unitary(self, params=[]):\n",
    "        theta = params[0]\n",
    "        return np.array([\n",
    "            [1, 0, 0, 0],\n",
    "            [0, np.cos(theta), -1j*np.sin(theta), 0],\n",
    "            [0, -1j*np.sin(theta), np.cos(theta), 0],\n",
    "            [0, 0, 0, 1]])\n",
    "    \n",
    "    \n",
    "class NativeSWAPAlpha(NativeTwoQubitGate):\n",
    "    num_params = 1\n",
    "    \n",
    "    def _get_unitary(self, params=[]):\n",
    "        alpha = params[0]\n",
    "        return np.array([\n",
    "            [1, 0, 0, 0],\n",
    "            [0, (1 + np.exp(1j*np.pi*alpha))/2, (1 - np.exp(1j*np.pi*alpha))/2, 0],\n",
    "            [0, (1 - np.exp(1j*np.pi*alpha))/2, (1 + np.exp(1j*np.pi*alpha))/2, 0],\n",
    "            [0, 0, 0, 1]\n",
    "        ])\n",
    "\n",
    "    \n",
    "class NativeBSWAP(NativeTwoQubitGate):\n",
    "    num_params = 0\n",
    "    \n",
    "    def _get_unitary(self, params=[]):\n",
    "        return np.array([\n",
    "            [np.cos(np.pi/8), 0, 0, 1j * np.sin(np.pi/8)],\n",
    "            [0, np.cos(3*np.pi/8), 1j * np.sin(3*np.pi/8), 0],\n",
    "            [0, 1j * np.sin(3*np.pi/8), np.cos(3*np.pi/8), 0],\n",
    "            [1j * np.sin(np.pi/8), 0, 0, np.cos(np.pi/8)]\n",
    "        ])\n",
    "\n",
    "\n",
    "class NativeMAP(NativeTwoQubitGate):\n",
    "    num_params = 0\n",
    "\n",
    "    def _get_unitary(self, params=[]):\n",
    "        return np.exp(-1j * np.pi/4 * np.kron(np.diag([1,-1]), np.diag([1,-1])))\n",
    "\n",
    "    \n",
    "class NativeRIP(NativeTwoQubitGate):\n",
    "    pass\n",
    "\n",
    "\n",
    "class NativeMS(NativeTwoQubitGate):\n",
    "    num_params = 1\n",
    "    \n",
    "    def _get_unitary(self, params=[]):\n",
    "        theta = params[0]\n",
    "        return np.array([\n",
    "            [np.cos(np.pi*theta/2), 0, 0, -1j * np.sin(np.pi*theta/2)],\n",
    "            [0, np.cos(np.pi*theta/2), -1j*np.sin(np.pi*theta/2), 0],\n",
    "            [0, -1j*np.sin(np.pi*theta/2), np.cos(np.pi*theta/2), 0],\n",
    "            [-1j*np.sin(np.pi*theta/2), 0, 0, np.cos(np.pi*theta/2)]\n",
    "        ])"
   ]
  },
  {
   "cell_type": "markdown",
   "metadata": {},
   "source": [
    "## Define Target Two-Qubit Operations"
   ]
  },
  {
   "cell_type": "code",
   "execution_count": 182,
   "metadata": {},
   "outputs": [],
   "source": [
    "class TargetTwoQubitOperation(object):\n",
    "    def get_unitaries(self, params=None):\n",
    "        raise NotImplemented('Subclass should implement')\n",
    "        \n",
    "    def __str__(self):\n",
    "        return self.__class__.__name__\n",
    "\n",
    "\n",
    "class TargetCNOT(TargetTwoQubitOperation):\n",
    "    def get_unitaries(self):\n",
    "        return [CNOT_UNITARY]\n",
    "\n",
    "\n",
    "class TargetSWAP(TargetTwoQubitOperation):\n",
    "    def get_unitaries(self):\n",
    "        return [np.array([[1, 0, 0, 0],\n",
    "                          [0, 0, 1, 0],\n",
    "                          [0, 1, 0 ,0],\n",
    "                          [0, 0, 0, 1]])]\n",
    "\n",
    "    \n",
    "class TargetZZInteraction(TargetTwoQubitOperation):\n",
    "    def get_unitaries(self, params=None):\n",
    "        if params is None:\n",
    "            params = np.random.random(10) * 2 * np.pi\n",
    "        return [np.diag([1, np.exp(1j * param), np.exp(1j * param), 1]) for param in params]\n",
    "    \n",
    "    \n",
    "class TargetFermionicFourierTransform(TargetTwoQubitOperation):\n",
    "    def get_unitaries(self):\n",
    "        return [np.array([\n",
    "            [1, 0, 0, 0],\n",
    "            [0, 1/np.sqrt(2), 1/np.sqrt(2), 0],\n",
    "            [0, 1/np.sqrt(2), -1/np.sqrt(2), 0],\n",
    "            [0, 0, 0, -1]\n",
    "        ])]\n",
    "    \n",
    "\n",
    "class TargetBogoliubovTransform(TargetTwoQubitOperation):\n",
    "    def get_unitaries(self, params=None):\n",
    "        if params is None:\n",
    "            params = np.random.random(10) * 2 * np.pi\n",
    "\n",
    "        def _get_unitary(expo):  # adapted from Cirq\n",
    "            # --X--S--|iSWAP^expo|--S^1.5--X--\n",
    "            # --------|iSWAP^expo|------------\n",
    "            U = np.kron(np.array([[0, 1], [1, 0]]), np.eye(2))\n",
    "            U = np.kron(fractional_matrix_power(np.diag([1, -1]), 1.5), np.eye(2)) @ U\n",
    "            U = fractional_matrix_power(ISWAP_UNITARY, expo) @ U\n",
    "            U = np.kron(np.array(np.diag([1, -1])), np.eye(2)) @ U\n",
    "            U = np.kron(np.array([[0, 1], [1, 0]]), np.eye(2)) @ U\n",
    "            return U\n",
    "\n",
    "        return [_get_unitary(param) for param in params]"
   ]
  },
  {
   "cell_type": "markdown",
   "metadata": {},
   "source": [
    "## Define Minimization Problem"
   ]
  },
  {
   "cell_type": "code",
   "execution_count": 148,
   "metadata": {},
   "outputs": [],
   "source": [
    "def get_best_decomposition(target_two_qubit_operation, native_two_qubit_gate):\n",
    "    for k in [1, 2, 3]:\n",
    "        if has_k_step_decomposition(target_two_qubit_operation, native_two_qubit_gate, k):\n",
    "            return k\n",
    "    assert False, 'did not find any 3-step decomposition'\n",
    "            \n",
    "\n",
    "def has_k_step_decomposition(target_two_qubit_operation, native_two_qubit_gate, k):\n",
    "    for target_unitary in target_two_qubit_operation.get_unitaries():\n",
    "        num_failures = 0\n",
    "        while True:\n",
    "            result = k_step_minimization(target_unitary, native_two_qubit_gate, k)\n",
    "            if result.fun > -0.99:\n",
    "                num_failures += 1  # retry up to 10 times before giving up\n",
    "                if num_failures >= 10:\n",
    "                    return False\n",
    "            else:\n",
    "                break\n",
    "    return True\n",
    "\n",
    "\n",
    "def k_step_minimization(target_unitary, native_two_qubit_gate, k):\n",
    "    # there are k+1 single qubit layers and k two qubit layers\n",
    "    # yielding a total of 2(k+1) single qubit gates and k two qubit gates\n",
    "    # each single qubit gate has 3 parameters, so they contribute to 6k + 6 parameters\n",
    "    num_params = (6 * k + 6) + k * (native_two_qubit_gate.num_params)\n",
    "    params = [np.random.random() for _ in range(num_params)]\n",
    "    \n",
    "    from functools import partial\n",
    "    foo = partial(get_fidelity, target_unitary=target_unitary, native_two_qubit_gate=native_two_qubit_gate, k=k)\n",
    "    nonlinear_constraint= NonlinearConstraint(foo, lb=-np.inf, ub=-0.999);\n",
    "    return minimize(two_qubit_duration, params,\n",
    "                    args=(target_unitary, native_two_qubit_gate, k),\n",
    "                    method='trust-constr', constraints=[nonlinear_constraint],\n",
    "                    options={'maxiter': 1000})\n",
    "\n",
    "\n",
    "def get_fidelity(params, target_unitary, native_two_qubit_gate, k):\n",
    "    params = list(params)  # so that we can call .pop()\n",
    "    single_qubit_u = []  # list of 2(k+1) single qubit gates\n",
    "    for i in range(2*(k + 1)):\n",
    "        a, b, c = params[3*i], params[3*i + 1], params[3*i + 2]  # generic single-qubit unitary has 3 params\n",
    "        single_qubit_u.append(np.array([[np.exp(1j * a) * np.cos(b), np.exp(1j * c) * np.sin(b)],\n",
    "                                        [-np.exp(-1j * c) * np.sin(b), np.exp(-1j * a) * np.cos(b)]]))\n",
    "\n",
    "    two_qubit_u = []  # list of k two-qubit gates\n",
    "    if native_two_qubit_gate.num_params == 0:\n",
    "        for _ in range(k):\n",
    "            two_qubit_u.append(native_two_qubit_gate.get_unitary())\n",
    "    else:\n",
    "        for i in range(6*k+6, 6*k+9):\n",
    "            two_qubit_u.append(native_two_qubit_gate.get_unitary([params[i]]))\n",
    "\n",
    "    actual_unitary = np.eye(4)\n",
    "    for i in range(k):\n",
    "        actual_unitary = actual_unitary @ np.kron(single_qubit_u.pop(), single_qubit_u.pop())\n",
    "        actual_unitary = actual_unitary @ two_qubit_u.pop()\n",
    "    actual_unitary = actual_unitary @ np.kron(single_qubit_u.pop(), single_qubit_u.pop())\n",
    "\n",
    "    fidelity = np.abs(np.trace(actual_unitary @ np.linalg.inv(target_unitary))) / 4\n",
    "    return -fidelity  # return negative, since we will minimize\n",
    "\n",
    "\n",
    "def two_qubit_duration(params, target_unitary, native_two_qubit_gate, k):\n",
    "    two_qubit_params = params[-k:]\n",
    "    return sum(map(np.abs, two_qubit_params)) / (np.pi / 2)"
   ]
  },
  {
   "cell_type": "code",
   "execution_count": 149,
   "metadata": {},
   "outputs": [
    {
     "data": {
      "text/plain": [
       " barrier_parameter: 3.200000000000001e-05\n",
       " barrier_tolerance: 3.200000000000001e-05\n",
       "          cg_niter: 1460\n",
       "      cg_stop_cond: 4\n",
       "            constr: [array([-0.99900132])]\n",
       "       constr_nfev: [28812]\n",
       "       constr_nhev: [0]\n",
       "       constr_njev: [0]\n",
       "    constr_penalty: 35.236714458447636\n",
       "  constr_violation: 0.0\n",
       "    execution_time: 31.133423805236816\n",
       "               fun: 1.4507105204716917\n",
       "              grad: array([ 0.        ,  0.        ,  0.        ,  0.        ,  0.        ,\n",
       "        0.        ,  0.        ,  0.        ,  0.        ,  0.        ,\n",
       "        0.        ,  0.        ,  0.        ,  0.        ,  0.        ,\n",
       "        0.        ,  0.        ,  0.        ,  0.        ,  0.        ,\n",
       "        0.        ,  0.        ,  0.        ,  0.        , -0.63661976,\n",
       "       -0.63661976, -0.63661976])\n",
       "               jac: [array([[-8.19563866e-08, -2.98023224e-08, -1.19209290e-07,\n",
       "        -1.78813934e-07,  5.73694706e-07,  0.00000000e+00,\n",
       "         8.94069672e-08, -1.26659870e-07, -7.45058060e-09,\n",
       "        -1.86264515e-07,  7.89761543e-07,  2.75671482e-07,\n",
       "        -2.45869160e-07, -3.12924385e-07, -1.93715096e-07,\n",
       "         6.10947609e-07, -1.34110451e-07,  3.65078449e-07,\n",
       "         1.11758709e-07,  3.79979610e-07, -2.68220901e-07,\n",
       "         9.68575478e-08, -1.78813934e-07, -6.70552254e-08,\n",
       "         2.57877037e-02,  2.57877409e-02,  2.57881135e-02]])]\n",
       "   lagrangian_grad: array([-2.02324156e-06, -7.35724202e-07, -2.94289681e-06, -4.41434521e-06,\n",
       "        1.41626909e-05,  0.00000000e+00,  2.20717261e-06, -3.12682786e-06,\n",
       "       -1.83931050e-07, -4.59827626e-06,  1.94966914e-05,  6.80544887e-06,\n",
       "       -6.06972467e-06, -7.72510412e-06, -4.78220731e-06,  1.50823461e-05,\n",
       "       -3.31075891e-06,  9.01262147e-06,  2.75896576e-06,  9.38048358e-06,\n",
       "       -6.62151782e-06,  2.39110366e-06, -4.41434521e-06, -1.65537945e-06,\n",
       "       -3.67934377e-06, -2.75968852e-06,  6.43686401e-06])\n",
       "           message: 'The maximum number of function evaluations is exceeded.'\n",
       "            method: 'tr_interior_point'\n",
       "              nfev: 28812\n",
       "              nhev: 0\n",
       "               nit: 1001\n",
       "             niter: 1001\n",
       "              njev: 0\n",
       "        optimality: 1.9496691352279927e-05\n",
       "            status: 0\n",
       "           success: False\n",
       "         tr_radius: 5.7514661974079315\n",
       "                 v: [array([24.68680771])]\n",
       "                 x: array([ 0.52238274,  0.45160837,  0.36733244,  0.23774562,  0.18048539,\n",
       "        0.24575259,  0.89583958,  0.78540043,  0.60374775,  0.89582043,\n",
       "        0.78539644,  0.60374621,  0.58171478,  0.785392  ,  0.51050624,\n",
       "        0.58172963,  0.78540395,  0.51049974,  0.52588175,  0.66047365,\n",
       "        0.31059956,  0.2299618 ,  0.37867281,  0.19980562, -0.75959085,\n",
       "       -0.75959072, -0.75958918])"
      ]
     },
     "execution_count": 149,
     "metadata": {},
     "output_type": "execute_result"
    }
   ],
   "source": [
    "k_step_minimization(TargetSWAP().get_unitaries()[0], NativeParametrizediSWAP(), 3)"
   ]
  },
  {
   "cell_type": "code",
   "execution_count": 144,
   "metadata": {},
   "outputs": [
    {
     "data": {
      "text/plain": [
       "3.12417076"
      ]
     },
     "execution_count": 144,
     "metadata": {},
     "output_type": "execute_result"
    }
   ],
   "source": [
    "sum(map(np.abs, [-0.77709967,0.78626331,1.56080778]))"
   ]
  },
  {
   "cell_type": "code",
   "execution_count": null,
   "metadata": {},
   "outputs": [],
   "source": []
  },
  {
   "cell_type": "code",
   "execution_count": null,
   "metadata": {},
   "outputs": [],
   "source": []
  },
  {
   "cell_type": "code",
   "execution_count": null,
   "metadata": {},
   "outputs": [],
   "source": []
  },
  {
   "cell_type": "markdown",
   "metadata": {},
   "source": [
    "---\n",
    "## Results"
   ]
  },
  {
   "cell_type": "code",
   "execution_count": 7,
   "metadata": {},
   "outputs": [],
   "source": [
    "native_two_qubit_gates = [NativeCNOT(), NativeiSWAP(), NativeCR(), NativeParametrizediSWAP()]\n",
    "target_two_qubit_operations = [TargetCNOT(), TargetSWAP(), TargetZZInteraction()]"
   ]
  },
  {
   "cell_type": "code",
   "execution_count": 8,
   "metadata": {},
   "outputs": [],
   "source": [
    "results = {}\n",
    "for target_two_qubit_operation in target_two_qubit_operations:\n",
    "    for native_two_qubit_gate in native_two_qubit_gates:\n",
    "        k = get_best_decomposition(target_two_qubit_operation, native_two_qubit_gate)\n",
    "        results[(target_two_qubit_operation, native_two_qubit_gate)] = k"
   ]
  },
  {
   "cell_type": "code",
   "execution_count": 9,
   "metadata": {},
   "outputs": [
    {
     "name": "stdout",
     "output_type": "stream",
     "text": [
      "                                    CNOT               iSWAP                  CR   ParametrizediSWAP\n",
      "                CNOT                   1                   2                   1                   2\n",
      "                SWAP                   3                   3                   3                   3\n",
      "       ZZInteraction                   2                   2                   1                   2\n"
     ]
    }
   ],
   "source": [
    "row_format =\"{:>20}\" * (len(native_two_qubit_gates) + 1)\n",
    "print(row_format.format(\"\", *map(lambda s: str(s)[6:], native_two_qubit_gates)))\n",
    "for target_two_qubit_operation in target_two_qubit_operations:\n",
    "    row = [results[target_two_qubit_operation, native_two_qubit_gate] for native_two_qubit_gate in native_two_qubit_gates]\n",
    "    print(row_format.format(str(target_two_qubit_operation)[6:], *row))"
   ]
  },
  {
   "cell_type": "code",
   "execution_count": null,
   "metadata": {},
   "outputs": [],
   "source": []
  }
 ],
 "metadata": {
  "kernelspec": {
   "display_name": "Python 3",
   "language": "python",
   "name": "python3"
  },
  "language_info": {
   "codemirror_mode": {
    "name": "ipython",
    "version": 3
   },
   "file_extension": ".py",
   "mimetype": "text/x-python",
   "name": "python",
   "nbconvert_exporter": "python",
   "pygments_lexer": "ipython3",
   "version": "3.7.3"
  }
 },
 "nbformat": 4,
 "nbformat_minor": 2
}
