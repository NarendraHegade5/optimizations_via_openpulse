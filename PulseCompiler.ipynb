{
 "cells": [
  {
   "cell_type": "code",
   "execution_count": 1,
   "metadata": {},
   "outputs": [],
   "source": [
    "import pickle\n",
    "import matplotlib.pyplot as plt\n",
    "import numpy as np\n",
    "from ast import literal_eval\n",
    "from copy import deepcopy\n",
    "\n",
    "from qiskit import IBMQ, pulse, schedule, transpile, assemble, QuantumCircuit, QuantumRegister, ClassicalRegister\n",
    "from qiskit.pulse import pulse_lib as pulse_library, reschedule\n",
    "from qiskit.ignis.measurement.discriminator.iq_discriminators import LinearIQDiscriminator\n",
    "from qiskit.ignis.measurement.discriminator.filters import DiscriminationFilter\n",
    "import qiskit.ignis.mitigation.measurement as mit\n",
    "from qiskit.ignis.verification.tomography import process_tomography_circuits, ProcessTomographyFitter\n",
    "from qiskit.ignis.verification.tomography import state_tomography_circuits, StateTomographyFitter\n",
    "from qiskit.ignis.verification.tomography.basis import PauliBasis\n",
    "from qiskit.visualization.state_visualization import plot_state_city\n",
    "from qiskit.quantum_info import state_fidelity\n",
    "from qiskit.circuit import Gate\n",
    "from qiskit.scheduler import schedule_circuit, ScheduleConfig\n",
    "from qiskit.quantum_info import state_fidelity, process_fidelity\n",
    "\n",
    "import matplotlib.pyplot as plt\n",
    "%matplotlib inline"
   ]
  },
  {
   "cell_type": "code",
   "execution_count": 2,
   "metadata": {},
   "outputs": [],
   "source": [
    "import qiskit as q\n",
    "import qiskit.tools.jupyter\n",
    "from qiskit.pulse import pulse_lib as _  # only want to call pulse_lib as q.pulse.pulse_lib"
   ]
  },
  {
   "cell_type": "code",
   "execution_count": 3,
   "metadata": {},
   "outputs": [],
   "source": [
    "import pulse_compiler_helper_fns"
   ]
  },
  {
   "cell_type": "code",
   "execution_count": 4,
   "metadata": {},
   "outputs": [
    {
     "data": {
      "text/plain": [
       "<AccountProvider for IBMQ(hub='ibm-q', group='open', project='main')>"
      ]
     },
     "execution_count": 4,
     "metadata": {},
     "output_type": "execute_result"
    }
   ],
   "source": [
    "q.IBMQ.load_account() # Load account from disk"
   ]
  },
  {
   "cell_type": "code",
   "execution_count": 5,
   "metadata": {},
   "outputs": [
    {
     "name": "stderr",
     "output_type": "stream",
     "text": [
      "/Users/alijavadi/Desktop/ajavadia-terra/qiskit/pulse/channels/pulse_channel_spec.py:87: DeprecationWarning: The PulseChannelSpec is deprecated. Use backend.configuration() instead. The supported methods require some migrations; check out the release notes for the complete details.\n",
      "  DeprecationWarning)\n"
     ]
    }
   ],
   "source": [
    "provider = q.IBMQ.get_provider(group='qiskit-terra', project='pulse-testing')\n",
    "backend = provider.get_backend('alt_almaden')\n",
    "system = q.pulse.PulseChannelSpec.from_backend(backend)\n",
    "cmd_def = q.pulse.CmdDef.from_defaults(backend.defaults().cmd_def, backend.defaults().pulse_library)\n",
    "measure = cmd_def.get('measure', qubits=backend.configuration().meas_map[0])\n",
    "config = backend.configuration()\n",
    "props = backend.properties()"
   ]
  },
  {
   "cell_type": "markdown",
   "metadata": {},
   "source": [
    "## XGate Process Tomography\n",
    "\n",
    "We study the fidelity of an X process, implemented through an odd number of repetitions of the X gate.\n",
    "The X gate is done with 2 pulses (a standard U3 implementation), or 1 pulse (an optimized implementation)."
   ]
  },
  {
   "cell_type": "markdown",
   "metadata": {},
   "source": [
    "### experiment parameters"
   ]
  },
  {
   "cell_type": "code",
   "execution_count": 6,
   "metadata": {},
   "outputs": [],
   "source": [
    "def qubit_t1(qubit):\n",
    "    return props.qubits[qubit][0].value\n",
    "\n",
    "def qubit_t2(qubit):\n",
    "    return props.qubits[qubit][1].value\n",
    "\n",
    "def sort_qubits_by_t1():\n",
    "    \"\"\"in ascending order\"\"\"\n",
    "    qubits = [i for i in range(config.n_qubits)]\n",
    "    qubits = sorted(qubits, key=qubit_t1)\n",
    "    return qubits"
   ]
  },
  {
   "cell_type": "code",
   "execution_count": 7,
   "metadata": {},
   "outputs": [
    {
     "data": {
      "text/plain": [
       "[7, 15, 11, 2, 10, 8, 16, 1, 6, 12, 17, 19, 13, 18, 3, 4, 5, 0, 14, 9]"
      ]
     },
     "execution_count": 7,
     "metadata": {},
     "output_type": "execute_result"
    }
   ],
   "source": [
    "sort_qubits_by_t1()"
   ]
  },
  {
   "cell_type": "code",
   "execution_count": 8,
   "metadata": {},
   "outputs": [],
   "source": [
    "qubit = sort_qubits_by_t1()[0]  # which qubit to study\n",
    "reps = [1, 3, 5, 7, 9, 11, 13, 15, 17, 19, 21]  # how many repetitions of the x gate\n",
    "shots = 1000"
   ]
  },
  {
   "cell_type": "markdown",
   "metadata": {},
   "source": [
    "### set up process tomography"
   ]
  },
  {
   "cell_type": "code",
   "execution_count": 9,
   "metadata": {},
   "outputs": [],
   "source": [
    "def qpt_circuits_and_schedules(schedule):\n",
    "    \"\"\"\n",
    "    create the process tomography circuits\n",
    "    create a new 'repx' gate which will we later add to the cmd_def\n",
    "    \"\"\"\n",
    "    num_qubits = 1\n",
    "    qr = QuantumRegister(num_qubits)\n",
    "    my_gate = Gate(name='repx', num_qubits=num_qubits, params=[])\n",
    "\n",
    "    # create the tomography circuits\n",
    "    qc = QuantumCircuit(qr)\n",
    "    qc.append(my_gate, qr[:])\n",
    "    qpt_circuits = process_tomography_circuits(qc, measured_qubits=qr)\n",
    "\n",
    "    # transpile so that the singles are in terms of the u gates\n",
    "    qpt_circuits = transpile(qpt_circuits, backend, initial_layout=[qubit], basis_gates=['u1','u2','u3','repx'])\n",
    "\n",
    "    # add the custom gate to the cmd def\n",
    "    cmd_def.add(\"repx\", qubits=[qubit], schedule=schedule)\n",
    "\n",
    "    # schedule!\n",
    "    schedule_config = ScheduleConfig(cmd_def, meas_map=backend.configuration().meas_map)\n",
    "    qpt_schedules = [schedule_circuit(circ, schedule_config) for circ in qpt_circuits]\n",
    "    \n",
    "    return qpt_circuits, qpt_schedules"
   ]
  },
  {
   "cell_type": "code",
   "execution_count": 10,
   "metadata": {},
   "outputs": [],
   "source": [
    "circuits_std = []\n",
    "schedules_std = []\n",
    "circuits_opt = []\n",
    "schedules_opt = []"
   ]
  },
  {
   "cell_type": "code",
   "execution_count": 11,
   "metadata": {},
   "outputs": [],
   "source": [
    "# Standard X gate (U3(pi, 0, pi))\n",
    "for rep in reps:\n",
    "    schedule_std = q.pulse.Schedule()\n",
    "    x_sched = cmd_def.get('u3', qubits=[qubit], P0=np.pi, P1=0, P2=np.pi)\n",
    "    for _ in range(rep):\n",
    "        schedule_std |= x_sched << schedule_std.duration\n",
    "    \n",
    "    qpt_circuits_std, qpt_schedules_std = qpt_circuits_and_schedules(schedule_std)\n",
    "    circuits_std.append(qpt_circuits_std)\n",
    "    schedules_std.append(qpt_schedules_std)"
   ]
  },
  {
   "cell_type": "code",
   "execution_count": 12,
   "metadata": {},
   "outputs": [],
   "source": [
    "# Direct X gate\n",
    "for rep in reps:\n",
    "    schedule_opt = q.pulse.Schedule()\n",
    "    x_sched = cmd_def.get('x', qubits=[qubit])\n",
    "    for _ in range(rep):\n",
    "        schedule_opt |= x_sched << schedule_opt.duration\n",
    "    \n",
    "    qpt_circuits_opt, qpt_schedules_opt = qpt_circuits_and_schedules(schedule_opt)\n",
    "    circuits_opt.append(qpt_circuits_opt)\n",
    "    schedules_opt.append(qpt_schedules_opt)"
   ]
  },
  {
   "cell_type": "code",
   "execution_count": 13,
   "metadata": {},
   "outputs": [],
   "source": [
    "import itertools\n",
    "flat_schedules_std = list(itertools.chain(*schedules_std))\n",
    "flat_schedules_opt = list(itertools.chain(*schedules_opt))"
   ]
  },
  {
   "cell_type": "code",
   "execution_count": 14,
   "metadata": {
    "scrolled": false
   },
   "outputs": [
    {
     "data": {
      "image/png": "[encoded data removed]",
      "text/plain": [
       "<Figure size 720x864 with 1 Axes>"
      ]
     },
     "execution_count": 14,
     "metadata": {},
     "output_type": "execute_result"
    }
   ],
   "source": [
    "# sanity check schedules\n",
    "schedules_std[0][2].draw(channels=[config.drive(qubit)], table=False)"
   ]
  },
  {
   "cell_type": "code",
   "execution_count": 15,
   "metadata": {
    "scrolled": false
   },
   "outputs": [
    {
     "data": {
      "image/png": "[encoded data removed]",
      "text/plain": [
       "<Figure size 720x864 with 1 Axes>"
      ]
     },
     "execution_count": 15,
     "metadata": {},
     "output_type": "execute_result"
    }
   ],
   "source": [
    "schedules_opt[0][2].draw(channels=[config.drive(qubit)], table=False)"
   ]
  },
  {
   "cell_type": "markdown",
   "metadata": {},
   "source": [
    "### Run readout mitigation cals"
   ]
  },
  {
   "cell_type": "code",
   "execution_count": 16,
   "metadata": {},
   "outputs": [
    {
     "name": "stderr",
     "output_type": "stream",
     "text": [
      "/anaconda3/lib/python3.6/site-packages/ipywidgets/widgets/widget_layout.py:84: DeprecationWarning: Layout properties overflow_x and overflow_y have been deprecated and will be dropped in a future release. Please use the overflow shorthand property instead\n",
      "  warnings.warn(\"Layout properties overflow_x and overflow_y have been deprecated and will be dropped in a future release. Please use the overflow shorthand property instead\", DeprecationWarning)\n"
     ]
    }
   ],
   "source": [
    "meas_qcs, meas_labels = mit.complete_meas_cal(qubit_list=[0])\n",
    "job_mit = q.execute(meas_qcs, backend, initial_layout=[qubit])"
   ]
  },
  {
   "cell_type": "code",
   "execution_count": 17,
   "metadata": {},
   "outputs": [
    {
     "data": {
      "text/plain": [
       "<JobStatus.VALIDATING: 'job is being validated'>"
      ]
     },
     "execution_count": 17,
     "metadata": {},
     "output_type": "execute_result"
    }
   ],
   "source": [
    "job_mit.status()"
   ]
  },
  {
   "cell_type": "markdown",
   "metadata": {},
   "source": [
    "### Coherence limit error\n",
    "What is the best error we can hope for from the gates?"
   ]
  },
  {
   "cell_type": "code",
   "execution_count": 18,
   "metadata": {
    "scrolled": true
   },
   "outputs": [
    {
     "name": "stdout",
     "output_type": "stream",
     "text": [
      "[0.9986713336829338, 0.9960247918637533, 0.9933925718144425, 0.9907745947413762, 0.9881707822903484, 0.9855810565440963, 0.9830053400198364, 0.9804435556668151, 0.977895626863874, 0.975361477417028, 0.9728410315570579]\n",
      "[0.9993352161899399, 0.9980083512365956, 0.9966850815650563, 0.9953653972709093, 0.9940492884774, 0.9927367453353547, 0.9914277580231017, 0.9901223167463945, 0.9888204117383337, 0.9875220332592902, 0.9862271715968285]\n"
     ]
    }
   ],
   "source": [
    "from qiskit.ignis.verification.randomized_benchmarking.rb_utils import coherence_limit\n",
    "\n",
    "t1 = qubit_t1(qubit)\n",
    "t2 = qubit_t2(qubit)\n",
    "\n",
    "durations_std = []\n",
    "durations_opt = []\n",
    "max_fidelities_std = []\n",
    "max_fidelities_opt = []\n",
    "\n",
    "for i, rep in enumerate(reps):\n",
    "    u3_duration = schedules_std[i][2].ch_duration(config.drive(qubit))*config.dt*1e6  # in us\n",
    "    u3_error_limit = coherence_limit(nQ=1, T1_list=[t1], T2_list=[t2], gatelen=u3_duration)\n",
    "\n",
    "    x_duration = schedules_opt[i][2].ch_duration(config.drive(qubit))*config.dt*1e6  # in us\n",
    "    x_error_limit = coherence_limit(nQ=1, T1_list=[t1], T2_list=[t2], gatelen=x_duration)\n",
    "    \n",
    "    durations_std.append(u3_duration*1000)\n",
    "    durations_opt.append(x_duration*1000)\n",
    "    max_fidelities_std.append(1 - u3_error_limit)\n",
    "    max_fidelities_opt.append(1- x_error_limit)\n",
    "    \n",
    "print(max_fidelities_std)\n",
    "print(max_fidelities_opt)"
   ]
  },
  {
   "cell_type": "markdown",
   "metadata": {},
   "source": [
    "### Experimental error\n",
    "Get fidelity of execution."
   ]
  },
  {
   "cell_type": "code",
   "execution_count": 19,
   "metadata": {
    "scrolled": false
   },
   "outputs": [],
   "source": [
    "job_std = q.execute(flat_schedules_std, backend)\n",
    "job_opt = q.execute(flat_schedules_opt, backend)"
   ]
  },
  {
   "cell_type": "code",
   "execution_count": 26,
   "metadata": {},
   "outputs": [
    {
     "data": {
      "text/plain": [
       "<JobStatus.DONE: 'job has successfully run'>"
      ]
     },
     "execution_count": 26,
     "metadata": {},
     "output_type": "execute_result"
    }
   ],
   "source": [
    "job_mit.status()"
   ]
  },
  {
   "cell_type": "code",
   "execution_count": 28,
   "metadata": {},
   "outputs": [
    {
     "data": {
      "text/plain": [
       "<JobStatus.DONE: 'job has successfully run'>"
      ]
     },
     "execution_count": 28,
     "metadata": {},
     "output_type": "execute_result"
    }
   ],
   "source": [
    "job_std.status()"
   ]
  },
  {
   "cell_type": "code",
   "execution_count": 30,
   "metadata": {},
   "outputs": [
    {
     "data": {
      "text/plain": [
       "<JobStatus.DONE: 'job has successfully run'>"
      ]
     },
     "execution_count": 30,
     "metadata": {},
     "output_type": "execute_result"
    }
   ],
   "source": [
    "job_opt.status()"
   ]
  },
  {
   "cell_type": "code",
   "execution_count": 31,
   "metadata": {
    "scrolled": true
   },
   "outputs": [],
   "source": [
    "result_std = job_std.result()\n",
    "result_opt = job_opt.result()\n",
    "result_mit = job_mit.result()"
   ]
  },
  {
   "cell_type": "code",
   "execution_count": 32,
   "metadata": {},
   "outputs": [],
   "source": [
    "from qiskit.result import marginal_counts\n",
    "# mitigate results\n",
    "readout_fitter = mit.CompleteMeasFitter(result_mit, meas_labels, qubit_list=[qubit])\n",
    "\n",
    "# marginalize to ignore non-interesting qubits that needed to be measured due to pulse control\n",
    "result_std_marg = marginal_counts(result_std, [qubit])\n",
    "result_opt_marg = marginal_counts(result_opt, [qubit])\n",
    "\n",
    "#result_std_mit = readout_fitter.filter.apply(result_std_marg)\n",
    "#result_opt_mit = readout_fitter.filter.apply(result_opt_marg)"
   ]
  },
  {
   "cell_type": "code",
   "execution_count": 33,
   "metadata": {},
   "outputs": [],
   "source": [
    "# get ideal process\n",
    "from qiskit.quantum_info import Operator\n",
    "from qiskit.extensions.standard import XGate\n",
    "from qiskit.tools.qi.qi import outer\n",
    "ideal_unitary = Operator(XGate()).data\n",
    "choi_ideal = outer(ideal_unitary.ravel(order='F'))"
   ]
  },
  {
   "cell_type": "code",
   "execution_count": 34,
   "metadata": {},
   "outputs": [],
   "source": [
    "from copy import deepcopy\n",
    "result_cpy_std = deepcopy(result_std_marg)\n",
    "result_cpy_opt = deepcopy(result_opt_marg)"
   ]
  },
  {
   "cell_type": "code",
   "execution_count": 38,
   "metadata": {},
   "outputs": [
    {
     "name": "stdout",
     "output_type": "stream",
     "text": [
      "12\n",
      "12\n",
      "12\n",
      "12\n",
      "12\n",
      "12\n",
      "12\n",
      "12\n",
      "12\n",
      "12\n",
      "12\n",
      "12\n",
      "12\n",
      "12\n",
      "12\n",
      "12\n",
      "12\n",
      "12\n",
      "12\n",
      "12\n",
      "12\n",
      "12\n"
     ]
    }
   ],
   "source": [
    "fidelities_std = []\n",
    "fidelities_opt = []\n",
    "for i, rep in enumerate(reps):\n",
    "    result_std_mit = readout_fitter.filter.apply(result_cpy_std)\n",
    "    result_opt_mit = readout_fitter.filter.apply(result_cpy_opt)\n",
    "    \n",
    "    # remove results for other rep\n",
    "    # TODO: allow selecting subset of result\n",
    "    single_qpt_size = len(circuits_std[0])\n",
    "    del result_std_mit.results[:i*single_qpt_size]\n",
    "    del result_std_mit.results[single_qpt_size:]\n",
    "    del result_opt_mit.results[:i*single_qpt_size]\n",
    "    del result_opt_mit.results[single_qpt_size:]\n",
    "    assert len(result_std_mit.results) == len(circuits_std[i])\n",
    "    assert len(result_opt_mit.results) == len(circuits_std[i])\n",
    "\n",
    "    qpt_fitter = ProcessTomographyFitter(result_std_mit, circuits_std[i])\n",
    "    choi_cvx = qpt_fitter.fit(method='cvx')\n",
    "    fidelity = np.real(process_fidelity(choi_ideal, choi_cvx.data, require_cptp=False))\n",
    "    fidelities_std.append(fidelity)\n",
    "\n",
    "    qpt_fitter = ProcessTomographyFitter(result_opt_mit, circuits_std[i])\n",
    "    choi_cvx = qpt_fitter.fit(method='cvx')\n",
    "    fidelity = np.real(process_fidelity(choi_ideal, choi_cvx.data, require_cptp=False))\n",
    "    fidelities_opt.append(fidelity)"
   ]
  },
  {
   "cell_type": "code",
   "execution_count": 40,
   "metadata": {},
   "outputs": [
    {
     "data": {
      "text/plain": [
       "[<matplotlib.lines.Line2D at 0x1a36327160>]"
      ]
     },
     "execution_count": 40,
     "metadata": {},
     "output_type": "execute_result"
    },
    {
     "data": {
      "image/png": "[encoded data removed]",
      "text/plain": [
       "<Figure size 432x288 with 1 Axes>"
      ]
     },
     "metadata": {
      "needs_background": "light"
     },
     "output_type": "display_data"
    }
   ],
   "source": [
    "import matplotlib.pyplot as plt\n",
    "plt.plot(reps, fidelities_std, 'b-')\n",
    "plt.plot(reps, fidelities_opt, 'g-')\n",
    "plt.plot(reps, max_fidelities_std, 'b')\n",
    "plt.plot(reps, max_fidelities_opt, 'g')"
   ]
  },
  {
   "cell_type": "markdown",
   "metadata": {},
   "source": [
    "## Direct RX(theta) Gate"
   ]
  },
  {
   "cell_type": "code",
   "execution_count": null,
   "metadata": {},
   "outputs": [],
   "source": [
    "# rx(pi/8) gate\n",
    "circuit = q.QuantumCircuit(1)\n",
    "# standard rx(pi/8) gate decomposition is U3(pi/8, -pi/2, pi/2)\n",
    "schedule = cmd_def.get('u3', qubits=[0], P0=np.pi/8, P1=-np.pi/2, P2=np.pi/2)\n",
    "schedule = q.pulse.SamplePulse([0.1])(config.drive(0)) + schedule  # to set a standard scale\n",
    "schedule.draw(channels_to_plot=[config.drive(0)])"
   ]
  },
  {
   "cell_type": "code",
   "execution_count": null,
   "metadata": {},
   "outputs": [],
   "source": [
    "# Our way\n",
    "circuit = q.QuantumCircuit(1)\n",
    "circuit.rx(np.pi/8, 0)\n",
    "print(circuit)\n",
    "\n",
    "decomposed_circuit = circuit.decompose()\n",
    "print(decomposed_circuit)\n",
    "\n",
    "pulse_compiler_helper_fns.update_basis_gates_and_cmd_def(decomposed_circuit, backend, system, cmd_def)\n",
    "transpiled_circuit = q.transpile(circuit, backend, optimization_level=1)\n",
    "print(transpiled_circuit)\n",
    "\n",
    "schedule = q.schedule(transpiled_circuit, backend=backend, cmd_def=cmd_def)\n",
    "schedule = q.pulse.SamplePulse([0.1])(config.drive(0)) + schedule  # to set a standard scale\n",
    "schedule.draw(channels_to_plot=[system.qubits[0].drive])"
   ]
  },
  {
   "cell_type": "code",
   "execution_count": null,
   "metadata": {},
   "outputs": [],
   "source": []
  },
  {
   "cell_type": "code",
   "execution_count": null,
   "metadata": {},
   "outputs": [],
   "source": [
    "from qiskit.visualization import plot_bloch_multivector\n",
    "plot_bloch_multivector()"
   ]
  }
 ],
 "metadata": {
  "kernelspec": {
   "display_name": "Python 3",
   "language": "python",
   "name": "python3"
  },
  "language_info": {
   "codemirror_mode": {
    "name": "ipython",
    "version": 3
   },
   "file_extension": ".py",
   "mimetype": "text/x-python",
   "name": "python",
   "nbconvert_exporter": "python",
   "pygments_lexer": "ipython3",
   "version": "3.6.9"
  }
 },
 "nbformat": 4,
 "nbformat_minor": 2
}
