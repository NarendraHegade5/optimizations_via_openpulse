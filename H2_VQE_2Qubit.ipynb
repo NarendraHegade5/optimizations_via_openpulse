{
 "cells": [
  {
   "cell_type": "code",
   "execution_count": null,
   "metadata": {},
   "outputs": [],
   "source": [
    "import numpy as np\n",
    "import time\n",
    "from collections import namedtuple\n",
    "import matplotlib.pyplot as plt\n",
    "%matplotlib inline"
   ]
  },
  {
   "cell_type": "code",
   "execution_count": null,
   "metadata": {},
   "outputs": [],
   "source": [
    "import qiskit as q\n",
    "import qiskit.tools.jupyter\n",
    "from qiskit.pulse import pulse_lib as _  # only want to call pulse_lib as q.pulse.pulse_lib"
   ]
  },
  {
   "cell_type": "code",
   "execution_count": null,
   "metadata": {},
   "outputs": [],
   "source": [
    "import pulse_compiler_helper_fns"
   ]
  },
  {
   "cell_type": "code",
   "execution_count": null,
   "metadata": {},
   "outputs": [],
   "source": [
    "q.IBMQ.load_account() # Load account from disk"
   ]
  },
  {
   "cell_type": "code",
   "execution_count": null,
   "metadata": {
    "scrolled": true
   },
   "outputs": [],
   "source": [
    "provider = q.IBMQ.get_provider(group='qiskit-terra', project='pulse-testing')\n",
    "backend = provider.get_backend('alt_almaden')\n",
    "#from qiskit.test.mock import FakeAlmaden\n",
    "#backend = FakeAlmaden()\n",
    "system = q.pulse.PulseChannelSpec.from_backend(backend)\n",
    "config = backend.configuration()\n",
    "cmd_def = q.pulse.CmdDef.from_defaults(backend.defaults().cmd_def, backend.defaults().pulse_library)\n",
    "measure = cmd_def.get('measure', qubits=backend.configuration().meas_map[0])"
   ]
  },
  {
   "cell_type": "code",
   "execution_count": null,
   "metadata": {},
   "outputs": [],
   "source": [
    "theta = np.pi/3"
   ]
  },
  {
   "cell_type": "code",
   "execution_count": null,
   "metadata": {},
   "outputs": [],
   "source": [
    "schedules = []"
   ]
  },
  {
   "cell_type": "code",
   "execution_count": null,
   "metadata": {},
   "outputs": [],
   "source": [
    "schedule = (cmd_def.get('u2', qubits=[0], P0=0, P1=1) | cmd_def.get('u2', qubits=[1], P0=-np.pi/2, P1=np.pi/2))\n",
    "\n",
    "schedule |= cmd_def.get('cx', qubits=[0, 1]) << schedule.duration\n",
    "schedule |= cmd_def.get('u1', qubits=[1], P0=theta) << schedule.duration\n",
    "schedule |= cmd_def.get('cx', qubits=[0, 1]) << schedule.duration\n",
    "\n",
    "schedule |= (cmd_def.get('u2', qubits=[0], P0=np.pi, P1=-np.pi) | cmd_def.get('u2', qubits=[1], P0=-np.pi/2, P1=np.pi/2)) << schedule.duration\n",
    "\n",
    "schedule |= measure << schedule.duration\n",
    "\n",
    "schedules.append(schedule)"
   ]
  },
  {
   "cell_type": "code",
   "execution_count": null,
   "metadata": {},
   "outputs": [],
   "source": [
    "N = 2\n",
    "circ = q.QuantumCircuit(N)\n",
    "circ.ry(np.pi / 2, 0)\n",
    "circ.rx(np.pi / 2, 1)\n",
    "circ.zz_interaction(theta, 0, 1)\n",
    "circ.ry(-np.pi / 2, 0)\n",
    "circ.rx(np.pi / 2, 1)\n",
    "\n",
    "decomposed_circuit = circ.decompose()\n",
    "\n",
    "pulse_compiler_helper_fns.update_basis_gates_and_cmd_def(decomposed_circuit, backend, system, cmd_def)\n",
    "transpiled_circuit = q.transpile(decomposed_circuit, backend, optimization_level=1)\n",
    "\n",
    "schedule = q.schedule(transpiled_circuit, backend=backend, cmd_def=cmd_def)\n",
    "schedule |= measure << schedule.duration\n",
    "schedules.append(schedule)"
   ]
  },
  {
   "cell_type": "code",
   "execution_count": null,
   "metadata": {},
   "outputs": [],
   "source": [
    "schedules[0].draw(table=False, channels=[config.drive(0), config.drive(1), config.control(0)])"
   ]
  },
  {
   "cell_type": "code",
   "execution_count": null,
   "metadata": {},
   "outputs": [],
   "source": [
    "schedules[1].draw(table=False, channels=[config.drive(0), config.drive(1), config.control(0)])"
   ]
  },
  {
   "cell_type": "code",
   "execution_count": null,
   "metadata": {
    "scrolled": true
   },
   "outputs": [],
   "source": [
    "shots = 8000\n",
    "job = q.execute(schedules, backend=backend, shots=shots)\n",
    "print('job is %s' % job.job_id())"
   ]
  },
  {
   "cell_type": "code",
   "execution_count": null,
   "metadata": {
    "scrolled": true
   },
   "outputs": [],
   "source": [
    "job.status()"
   ]
  },
  {
   "cell_type": "markdown",
   "metadata": {},
   "source": [
    "# Run a mitigation cal job"
   ]
  },
  {
   "cell_type": "code",
   "execution_count": null,
   "metadata": {
    "scrolled": true
   },
   "outputs": [],
   "source": [
    "import qiskit.ignis.mitigation.measurement as mit\n",
    "meas_qcs, meas_labels = mit.complete_meas_cal(qubit_list=[0,1])\n",
    "meas_qcs_transpiled = q.transpile(meas_qcs, backend, basis_gates=['x'])\n",
    "meas_schedules = q.schedule(meas_qcs_transpiled, backend=backend, cmd_def=cmd_def)"
   ]
  },
  {
   "cell_type": "code",
   "execution_count": null,
   "metadata": {},
   "outputs": [],
   "source": [
    "job_mit = q.execute(meas_schedules, backend, shots=shots)\n",
    "print('job_mit is %s' % job_mit.job_id())"
   ]
  },
  {
   "cell_type": "code",
   "execution_count": null,
   "metadata": {},
   "outputs": [],
   "source": [
    "job_mit.status()"
   ]
  },
  {
   "cell_type": "markdown",
   "metadata": {},
   "source": [
    "-----\n",
    "## Analysis"
   ]
  },
  {
   "cell_type": "code",
   "execution_count": null,
   "metadata": {},
   "outputs": [],
   "source": [
    "from qiskit.result import marginal_counts"
   ]
  },
  {
   "cell_type": "code",
   "execution_count": null,
   "metadata": {},
   "outputs": [],
   "source": [
    "result = job.result()"
   ]
  },
  {
   "cell_type": "code",
   "execution_count": null,
   "metadata": {},
   "outputs": [],
   "source": [
    "# mitigate results\n",
    "result_mit = marginal_counts(job_mit.result(), [0,1])\n",
    "readout_fitter = mit.CompleteMeasFitter(result_mit, meas_labels)\n",
    "readout_fitter.cal_matrix"
   ]
  },
  {
   "cell_type": "code",
   "execution_count": null,
   "metadata": {},
   "outputs": [],
   "source": [
    "standard_counts = marginal_counts(result.get_counts(0), [0,1])\n",
    "print('before mitigation:')\n",
    "print(standard_counts)\n",
    "\n",
    "standard_counts = readout_fitter.filter.apply(standard_counts)\n",
    "print('\\n\\n\\n after mitigation:')\n",
    "print(standard_counts)"
   ]
  },
  {
   "cell_type": "code",
   "execution_count": null,
   "metadata": {},
   "outputs": [],
   "source": [
    "optimized_counts = marginal_counts(result.get_counts(1), [0,1])\n",
    "print('before mitigation:')\n",
    "print(optimized_counts)\n",
    "\n",
    "optimized_counts = readout_fitter.filter.apply(optimized_counts)\n",
    "print('\\n\\n\\n after mitigation:')\n",
    "print(optimized_counts)"
   ]
  },
  {
   "cell_type": "code",
   "execution_count": null,
   "metadata": {},
   "outputs": [],
   "source": [
    "# sanitize data and plot\n",
    "for key in standard_counts:\n",
    "    standard_counts[key] = int(standard_counts[key])\n",
    "for key in optimized_counts:\n",
    "    optimized_counts[key] = int(optimized_counts[key])"
   ]
  },
  {
   "cell_type": "code",
   "execution_count": null,
   "metadata": {},
   "outputs": [],
   "source": [
    "standard_counts"
   ]
  },
  {
   "cell_type": "code",
   "execution_count": null,
   "metadata": {},
   "outputs": [],
   "source": [
    "optimized_counts"
   ]
  },
  {
   "cell_type": "code",
   "execution_count": null,
   "metadata": {},
   "outputs": [],
   "source": [
    "from qiskit.visualization import plot_histogram\n",
    "plot_histogram([standard_counts, optimized_counts], legend=['standard', 'optimized'])"
   ]
  },
  {
   "cell_type": "code",
   "execution_count": null,
   "metadata": {},
   "outputs": [],
   "source": [
    "ideal_counts = {'01': 0.25, '10': 0.75}  # https://algassert.com/quirk#circuit=%7B%22cols%22%3A%5B%5B%22Y%5E%C2%BD%22%2C%22X%5E%C2%BD%22%5D%2C%5B%22%E2%80%A2%22%2C%22X%22%5D%2C%5B1%2C%7B%22id%22%3A%22Rzft%22%2C%22arg%22%3A%22pi%2F3%22%7D%5D%2C%5B%22%E2%80%A2%22%2C%22X%22%5D%2C%5B%22Y%5E-%C2%BD%22%2C%22X%5E%C2%BD%22%5D%5D%7D\n",
    "# standard_counts =\n",
    "# optimized_counts ="
   ]
  },
  {
   "cell_type": "code",
   "execution_count": null,
   "metadata": {},
   "outputs": [],
   "source": [
    "print(pulse_compiler_helper_fns.kl_divergence(ideal_counts, standard_counts))\n",
    "print(pulse_compiler_helper_fns.kl_divergence(ideal_counts, optimized_counts))"
   ]
  },
  {
   "cell_type": "code",
   "execution_count": null,
   "metadata": {},
   "outputs": [],
   "source": [
    "print(pulse_compiler_helper_fns.cross_entropy(ideal_counts, standard_counts))\n",
    "print(pulse_compiler_helper_fns.cross_entropy(ideal_counts, optimized_counts))"
   ]
  },
  {
   "cell_type": "code",
   "execution_count": null,
   "metadata": {},
   "outputs": [],
   "source": [
    "from qiskit.quantum_info import hellinger_fidelity\n",
    "print(hellinger_fidelity(ideal_counts, standard_counts))\n",
    "print(hellinger_fidelity(ideal_counts, optimized_counts))"
   ]
  },
  {
   "cell_type": "code",
   "execution_count": null,
   "metadata": {},
   "outputs": [],
   "source": []
  }
 ],
 "metadata": {
  "kernelspec": {
   "display_name": "Python 3",
   "language": "python",
   "name": "python3"
  },
  "language_info": {
   "codemirror_mode": {
    "name": "ipython",
    "version": 3
   },
   "file_extension": ".py",
   "mimetype": "text/x-python",
   "name": "python",
   "nbconvert_exporter": "python",
   "pygments_lexer": "ipython3",
   "version": "3.7.3"
  }
 },
 "nbformat": 4,
 "nbformat_minor": 2
}
