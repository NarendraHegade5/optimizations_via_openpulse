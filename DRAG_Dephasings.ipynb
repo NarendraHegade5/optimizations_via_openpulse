{
 "cells": [
  {
   "cell_type": "code",
   "execution_count": null,
   "metadata": {},
   "outputs": [],
   "source": [
    "import numpy as np\n",
    "import time\n",
    "from collections import namedtuple\n",
    "import matplotlib.pyplot as plt\n",
    "%matplotlib inline"
   ]
  },
  {
   "cell_type": "code",
   "execution_count": null,
   "metadata": {},
   "outputs": [],
   "source": [
    "import qiskit as q\n",
    "import qiskit.tools.jupyter\n",
    "from qiskit.pulse import pulse_lib as _  # only want to call pulse_lib as q.pulse.pulse_lib"
   ]
  },
  {
   "cell_type": "code",
   "execution_count": null,
   "metadata": {},
   "outputs": [],
   "source": [
    "import pulse_compiler_helper_fns"
   ]
  },
  {
   "cell_type": "code",
   "execution_count": null,
   "metadata": {},
   "outputs": [],
   "source": [
    "q.IBMQ.load_account() # Load account from disk\n",
    "q.IBMQ.providers()    # List all available providers"
   ]
  },
  {
   "cell_type": "code",
   "execution_count": null,
   "metadata": {},
   "outputs": [],
   "source": [
    "provider = q.IBMQ.get_provider(group='bes-qis')\n",
    "backend = provider.get_backend('ibmq_boeblingen')\n",
    "system = q.pulse.PulseChannelSpec.from_backend(backend)\n",
    "cmd_def = q.pulse.CmdDef.from_defaults(backend.defaults().cmd_def, backend.defaults().pulse_library)\n",
    "measure = cmd_def.get('measure', qubits=backend.configuration().meas_map[0])"
   ]
  },
  {
   "cell_type": "code",
   "execution_count": null,
   "metadata": {},
   "outputs": [],
   "source": [
    "schedules = []\n",
    "for theta in np.linspace(0, np.pi, 13):\n",
    "    for basis in ['X', 'Y', 'Z']:\n",
    "        circuit = q.QuantumCircuit(1)\n",
    "        circuit.rx(theta, 0)\n",
    "        decomposed_circuit = circuit.decompose()\n",
    "        pulse_compiler_helper_fns.update_basis_gates_and_cmd_def(decomposed_circuit, backend, system, cmd_def)\n",
    "        transpiled_circuit = q.transpile(circuit, backend, optimization_level=1)\n",
    "        schedule = q.schedule(transpiled_circuit, backend=backend, cmd_def=cmd_def)\n",
    "        if basis == 'Y':  # apply H Sdag\n",
    "            schedule |= cmd_def.get('u1', qubits=[0], P0=-np.pi/2) << schedule.duration\n",
    "            schedule |= cmd_def.get('u2', qubits=[0], P0=0, P1=np.pi) << schedule.duration\n",
    "        elif basis == 'X':  # apply H\n",
    "            schedule |= cmd_def.get('u2', qubits=[0], P0=0, P1=np.pi) << schedule.duration\n",
    "        schedule |= measure << schedule.duration\n",
    "        schedules.append(schedule)"
   ]
  },
  {
   "cell_type": "code",
   "execution_count": null,
   "metadata": {},
   "outputs": [],
   "source": [
    "shots = 200\n",
    "job = execute(schedules, backend=backend, shots=shots)\n",
    "print(job.job_id())"
   ]
  },
  {
   "cell_type": "code",
   "execution_count": null,
   "metadata": {},
   "outputs": [],
   "source": [
    "result = job.result()"
   ]
  },
  {
   "cell_type": "code",
   "execution_count": null,
   "metadata": {},
   "outputs": [],
   "source": [
    "marginal_counts = q.ignis.verification.tomography.data.marginal_counts\n",
    "for i in range(13):\n",
    "    x_counts = marginal_counts(result.get_counts(3 * i), meas_qubits=[0])\n",
    "    y_counts = marginal_counts(result.get_counts(3 * i + 1), meas_qubits=[0])\n",
    "    z_counts = marginal_counts(result.get_counts(3 * i + 2), meas_qubits=[0])\n",
    "    \n",
    "    # bloch vector components:\n",
    "    x = (x_counts.get('0', 0) / shots - 0.5) * 2\n",
    "    y = (y_counts.get('0', 0) / shots - 0.5) * 2\n",
    "    z = (z_counts.get('0', 0) / shots - 0.5) * 2\n",
    "    print(theta[i], x, y, z)"
   ]
  }
 ],
 "metadata": {
  "kernelspec": {
   "display_name": "Python 3",
   "language": "python",
   "name": "python3"
  },
  "language_info": {
   "codemirror_mode": {
    "name": "ipython",
    "version": 3
   },
   "file_extension": ".py",
   "mimetype": "text/x-python",
   "name": "python",
   "nbconvert_exporter": "python",
   "pygments_lexer": "ipython3",
   "version": "3.7.3"
  }
 },
 "nbformat": 4,
 "nbformat_minor": 2
}
