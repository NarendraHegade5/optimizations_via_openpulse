{
 "cells": [
  {
   "cell_type": "code",
   "execution_count": 1,
   "metadata": {},
   "outputs": [],
   "source": [
    "import numpy as np\n",
    "import time\n",
    "from collections import namedtuple\n",
    "import matplotlib.pyplot as plt\n",
    "%matplotlib inline"
   ]
  },
  {
   "cell_type": "code",
   "execution_count": 2,
   "metadata": {},
   "outputs": [],
   "source": [
    "import qiskit as q\n",
    "import qiskit.tools.jupyter\n",
    "from qiskit.pulse import pulse_lib as _  # only want to call pulse_lib as q.pulse.pulse_lib"
   ]
  },
  {
   "cell_type": "code",
   "execution_count": 3,
   "metadata": {},
   "outputs": [
    {
     "data": {
      "text/plain": [
       "<AccountProvider for IBMQ(hub='ibm-q', group='open', project='main')>"
      ]
     },
     "execution_count": 3,
     "metadata": {},
     "output_type": "execute_result"
    }
   ],
   "source": [
    "q.IBMQ.load_account()"
   ]
  },
  {
   "cell_type": "code",
   "execution_count": 4,
   "metadata": {},
   "outputs": [],
   "source": [
    "import pulse_compiler_helper_fns"
   ]
  },
  {
   "cell_type": "code",
   "execution_count": 5,
   "metadata": {},
   "outputs": [],
   "source": [
    "provider = q.IBMQ.get_provider(group='qiskit-terra', project='pulse-testing')\n",
    "backend = provider.get_backend('alt_almaden')\n",
    "system = q.pulse.PulseChannelSpec.from_backend(backend)\n",
    "cmd_def = q.pulse.CmdDef.from_defaults(backend.defaults().cmd_def, backend.defaults().pulse_library)\n",
    "measure = cmd_def.get('measure', qubits=backend.configuration().meas_map[0])"
   ]
  },
  {
   "cell_type": "code",
   "execution_count": 6,
   "metadata": {},
   "outputs": [],
   "source": [
    "schedules = []\n",
    "thetas = np.linspace(0, np.pi, 41)\n",
    "for theta in thetas:\n",
    "    for basis in ['X', 'Y', 'Z']:\n",
    "        circuit = q.QuantumCircuit(1)\n",
    "        circuit.rx(theta, 0)\n",
    "        decomposed_circuit = circuit.decompose()\n",
    "        pulse_compiler_helper_fns.update_basis_gates_and_cmd_def(decomposed_circuit, backend, system, cmd_def)\n",
    "        transpiled_circuit = q.transpile(circuit, backend, optimization_level=1)\n",
    "        schedule = q.schedule(transpiled_circuit, backend=backend, cmd_def=cmd_def)\n",
    "        if basis == 'Y':  # apply H Sdag\n",
    "            schedule |= cmd_def.get('u1', qubits=[0], P0=-np.pi/2) << schedule.duration\n",
    "            schedule |= cmd_def.get('u2', qubits=[0], P0=0, P1=np.pi) << schedule.duration\n",
    "        elif basis == 'X':  # apply H\n",
    "            schedule |= cmd_def.get('u2', qubits=[0], P0=0, P1=np.pi) << schedule.duration\n",
    "        schedule |= measure << schedule.duration\n",
    "        schedules.append(schedule)"
   ]
  },
  {
   "cell_type": "code",
   "execution_count": 7,
   "metadata": {},
   "outputs": [
    {
     "data": {
      "text/plain": [
       "123"
      ]
     },
     "execution_count": 7,
     "metadata": {},
     "output_type": "execute_result"
    }
   ],
   "source": [
    "len(schedules)"
   ]
  },
  {
   "cell_type": "code",
   "execution_count": 8,
   "metadata": {},
   "outputs": [
    {
     "name": "stdout",
     "output_type": "stream",
     "text": [
      "5dcef6210a4553001192eddc\n"
     ]
    }
   ],
   "source": [
    "shots = 2000\n",
    "job = q.execute(schedules, backend=backend, shots=shots)\n",
    "print(job.job_id())"
   ]
  },
  {
   "cell_type": "code",
   "execution_count": 11,
   "metadata": {
    "scrolled": true
   },
   "outputs": [
    {
     "data": {
      "text/plain": [
       "<JobStatus.DONE: 'job has successfully run'>"
      ]
     },
     "execution_count": 11,
     "metadata": {},
     "output_type": "execute_result"
    }
   ],
   "source": [
    "job.status()"
   ]
  },
  {
   "cell_type": "code",
   "execution_count": 12,
   "metadata": {},
   "outputs": [
    {
     "data": {
      "text/plain": [
       "BackendStatus(backend_name='alt_almaden', backend_version='1.2.4', operational=True, pending_jobs=0, status_msg='active')"
      ]
     },
     "execution_count": 12,
     "metadata": {},
     "output_type": "execute_result"
    }
   ],
   "source": [
    "backend.status()"
   ]
  },
  {
   "cell_type": "code",
   "execution_count": 13,
   "metadata": {},
   "outputs": [],
   "source": [
    "result = job.result()"
   ]
  },
  {
   "cell_type": "code",
   "execution_count": 18,
   "metadata": {},
   "outputs": [
    {
     "name": "stdout",
     "output_type": "stream",
     "text": [
      "0.0 0.06800000000000006 0.10200000000000009 0.9530000000000001\n",
      "0.0785398163397 -0.01100000000000001 0.010000000000000009 0.954\n",
      "0.157079632679 0.02400000000000002 -0.08399999999999996 0.9359999999999999\n",
      "0.235619449019 0.008999999999999897 -0.14500000000000002 0.9319999999999999\n",
      "0.314159265359 0.06000000000000005 -0.17900000000000005 0.913\n",
      "0.392699081699 0.02200000000000002 -0.22699999999999998 0.897\n",
      "0.471238898038 0.026000000000000023 -0.349 0.8720000000000001\n",
      "0.549778714378 0.04299999999999993 -0.41300000000000003 0.8380000000000001\n",
      "0.628318530718 0.09400000000000008 -0.45399999999999996 0.7709999999999999\n",
      "0.706858347058 0.052999999999999936 -0.512 0.76\n",
      "0.785398163397 0.05400000000000005 -0.571 0.7050000000000001\n",
      "0.863937979737 0.052000000000000046 -0.579 0.635\n",
      "0.942477796077 0.05600000000000005 -0.669 0.605\n",
      "1.02101761242 0.10200000000000009 -0.685 0.498\n",
      "1.09955742876 0.09400000000000008 -0.718 0.4670000000000001\n",
      "1.1780972451 0.028000000000000025 -0.748 0.3640000000000001\n",
      "1.25663706144 0.05600000000000005 -0.819 0.31200000000000006\n",
      "1.33517687778 0.05699999999999994 -0.7989999999999999 0.246\n",
      "1.41371669412 0.026999999999999913 -0.823 0.2270000000000001\n",
      "1.49225651046 0.04299999999999993 -0.852 0.16799999999999993\n",
      "1.57079632679 0.0040000000000000036 -0.839 0.07299999999999995\n",
      "1.64933614313 0.020999999999999908 -0.827 -0.008000000000000007\n",
      "1.72787595947 0.0040000000000000036 -0.848 -0.10999999999999999\n",
      "1.80641577581 0.04899999999999993 -0.8220000000000001 -0.15900000000000003\n",
      "1.88495559215 0.020000000000000018 -0.798 -0.17600000000000005\n",
      "1.96349540849 0.04800000000000004 -0.776 -0.28800000000000003\n",
      "2.04203522483 0.04899999999999993 -0.728 -0.353\n",
      "2.12057504117 0.02299999999999991 -0.71 -0.41600000000000004\n",
      "2.19911485751 0.02499999999999991 -0.696 -0.44299999999999995\n",
      "2.27765467385 0.08699999999999997 -0.646 -0.487\n",
      "2.35619449019 0.06499999999999995 -0.5900000000000001 -0.55\n",
      "2.43473430653 0.05800000000000005 -0.5529999999999999 -0.608\n",
      "2.51327412287 0.08600000000000008 -0.469 -0.637\n",
      "2.59181393921 0.06899999999999995 -0.42500000000000004 -0.7050000000000001\n",
      "2.67035375555 0.06299999999999994 -0.34299999999999997 -0.754\n",
      "2.74889357189 0.03200000000000003 -0.30600000000000005 -0.775\n",
      "2.82743338823 0.07499999999999996 -0.21399999999999997 -0.78\n",
      "2.90597320457 0.09200000000000008 -0.133 -0.829\n",
      "2.98451302091 0.05600000000000005 -0.09399999999999997 -0.84\n",
      "3.06305283725 0.02400000000000002 -0.006000000000000005 -0.839\n",
      "3.14159265359 0.06400000000000006 0.010000000000000009 -0.857\n"
     ]
    }
   ],
   "source": [
    "#from qiskit.ignis.mitigation import measurement\n",
    "from qiskit.ignis.verification.tomography.data import marginal_counts\n",
    "\n",
    "meas_fitter = measurement.fitters.CompleteMeasFitter(None, state_labels=['0', '1'])\n",
    "prob_meas0_prep1 = 0.06\n",
    "prob_meas1_prep0 = 0.03666\n",
    "meas_fitter.cal_matrix = np.array([[1 - prob_meas1_prep0,    prob_meas0_prep1],\n",
    "                                   [prob_meas1_prep0    ,    1 - prob_meas0_prep1]])\n",
    "meas_filter = meas_fitter.filter\n",
    "\n",
    "for i in range(len(thetas)):\n",
    "    x_counts = marginal_counts(result.get_counts(3 * i), meas_qubits=[0])\n",
    "    y_counts = marginal_counts(result.get_counts(3 * i + 1), meas_qubits=[0])\n",
    "    z_counts = marginal_counts(result.get_counts(3 * i + 2), meas_qubits=[0])\n",
    "    \n",
    "    # mitigate\n",
    "    #x_counts = meas_filter.apply(x_counts)\n",
    "    #y_counts = meas_filter.apply(y_counts)\n",
    "    #z_counts = meas_filter.apply(z_counts)\n",
    "\n",
    "    # bloch vector components:\n",
    "    x = (x_counts.get('0', 0) / shots - 0.5) * 2\n",
    "    y = (y_counts.get('0', 0) / shots - 0.5) * 2\n",
    "    z = (z_counts.get('0', 0) / shots - 0.5) * 2\n",
    "    print(thetas[i], x, y, z)"
   ]
  },
  {
   "cell_type": "code",
   "execution_count": 15,
   "metadata": {},
   "outputs": [],
   "source": [
    "from qiskit.ignis.mitigation import measurement"
   ]
  },
  {
   "cell_type": "code",
   "execution_count": null,
   "metadata": {},
   "outputs": [],
   "source": []
  }
 ],
 "metadata": {
  "kernelspec": {
   "display_name": "Python 3",
   "language": "python",
   "name": "python3"
  },
  "language_info": {
   "codemirror_mode": {
    "name": "ipython",
    "version": 3
   },
   "file_extension": ".py",
   "mimetype": "text/x-python",
   "name": "python",
   "nbconvert_exporter": "python",
   "pygments_lexer": "ipython3",
   "version": "3.6.9"
  }
 },
 "nbformat": 4,
 "nbformat_minor": 2
}
