{
 "cells": [
  {
   "cell_type": "code",
   "execution_count": 1,
   "metadata": {},
   "outputs": [],
   "source": [
    "import numpy as np\n",
    "import time\n",
    "from collections import namedtuple\n",
    "import matplotlib.pyplot as plt\n",
    "%matplotlib inline"
   ]
  },
  {
   "cell_type": "code",
   "execution_count": 2,
   "metadata": {},
   "outputs": [],
   "source": [
    "import qiskit as q\n",
    "import qiskit.tools.jupyter\n",
    "from qiskit.pulse import pulse_lib as _  # only want to call pulse_lib as q.pulse.pulse_lib"
   ]
  },
  {
   "cell_type": "code",
   "execution_count": 3,
   "metadata": {},
   "outputs": [],
   "source": [
    "import pulse_compiler_helper_fns"
   ]
  },
  {
   "cell_type": "code",
   "execution_count": 5,
   "metadata": {},
   "outputs": [],
   "source": [
    "provider = q.IBMQ.get_provider(group='qiskit-terra', project='pulse-testing')\n",
    "backend = provider.get_backend('alt_almaden')\n",
    "system = q.pulse.PulseChannelSpec.from_backend(backend)\n",
    "cmd_def = q.pulse.CmdDef.from_defaults(backend.defaults().cmd_def, backend.defaults().pulse_library)\n",
    "measure = cmd_def.get('measure', qubits=backend.configuration().meas_map[0])"
   ]
  },
  {
   "cell_type": "code",
   "execution_count": 6,
   "metadata": {},
   "outputs": [],
   "source": [
    "schedules = []\n",
    "thetas = np.linspace(0, np.pi, 13)\n",
    "for theta in thetas:\n",
    "    for basis in ['X', 'Y', 'Z']:\n",
    "        circuit = q.QuantumCircuit(1)\n",
    "        circuit.rx(theta, 0)\n",
    "        decomposed_circuit = circuit.decompose()\n",
    "        pulse_compiler_helper_fns.update_basis_gates_and_cmd_def(decomposed_circuit, backend, system, cmd_def)\n",
    "        transpiled_circuit = q.transpile(circuit, backend, optimization_level=1)\n",
    "        schedule = q.schedule(transpiled_circuit, backend=backend, cmd_def=cmd_def)\n",
    "        if basis == 'Y':  # apply H Sdag\n",
    "            schedule |= cmd_def.get('u1', qubits=[0], P0=-np.pi/2) << schedule.duration\n",
    "            schedule |= cmd_def.get('u2', qubits=[0], P0=0, P1=np.pi) << schedule.duration\n",
    "        elif basis == 'X':  # apply H\n",
    "            schedule |= cmd_def.get('u2', qubits=[0], P0=0, P1=np.pi) << schedule.duration\n",
    "        schedule |= measure << schedule.duration\n",
    "        schedules.append(schedule)"
   ]
  },
  {
   "cell_type": "code",
   "execution_count": 8,
   "metadata": {},
   "outputs": [
    {
     "data": {
      "text/plain": [
       "39"
      ]
     },
     "execution_count": 8,
     "metadata": {},
     "output_type": "execute_result"
    }
   ],
   "source": [
    "len(schedules)"
   ]
  },
  {
   "cell_type": "code",
   "execution_count": 9,
   "metadata": {},
   "outputs": [
    {
     "name": "stdout",
     "output_type": "stream",
     "text": [
      "5dced8592a4d81001215b795\n"
     ]
    }
   ],
   "source": [
    "shots = 2000\n",
    "job = q.execute(schedules, backend=backend, shots=shots)\n",
    "print(job.job_id())"
   ]
  },
  {
   "cell_type": "code",
   "execution_count": 20,
   "metadata": {
    "scrolled": true
   },
   "outputs": [
    {
     "data": {
      "text/plain": [
       "<JobStatus.DONE: 'job has successfully run'>"
      ]
     },
     "execution_count": 20,
     "metadata": {},
     "output_type": "execute_result"
    }
   ],
   "source": [
    "job.status()"
   ]
  },
  {
   "cell_type": "code",
   "execution_count": 18,
   "metadata": {},
   "outputs": [
    {
     "data": {
      "text/plain": [
       "BackendStatus(backend_name='alt_almaden', backend_version='1.2.4', operational=True, pending_jobs=1, status_msg='active')"
      ]
     },
     "execution_count": 18,
     "metadata": {},
     "output_type": "execute_result"
    }
   ],
   "source": [
    "backend.status()"
   ]
  },
  {
   "cell_type": "code",
   "execution_count": 21,
   "metadata": {},
   "outputs": [],
   "source": [
    "result = job.result()"
   ]
  },
  {
   "cell_type": "code",
   "execution_count": null,
   "metadata": {},
   "outputs": [],
   "source": []
  },
  {
   "cell_type": "code",
   "execution_count": 23,
   "metadata": {},
   "outputs": [
    {
     "name": "stdout",
     "output_type": "stream",
     "text": [
      "0.0 0.04699999999999993 0.09600000000000009 0.96\n",
      "0.261799387799 0.028000000000000025 -0.132 0.905\n",
      "0.523598775598 0.05499999999999994 -0.376 0.8520000000000001\n",
      "0.785398163397 0.052000000000000046 -0.5349999999999999 0.72\n",
      "1.0471975512 0.04200000000000004 -0.722 0.498\n",
      "1.308996939 0.07600000000000007 -0.786 0.32400000000000007\n",
      "1.57079632679 0.05400000000000005 -0.836 0.06499999999999995\n",
      "1.83259571459 -0.0010000000000000009 -0.839 -0.16500000000000004\n",
      "2.09439510239 0.03200000000000003 -0.739 -0.385\n",
      "2.35619449019 0.07600000000000007 -0.599 -0.55\n",
      "2.61799387799 0.04400000000000004 -0.392 -0.752\n",
      "2.87979326579 0.04699999999999993 -0.17200000000000004 -0.794\n",
      "3.14159265359 -0.01100000000000001 -0.028000000000000025 -0.841\n"
     ]
    }
   ],
   "source": [
    "#marginal_counts = q.ignis.verification.tomography.data.marginal_counts\n",
    "for i in range(13):\n",
    "    x_counts = marginal_counts(result.get_counts(3 * i), meas_qubits=[0])\n",
    "    y_counts = marginal_counts(result.get_counts(3 * i + 1), meas_qubits=[0])\n",
    "    z_counts = marginal_counts(result.get_counts(3 * i + 2), meas_qubits=[0])\n",
    "    \n",
    "    # bloch vector components:\n",
    "    x = (x_counts.get('0', 0) / shots - 0.5) * 2\n",
    "    y = (y_counts.get('0', 0) / shots - 0.5) * 2\n",
    "    z = (z_counts.get('0', 0) / shots - 0.5) * 2\n",
    "    print(thetas[i], x, y, z)"
   ]
  },
  {
   "cell_type": "code",
   "execution_count": 22,
   "metadata": {},
   "outputs": [],
   "source": [
    "from itertools import combinations\n",
    "from functools import reduce\n",
    "from re import match\n",
    "import numpy as np\n",
    "\n",
    "def marginal_counts(counts, meas_qubits=True, pad_zeros=False):\n",
    "    \"\"\"\n",
    "    Compute marginal counts from a counts dictionary.\n",
    "\n",
    "    Args:\n",
    "        counts (dict): a counts dictionary.\n",
    "        meas_qubits (True, list(int)): the qubits to NOT be marinalized over\n",
    "            if this is True meas_qubits will be all measured qubits\n",
    "            (default: True).\n",
    "        pad_zeros (Bool): Include zero count outcomes in return dict.\n",
    "\n",
    "    Returns:\n",
    "        A counts dictionary for the specified qubits. The returned dictionary\n",
    "        will have any whitespace trimmed from the input counts keys. Thus if\n",
    "        meas_qubits=True the returned dictionary will have the same values as\n",
    "        the input dictionary, but with whitespace trimmed from the keys.\n",
    "    \"\"\"\n",
    "\n",
    "    # Extract total number of qubits from first count key\n",
    "    # We trim the whitespace seperating classical registers\n",
    "    # and count the number of digits\n",
    "    num_qubits = len(next(iter(counts)).replace(' ', ''))\n",
    "\n",
    "    # Check if we do not need to marginalize. In this case we just trim\n",
    "    # whitespace from count keys\n",
    "    if num_qubits == len(meas_qubits) or (meas_qubits is True):\n",
    "        ret = {}\n",
    "        for key, val in counts.items():\n",
    "            key = key.replace(' ', '')\n",
    "            ret[key] = val\n",
    "        return ret\n",
    "\n",
    "    # Sort the measured qubits into decending order\n",
    "    # Since bitstrings have qubit-0 as least significant bit\n",
    "    if meas_qubits is True:\n",
    "        meas_qubits = range(num_qubits)  # All measured\n",
    "    qs = sorted(meas_qubits, reverse=True)\n",
    "\n",
    "    # Generate bitstring keys for measured qubits\n",
    "    meas_keys = count_keys(len(qs))\n",
    "\n",
    "    # Get regex match strings for suming outcomes of other qubits\n",
    "    rgx = []\n",
    "    for key in meas_keys:\n",
    "        def helper(x, y):\n",
    "            if y in qs:\n",
    "                return key[qs.index(y)] + x\n",
    "            return '\\\\d' + x\n",
    "        rgx.append(reduce(helper, range(num_qubits), ''))\n",
    "\n",
    "    # Build the return list\n",
    "    meas_counts = []\n",
    "    for m in rgx:\n",
    "        c = 0\n",
    "        for key, val in counts.items():\n",
    "            if match(m, key.replace(' ', '')):\n",
    "                c += val\n",
    "        meas_counts.append(c)\n",
    "\n",
    "    # Return as counts dict on measured qubits only\n",
    "    if pad_zeros is True:\n",
    "        return dict(zip(meas_keys, meas_counts))\n",
    "    ret = {}\n",
    "    for key, val in zip(meas_keys, meas_counts):\n",
    "        if val != 0:\n",
    "            ret[key] = val\n",
    "    return ret\n",
    "\n",
    "\n",
    "def count_keys(num_qubits):\n",
    "    \"\"\"\n",
    "    Return ordered count keys.\n",
    "    \"\"\"\n",
    "    return [bin(j)[2:].zfill(num_qubits)\n",
    "            for j in range(2 ** num_qubits)]\n"
   ]
  },
  {
   "cell_type": "code",
   "execution_count": 25,
   "metadata": {},
   "outputs": [
    {
     "name": "stderr",
     "output_type": "stream",
     "text": [
      "/Users/alijavadi/Desktop/ajavadia-terra/qiskit/providers/models/backendconfiguration.py:354: UserWarning: The time delta is now returned in units of [s] rather than [ns].\n",
      "  warnings.warn(\"The time delta is now returned in units of [s] rather than [ns].\")\n",
      "/Users/alijavadi/Desktop/ajavadia-terra/qiskit/providers/models/backendconfiguration.py:348: UserWarning: The time delta is now returned in units of [s] rather than [ns].\n",
      "  warnings.warn(\"The time delta is now returned in units of [s] rather than [ns].\")\n"
     ]
    },
    {
     "data": {
      "application/vnd.jupyter.widget-view+json": {
       "model_id": "0d8df15a8e1a40a1873d59c83d0eedd9",
       "version_major": 2,
       "version_minor": 0
      },
      "text/plain": [
       "VBox(children=(HTML(value=\"<h1 style='color:#ffffff;background-color:#000000;padding-top: 1%;padding-bottom: 1…"
      ]
     },
     "metadata": {},
     "output_type": "display_data"
    },
    {
     "data": {
      "text/plain": [
       "<IBMQBackend('alt_almaden') from IBMQ(hub='ibm-q-dev', group='qiskit-terra', project='pulse-testing')>"
      ]
     },
     "execution_count": 25,
     "metadata": {},
     "output_type": "execute_result"
    }
   ],
   "source": [
    "backend"
   ]
  },
  {
   "cell_type": "code",
   "execution_count": null,
   "metadata": {},
   "outputs": [],
   "source": []
  }
 ],
 "metadata": {
  "kernelspec": {
   "display_name": "Python 3",
   "language": "python",
   "name": "python3"
  },
  "language_info": {
   "codemirror_mode": {
    "name": "ipython",
    "version": 3
   },
   "file_extension": ".py",
   "mimetype": "text/x-python",
   "name": "python",
   "nbconvert_exporter": "python",
   "pygments_lexer": "ipython3",
   "version": "3.6.9"
  }
 },
 "nbformat": 4,
 "nbformat_minor": 2
}
