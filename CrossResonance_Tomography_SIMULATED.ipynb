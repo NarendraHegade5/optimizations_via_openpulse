{
 "cells": [
  {
   "cell_type": "code",
   "execution_count": 1,
   "metadata": {},
   "outputs": [],
   "source": [
    "import numpy as np\n",
    "import time\n",
    "from collections import namedtuple\n",
    "import matplotlib.pyplot as plt\n",
    "%matplotlib inline"
   ]
  },
  {
   "cell_type": "code",
   "execution_count": 2,
   "metadata": {},
   "outputs": [],
   "source": [
    "import qiskit as q\n",
    "import qiskit.tools.jupyter\n",
    "from qiskit.pulse import pulse_lib as _  # only want to call pulse_lib as q.pulse.pulse_lib\n",
    "from qiskit.test.mock import FakeAlmaden\n",
    "from qiskit.ignis.verification.tomography.data import marginal_counts"
   ]
  },
  {
   "cell_type": "code",
   "execution_count": 3,
   "metadata": {},
   "outputs": [],
   "source": [
    "import pulse_compiler_helper_fns"
   ]
  },
  {
   "cell_type": "code",
   "execution_count": 4,
   "metadata": {},
   "outputs": [
    {
     "name": "stderr",
     "output_type": "stream",
     "text": [
      "/Users/pranavgokhale/Developer/qiskit/qiskit-terra/qiskit/pulse/channels/pulse_channel_spec.py:87: DeprecationWarning: The PulseChannelSpec is deprecated. Use backend.configuration() instead. The supported methods require some migrations; check out the release notes for the complete details.\n",
      "  DeprecationWarning)\n"
     ]
    }
   ],
   "source": [
    "backend = FakeAlmaden()\n",
    "system = q.pulse.PulseChannelSpec.from_backend(backend)\n",
    "back_config = backend.configuration().to_dict()\n",
    "cmd_def = q.pulse.CmdDef.from_defaults(backend.defaults().cmd_def, backend.defaults().pulse_library)\n",
    "measure = cmd_def.get('measure', qubits=backend.configuration().meas_map[0])\n",
    "backend_sim = qiskit.Aer.get_backend('pulse_simulator')"
   ]
  },
  {
   "cell_type": "code",
   "execution_count": 5,
   "metadata": {},
   "outputs": [],
   "source": [
    "hamiltonian = {}\n",
    "hamiltonian['h_str'] = ['_SUM[i,0,1,wq{i}/2*(I{i}-Z{i})]', '_SUM[i,0,1,omegad{i}*X{i}||D{i}]',\n",
    "                        'jq0q1*Sp0*Sm1', 'jq0q1*Sm0*Sp1', 'omegad1*X0||U0', 'omegad0*X1||U1']\n",
    "hamiltonian['qub'] = {'0': 2, '1': 2}\n",
    "hamiltonian['vars'] = {'wq0': 30.518812656662774, 'wq1': 31.238229295532093,\n",
    "                       'omegad0': 0.1675, 'omegad1': 0.176,\n",
    "                       'jq0q1': -0.0069}\n",
    "\n",
    "back_config['hamiltonian'] = hamiltonian\n",
    "back_config['noise'] = {}\n",
    "back_config['dt'] = 1.0\n",
    "back_config['ode_options'] = {}\n",
    "back_config['qubit_list'] = [0,1]"
   ]
  },
  {
   "cell_type": "code",
   "execution_count": 6,
   "metadata": {},
   "outputs": [],
   "source": [
    "# Measure X on target\n",
    "x_schedules = []\n",
    "for theta in np.linspace(0, 3*np.pi/4, 32, endpoint=False):\n",
    "    schedule = pulse_compiler_helper_fns.get_cr_schedule(theta, 0, 1, cmd_def, system) \n",
    "    schedule |= cmd_def.get('u2', qubits=[1], P0=0, P1=np.pi) << schedule.duration\n",
    "    schedule = schedule.filter(channels=[system.qubits[0].drive, system.qubits[1].drive, system.controls[0]])\n",
    "    schedule |= measure << schedule.duration\n",
    "    x_schedules.append(schedule)\n",
    "    \n",
    "# do same thing, but first flip \n",
    "for theta in np.linspace(0, 3*np.pi/4, 32, endpoint=False):\n",
    "    schedule = cmd_def.get('x', qubits=[0])\n",
    "    schedule |= pulse_compiler_helper_fns.get_cr_schedule(theta, 0, 1, cmd_def, system) << schedule.duration\n",
    "    schedule |= cmd_def.get('u2', qubits=[1], P0=0, P1=np.pi) << schedule.duration\n",
    "    schedule = schedule.filter(channels=[system.qubits[0].drive, system.qubits[1].drive, system.controls[0]])\n",
    "    schedule |= measure << schedule.duration\n",
    "    x_schedules.append(schedule)"
   ]
  },
  {
   "cell_type": "code",
   "execution_count": 7,
   "metadata": {},
   "outputs": [],
   "source": [
    "shots = 1000"
   ]
  },
  {
   "cell_type": "code",
   "execution_count": 8,
   "metadata": {},
   "outputs": [],
   "source": [
    "qobj = q.assemble(x_schedules, backend, \n",
    "                       meas_level=1, meas_return='avg', \n",
    "                       memory_slots=2,\n",
    "                       shots=shots, sim_config = back_config)"
   ]
  },
  {
   "cell_type": "code",
   "execution_count": 9,
   "metadata": {},
   "outputs": [
    {
     "data": {
      "text/plain": [
       "array([0.        , 4.85720941, 4.97172909, 9.82893851])"
      ]
     },
     "execution_count": 9,
     "metadata": {},
     "output_type": "execute_result"
    }
   ],
   "source": [
    "evals, estates = backend_sim.get_dressed_energies(qobj)\n",
    "evals/2/np.pi"
   ]
  },
  {
   "cell_type": "code",
   "execution_count": 10,
   "metadata": {},
   "outputs": [],
   "source": [
    "# Measure Y on target\n",
    "y_schedules = []\n",
    "for theta in np.linspace(0, 3*np.pi/4, 32, endpoint=False):\n",
    "    schedule = pulse_compiler_helper_fns.get_cr_schedule(theta, 0, 1, cmd_def, system)\n",
    "    schedule |= cmd_def.get('u1', qubits=[1], P0=-np.pi/2) << schedule.duration\n",
    "    schedule |= cmd_def.get('u2', qubits=[1], P0=0, P1=np.pi) << schedule.duration\n",
    "    schedule = schedule.filter(channels=[system.qubits[0].drive, system.qubits[1].drive, system.controls[0]])\n",
    "    schedule |= measure << schedule.duration\n",
    "    y_schedules.append(schedule)\n",
    "    \n",
    "# do same thing, but first flip \n",
    "for theta in np.linspace(0, 3*np.pi/4, 32, endpoint=False):\n",
    "    schedule = cmd_def.get('x', qubits=[0])\n",
    "    schedule |= pulse_compiler_helper_fns.get_cr_schedule(theta, 0, 1, cmd_def, system) << schedule.duration\n",
    "    schedule |= cmd_def.get('u1', qubits=[1], P0=-np.pi/2) << schedule.duration\n",
    "    schedule |= cmd_def.get('u2', qubits=[1], P0=0, P1=np.pi) << schedule.duration\n",
    "    schedule = schedule.filter(channels=[system.qubits[0].drive, system.qubits[1].drive, system.controls[0]])\n",
    "    schedule |= measure << schedule.duration\n",
    "    y_schedules.append(schedule)"
   ]
  },
  {
   "cell_type": "code",
   "execution_count": 11,
   "metadata": {},
   "outputs": [],
   "source": [
    "# Measure Z on target\n",
    "z_schedules = []\n",
    "for theta in np.linspace(0, 3*np.pi/4, 32, endpoint=False):\n",
    "    schedule = pulse_compiler_helper_fns.get_cr_schedule(theta, 0, 1, cmd_def, system)\n",
    "    schedule = schedule.filter(channels=[system.qubits[0].drive, system.qubits[1].drive, system.controls[0]])\n",
    "    schedule |= measure << schedule.duration\n",
    "    z_schedules.append(schedule)\n",
    "    \n",
    "# do same thing, but first flip \n",
    "for theta in np.linspace(0, 3*np.pi/4, 32, endpoint=False):\n",
    "    schedule = cmd_def.get('x', qubits=[0])\n",
    "    schedule |= pulse_compiler_helper_fns.get_cr_schedule(theta, 0, 1, cmd_def, system) << schedule.duration\n",
    "    schedule = schedule.filter(channels=[system.qubits[0].drive, system.qubits[1].drive, system.controls[0]])\n",
    "    schedule |= measure << schedule.duration\n",
    "    z_schedules.append(schedule)"
   ]
  },
  {
   "cell_type": "code",
   "execution_count": 13,
   "metadata": {},
   "outputs": [],
   "source": [
    "shots = 10000\n",
    "\n",
    "qobj = q.assemble(x_schedules, backend, \n",
    "                     qubit_lo_freq = [evals[1]/2/np.pi, evals[2]/2/np.pi],\n",
    "                     shots=shots, sim_config = back_config)\n",
    "x_result = backend_sim.run(qobj).result()\n",
    "\n",
    "qobj = q.assemble(y_schedules, backend, \n",
    "                     qubit_lo_freq = [evals[1]/2/np.pi, evals[2]/2/np.pi],\n",
    "                     shots=shots, sim_config = back_config)\n",
    "y_result = backend_sim.run(qobj).result()\n",
    "\n",
    "qobj = q.assemble(z_schedules, backend, \n",
    "                     qubit_lo_freq = [evals[1]/2/np.pi, evals[2]/2/np.pi],\n",
    "                     shots=shots, sim_config = back_config)\n",
    "z_result = backend_sim.run(qobj).result()"
   ]
  },
  {
   "cell_type": "code",
   "execution_count": 14,
   "metadata": {},
   "outputs": [],
   "source": [
    "from qiskit.ignis.verification.tomography.data import marginal_counts"
   ]
  },
  {
   "cell_type": "code",
   "execution_count": 15,
   "metadata": {},
   "outputs": [
    {
     "name": "stdout",
     "output_type": "stream",
     "text": [
      "[0.0023999999999999577, 0.023800000000000043, 0.02719999999999989, 0.06800000000000006, 0.06400000000000006, 0.04800000000000004, 0.06840000000000002, 0.0374000000000001, 0.031199999999999894, -0.0050000000000000044, -0.014399999999999968, -0.03700000000000003, -0.06799999999999995, -0.08040000000000003, -0.133, -0.1502, -0.14239999999999997, -0.125, -0.14139999999999997, -0.11180000000000001, -0.10099999999999998, -0.0948, -0.05179999999999996, -0.047799999999999954, -0.013399999999999967, 0.013400000000000079, 0.02719999999999989, -0.0013999999999999568, 0.036599999999999966, 0.020000000000000018, 0.0018000000000000238, -0.011800000000000033]\n",
      "[0.0027999999999999137, -0.0242, -0.052200000000000024, -0.0524, -0.08420000000000005, -0.08599999999999997, -0.07940000000000003, -0.10140000000000005, -0.08860000000000001, -0.0928, -0.09540000000000004, -0.06120000000000003, -0.0726, -0.048799999999999955, -0.04300000000000004, -0.0031999999999999806, 0.020199999999999996, 0.032399999999999984, 0.036799999999999944, 0.057399999999999896, 0.04960000000000009, 0.055399999999999894, 0.04699999999999993, 0.06180000000000008, 0.043400000000000105, 0.03839999999999999, 0.012799999999999923, 0.007400000000000073, 0.0020000000000000018, -0.024399999999999977, -0.041000000000000036, -0.0696]\n"
     ]
    }
   ],
   "source": [
    "x_vals_control_off = []\n",
    "for i in range(32):\n",
    "    x_counts = marginal_counts(x_result.get_counts(i), meas_qubits=[1])\n",
    "    x_vals_control_off.append((x_counts.get('0', 0) / shots - 0.5) * 2)\n",
    "\n",
    "x_vals_control_on = []\n",
    "for i in range(32, 64):\n",
    "    x_counts = marginal_counts(x_result.get_counts(i), meas_qubits=[1])\n",
    "    x_vals_control_on.append((x_counts.get('0', 0) / shots - 0.5) * 2)\n",
    "\n",
    "print(x_vals_control_off)\n",
    "print(x_vals_control_on)"
   ]
  },
  {
   "cell_type": "code",
   "execution_count": 16,
   "metadata": {},
   "outputs": [
    {
     "name": "stdout",
     "output_type": "stream",
     "text": [
      "[0.0029999999999998916, -0.08579999999999999, -0.15639999999999998, -0.22660000000000002, -0.29400000000000004, -0.365, -0.43700000000000006, -0.5092, -0.5794, -0.6268, -0.6894, -0.741, -0.7796, -0.817, -0.8522000000000001, -0.8894, -0.9206, -0.9436, -0.961, -0.978, -0.9892, -0.996, -0.998, -0.9922, -0.9862, -0.9736, -0.9496, -0.9268, -0.9112, -0.871, -0.8524, -0.8062]\n",
      "[-0.007000000000000006, 0.07539999999999991, 0.17520000000000002, 0.2467999999999999, 0.2994000000000001, 0.38480000000000003, 0.44500000000000006, 0.5024, 0.5731999999999999, 0.6254, 0.6848000000000001, 0.7416, 0.7908, 0.8311999999999999, 0.8794, 0.9074, 0.938, 0.9570000000000001, 0.9734, 0.986, 0.9944, 0.9976, 0.9970000000000001, 0.9927999999999999, 0.9822, 0.9690000000000001, 0.9512, 0.9334, 0.9094, 0.8648, 0.8386, 0.8113999999999999]\n"
     ]
    }
   ],
   "source": [
    "y_vals_control_off = []\n",
    "for i in range(32):\n",
    "    y_counts = marginal_counts(y_result.get_counts(i), meas_qubits=[1])\n",
    "    y_vals_control_off.append((y_counts.get('0', 0) / shots - 0.5) * 2)\n",
    "\n",
    "y_vals_control_on = []\n",
    "for i in range(32, 64):\n",
    "    y_counts = marginal_counts(y_result.get_counts(i), meas_qubits=[1])\n",
    "    y_vals_control_on.append((y_counts.get('0', 0) / shots - 0.5) * 2)\n",
    "\n",
    "print(y_vals_control_off)\n",
    "print(y_vals_control_on)"
   ]
  },
  {
   "cell_type": "code",
   "execution_count": 17,
   "metadata": {},
   "outputs": [
    {
     "name": "stdout",
     "output_type": "stream",
     "text": [
      "[1.0, 0.9962, 0.9867999999999999, 0.9743999999999999, 0.9486000000000001, 0.9259999999999999, 0.8888, 0.8537999999999999, 0.8160000000000001, 0.77, 0.7374, 0.6566000000000001, 0.623, 0.5604, 0.48540000000000005, 0.44120000000000004, 0.3537999999999999, 0.2936000000000001, 0.2398, 0.13979999999999992, 0.09139999999999993, 0.040000000000000036, -0.03859999999999997, -0.11380000000000001, -0.18259999999999998, -0.241, -0.30679999999999996, -0.3678, -0.4286, -0.48760000000000003, -0.5327999999999999, -0.5738]\n",
      "[1.0, 0.9967999999999999, 0.9872000000000001, 0.9762, 0.9461999999999999, 0.9263999999999999, 0.8914, 0.8548, 0.8202, 0.7751999999999999, 0.7198, 0.6812, 0.6026, 0.5589999999999999, 0.4942, 0.41779999999999995, 0.3577999999999999, 0.30479999999999996, 0.2327999999999999, 0.1504000000000001, 0.07580000000000009, 0.025800000000000045, -0.04359999999999997, -0.11240000000000006, -0.1642, -0.23919999999999997, -0.30279999999999996, -0.36119999999999997, -0.42879999999999996, -0.48140000000000005, -0.532, -0.5784]\n"
     ]
    }
   ],
   "source": [
    "z_vals_control_off = []\n",
    "for i in range(32):\n",
    "    z_counts = marginal_counts(z_result.get_counts(i), meas_qubits=[1])\n",
    "    z_vals_control_off.append((z_counts.get('0', 0) / shots - 0.5) * 2)\n",
    "\n",
    "z_vals_control_on = []\n",
    "for i in range(32, 64):\n",
    "    z_counts = marginal_counts(z_result.get_counts(i), meas_qubits=[1])\n",
    "    z_vals_control_on.append((z_counts.get('0', 0) / shots - 0.5) * 2)\n",
    "\n",
    "print(z_vals_control_off)\n",
    "print(z_vals_control_on)"
   ]
  },
  {
   "cell_type": "code",
   "execution_count": 21,
   "metadata": {},
   "outputs": [],
   "source": [
    "x_vals_control_off = [0.0023999999999999577, 0.023800000000000043, 0.02719999999999989, 0.06800000000000006, 0.06400000000000006, 0.04800000000000004, 0.06840000000000002, 0.0374000000000001, 0.031199999999999894, -0.0050000000000000044, -0.014399999999999968, -0.03700000000000003, -0.06799999999999995, -0.08040000000000003, -0.133, -0.1502, -0.14239999999999997, -0.125, -0.14139999999999997, -0.11180000000000001, -0.10099999999999998, -0.0948, -0.05179999999999996, -0.047799999999999954, -0.013399999999999967, 0.013400000000000079, 0.02719999999999989, -0.0013999999999999568, 0.036599999999999966, 0.020000000000000018, 0.0018000000000000238, -0.011800000000000033]\n",
    "x_vals_control_on = [0.0027999999999999137, -0.0242, -0.052200000000000024, -0.0524, -0.08420000000000005, -0.08599999999999997, -0.07940000000000003, -0.10140000000000005, -0.08860000000000001, -0.0928, -0.09540000000000004, -0.06120000000000003, -0.0726, -0.048799999999999955, -0.04300000000000004, -0.0031999999999999806, 0.020199999999999996, 0.032399999999999984, 0.036799999999999944, 0.057399999999999896, 0.04960000000000009, 0.055399999999999894, 0.04699999999999993, 0.06180000000000008, 0.043400000000000105, 0.03839999999999999, 0.012799999999999923, 0.007400000000000073, 0.0020000000000000018, -0.024399999999999977, -0.041000000000000036, -0.0696]\n",
    "y_vals_control_off = [0.0029999999999998916, -0.08579999999999999, -0.15639999999999998, -0.22660000000000002, -0.29400000000000004, -0.365, -0.43700000000000006, -0.5092, -0.5794, -0.6268, -0.6894, -0.741, -0.7796, -0.817, -0.8522000000000001, -0.8894, -0.9206, -0.9436, -0.961, -0.978, -0.9892, -0.996, -0.998, -0.9922, -0.9862, -0.9736, -0.9496, -0.9268, -0.9112, -0.871, -0.8524, -0.8062]\n",
    "y_vals_control_on = [-0.007000000000000006, 0.07539999999999991, 0.17520000000000002, 0.2467999999999999, 0.2994000000000001, 0.38480000000000003, 0.44500000000000006, 0.5024, 0.5731999999999999, 0.6254, 0.6848000000000001, 0.7416, 0.7908, 0.8311999999999999, 0.8794, 0.9074, 0.938, 0.9570000000000001, 0.9734, 0.986, 0.9944, 0.9976, 0.9970000000000001, 0.9927999999999999, 0.9822, 0.9690000000000001, 0.9512, 0.9334, 0.9094, 0.8648, 0.8386, 0.8113999999999999]\n",
    "z_vals_control_off = [1.0, 0.9962, 0.9867999999999999, 0.9743999999999999, 0.9486000000000001, 0.9259999999999999, 0.8888, 0.8537999999999999, 0.8160000000000001, 0.77, 0.7374, 0.6566000000000001, 0.623, 0.5604, 0.48540000000000005, 0.44120000000000004, 0.3537999999999999, 0.2936000000000001, 0.2398, 0.13979999999999992, 0.09139999999999993, 0.040000000000000036, -0.03859999999999997, -0.11380000000000001, -0.18259999999999998, -0.241, -0.30679999999999996, -0.3678, -0.4286, -0.48760000000000003, -0.5327999999999999, -0.5738]\n",
    "z_vals_control_on = [1.0, 0.9967999999999999, 0.9872000000000001, 0.9762, 0.9461999999999999, 0.9263999999999999, 0.8914, 0.8548, 0.8202, 0.7751999999999999, 0.7198, 0.6812, 0.6026, 0.5589999999999999, 0.4942, 0.41779999999999995, 0.3577999999999999, 0.30479999999999996, 0.2327999999999999, 0.1504000000000001, 0.07580000000000009, 0.025800000000000045, -0.04359999999999997, -0.11240000000000006, -0.1642, -0.23919999999999997, -0.30279999999999996, -0.36119999999999997, -0.42879999999999996, -0.48140000000000005, -0.532, -0.5784]"
   ]
  },
  {
   "cell_type": "code",
   "execution_count": 22,
   "metadata": {},
   "outputs": [
    {
     "data": {
      "text/plain": [
       "[0, 32, -1, 1]"
      ]
     },
     "execution_count": 22,
     "metadata": {},
     "output_type": "execute_result"
    },
    {
     "data": {
      "image/png": "[encoded data removed]",
      "text/plain": [
       "<Figure size 432x288 with 1 Axes>"
      ]
     },
     "metadata": {
      "needs_background": "light"
     },
     "output_type": "display_data"
    }
   ],
   "source": [
    "plt.plot(x_vals_control_off)\n",
    "plt.plot(x_vals_control_on)\n",
    "plt.axis([0, 32, -1, 1])"
   ]
  },
  {
   "cell_type": "code",
   "execution_count": 23,
   "metadata": {},
   "outputs": [
    {
     "data": {
      "text/plain": [
       "[0, 32, -1, 1]"
      ]
     },
     "execution_count": 23,
     "metadata": {},
     "output_type": "execute_result"
    },
    {
     "data": {
      "image/png": "[encoded data removed]",
      "text/plain": [
       "<Figure size 432x288 with 1 Axes>"
      ]
     },
     "metadata": {
      "needs_background": "light"
     },
     "output_type": "display_data"
    }
   ],
   "source": [
    "plt.plot(y_vals_control_off)\n",
    "plt.plot(y_vals_control_on)\n",
    "plt.axis([0, 32, -1, 1])"
   ]
  },
  {
   "cell_type": "code",
   "execution_count": 24,
   "metadata": {},
   "outputs": [
    {
     "data": {
      "text/plain": [
       "[0, 32, -1, 1]"
      ]
     },
     "execution_count": 24,
     "metadata": {},
     "output_type": "execute_result"
    },
    {
     "data": {
      "image/png": "[encoded data removed]",
      "text/plain": [
       "<Figure size 432x288 with 1 Axes>"
      ]
     },
     "metadata": {
      "needs_background": "light"
     },
     "output_type": "display_data"
    }
   ],
   "source": [
    "plt.plot(z_vals_control_off)\n",
    "plt.plot(z_vals_control_on)\n",
    "plt.axis([0, 32, -1, 1])"
   ]
  },
  {
   "cell_type": "code",
   "execution_count": null,
   "metadata": {},
   "outputs": [],
   "source": []
  },
  {
   "cell_type": "code",
   "execution_count": null,
   "metadata": {},
   "outputs": [],
   "source": []
  }
 ],
 "metadata": {
  "kernelspec": {
   "display_name": "Python 3",
   "language": "python",
   "name": "python3"
  },
  "language_info": {
   "codemirror_mode": {
    "name": "ipython",
    "version": 3
   },
   "file_extension": ".py",
   "mimetype": "text/x-python",
   "name": "python",
   "nbconvert_exporter": "python",
   "pygments_lexer": "ipython3",
   "version": "3.7.3"
  }
 },
 "nbformat": 4,
 "nbformat_minor": 2
}
