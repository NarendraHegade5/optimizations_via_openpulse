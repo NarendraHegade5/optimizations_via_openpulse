{
 "cells": [
  {
   "cell_type": "code",
   "execution_count": 1,
   "metadata": {},
   "outputs": [],
   "source": [
    "import numpy as np\n",
    "import time\n",
    "from collections import namedtuple\n",
    "import matplotlib.pyplot as plt\n",
    "%matplotlib inline"
   ]
  },
  {
   "cell_type": "code",
   "execution_count": 2,
   "metadata": {},
   "outputs": [],
   "source": [
    "import qiskit as q\n",
    "import qiskit.tools.jupyter\n",
    "from qiskit.pulse import pulse_lib as _  # only want to call pulse_lib as q.pulse.pulse_lib\n",
    "from qiskit.test.mock import FakeAlmaden\n",
    "from qiskit.ignis.verification.tomography.data import marginal_counts"
   ]
  },
  {
   "cell_type": "code",
   "execution_count": 3,
   "metadata": {},
   "outputs": [],
   "source": [
    "import pulse_compiler_helper_fns"
   ]
  },
  {
   "cell_type": "code",
   "execution_count": 4,
   "metadata": {},
   "outputs": [
    {
     "name": "stderr",
     "output_type": "stream",
     "text": [
      "/Users/pranavgokhale/Developer/qiskit/qiskit-terra/qiskit/pulse/channels/pulse_channel_spec.py:87: DeprecationWarning: The PulseChannelSpec is deprecated. Use backend.configuration() instead. The supported methods require some migrations; check out the release notes for the complete details.\n",
      "  DeprecationWarning)\n"
     ]
    }
   ],
   "source": [
    "backend = FakeAlmaden()\n",
    "system = q.pulse.PulseChannelSpec.from_backend(backend)\n",
    "back_config = backend.configuration().to_dict()\n",
    "cmd_def = q.pulse.CmdDef.from_defaults(backend.defaults().cmd_def, backend.defaults().pulse_library)\n",
    "measure = cmd_def.get('measure', qubits=backend.configuration().meas_map[0])\n",
    "backend_sim = qiskit.Aer.get_backend('pulse_simulator')"
   ]
  },
  {
   "cell_type": "code",
   "execution_count": 40,
   "metadata": {},
   "outputs": [],
   "source": [
    "hamiltonian = {}\n",
    "hamiltonian['h_str'] = ['_SUM[i,0,1,wq{i}/2*(I{i}-Z{i})]', '_SUM[i,0,1,omegad{i}*X{i}||D{i}]',\n",
    "                        'jq0q1*Sp0*Sm1', 'jq0q1*Sm0*Sp1', 'omegad1*X0||U0', 'omegad0*X1||U1']\n",
    "hamiltonian['qub'] = {'0': 2, '1': 2}\n",
    "hamiltonian['vars'] = {'wq0': 30.518812656662774, 'wq1': 31.238229295532093,\n",
    "                       'omegad0': 0.1675, 'omegad1': 0.176,\n",
    "                       'jq0q1': 0.0135}\n",
    "\n",
    "back_config['hamiltonian'] = hamiltonian\n",
    "back_config['noise'] = {}\n",
    "back_config['dt'] = 1.0\n",
    "back_config['ode_options'] = {}\n",
    "back_config['qubit_list'] = [0,1]"
   ]
  },
  {
   "cell_type": "code",
   "execution_count": 53,
   "metadata": {},
   "outputs": [],
   "source": [
    "# Measure X on target\n",
    "x_schedules = []\n",
    "for theta in np.linspace(0, 3*np.pi/4, 32, endpoint=False):\n",
    "    schedule = pulse_compiler_helper_fns.get_cr_schedule(theta, 0, 1, cmd_def, system) \n",
    "    schedule |= cmd_def.get('u2', qubits=[1], P0=0, P1=np.pi) << schedule.duration\n",
    "    schedule = schedule.filter(channels=[system.qubits[0].drive, system.qubits[1].drive, system.controls[0]])\n",
    "    schedule |= measure << schedule.duration\n",
    "    x_schedules.append(schedule)\n",
    "    \n",
    "# do same thing, but first flip \n",
    "for theta in np.linspace(0, 3*np.pi/4, 32, endpoint=False):\n",
    "    schedule = cmd_def.get('x', qubits=[0])\n",
    "    schedule |= pulse_compiler_helper_fns.get_cr_schedule(theta, 0, 1, cmd_def, system) << schedule.duration\n",
    "    schedule |= cmd_def.get('u2', qubits=[1], P0=0, P1=np.pi) << schedule.duration\n",
    "    schedule = schedule.filter(channels=[system.qubits[0].drive, system.qubits[1].drive, system.controls[0]])\n",
    "    schedule |= measure << schedule.duration\n",
    "    x_schedules.append(schedule)"
   ]
  },
  {
   "cell_type": "code",
   "execution_count": 42,
   "metadata": {},
   "outputs": [],
   "source": [
    "shots = 1000"
   ]
  },
  {
   "cell_type": "code",
   "execution_count": 43,
   "metadata": {},
   "outputs": [],
   "source": [
    "qobj = q.assemble(x_schedules, backend, \n",
    "                       meas_level=1, meas_return='avg', \n",
    "                       memory_slots=2,\n",
    "                       shots=shots, sim_config = back_config)"
   ]
  },
  {
   "cell_type": "code",
   "execution_count": 44,
   "metadata": {},
   "outputs": [
    {
     "data": {
      "text/plain": [
       "array([0.        , 4.85717964, 4.97175886, 9.82893851])"
      ]
     },
     "execution_count": 44,
     "metadata": {},
     "output_type": "execute_result"
    }
   ],
   "source": [
    "evals, estates = backend_sim.get_dressed_energies(qobj)\n",
    "evals/2/np.pi"
   ]
  },
  {
   "cell_type": "code",
   "execution_count": 54,
   "metadata": {},
   "outputs": [],
   "source": [
    "# Measure Y on target\n",
    "y_schedules = []\n",
    "for theta in np.linspace(0, 3*np.pi/4, 32, endpoint=False):\n",
    "    schedule = pulse_compiler_helper_fns.get_cr_schedule(theta, 0, 1, cmd_def, system)\n",
    "    schedule |= cmd_def.get('u1', qubits=[1], P0=-np.pi/2) << schedule.duration\n",
    "    schedule |= cmd_def.get('u2', qubits=[1], P0=0, P1=np.pi) << schedule.duration\n",
    "    schedule = schedule.filter(channels=[system.qubits[0].drive, system.qubits[1].drive, system.controls[0]])\n",
    "    schedule |= measure << schedule.duration\n",
    "    y_schedules.append(schedule)\n",
    "    \n",
    "# do same thing, but first flip \n",
    "for theta in np.linspace(0, 3*np.pi/4, 32, endpoint=False):\n",
    "    schedule = cmd_def.get('x', qubits=[0])\n",
    "    schedule |= pulse_compiler_helper_fns.get_cr_schedule(theta, 0, 1, cmd_def, system) << schedule.duration\n",
    "    schedule |= cmd_def.get('u1', qubits=[1], P0=-np.pi/2) << schedule.duration\n",
    "    schedule |= cmd_def.get('u2', qubits=[1], P0=0, P1=np.pi) << schedule.duration\n",
    "    schedule = schedule.filter(channels=[system.qubits[0].drive, system.qubits[1].drive, system.controls[0]])\n",
    "    schedule |= measure << schedule.duration\n",
    "    y_schedules.append(schedule)"
   ]
  },
  {
   "cell_type": "code",
   "execution_count": 55,
   "metadata": {},
   "outputs": [],
   "source": [
    "# Measure Z on target\n",
    "z_schedules = []\n",
    "for theta in np.linspace(0, 3*np.pi/4, 32, endpoint=False):\n",
    "    schedule = pulse_compiler_helper_fns.get_cr_schedule(theta, 0, 1, cmd_def, system)\n",
    "    schedule = schedule.filter(channels=[system.qubits[0].drive, system.qubits[1].drive, system.controls[0]])\n",
    "    schedule |= measure << schedule.duration\n",
    "    z_schedules.append(schedule)\n",
    "    \n",
    "# do same thing, but first flip \n",
    "for theta in np.linspace(0, 3*np.pi/4, 32, endpoint=False):\n",
    "    schedule = cmd_def.get('x', qubits=[0])\n",
    "    schedule |= pulse_compiler_helper_fns.get_cr_schedule(theta, 0, 1, cmd_def, system) << schedule.duration\n",
    "    schedule = schedule.filter(channels=[system.qubits[0].drive, system.qubits[1].drive, system.controls[0]])\n",
    "    schedule |= measure << schedule.duration\n",
    "    z_schedules.append(schedule)"
   ]
  },
  {
   "cell_type": "code",
   "execution_count": 56,
   "metadata": {},
   "outputs": [],
   "source": [
    "shots = 10000\n",
    "\n",
    "qobj = q.assemble(x_schedules, backend, \n",
    "                     qubit_lo_freq = [evals[1]/2/np.pi, evals[2]/2/np.pi],\n",
    "                     shots=shots, sim_config = back_config)\n",
    "x_result = backend_sim.run(qobj).result()\n",
    "\n",
    "qobj = q.assemble(y_schedules, backend, \n",
    "                     qubit_lo_freq = [evals[1]/2/np.pi, evals[2]/2/np.pi],\n",
    "                     shots=shots, sim_config = back_config)\n",
    "y_result = backend_sim.run(qobj).result()\n",
    "\n",
    "qobj = q.assemble(z_schedules, backend, \n",
    "                     qubit_lo_freq = [evals[1]/2/np.pi, evals[2]/2/np.pi],\n",
    "                     shots=shots, sim_config = back_config)\n",
    "z_result = backend_sim.run(qobj).result()"
   ]
  },
  {
   "cell_type": "code",
   "execution_count": 48,
   "metadata": {},
   "outputs": [],
   "source": [
    "from qiskit.ignis.verification.tomography.data import marginal_counts"
   ]
  },
  {
   "cell_type": "code",
   "execution_count": 67,
   "metadata": {},
   "outputs": [
    {
     "name": "stdout",
     "output_type": "stream",
     "text": [
      "[-0.015000000000000013, -0.031399999999999983, -0.06740000000000002, -0.11719999999999997, -0.1612, -0.18079999999999996, -0.1996, -0.2148, -0.2218, -0.24, -0.21899999999999997, -0.21540000000000004, -0.18899999999999995, -0.17679999999999996, -0.1452, -0.10260000000000002, -0.0766, -0.026000000000000023, 0.0052000000000000934, 0.05400000000000005, 0.08620000000000005, 0.10899999999999999, 0.1664000000000001, 0.1883999999999999, 0.1814, 0.1923999999999999, 0.2023999999999999, 0.1814, 0.18159999999999998, 0.1803999999999999, 0.1541999999999999, 0.1279999999999999]\n",
      "[0.016999999999999904, 0.0411999999999999, 0.07640000000000002, 0.0988, 0.10499999999999998, 0.09440000000000004, 0.07820000000000005, 0.028799999999999937, -0.023399999999999976, -0.09399999999999997, -0.15859999999999996, -0.21960000000000002, -0.2602, -0.2986, -0.30800000000000005, -0.28, -0.23260000000000003, -0.20240000000000002, -0.15039999999999998, -0.08299999999999996, -0.006199999999999983, 0.07539999999999991, 0.12460000000000004, 0.1674, 0.1903999999999999, 0.2048000000000001, 0.1806000000000001, 0.1524000000000001, 0.139, 0.08139999999999992, 0.0351999999999999, 0.012399999999999967]\n"
     ]
    }
   ],
   "source": [
    "x_vals_control_off = []\n",
    "for i in range(32):\n",
    "    x_counts = marginal_counts(x_result.get_counts(i), meas_qubits=[1])\n",
    "    x_vals_control_off.append((x_counts.get('0', 0) / shots - 0.5) * 2)\n",
    "\n",
    "x_vals_control_on = []\n",
    "for i in range(32, 64):\n",
    "    x_counts = marginal_counts(x_result.get_counts(i), meas_qubits=[1])\n",
    "    x_vals_control_on.append((x_counts.get('0', 0) / shots - 0.5) * 2)\n",
    "\n",
    "print(x_vals_control_off)\n",
    "print(x_vals_control_on)"
   ]
  },
  {
   "cell_type": "code",
   "execution_count": 68,
   "metadata": {},
   "outputs": [
    {
     "name": "stdout",
     "output_type": "stream",
     "text": [
      "[0.0034000000000000696, 0.15280000000000005, 0.3124, 0.43599999999999994, 0.5780000000000001, 0.6724000000000001, 0.7674000000000001, 0.8435999999999999, 0.9014, 0.9410000000000001, 0.9685999999999999, 0.9743999999999999, 0.9614, 0.9281999999999999, 0.8806, 0.8053999999999999, 0.7030000000000001, 0.6184000000000001, 0.4930000000000001, 0.36739999999999995, 0.25340000000000007, 0.11080000000000001, -0.0252, -0.1562, -0.2794, -0.3798, -0.49319999999999997, -0.5946, -0.6841999999999999, -0.7602, -0.8424, -0.894]\n",
      "[-0.014000000000000012, -0.14300000000000002, -0.29259999999999997, -0.43479999999999996, -0.5591999999999999, -0.704, -0.7948, -0.8712, -0.9292, -0.9654, -0.9832, -0.974, -0.95, -0.902, -0.8386, -0.7736000000000001, -0.6898, -0.5864, -0.493, -0.38439999999999996, -0.24960000000000004, -0.14600000000000002, -0.017000000000000015, 0.10519999999999996, 0.24540000000000006, 0.3575999999999999, 0.4910000000000001, 0.5840000000000001, 0.688, 0.7834000000000001, 0.8488, 0.899]\n"
     ]
    }
   ],
   "source": [
    "y_vals_control_off = []\n",
    "for i in range(32):\n",
    "    y_counts = marginal_counts(y_result.get_counts(i), meas_qubits=[1])\n",
    "    y_vals_control_off.append((y_counts.get('0', 0) / shots - 0.5) * 2)\n",
    "\n",
    "y_vals_control_on = []\n",
    "for i in range(32, 64):\n",
    "    y_counts = marginal_counts(y_result.get_counts(i), meas_qubits=[1])\n",
    "    y_vals_control_on.append((y_counts.get('0', 0) / shots - 0.5) * 2)\n",
    "\n",
    "print(y_vals_control_off)\n",
    "print(y_vals_control_on)"
   ]
  },
  {
   "cell_type": "code",
   "execution_count": 69,
   "metadata": {},
   "outputs": [
    {
     "name": "stdout",
     "output_type": "stream",
     "text": [
      "[1.0, 0.9885999999999999, 0.9558, 0.889, 0.8162, 0.7290000000000001, 0.6137999999999999, 0.48360000000000003, 0.3458000000000001, 0.24059999999999993, 0.08739999999999992, -0.025399999999999978, -0.1986, -0.31120000000000003, -0.46519999999999995, -0.5922000000000001, -0.6978, -0.7986, -0.8688, -0.926, -0.966, -0.9832, -0.9896, -0.9776, -0.9422, -0.9014, -0.8473999999999999, -0.7846, -0.712, -0.6226, -0.5306, -0.43920000000000003]\n",
      "[1.0, 0.986, 0.9536, 0.8937999999999999, 0.8184, 0.7094, 0.6155999999999999, 0.48540000000000005, 0.37159999999999993, 0.22859999999999991, 0.09600000000000009, -0.0514, -0.19320000000000004, -0.3328, -0.45220000000000005, -0.5740000000000001, -0.7028, -0.7908, -0.8696, -0.9256, -0.9686, -0.9886, -0.9896, -0.9776, -0.9494, -0.9122, -0.8444, -0.7807999999999999, -0.6988, -0.6278, -0.5298, -0.44699999999999995]\n"
     ]
    }
   ],
   "source": [
    "z_vals_control_off = []\n",
    "for i in range(32):\n",
    "    z_counts = marginal_counts(z_result.get_counts(i), meas_qubits=[1])\n",
    "    z_vals_control_off.append((z_counts.get('0', 0) / shots - 0.5) * 2)\n",
    "\n",
    "z_vals_control_on = []\n",
    "for i in range(32, 64):\n",
    "    z_counts = marginal_counts(z_result.get_counts(i), meas_qubits=[1])\n",
    "    z_vals_control_on.append((z_counts.get('0', 0) / shots - 0.5) * 2)\n",
    "\n",
    "print(z_vals_control_off)\n",
    "print(z_vals_control_on)"
   ]
  },
  {
   "cell_type": "code",
   "execution_count": 74,
   "metadata": {},
   "outputs": [],
   "source": [
    "x_vals_control_off = [-0.015000000000000013, -0.031399999999999983, -0.06740000000000002, -0.11719999999999997, -0.1612, -0.18079999999999996, -0.1996, -0.2148, -0.2218, -0.24, -0.21899999999999997, -0.21540000000000004, -0.18899999999999995, -0.17679999999999996, -0.1452, -0.10260000000000002, -0.0766, -0.026000000000000023, 0.0052000000000000934, 0.05400000000000005, 0.08620000000000005, 0.10899999999999999, 0.1664000000000001, 0.1883999999999999, 0.1814, 0.1923999999999999, 0.2023999999999999, 0.1814, 0.18159999999999998, 0.1803999999999999, 0.1541999999999999, 0.1279999999999999]\n",
    "x_vals_control_on = [0.016999999999999904, 0.0411999999999999, 0.07640000000000002, 0.0988, 0.10499999999999998, 0.09440000000000004, 0.07820000000000005, 0.028799999999999937, -0.023399999999999976, -0.09399999999999997, -0.15859999999999996, -0.21960000000000002, -0.2602, -0.2986, -0.30800000000000005, -0.28, -0.23260000000000003, -0.20240000000000002, -0.15039999999999998, -0.08299999999999996, -0.006199999999999983, 0.07539999999999991, 0.12460000000000004, 0.1674, 0.1903999999999999, 0.2048000000000001, 0.1806000000000001, 0.1524000000000001, 0.139, 0.08139999999999992, 0.0351999999999999, 0.012399999999999967]\n",
    "y_vals_control_off = [0.0034000000000000696, 0.15280000000000005, 0.3124, 0.43599999999999994, 0.5780000000000001, 0.6724000000000001, 0.7674000000000001, 0.8435999999999999, 0.9014, 0.9410000000000001, 0.9685999999999999, 0.9743999999999999, 0.9614, 0.9281999999999999, 0.8806, 0.8053999999999999, 0.7030000000000001, 0.6184000000000001, 0.4930000000000001, 0.36739999999999995, 0.25340000000000007, 0.11080000000000001, -0.0252, -0.1562, -0.2794, -0.3798, -0.49319999999999997, -0.5946, -0.6841999999999999, -0.7602, -0.8424, -0.894]\n",
    "y_vals_control_on = [-0.014000000000000012, -0.14300000000000002, -0.29259999999999997, -0.43479999999999996, -0.5591999999999999, -0.704, -0.7948, -0.8712, -0.9292, -0.9654, -0.9832, -0.974, -0.95, -0.902, -0.8386, -0.7736000000000001, -0.6898, -0.5864, -0.493, -0.38439999999999996, -0.24960000000000004, -0.14600000000000002, -0.017000000000000015, 0.10519999999999996, 0.24540000000000006, 0.3575999999999999, 0.4910000000000001, 0.5840000000000001, 0.688, 0.7834000000000001, 0.8488, 0.899]\n",
    "z_vals_control_off = [1.0, 0.9885999999999999, 0.9558, 0.889, 0.8162, 0.7290000000000001, 0.6137999999999999, 0.48360000000000003, 0.3458000000000001, 0.24059999999999993, 0.08739999999999992, -0.025399999999999978, -0.1986, -0.31120000000000003, -0.46519999999999995, -0.5922000000000001, -0.6978, -0.7986, -0.8688, -0.926, -0.966, -0.9832, -0.9896, -0.9776, -0.9422, -0.9014, -0.8473999999999999, -0.7846, -0.712, -0.6226, -0.5306, -0.43920000000000003]\n",
    "z_vals_control_on = [1.0, 0.986, 0.9536, 0.8937999999999999, 0.8184, 0.7094, 0.6155999999999999, 0.48540000000000005, 0.37159999999999993, 0.22859999999999991, 0.09600000000000009, -0.0514, -0.19320000000000004, -0.3328, -0.45220000000000005, -0.5740000000000001, -0.7028, -0.7908, -0.8696, -0.9256, -0.9686, -0.9886, -0.9896, -0.9776, -0.9494, -0.9122, -0.8444, -0.7807999999999999, -0.6988, -0.6278, -0.5298, -0.44699999999999995]"
   ]
  },
  {
   "cell_type": "code",
   "execution_count": 75,
   "metadata": {},
   "outputs": [
    {
     "data": {
      "text/plain": [
       "[0, 32, -1, 1]"
      ]
     },
     "execution_count": 75,
     "metadata": {},
     "output_type": "execute_result"
    },
    {
     "data": {
      "image/png": "[encoded data removed]",
      "text/plain": [
       "<Figure size 432x288 with 1 Axes>"
      ]
     },
     "metadata": {
      "needs_background": "light"
     },
     "output_type": "display_data"
    }
   ],
   "source": [
    "plt.plot(x_vals_control_off)\n",
    "plt.plot(x_vals_control_on)\n",
    "plt.axis([0, 32, -1, 1])"
   ]
  },
  {
   "cell_type": "code",
   "execution_count": 76,
   "metadata": {},
   "outputs": [
    {
     "data": {
      "text/plain": [
       "[0, 32, -1, 1]"
      ]
     },
     "execution_count": 76,
     "metadata": {},
     "output_type": "execute_result"
    },
    {
     "data": {
      "image/png": "[encoded data removed]",
      "text/plain": [
       "<Figure size 432x288 with 1 Axes>"
      ]
     },
     "metadata": {
      "needs_background": "light"
     },
     "output_type": "display_data"
    }
   ],
   "source": [
    "plt.plot(y_vals_control_off)\n",
    "plt.plot(y_vals_control_on)\n",
    "plt.axis([0, 32, -1, 1])"
   ]
  },
  {
   "cell_type": "code",
   "execution_count": 78,
   "metadata": {},
   "outputs": [
    {
     "data": {
      "text/plain": [
       "[0, 32, -1, 1]"
      ]
     },
     "execution_count": 78,
     "metadata": {},
     "output_type": "execute_result"
    },
    {
     "data": {
      "image/png": "[encoded data removed]",
      "text/plain": [
       "<Figure size 432x288 with 1 Axes>"
      ]
     },
     "metadata": {
      "needs_background": "light"
     },
     "output_type": "display_data"
    }
   ],
   "source": [
    "plt.plot(z_vals_control_off)\n",
    "plt.plot(z_vals_control_on)\n",
    "plt.axis([0, 32, -1, 1])"
   ]
  },
  {
   "cell_type": "code",
   "execution_count": null,
   "metadata": {},
   "outputs": [],
   "source": []
  },
  {
   "cell_type": "code",
   "execution_count": null,
   "metadata": {},
   "outputs": [],
   "source": []
  }
 ],
 "metadata": {
  "kernelspec": {
   "display_name": "Python 3",
   "language": "python",
   "name": "python3"
  },
  "language_info": {
   "codemirror_mode": {
    "name": "ipython",
    "version": 3
   },
   "file_extension": ".py",
   "mimetype": "text/x-python",
   "name": "python",
   "nbconvert_exporter": "python",
   "pygments_lexer": "ipython3",
   "version": "3.7.3"
  }
 },
 "nbformat": 4,
 "nbformat_minor": 2
}
