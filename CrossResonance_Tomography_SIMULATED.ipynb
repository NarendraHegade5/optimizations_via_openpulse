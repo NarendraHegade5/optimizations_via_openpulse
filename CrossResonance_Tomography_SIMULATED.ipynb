{
 "cells": [
  {
   "cell_type": "code",
   "execution_count": 1,
   "metadata": {},
   "outputs": [],
   "source": [
    "import numpy as np\n",
    "import time\n",
    "from collections import namedtuple\n",
    "import matplotlib.pyplot as plt\n",
    "%matplotlib inline"
   ]
  },
  {
   "cell_type": "code",
   "execution_count": 2,
   "metadata": {},
   "outputs": [],
   "source": [
    "import qiskit as q\n",
    "import qiskit.tools.jupyter\n",
    "from qiskit.pulse import pulse_lib as _  # only want to call pulse_lib as q.pulse.pulse_lib\n",
    "from qiskit.test.mock import FakeAlmaden\n",
    "from qiskit.ignis.verification.tomography.data import marginal_counts"
   ]
  },
  {
   "cell_type": "code",
   "execution_count": 3,
   "metadata": {},
   "outputs": [],
   "source": [
    "import pulse_compiler_helper_fns"
   ]
  },
  {
   "cell_type": "code",
   "execution_count": 4,
   "metadata": {},
   "outputs": [
    {
     "name": "stderr",
     "output_type": "stream",
     "text": [
      "/Users/pranavgokhale/Developer/qiskit/qiskit-terra/qiskit/pulse/channels/pulse_channel_spec.py:87: DeprecationWarning: The PulseChannelSpec is deprecated. Use backend.configuration() instead. The supported methods require some migrations; check out the release notes for the complete details.\n",
      "  DeprecationWarning)\n"
     ]
    }
   ],
   "source": [
    "backend = FakeAlmaden()\n",
    "system = q.pulse.PulseChannelSpec.from_backend(backend)\n",
    "back_config = backend.configuration().to_dict()\n",
    "cmd_def = q.pulse.CmdDef.from_defaults(backend.defaults().cmd_def, backend.defaults().pulse_library)\n",
    "measure = cmd_def.get('measure', qubits=backend.configuration().meas_map[0])\n",
    "backend_sim = qiskit.Aer.get_backend('pulse_simulator')"
   ]
  },
  {
   "cell_type": "code",
   "execution_count": 5,
   "metadata": {},
   "outputs": [],
   "source": [
    "hamiltonian = {}\n",
    "hamiltonian['h_str'] = ['_SUM[i,0,1,wq{i}/2*(I{i}-Z{i})]', '_SUM[i,0,1,omegad{i}*X{i}||D{i}]',\n",
    "                        'jq0q1*Sp0*Sm1', 'jq0q1*Sm0*Sp1', 'omegad1*X0||U0', 'omegad0*X1||U1']\n",
    "hamiltonian['qub'] = {'0': 2, '1': 2}\n",
    "hamiltonian['vars'] = {'wq0': 30.518812656662774, 'wq1': 31.238229295532093,\n",
    "                       'omegad0': 0.1675, 'omegad1': 0.176,\n",
    "                       'jq0q1': -0.0069}\n",
    "\n",
    "back_config['hamiltonian'] = hamiltonian\n",
    "back_config['noise'] = {}\n",
    "back_config['dt'] = 1.0\n",
    "back_config['ode_options'] = {}\n",
    "back_config['qubit_list'] = [0,1]"
   ]
  },
  {
   "cell_type": "code",
   "execution_count": 6,
   "metadata": {},
   "outputs": [],
   "source": [
    "# Measure X on target\n",
    "x_schedules = []\n",
    "for theta in np.linspace(0, np.pi, 41, endpoint=True):\n",
    "    schedule = pulse_compiler_helper_fns.get_cr_schedule(theta, 0, 1, cmd_def, system) \n",
    "    schedule |= cmd_def.get('u2', qubits=[1], P0=0, P1=np.pi) << schedule.duration\n",
    "    schedule = schedule.filter(channels=[system.qubits[0].drive, system.qubits[1].drive, system.controls[0]])\n",
    "    schedule |= measure << schedule.duration\n",
    "    x_schedules.append(schedule)\n",
    "    \n",
    "# do same thing, but first flip \n",
    "for theta in np.linspace(0, np.pi, 41, endpoint=True):\n",
    "    schedule = cmd_def.get('x', qubits=[0])\n",
    "    schedule |= pulse_compiler_helper_fns.get_cr_schedule(theta, 0, 1, cmd_def, system) << schedule.duration\n",
    "    schedule |= cmd_def.get('u2', qubits=[1], P0=0, P1=np.pi) << schedule.duration\n",
    "    schedule = schedule.filter(channels=[system.qubits[0].drive, system.qubits[1].drive, system.controls[0]])\n",
    "    schedule |= measure << schedule.duration\n",
    "    x_schedules.append(schedule)"
   ]
  },
  {
   "cell_type": "code",
   "execution_count": 7,
   "metadata": {},
   "outputs": [],
   "source": [
    "shots = 1000"
   ]
  },
  {
   "cell_type": "code",
   "execution_count": 8,
   "metadata": {},
   "outputs": [],
   "source": [
    "qobj = q.assemble(x_schedules, backend, \n",
    "                       meas_level=1, meas_return='avg', \n",
    "                       memory_slots=2,\n",
    "                       shots=shots, sim_config = back_config)"
   ]
  },
  {
   "cell_type": "code",
   "execution_count": 9,
   "metadata": {},
   "outputs": [
    {
     "data": {
      "text/plain": [
       "array([0.        , 4.85720941, 4.97172909, 9.82893851])"
      ]
     },
     "execution_count": 9,
     "metadata": {},
     "output_type": "execute_result"
    }
   ],
   "source": [
    "evals, estates = backend_sim.get_dressed_energies(qobj)\n",
    "evals/2/np.pi"
   ]
  },
  {
   "cell_type": "code",
   "execution_count": 10,
   "metadata": {},
   "outputs": [],
   "source": [
    "# Measure Y on target\n",
    "y_schedules = []\n",
    "for theta in np.linspace(0, np.pi, 41, endpoint=True):\n",
    "    schedule = pulse_compiler_helper_fns.get_cr_schedule(theta, 0, 1, cmd_def, system)\n",
    "    schedule |= cmd_def.get('u1', qubits=[1], P0=-np.pi/2) << schedule.duration\n",
    "    schedule |= cmd_def.get('u2', qubits=[1], P0=0, P1=np.pi) << schedule.duration\n",
    "    schedule = schedule.filter(channels=[system.qubits[0].drive, system.qubits[1].drive, system.controls[0]])\n",
    "    schedule |= measure << schedule.duration\n",
    "    y_schedules.append(schedule)\n",
    "    \n",
    "# do same thing, but first flip \n",
    "for theta in np.linspace(0, np.pi, 41, endpoint=True):\n",
    "    schedule = cmd_def.get('x', qubits=[0])\n",
    "    schedule |= pulse_compiler_helper_fns.get_cr_schedule(theta, 0, 1, cmd_def, system) << schedule.duration\n",
    "    schedule |= cmd_def.get('u1', qubits=[1], P0=-np.pi/2) << schedule.duration\n",
    "    schedule |= cmd_def.get('u2', qubits=[1], P0=0, P1=np.pi) << schedule.duration\n",
    "    schedule = schedule.filter(channels=[system.qubits[0].drive, system.qubits[1].drive, system.controls[0]])\n",
    "    schedule |= measure << schedule.duration\n",
    "    y_schedules.append(schedule)"
   ]
  },
  {
   "cell_type": "code",
   "execution_count": 11,
   "metadata": {},
   "outputs": [],
   "source": [
    "# Measure Z on target\n",
    "z_schedules = []\n",
    "for theta in np.linspace(0, np.pi, 41, endpoint=True):\n",
    "    schedule = pulse_compiler_helper_fns.get_cr_schedule(theta, 0, 1, cmd_def, system)\n",
    "    schedule = schedule.filter(channels=[system.qubits[0].drive, system.qubits[1].drive, system.controls[0]])\n",
    "    schedule |= measure << schedule.duration\n",
    "    z_schedules.append(schedule)\n",
    "    \n",
    "# do same thing, but first flip \n",
    "for theta in np.linspace(0, np.pi, 41, endpoint=True):\n",
    "    schedule = cmd_def.get('x', qubits=[0])\n",
    "    schedule |= pulse_compiler_helper_fns.get_cr_schedule(theta, 0, 1, cmd_def, system) << schedule.duration\n",
    "    schedule = schedule.filter(channels=[system.qubits[0].drive, system.qubits[1].drive, system.controls[0]])\n",
    "    schedule |= measure << schedule.duration\n",
    "    z_schedules.append(schedule)"
   ]
  },
  {
   "cell_type": "code",
   "execution_count": 12,
   "metadata": {},
   "outputs": [],
   "source": [
    "shots = 10000\n",
    "\n",
    "qobj = q.assemble(x_schedules, backend, \n",
    "                     qubit_lo_freq = [evals[1]/2/np.pi, evals[2]/2/np.pi],\n",
    "                     shots=shots, sim_config = back_config)\n",
    "x_result = backend_sim.run(qobj).result()\n",
    "\n",
    "qobj = q.assemble(y_schedules, backend, \n",
    "                     qubit_lo_freq = [evals[1]/2/np.pi, evals[2]/2/np.pi],\n",
    "                     shots=shots, sim_config = back_config)\n",
    "y_result = backend_sim.run(qobj).result()\n",
    "\n",
    "qobj = q.assemble(z_schedules, backend, \n",
    "                     qubit_lo_freq = [evals[1]/2/np.pi, evals[2]/2/np.pi],\n",
    "                     shots=shots, sim_config = back_config)\n",
    "z_result = backend_sim.run(qobj).result()"
   ]
  },
  {
   "cell_type": "code",
   "execution_count": 18,
   "metadata": {},
   "outputs": [],
   "source": [
    "from qiskit.ignis.verification.tomography.data import marginal_counts"
   ]
  },
  {
   "cell_type": "code",
   "execution_count": 19,
   "metadata": {},
   "outputs": [
    {
     "name": "stdout",
     "output_type": "stream",
     "text": [
      "[-0.01959999999999995, 0.01760000000000006, 0.045600000000000085, 0.0616000000000001, 0.07919999999999994, 0.0633999999999999, 0.05380000000000007, 0.04519999999999991, 0.02320000000000011, -0.0016000000000000458, -0.03979999999999995, -0.07040000000000002, -0.0806, -0.10799999999999998, -0.12980000000000003, -0.14680000000000004, -0.15080000000000005, -0.135, -0.12780000000000002, -0.09040000000000004, -0.06620000000000004, -0.045399999999999996, -0.028200000000000003, -0.018000000000000016, -0.0010000000000000009, 0.024799999999999933, 0.023600000000000065, -0.00039999999999995595, -0.027599999999999958, -0.009199999999999986, -0.041200000000000014, -0.0746, -0.09960000000000002, -0.12160000000000004, -0.123, -0.12139999999999995, -0.10860000000000003, -0.08699999999999997, -0.08440000000000003, -0.05379999999999996, -0.025800000000000045]\n",
      "[0.0023999999999999577, -0.015199999999999991, -0.04479999999999995, -0.06000000000000005, -0.09219999999999995, -0.08479999999999999, -0.10260000000000002, -0.10699999999999998, -0.07820000000000005, -0.10160000000000002, -0.07540000000000002, -0.06000000000000005, -0.058599999999999985, -0.03520000000000001, -0.014599999999999946, -0.0033999999999999586, 0.013600000000000056, 0.040999999999999925, 0.052999999999999936, 0.04919999999999991, 0.05840000000000001, 0.05360000000000009, 0.031400000000000095, 0.05139999999999989, 0.023600000000000065, -0.0030000000000000027, -0.007199999999999984, -0.018199999999999994, -0.043200000000000016, -0.039000000000000035, -0.09219999999999995, -0.09060000000000001, -0.09360000000000002, -0.09899999999999998, -0.10219999999999996, -0.0766, -0.07679999999999998, -0.0494, -0.041000000000000036, -0.031200000000000006, -0.016599999999999948]\n"
     ]
    }
   ],
   "source": [
    "x_vals_control_off = []\n",
    "for i in range(41):\n",
    "    x_counts = marginal_counts(x_result.get_counts(i), meas_qubits=[1])\n",
    "    x_vals_control_off.append((x_counts.get('0', 0) / shots - 0.5) * 2)\n",
    "\n",
    "x_vals_control_on = []\n",
    "for i in range(41, 82):\n",
    "    x_counts = marginal_counts(x_result.get_counts(i), meas_qubits=[1])\n",
    "    x_vals_control_on.append((x_counts.get('0', 0) / shots - 0.5) * 2)\n",
    "\n",
    "print(x_vals_control_off)\n",
    "print(x_vals_control_on)"
   ]
  },
  {
   "cell_type": "code",
   "execution_count": 20,
   "metadata": {},
   "outputs": [
    {
     "name": "stdout",
     "output_type": "stream",
     "text": [
      "[0.004999999999999893, -0.08340000000000003, -0.17459999999999998, -0.23839999999999995, -0.31679999999999997, -0.3808, -0.482, -0.5254, -0.6033999999999999, -0.6562, -0.7014, -0.7598, -0.7946, -0.848, -0.8852, -0.9164, -0.9446, -0.9626, -0.981, -0.9898, -0.9982, -0.996, -0.9902, -0.9746, -0.9518, -0.9186, -0.889, -0.8642, -0.819, -0.7654, -0.7034, -0.6496, -0.5813999999999999, -0.521, -0.4646, -0.3862, -0.31120000000000003, -0.23740000000000006, -0.15600000000000003, -0.07999999999999996, 0.005800000000000027]\n",
      "[-0.0048000000000000265, 0.07679999999999998, 0.18179999999999996, 0.258, 0.30000000000000004, 0.3824000000000001, 0.46120000000000005, 0.5434000000000001, 0.5878000000000001, 0.6654, 0.7165999999999999, 0.7672000000000001, 0.812, 0.8566, 0.8957999999999999, 0.9328000000000001, 0.9548000000000001, 0.9742, 0.9876, 0.9956, 0.9974000000000001, 0.994, 0.9867999999999999, 0.9683999999999999, 0.95, 0.9204000000000001, 0.8928, 0.8500000000000001, 0.8056000000000001, 0.7547999999999999, 0.7092, 0.6464000000000001, 0.5788, 0.506, 0.4363999999999999, 0.3839999999999999, 0.3086, 0.24760000000000004, 0.17300000000000004, 0.06800000000000006, 0.011200000000000099]\n"
     ]
    }
   ],
   "source": [
    "y_vals_control_off = []\n",
    "for i in range(41):\n",
    "    y_counts = marginal_counts(y_result.get_counts(i), meas_qubits=[1])\n",
    "    y_vals_control_off.append((y_counts.get('0', 0) / shots - 0.5) * 2)\n",
    "\n",
    "y_vals_control_on = []\n",
    "for i in range(41, 82):\n",
    "    y_counts = marginal_counts(y_result.get_counts(i), meas_qubits=[1])\n",
    "    y_vals_control_on.append((y_counts.get('0', 0) / shots - 0.5) * 2)\n",
    "\n",
    "print(y_vals_control_off)\n",
    "print(y_vals_control_on)"
   ]
  },
  {
   "cell_type": "code",
   "execution_count": 21,
   "metadata": {},
   "outputs": [
    {
     "name": "stdout",
     "output_type": "stream",
     "text": [
      "[1.0, 0.9967999999999999, 0.986, 0.9621999999999999, 0.937, 0.9179999999999999, 0.8854, 0.8582000000000001, 0.7969999999999999, 0.7647999999999999, 0.6943999999999999, 0.6414, 0.5884, 0.5138, 0.44520000000000004, 0.3819999999999999, 0.32200000000000006, 0.23459999999999992, 0.15860000000000007, 0.06879999999999997, 0.00019999999999997797, -0.08379999999999999, -0.17079999999999995, -0.24319999999999997, -0.3104, -0.3862, -0.44199999999999995, -0.525, -0.5800000000000001, -0.6492, -0.7083999999999999, -0.7662, -0.8, -0.8496, -0.8868, -0.9144, -0.9462, -0.9704, -0.9858, -0.9968, -0.9998]\n",
      "[1.0, 0.9956, 0.9872000000000001, 0.9718, 0.9505999999999999, 0.9184000000000001, 0.8844000000000001, 0.8395999999999999, 0.8033999999999999, 0.7502, 0.702, 0.6661999999999999, 0.5738000000000001, 0.51, 0.4628000000000001, 0.3972, 0.31820000000000004, 0.23140000000000005, 0.14100000000000001, 0.07499999999999996, 0.011200000000000099, -0.09099999999999997, -0.14780000000000004, -0.23399999999999999, -0.3134, -0.3954, -0.46199999999999997, -0.5184, -0.5798, -0.6606000000000001, -0.7026, -0.7584, -0.8118, -0.8476, -0.8896, -0.9174, -0.9518, -0.969, -0.9864, -0.9958, -1.0]\n"
     ]
    }
   ],
   "source": [
    "z_vals_control_off = []\n",
    "for i in range(41):\n",
    "    z_counts = marginal_counts(z_result.get_counts(i), meas_qubits=[1])\n",
    "    z_vals_control_off.append((z_counts.get('0', 0) / shots - 0.5) * 2)\n",
    "\n",
    "z_vals_control_on = []\n",
    "for i in range(41, 82):\n",
    "    z_counts = marginal_counts(z_result.get_counts(i), meas_qubits=[1])\n",
    "    z_vals_control_on.append((z_counts.get('0', 0) / shots - 0.5) * 2)\n",
    "\n",
    "print(z_vals_control_off)\n",
    "print(z_vals_control_on)"
   ]
  },
  {
   "cell_type": "code",
   "execution_count": 16,
   "metadata": {},
   "outputs": [],
   "source": [
    "#  x_vals_control_off =\n",
    "#  x_vals_control_on =\n",
    "#  y_vals_control_off =\n",
    "#  y_vals_control_on =\n",
    "#  z_vals_control_off =\n",
    "#  z_vals_control_on ="
   ]
  },
  {
   "cell_type": "code",
   "execution_count": 22,
   "metadata": {},
   "outputs": [],
   "source": [
    "thetas = np.linspace(0, 180, 41, endpoint=True)\n",
    "dense_thetas = np.linspace(0, 180, 101, endpoint=True)"
   ]
  },
  {
   "cell_type": "code",
   "execution_count": 23,
   "metadata": {},
   "outputs": [
    {
     "data": {
      "image/png": "[encoded data removed]",
      "text/plain": [
       "<Figure size 432x194.4 with 1 Axes>"
      ]
     },
     "metadata": {
      "needs_background": "light"
     },
     "output_type": "display_data"
    }
   ],
   "source": [
    "fig, ax = plt.subplots(figsize=(6, 2.7))\n",
    "plt.plot(thetas, x_vals_control_off, label='Control |0>')\n",
    "plt.plot(thetas, x_vals_control_on, label='Control |1>')\n",
    "plt.plot(dense_thetas, [0] * 101, label='Ideal', color='black', linestyle='dashed', linewidth=1.5)\n",
    "plt.axis([0, 180, -1, 1])\n",
    "plt.yticks([-1, -.5, 0, .5, 1])\n",
    "plt.xticks([0, 45, 90, 135, 180])\n",
    "plt.legend()\n",
    "plt.ylabel('<X> on Target')\n",
    "plt.savefig('Figures/CR_X_SIMULATED.svg')"
   ]
  },
  {
   "cell_type": "code",
   "execution_count": 24,
   "metadata": {},
   "outputs": [
    {
     "data": {
      "image/png": "[encoded data removed]",
      "text/plain": [
       "<Figure size 432x194.4 with 1 Axes>"
      ]
     },
     "metadata": {
      "needs_background": "light"
     },
     "output_type": "display_data"
    }
   ],
   "source": [
    "fig, ax = plt.subplots(figsize=(6, 2.7))\n",
    "plt.plot(thetas, y_vals_control_off, label='Control |0>')\n",
    "plt.plot(thetas, y_vals_control_on, label='Control |1>')\n",
    "plt.plot(dense_thetas, np.sin(dense_thetas*np.pi/180), label='Ideal', color='black', linestyle='dashed', linewidth=1.5)\n",
    "plt.plot(dense_thetas, -np.sin(dense_thetas*np.pi/180), label='Ideal', color='black', linestyle='dashed', linewidth=1.5)\n",
    "plt.axis([0, 180, -1, 1])\n",
    "plt.ylabel('<Y> on Target')\n",
    "plt.yticks([-1, -.5, 0, .5, 1])\n",
    "_=plt.xticks([0, 45, 90, 135, 180])\n",
    "plt.savefig('Figures/CR_Y_SIMULATED.svg')"
   ]
  },
  {
   "cell_type": "code",
   "execution_count": 25,
   "metadata": {},
   "outputs": [
    {
     "data": {
      "image/png": "[encoded data removed]",
      "text/plain": [
       "<Figure size 432x216 with 1 Axes>"
      ]
     },
     "metadata": {
      "needs_background": "light"
     },
     "output_type": "display_data"
    }
   ],
   "source": [
    "fig, ax = plt.subplots(figsize=(6, 3))\n",
    "plt.plot(thetas, z_vals_control_off, label='Control |0>')\n",
    "plt.plot(thetas, z_vals_control_on, label='Control |1>')\n",
    "plt.plot(dense_thetas, np.cos(dense_thetas*np.pi/180), label='Ideal', color='black', linestyle='dashed', linewidth=1.5)\n",
    "plt.axis([0, 180, -1, 1])\n",
    "plt.ylabel('<Z>on Target')\n",
    "plt.yticks([-1, -.5, 0, .5, 1])\n",
    "_=plt.xticks([0, 45, 90, 135, 180])\n",
    "plt.xlabel('Θ in degrees')\n",
    "plt.gcf().subplots_adjust(bottom=.2)\n",
    "plt.savefig('Figures/CR_Z_SIMULATED.svg')"
   ]
  },
  {
   "cell_type": "code",
   "execution_count": null,
   "metadata": {},
   "outputs": [],
   "source": []
  },
  {
   "cell_type": "code",
   "execution_count": null,
   "metadata": {},
   "outputs": [],
   "source": []
  }
 ],
 "metadata": {
  "kernelspec": {
   "display_name": "Python 3",
   "language": "python",
   "name": "python3"
  },
  "language_info": {
   "codemirror_mode": {
    "name": "ipython",
    "version": 3
   },
   "file_extension": ".py",
   "mimetype": "text/x-python",
   "name": "python",
   "nbconvert_exporter": "python",
   "pygments_lexer": "ipython3",
   "version": "3.7.3"
  }
 },
 "nbformat": 4,
 "nbformat_minor": 2
}
