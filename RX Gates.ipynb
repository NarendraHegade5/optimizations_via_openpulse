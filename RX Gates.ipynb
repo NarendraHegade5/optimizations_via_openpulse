{
 "cells": [
  {
   "cell_type": "code",
   "execution_count": 35,
   "metadata": {},
   "outputs": [],
   "source": [
    "import numpy as np\n",
    "import time\n",
    "import matplotlib.pyplot as plt"
   ]
  },
  {
   "cell_type": "code",
   "execution_count": 36,
   "metadata": {},
   "outputs": [],
   "source": [
    "from qiskit import *\n",
    "from qiskit.pulse import *\n",
    "from qiskit.tools.monitor import job_monitor\n",
    "from qiskit.visualization import plot_histogram\n",
    "import qiskit.tools.jupyter"
   ]
  },
  {
   "cell_type": "code",
   "execution_count": 37,
   "metadata": {},
   "outputs": [
    {
     "data": {
      "application/vnd.jupyter.widget-view+json": {
       "model_id": "be2c791e5acb4a71b265f180cb2ddc23",
       "version_major": 2,
       "version_minor": 0
      },
      "text/plain": [
       "Accordion(children=(VBox(layout=Layout(max_width='610px', min_width='610px')),), layout=Layout(max_height='500…"
      ]
     },
     "metadata": {},
     "output_type": "display_data"
    },
    {
     "data": {
      "application/javascript": [
       "$('div.job_widget')\n",
       "        .detach()\n",
       "        .appendTo($('#header'))\n",
       "        .css({\n",
       "            'z-index': 999,\n",
       "             'position': 'fixed',\n",
       "            'box-shadow': '5px 5px 5px -3px black',\n",
       "            'opacity': 0.95,\n",
       "            'float': 'left,'\n",
       "        })\n",
       "        "
      ],
      "text/plain": [
       "<IPython.core.display.Javascript object>"
      ]
     },
     "metadata": {},
     "output_type": "display_data"
    }
   ],
   "source": [
    "%qiskit_job_watcher"
   ]
  },
  {
   "cell_type": "code",
   "execution_count": 38,
   "metadata": {},
   "outputs": [
    {
     "name": "stderr",
     "output_type": "stream",
     "text": [
      "/Users/pranavgokhale/anaconda3/lib/python3.7/site-packages/qiskit/providers/ibmq/ibmqfactory.py:181: UserWarning: Credentials are already in use. The existing account in the session will be replaced.\n",
      "  warnings.warn('Credentials are already in use. The existing '\n"
     ]
    },
    {
     "data": {
      "text/plain": [
       "[<AccountProvider for IBMQ(hub='ibm-q', group='open', project='main')>,\n",
       " <AccountProvider for IBMQ(hub='ibm-q-ornl', group='bes-qis', project='argonne')>]"
      ]
     },
     "execution_count": 38,
     "metadata": {},
     "output_type": "execute_result"
    }
   ],
   "source": [
    "IBMQ.load_account() # Load account from disk\n",
    "IBMQ.providers()    # List all available providers"
   ]
  },
  {
   "cell_type": "code",
   "execution_count": 39,
   "metadata": {},
   "outputs": [],
   "source": [
    "provider = IBMQ.get_provider(group='bes-qis')\n",
    "backend = provider.get_backend('ibmq_boeblingen')\n",
    "system = pulse.PulseChannelSpec.from_backend(backend)\n",
    "config = backend.configuration()\n",
    "defaults = backend.defaults()\n",
    "cmd_def = pulse.CmdDef.from_defaults(backend.defaults().cmd_def, backend.defaults().pulse_library)"
   ]
  },
  {
   "cell_type": "code",
   "execution_count": 6,
   "metadata": {},
   "outputs": [
    {
     "name": "stdout",
     "output_type": "stream",
     "text": [
      "[0.28559933 0.57119866 0.856798   1.14239733 1.42799666 1.71359599\n",
      " 1.99919533 2.28479466 2.57039399 2.85599332]\n"
     ]
    }
   ],
   "source": [
    "num_angles = 10 + 2  # will exclude endpoints of 0 and 2pi\n",
    "angles = np.linspace(0, np.pi, num_angles)[1:-1]  # get rid of endpoints\n",
    "print(angles)  # also does not include pi/2 (90 degrees) which is a pre-calibrated pulse"
   ]
  },
  {
   "cell_type": "code",
   "execution_count": 7,
   "metadata": {},
   "outputs": [],
   "source": [
    "qubit_num = 13  # on Boeblingen, this has the highest single-qubit error rate currently"
   ]
  },
  {
   "cell_type": "code",
   "execution_count": 8,
   "metadata": {},
   "outputs": [],
   "source": [
    "X90p = [p for p in backend.defaults().pulse_library if p.name == 'X90p_d%s' % qubit_num][0]\n",
    "Xp = [p for p in backend.defaults().pulse_library if p.name == 'Xp_d%s' % qubit_num][0]"
   ]
  },
  {
   "cell_type": "code",
   "execution_count": 9,
   "metadata": {
    "scrolled": true
   },
   "outputs": [
    {
     "name": "stdout",
     "output_type": "stream",
     "text": [
      "['5d8d170f9a789f00199bb16d', '5d8d17126e2a490018e65c6a', '5d8d171600f82a001e84e009', '5d8d17199a789f00199bb16f', '5d8d171c5c14340019e9df2b', '5d8d1720eb752800180a9bca', '5d8d1724fabd530018837f98', '5d8d17275c14340019e9df2d', '5d8d172afabd530018837f9a', '5d8d172d00f82a001e84e00d']\n"
     ]
    }
   ],
   "source": [
    "jobs = []\n",
    "for angle in angles:\n",
    "    schedules = []\n",
    "    \n",
    "    schedule = pulse.Schedule()\n",
    "    schedule |= cmd_def.get('u3', [qubit_num], P0=angle, P1=3*np.pi/2, P2=np.pi/2)  # RX(angle) = U3(angle, 3pi/2, pi/2)\n",
    "    schedule |= cmd_def.get('measure', qubits=config.meas_map[0]) << schedule.duration\n",
    "    schedules.append(schedule)\n",
    "    \n",
    "    schedule = pulse.Schedule()\n",
    "    if angle < np.pi / 2:\n",
    "        samples = [val * angle / (np.pi / 2) for val in X90p.samples]\n",
    "    else:\n",
    "        samples = [val * angle / np.pi for val in Xp.samples]\n",
    "    rx_pulse = SamplePulse(samples)\n",
    "    schedule |= rx_pulse(DriveChannel(qubit_num))\n",
    "    schedule |= cmd_def.get('measure', qubits=config.meas_map[0]) << schedule.duration\n",
    "    schedules.append(schedule)\n",
    "    \n",
    "    qobj = assemble(schedules, backend, shots=1000)\n",
    "    jobs.append(backend.run(qobj))\n",
    "    \n",
    "print([job.job_id() for job in jobs])"
   ]
  },
  {
   "cell_type": "code",
   "execution_count": 10,
   "metadata": {},
   "outputs": [],
   "source": [
    "job_ids = ['5d8d170f9a789f00199bb16d', '5d8d17126e2a490018e65c6a', '5d8d171600f82a001e84e009', '5d8d17199a789f00199bb16f', '5d8d171c5c14340019e9df2b', '5d8d1720eb752800180a9bca', '5d8d1724fabd530018837f98', '5d8d17275c14340019e9df2d', '5d8d172afabd530018837f9a', '5d8d172d00f82a001e84e00d']\n",
    "jobs = [backend.retrieve_job(job_id) for job_id in job_ids]"
   ]
  },
  {
   "cell_type": "code",
   "execution_count": 13,
   "metadata": {},
   "outputs": [
    {
     "name": "stdout",
     "output_type": "stream",
     "text": [
      "0.020253513192751305 0.065 0.028\n",
      "0.0793732335844094 0.044 0.08\n",
      "0.17256963302735742 0.019 0.131\n",
      "0.2922924934990568 0.056 0.254\n",
      "0.42884258086335747 0.156 0.388\n",
      "0.5711574191366424 0.251 0.515\n",
      "0.707707506500943 0.324 0.67\n",
      "0.8274303669726425 0.473 0.791\n",
      "0.9206267664155905 0.627 0.817\n",
      "0.9797464868072486 0.709 0.857\n"
     ]
    }
   ],
   "source": [
    "expected_1_fracs, gate_1_fracs, pulse_1_fracs = [], [], []\n",
    "for i in range(len(angles)):\n",
    "    angle = angles[i]\n",
    "    expected_1_frac = np.sin(angle / 2) ** 2    \n",
    "    expected_1_fracs.append(expected_1_frac)\n",
    "\n",
    "    result = jobs[i].result()\n",
    "\n",
    "    gate_counts = result.get_counts(0)\n",
    "    gate_1_frac = sum([value for (key,value) in gate_counts.items() if ('0' * 20 + key)[-qubit_num-1] == '1']) / 1000\n",
    "    gate_1_fracs.append(gate_1_frac)\n",
    "    \n",
    "    pulse_counts = result.get_counts(1)\n",
    "    pulse_1_frac = sum([value for (key,value) in pulse_counts.items() if ('0' * 20 + key)[-qubit_num-1] == '1']) / 1000\n",
    "    pulse_1_fracs.append(pulse_1_frac)\n",
    "    \n",
    "    print(expected_1_frac, gate_1_frac, pulse_1_frac)"
   ]
  },
  {
   "cell_type": "code",
   "execution_count": 25,
   "metadata": {},
   "outputs": [
    {
     "data": {
      "image/png": "[encoded data removed]",
      "text/plain": [
       "<Figure size 720x432 with 1 Axes>"
      ]
     },
     "metadata": {
      "needs_background": "light"
     },
     "output_type": "display_data"
    }
   ],
   "source": [
    "plt.figure(figsize=(10,6))\n",
    "plt.title('Rx(theta)', fontsize=20)\n",
    "plt.xlabel('theta (rads)', fontsize=16)\n",
    "plt.ylabel('Prob of |1>', fontsize=16)\n",
    "plt.scatter(angles, expected_1_fracs,\n",
    "            s=40, cmap='viridis',c='blue',alpha=0.5, label='expected')\n",
    "plt.scatter(angles, gate_1_fracs,\n",
    "            s=40, cmap='viridis',c='green',alpha=0.5, label='gate')\n",
    "plt.scatter(angles, pulse_1_fracs,\n",
    "            s=40, cmap='viridis',c='red',alpha=0.5, label='pulse')\n",
    "plt.legend(loc='upper left', fontsize=16)\n",
    "plt.show()"
   ]
  },
  {
   "cell_type": "code",
   "execution_count": 42,
   "metadata": {},
   "outputs": [
    {
     "name": "stdout",
     "output_type": "stream",
     "text": [
      "['5d8e0f221918990018048741', '5d8e0f251918990018048743', '5d8e0f2772757a0018c5968a', '5d8e0f293e67f40019594cbf', '5d8e0f2b1918990018048745', '5d8e0f2d1918990018048747', '5d8e0f2e4208910019ab2052', '5d8e0f30161c93001b85da40', '5d8e0f325c14340019e9e173', '5d8e0f345c14340019e9e175']\n"
     ]
    }
   ],
   "source": [
    "jobs = []\n",
    "for angle in angles:\n",
    "    qr = QuantumRegister(20)\n",
    "    cr = ClassicalRegister(20)\n",
    "    circ = QuantumCircuit(qr, cr)\n",
    "    circ.rx(angle, qubit_num)\n",
    "    circ.measure(qr, cr)\n",
    "    \n",
    "    job = execute(circ, backend=backend, shots=1000)\n",
    "    jobs.append(job)\n",
    "    \n",
    "print([job.job_id() for job in jobs])"
   ]
  },
  {
   "cell_type": "code",
   "execution_count": 51,
   "metadata": {},
   "outputs": [],
   "source": [
    "job_ids = ['5d8e0f221918990018048741', '5d8e0f251918990018048743', '5d8e0f2772757a0018c5968a', '5d8e0f293e67f40019594cbf', '5d8e0f2b1918990018048745', '5d8e0f2d1918990018048747', '5d8e0f2e4208910019ab2052', '5d8e0f30161c93001b85da40', '5d8e0f325c14340019e9e173', '5d8e0f345c14340019e9e175']\n",
    "jobs = [backend.retrieve_job(job_id) for job_id in job_ids]\n",
    "\n",
    "true_gate_1_fracs = []\n",
    "for i in range(len(angles)):\n",
    "    result = jobs[i].result()\n",
    "    true_gate_counts = result.get_counts()\n",
    "    true_gate_1_frac = sum([value for (key,value) in true_gate_counts.items() if ('0' * 20 + key)[-qubit_num-1] == '1']) / 1000\n",
    "    true_gate_1_fracs.append(true_gate_1_frac)"
   ]
  },
  {
   "cell_type": "code",
   "execution_count": 60,
   "metadata": {},
   "outputs": [
    {
     "data": {
      "image/png": "[encoded data removed]",
      "text/plain": [
       "<Figure size 720x432 with 1 Axes>"
      ]
     },
     "metadata": {
      "needs_background": "light"
     },
     "output_type": "display_data"
    }
   ],
   "source": [
    "plt.figure(figsize=(10,6))\n",
    "plt.title('Rx(theta)', fontsize=20)\n",
    "plt.xlabel('theta (rads)', fontsize=16)\n",
    "plt.ylabel('Prob of |1>', fontsize=16)\n",
    "plt.scatter(angles, expected_1_fracs,\n",
    "            s=40, cmap='viridis',c='blue',alpha=0.5, label='expected')\n",
    "plt.scatter(angles, gate_1_fracs,\n",
    "            s=40, cmap='viridis',c='green',alpha=0.5, label='gates via openpulse')\n",
    "plt.scatter(angles, true_gate_1_fracs,\n",
    "            s=40, cmap='viridis',c='green',alpha=0.5, label='gates via openqasm', marker='^')\n",
    "plt.scatter(angles, pulse_1_fracs,\n",
    "            s=40, cmap='viridis',c='red',alpha=0.5, label='pulse')\n",
    "plt.legend(loc='upper left', fontsize=16)\n",
    "plt.show()"
   ]
  },
  {
   "cell_type": "code",
   "execution_count": 59,
   "metadata": {},
   "outputs": [
    {
     "name": "stdout",
     "output_type": "stream",
     "text": [
      "RMSE true gate:  0.12269767305684043\n",
      "RMSE pulse:  0.06052334830759198\n",
      "Abs true gate:  0.11039999999999997\n",
      "Abs pulse:  0.0485746506445678\n"
     ]
    }
   ],
   "source": [
    "print('RMSE true gate: ', np.sqrt(np.square(np.array(expected_1_fracs) - np.array(true_gate_1_fracs)).mean()))\n",
    "print('RMSE pulse: ', np.sqrt(np.square(np.array(expected_1_fracs) - np.array(pulse_1_fracs)).mean()))\n",
    "\n",
    "print('Abs true gate: ', np.abs(np.array(expected_1_fracs) - np.array(true_gate_1_fracs)).mean())\n",
    "print('Abs pulse: ', np.abs(np.array(expected_1_fracs) - np.array(pulse_1_fracs)).mean())"
   ]
  },
  {
   "cell_type": "code",
   "execution_count": 61,
   "metadata": {},
   "outputs": [],
   "source": [
    "# TODO:\n",
    "# - run with error mitigation (https://github.com/Qiskit/qiskit-iqx-tutorials/blob/master/qiskit/advanced/ignis/4_measurement_error_mitigation.ipynb)\n",
    "# - run with shorter (duration) pulses"
   ]
  },
  {
   "cell_type": "code",
   "execution_count": null,
   "metadata": {},
   "outputs": [],
   "source": []
  }
 ],
 "metadata": {
  "kernelspec": {
   "display_name": "Python 3",
   "language": "python",
   "name": "python3"
  },
  "language_info": {
   "codemirror_mode": {
    "name": "ipython",
    "version": 3
   },
   "file_extension": ".py",
   "mimetype": "text/x-python",
   "name": "python",
   "nbconvert_exporter": "python",
   "pygments_lexer": "ipython3",
   "version": "3.7.1"
  }
 },
 "nbformat": 4,
 "nbformat_minor": 2
}
