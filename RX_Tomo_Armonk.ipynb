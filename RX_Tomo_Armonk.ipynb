{
 "cells": [
  {
   "cell_type": "markdown",
   "metadata": {},
   "source": [
    "In this notebook we use Quantum State Tomography (QST) to obtain fidelities of Rx(θ) interactions, using:\n",
    "\n",
    "1. a standard decomposition using 2 X90 pulses\n",
    "2. an optimized implementation using a scaled X180 pulse\n",
    "\n",
    "The state on which we do tomography is produced by the following circuit and produces a sinusoid probability of reading out 1.\n",
    "```\n",
    "        ┌────────┐\n",
    "q_0: |0>┤  Rx(θ) ├\n",
    "        └────────┘\n",
    "```"
   ]
  },
  {
   "cell_type": "code",
   "execution_count": 1,
   "metadata": {},
   "outputs": [],
   "source": [
    "%load_ext autoreload\n",
    "%autoreload 2"
   ]
  },
  {
   "cell_type": "code",
   "execution_count": 2,
   "metadata": {},
   "outputs": [],
   "source": [
    "import matplotlib.pyplot as plt\n",
    "import numpy as np\n",
    "from copy import deepcopy\n",
    "\n",
    "from qiskit import IBMQ, pulse, schedule, transpile, assemble, QuantumCircuit, QuantumRegister, ClassicalRegister\n",
    "from qiskit.pulse import pulse_lib as pulse_library, reschedule\n",
    "from qiskit.ignis.measurement.discriminator.iq_discriminators import LinearIQDiscriminator\n",
    "from qiskit.ignis.measurement.discriminator.filters import DiscriminationFilter\n",
    "import qiskit.ignis.mitigation.measurement as mit\n",
    "from qiskit.ignis.verification.tomography import process_tomography_circuits, ProcessTomographyFitter\n",
    "from qiskit.ignis.verification.tomography import state_tomography_circuits, StateTomographyFitter\n",
    "from qiskit.ignis.verification.tomography.basis import PauliBasis\n",
    "from qiskit.visualization.state_visualization import plot_state_city\n",
    "from qiskit.quantum_info import state_fidelity\n",
    "from qiskit.circuit import Gate\n",
    "from qiskit.scheduler import schedule_circuit, ScheduleConfig\n",
    "from qiskit.quantum_info import state_fidelity, process_fidelity\n",
    "\n",
    "import matplotlib.pyplot as plt\n",
    "%matplotlib inline"
   ]
  },
  {
   "cell_type": "code",
   "execution_count": 3,
   "metadata": {},
   "outputs": [],
   "source": [
    "import qiskit as q\n",
    "import qiskit.tools.jupyter\n",
    "from qiskit.pulse import pulse_lib as _  # only want to call pulse_lib as q.pulse.pulse_lib"
   ]
  },
  {
   "cell_type": "code",
   "execution_count": 4,
   "metadata": {},
   "outputs": [],
   "source": [
    "import pulse_compiler_helper_fns"
   ]
  },
  {
   "cell_type": "code",
   "execution_count": 5,
   "metadata": {},
   "outputs": [
    {
     "data": {
      "text/plain": [
       "<AccountProvider for IBMQ(hub='ibm-q', group='open', project='main')>"
      ]
     },
     "execution_count": 5,
     "metadata": {},
     "output_type": "execute_result"
    }
   ],
   "source": [
    "q.IBMQ.load_account() # Load account from disk"
   ]
  },
  {
   "cell_type": "code",
   "execution_count": 6,
   "metadata": {},
   "outputs": [],
   "source": [
    "provider = q.IBMQ.get_provider(group='open')\n",
    "backend = provider.get_backend('ibmq_armonk')\n",
    "defaults = backend.defaults()\n",
    "circ_inst_map = defaults.circuit_instruction_map\n",
    "measure = circ_inst_map.get('measure', qubits=backend.configuration().meas_map[0])"
   ]
  },
  {
   "cell_type": "markdown",
   "metadata": {},
   "source": [
    "### experiment parameters"
   ]
  },
  {
   "cell_type": "code",
   "execution_count": 7,
   "metadata": {},
   "outputs": [],
   "source": [
    "def qubit_t1(qubit):\n",
    "    return backend.properties().qubits[qubit][0].value\n",
    "\n",
    "def qubit_t2(qubit):\n",
    "    return backend.properties().qubits[qubit][1].value\n",
    "\n",
    "def sort_qubits_by_t1():\n",
    "    \"\"\"in ascending order\"\"\"\n",
    "    qubits = [i for i in range(backend.configuration().n_qubits)]\n",
    "    qubits = sorted(qubits, key=qubit_t1)\n",
    "    return qubits"
   ]
  },
  {
   "cell_type": "code",
   "execution_count": 8,
   "metadata": {},
   "outputs": [
    {
     "data": {
      "text/plain": [
       "[0]"
      ]
     },
     "execution_count": 8,
     "metadata": {},
     "output_type": "execute_result"
    }
   ],
   "source": [
    "sort_qubits_by_t1()"
   ]
  },
  {
   "cell_type": "code",
   "execution_count": 9,
   "metadata": {},
   "outputs": [
    {
     "name": "stdout",
     "output_type": "stream",
     "text": [
      "[0.         0.14279967 0.28559933 0.428399   0.57119866 0.71399833\n",
      " 0.856798   0.99959766 1.14239733 1.28519699 1.42799666 1.57079633\n",
      " 1.71359599 1.85639566 1.99919533 2.14199499 2.28479466 2.42759432\n",
      " 2.57039399 2.71319366 2.85599332 2.99879299 3.14159265]\n"
     ]
    }
   ],
   "source": [
    "shots = 2000\n",
    "thetas = np.linspace(0, np.pi, 23, endpoint=True)\n",
    "print(thetas)"
   ]
  },
  {
   "cell_type": "markdown",
   "metadata": {},
   "source": [
    "## Direct RX(θ) Gate"
   ]
  },
  {
   "cell_type": "code",
   "execution_count": 11,
   "metadata": {},
   "outputs": [],
   "source": [
    "rx_schedules_std = []\n",
    "rx_schedules_opt = []\n",
    "\n",
    "for theta in thetas:\n",
    "    circuit = q.QuantumCircuit(1)\n",
    "    circuit.rx(theta, 0)\n",
    "    \n",
    "    transpiled_circuit = q.transpile(circuit, backend, optimization_level=0)\n",
    "    schedule = q.schedule(transpiled_circuit, backend=backend, inst_map=circ_inst_map)\n",
    "    rx_schedules_std.append(schedule)\n",
    "\n",
    "    with qiskit.PulseBackedOptimizationContext():\n",
    "        decomposed_circuit = circuit.decompose()\n",
    "        pulse_compiler_helper_fns.update_basis_gates_and_circ_inst_map(decomposed_circuit, backend, circ_inst_map)\n",
    "        transpiled_circuit = q.transpile(decomposed_circuit, backend, optimization_level=0)\n",
    "        schedule = q.schedule(transpiled_circuit, backend=backend, inst_map=circ_inst_map)\n",
    "        rx_schedules_opt.append(schedule)"
   ]
  },
  {
   "cell_type": "markdown",
   "metadata": {},
   "source": [
    "### Set up State Tomography"
   ]
  },
  {
   "cell_type": "code",
   "execution_count": 12,
   "metadata": {},
   "outputs": [],
   "source": [
    "def qst_circuits_and_schedules(schedule, theta):\n",
    "    \"\"\"\n",
    "    create the state tomography circuits\n",
    "    the state preparation circuit is (H $otimes$ H).ZZ.(H $otimes$ H)\n",
    "    \"\"\"\n",
    "    num_qubits = 1\n",
    "    qubit = [0]\n",
    "    qr = QuantumRegister(num_qubits)\n",
    "    my_gate = Gate(name='rx_{}'.format(theta), num_qubits=num_qubits, params=[])\n",
    "\n",
    "    # create the tomography circuits\n",
    "    qc = QuantumCircuit(qr)\n",
    "    qc.append(my_gate, qr[:])\n",
    "    qst_circuits = state_tomography_circuits(qc, measured_qubits=qr)\n",
    "\n",
    "    # transpile so that the singles are in terms of the u gates\n",
    "    qst_circuits = transpile(qst_circuits, backend, initial_layout=qubit,\n",
    "                             basis_gates=['u1','u2','u3',my_gate.name])\n",
    "\n",
    "    # add the custom gate to the circ_inst_map\n",
    "    circ_inst_map.add(my_gate.name, qubits=qubit, schedule=schedule)\n",
    "\n",
    "    # schedule!\n",
    "    schedule_config = ScheduleConfig(circ_inst_map, meas_map=backend.configuration().meas_map)\n",
    "    qst_schedules = [schedule_circuit(circ, schedule_config) for circ in qst_circuits]\n",
    "    \n",
    "    return qst_circuits, qst_schedules"
   ]
  },
  {
   "cell_type": "code",
   "execution_count": 13,
   "metadata": {},
   "outputs": [],
   "source": [
    "tomo_circuits_std = []\n",
    "tomo_schedules_std = []\n",
    "for rx_schedule, theta in zip(rx_schedules_std, thetas):\n",
    "    tomo_circs, tomo_scheds = qst_circuits_and_schedules(rx_schedule, theta)\n",
    "    tomo_circuits_std.append(tomo_circs)\n",
    "    tomo_schedules_std.append(tomo_scheds)\n",
    "    \n",
    "tomo_circuits_opt = []\n",
    "tomo_schedules_opt = []\n",
    "for rx_schedule, theta in zip(rx_schedules_opt, thetas):\n",
    "    tomo_circs, tomo_scheds = qst_circuits_and_schedules(rx_schedule, theta)\n",
    "    tomo_circuits_opt.append(tomo_circs)\n",
    "    tomo_schedules_opt.append(tomo_scheds)"
   ]
  },
  {
   "cell_type": "code",
   "execution_count": 14,
   "metadata": {},
   "outputs": [
    {
     "data": {
      "image/png": "[encoded data removed]",
      "text/plain": [
       "<Figure size 360x360 with 1 Axes>"
      ]
     },
     "execution_count": 14,
     "metadata": {},
     "output_type": "execute_result"
    }
   ],
   "source": [
    "from qiskit.visualization.pulse.matplotlib import SchedStyle\n",
    "style = SchedStyle(d_ch_color=['r','r'], use_table=False, figsize=(5, 5), remove_spacing=True, dpi=800)\n",
    "tomo_schedules_std[22][2].filter(channels=[backend.configuration().drive(0)]).draw(style=style, plot_range=(0,1400), scaling=2)"
   ]
  },
  {
   "cell_type": "code",
   "execution_count": 15,
   "metadata": {},
   "outputs": [
    {
     "data": {
      "image/png": "[encoded data removed]",
      "text/plain": [
       "<Figure size 360x360 with 1 Axes>"
      ]
     },
     "execution_count": 15,
     "metadata": {},
     "output_type": "execute_result"
    }
   ],
   "source": [
    "style = SchedStyle(d_ch_color=['g','g'], use_table=False, figsize=(5, 5), remove_spacing=True, dpi=800)\n",
    "tomo_schedules_opt[22][2].filter(channels=[backend.configuration().drive(0)]).draw(style=style, plot_range=(0,1400), scaling=2)"
   ]
  },
  {
   "cell_type": "markdown",
   "metadata": {},
   "source": [
    "### Run tomo experiments"
   ]
  },
  {
   "cell_type": "code",
   "execution_count": 16,
   "metadata": {},
   "outputs": [],
   "source": [
    "import itertools\n",
    "flat_schedules_std = list(itertools.chain(*tomo_schedules_std))\n",
    "flat_schedules_opt = list(itertools.chain(*tomo_schedules_opt))"
   ]
  },
  {
   "cell_type": "code",
   "execution_count": 17,
   "metadata": {},
   "outputs": [
    {
     "name": "stderr",
     "output_type": "stream",
     "text": [
      "/Users/pranavgokhale/Developer/qiskit/qiskit-terra/qiskit/providers/models/pulsedefaults.py:155: UserWarning: `qubit_freq_est` and `meas_freq_est` now have units of Hertz(Hz) rather than gigahertz(GHz).\n",
      "  warnings.warn('`qubit_freq_est` and `meas_freq_est` now have units of '\n"
     ]
    },
    {
     "name": "stdout",
     "output_type": "stream",
     "text": [
      "job_std is 5e375652804aa70018a115a8\n",
      "job_opt is 5e375658fcf365001889c107\n"
     ]
    }
   ],
   "source": [
    "job_std = q.execute(flat_schedules_std, backend=backend, shots=shots)\n",
    "job_opt = q.execute(flat_schedules_opt, backend=backend, shots=shots)\n",
    "print('job_std is %s' % job_std.job_id())\n",
    "print('job_opt is %s' % job_opt.job_id())"
   ]
  },
  {
   "cell_type": "code",
   "execution_count": null,
   "metadata": {
    "scrolled": true
   },
   "outputs": [],
   "source": [
    "job_std.status()"
   ]
  },
  {
   "cell_type": "code",
   "execution_count": null,
   "metadata": {},
   "outputs": [],
   "source": [
    "job_opt.status()"
   ]
  },
  {
   "cell_type": "markdown",
   "metadata": {},
   "source": [
    "### Run a mitigation cal job"
   ]
  },
  {
   "cell_type": "code",
   "execution_count": 18,
   "metadata": {},
   "outputs": [],
   "source": [
    "import qiskit.ignis.mitigation.measurement as mit\n",
    "meas_qcs, meas_labels = mit.complete_meas_cal(qubit_list=[0])\n",
    "meas_qcs_transpiled = q.transpile(meas_qcs, backend, basis_gates=['x'])\n",
    "meas_schedules = q.schedule(meas_qcs_transpiled, backend=backend, inst_map=circ_inst_map)"
   ]
  },
  {
   "cell_type": "code",
   "execution_count": 19,
   "metadata": {},
   "outputs": [
    {
     "name": "stdout",
     "output_type": "stream",
     "text": [
      "job_mit is 5e37565fee0f3b0019d3d1f6\n"
     ]
    }
   ],
   "source": [
    "job_mit = q.execute(meas_schedules, backend)\n",
    "print('job_mit is %s' % job_mit.job_id())"
   ]
  },
  {
   "cell_type": "code",
   "execution_count": null,
   "metadata": {
    "scrolled": true
   },
   "outputs": [],
   "source": [
    "job_mit.status()"
   ]
  },
  {
   "cell_type": "code",
   "execution_count": null,
   "metadata": {},
   "outputs": [],
   "source": [
    "job_std = backend.retrieve_job('5e375652804aa70018a115a8')\n",
    "job_opt = backend.retrieve_job('5e375658fcf365001889c107')\n",
    "job_mit = backend.retrieve_job('5e37565fee0f3b0019d3d1f6')"
   ]
  },
  {
   "cell_type": "markdown",
   "metadata": {},
   "source": [
    "-----\n",
    "### Fit tomography data to get statevector"
   ]
  },
  {
   "cell_type": "code",
   "execution_count": 20,
   "metadata": {},
   "outputs": [],
   "source": [
    "from qiskit.result import marginal_counts"
   ]
  },
  {
   "cell_type": "code",
   "execution_count": 30,
   "metadata": {},
   "outputs": [],
   "source": [
    "result_std = job_std.result()\n",
    "result_opt = job_opt.result()"
   ]
  },
  {
   "cell_type": "code",
   "execution_count": 31,
   "metadata": {},
   "outputs": [
    {
     "data": {
      "text/plain": [
       "array([[0.96679688, 0.09960938],\n",
       "       [0.03320312, 0.90039062]])"
      ]
     },
     "execution_count": 31,
     "metadata": {},
     "output_type": "execute_result"
    }
   ],
   "source": [
    "# mitigate results\n",
    "result_mit = marginal_counts(job_mit.result(), [0])\n",
    "readout_fitter = mit.CompleteMeasFitter(result_mit, meas_labels)\n",
    "readout_fitter.cal_matrix"
   ]
  },
  {
   "cell_type": "code",
   "execution_count": 32,
   "metadata": {},
   "outputs": [],
   "source": [
    "result_std_marg = marginal_counts(result_std, [0])\n",
    "result_opt_marg = marginal_counts(result_opt, [0])"
   ]
  },
  {
   "cell_type": "code",
   "execution_count": 33,
   "metadata": {},
   "outputs": [],
   "source": [
    "from copy import deepcopy\n",
    "result_cpy_std = deepcopy(result_std_marg)\n",
    "result_cpy_opt = deepcopy(result_opt_marg)"
   ]
  },
  {
   "cell_type": "code",
   "execution_count": 34,
   "metadata": {},
   "outputs": [],
   "source": [
    "standard_statevectors = []\n",
    "optimized_statevectors = []\n",
    "\n",
    "for i, theta in enumerate(thetas):\n",
    "    result_std_mit = readout_fitter.filter.apply(result_cpy_std)\n",
    "    result_opt_mit = readout_fitter.filter.apply(result_cpy_opt)\n",
    "    \n",
    "    # remove results for other thetas\n",
    "    # TODO: allow selecting subset of result\n",
    "    single_qst_size = len(tomo_schedules_std[0])\n",
    "    del result_std_mit.results[:i*single_qst_size]\n",
    "    del result_std_mit.results[single_qst_size:]\n",
    "    del result_opt_mit.results[:i*single_qst_size]\n",
    "    del result_opt_mit.results[single_qst_size:]\n",
    "    assert len(result_std_mit.results) == single_qst_size\n",
    "    assert len(result_opt_mit.results) == single_qst_size\n",
    "\n",
    "    qst_fitter = StateTomographyFitter(result_std_mit, tomo_circuits_std[i])\n",
    "    sv = qst_fitter.fit(method='cvx')\n",
    "    standard_statevectors.append(sv)\n",
    "    \n",
    "    qst_fitter = StateTomographyFitter(result_opt_mit, tomo_circuits_opt[i])\n",
    "    sv = qst_fitter.fit('cvx')\n",
    "    optimized_statevectors.append(sv)"
   ]
  },
  {
   "cell_type": "markdown",
   "metadata": {},
   "source": [
    "## Analysis"
   ]
  },
  {
   "cell_type": "markdown",
   "metadata": {},
   "source": [
    "### plot state fidelities"
   ]
  },
  {
   "cell_type": "code",
   "execution_count": 35,
   "metadata": {},
   "outputs": [],
   "source": [
    "# what are the ideal statevectors\n",
    "from qiskit.quantum_info.states import Statevector\n",
    "ideal_statevectors = []\n",
    "for theta in thetas:\n",
    "    circuit = QuantumCircuit(1)\n",
    "    circuit.rx(theta, 0)\n",
    "    ideal = Statevector.from_instruction(circuit).data\n",
    "    ideal_statevectors.append(ideal)"
   ]
  },
  {
   "cell_type": "code",
   "execution_count": 36,
   "metadata": {},
   "outputs": [],
   "source": [
    "standard_fidelities = []\n",
    "for sv1, sv2 in zip(standard_statevectors, ideal_statevectors):\n",
    "    fidelity = state_fidelity(sv1, sv2)\n",
    "    standard_fidelities.append(fidelity)\n",
    "    \n",
    "optimized_fidelities = []\n",
    "for sv1, sv2 in zip(optimized_statevectors, ideal_statevectors):\n",
    "    fidelity = state_fidelity(np.abs(sv1), np.abs(sv2))\n",
    "    optimized_fidelities.append(fidelity)"
   ]
  },
  {
   "cell_type": "code",
   "execution_count": 37,
   "metadata": {},
   "outputs": [
    {
     "data": {
      "text/plain": [
       "<matplotlib.legend.Legend at 0x11b8b75c0>"
      ]
     },
     "execution_count": 37,
     "metadata": {},
     "output_type": "execute_result"
    },
    {
     "data": {
      "image/png": "[encoded data removed]",
      "text/plain": [
       "<Figure size 432x288 with 1 Axes>"
      ]
     },
     "metadata": {
      "needs_background": "light"
     },
     "output_type": "display_data"
    }
   ],
   "source": [
    "plt.plot(thetas * 180 / np.pi, standard_fidelities, 'r')\n",
    "plt.plot(thetas * 180 / np.pi, optimized_fidelities, 'g')\n",
    "plt.xlabel('θ')\n",
    "plt.ylabel('Fidelity of Rx(θ)')\n",
    "plt.legend(['standard fidelity', 'optimized fidelity'])"
   ]
  },
  {
   "cell_type": "code",
   "execution_count": 38,
   "metadata": {},
   "outputs": [
    {
     "data": {
      "text/plain": [
       "(0.9842197286344213, 0.9908958547858515)"
      ]
     },
     "execution_count": 38,
     "metadata": {},
     "output_type": "execute_result"
    }
   ],
   "source": [
    "np.mean(standard_fidelities), np.mean(optimized_fidelities)"
   ]
  },
  {
   "cell_type": "markdown",
   "metadata": {},
   "source": [
    "### plot standard vs. optimized rotation paths"
   ]
  },
  {
   "cell_type": "code",
   "execution_count": 39,
   "metadata": {},
   "outputs": [],
   "source": [
    "from qiskit.quantum_info.synthesis.one_qubit_decompose import OneQubitEulerDecomposer\n",
    "from qiskit.quantum_info import Operator\n",
    "from qiskit.extensions.standard import U3Gate, RXGate\n",
    "\n",
    "standard_paths = []\n",
    "optimized_paths = []\n",
    "for theta in thetas:\n",
    "    u3 = U3Gate(theta, -np.pi/2, np.pi/2)              # RX(θ) in terms of U3\n",
    "\n",
    "    decomposer = OneQubitEulerDecomposer(basis='U1X')  # standard way\n",
    "    standard_circ = decomposer(Operator(u3))\n",
    "    standard_paths.append(standard_circ)\n",
    "\n",
    "    decomposer = OneQubitEulerDecomposer(basis='ZXZ')  # optimized way\n",
    "    optimized_circ = decomposer(Operator(u3))\n",
    "    optimized_paths.append(optimized_circ)"
   ]
  },
  {
   "cell_type": "code",
   "execution_count": 40,
   "metadata": {},
   "outputs": [],
   "source": [
    "from qiskit.quantum_info.operators.pauli import pauli_group, Pauli\n",
    "from qiskit.quantum_info.states import DensityMatrix\n",
    "\n",
    "paulis = pauli_group(1)\n",
    "X = paulis[1]\n",
    "Y = paulis[2]\n",
    "Z = paulis[3]\n",
    "\n",
    "ideal_rhos = [DensityMatrix(sv) for sv in ideal_statevectors]\n",
    "ideal_Xexps = [np.real(np.trace(np.dot(X.to_matrix(), rho.data))) for rho in ideal_rhos]\n",
    "ideal_Yexps = [np.real(np.trace(np.dot(Y.to_matrix(), rho.data))) for rho in ideal_rhos]\n",
    "ideal_Zexps = [np.real(np.trace(np.dot(Z.to_matrix(), rho.data))) for rho in ideal_rhos]\n",
    "\n",
    "std_rhos = [DensityMatrix(sv) for sv in standard_statevectors]\n",
    "std_Xexps = [np.real(np.trace(np.dot(X.to_matrix(), rho.data))) for rho in std_rhos]\n",
    "std_Yexps = [np.real(np.trace(np.dot(Y.to_matrix(), rho.data))) for rho in std_rhos]\n",
    "std_Zexps = [np.real(np.trace(np.dot(Z.to_matrix(), rho.data))) for rho in std_rhos]\n",
    "\n",
    "opt_rhos = [DensityMatrix(sv) for sv in optimized_statevectors]\n",
    "opt_Xexps = [np.real(np.trace(np.dot(X.to_matrix(), rho.data))) for rho in opt_rhos]\n",
    "opt_Yexps = [np.real(np.trace(np.dot(Y.to_matrix(), rho.data))) for rho in opt_rhos]\n",
    "opt_Zexps = [np.real(np.trace(np.dot(Z.to_matrix(), rho.data))) for rho in opt_rhos]"
   ]
  },
  {
   "cell_type": "code",
   "execution_count": 41,
   "metadata": {},
   "outputs": [
    {
     "data": {
      "text/plain": [
       "[<matplotlib.lines.Line2D at 0x11b973f28>]"
      ]
     },
     "execution_count": 41,
     "metadata": {},
     "output_type": "execute_result"
    },
    {
     "data": {
      "image/png": "[encoded data removed]",
      "text/plain": [
       "<Figure size 432x288 with 1 Axes>"
      ]
     },
     "metadata": {
      "needs_background": "light"
     },
     "output_type": "display_data"
    }
   ],
   "source": [
    "plt.plot(thetas * 180 / np.pi, ideal_Xexps, 'b--')\n",
    "plt.plot(thetas * 180 / np.pi, ideal_Yexps, 'bx')\n",
    "plt.plot(thetas * 180 / np.pi, ideal_Zexps, 'b.')\n",
    "\n",
    "plt.plot(thetas * 180 / np.pi, std_Xexps, 'r--')\n",
    "plt.plot(thetas * 180 / np.pi, std_Yexps, 'rx')\n",
    "plt.plot(thetas * 180 / np.pi, std_Zexps, 'r.')\n",
    "\n",
    "plt.plot(thetas * 180 / np.pi, opt_Xexps, 'g--')\n",
    "plt.plot(thetas * 180 / np.pi, opt_Yexps, 'gx')\n",
    "plt.plot(thetas * 180 / np.pi, opt_Zexps, 'g.')"
   ]
  },
  {
   "cell_type": "markdown",
   "metadata": {},
   "source": [
    "### plot trajectories on Bloch sphere"
   ]
  },
  {
   "cell_type": "code",
   "execution_count": 42,
   "metadata": {
    "scrolled": false
   },
   "outputs": [],
   "source": [
    "from qutip import Bloch\n",
    "import numpy as np\n",
    "from math import pi\n",
    "b = Bloch()"
   ]
  },
  {
   "cell_type": "code",
   "execution_count": 43,
   "metadata": {},
   "outputs": [],
   "source": [
    "b.clear()\n",
    "b.zlabel = ['$z$', '']\n",
    "b.point_size = [1, 32, 20, 20]\n",
    "b.add_points([0,0,0])\n",
    "b.add_points([std_Xexps, std_Yexps, std_Zexps], meth='l')\n",
    "b.add_points([opt_Xexps, opt_Yexps, opt_Zexps], meth='l')\n",
    "#b.add_points([ideal_Xexps, ideal_Yexps, ideal_Zexps], meth='l')"
   ]
  },
  {
   "cell_type": "code",
   "execution_count": null,
   "metadata": {},
   "outputs": [],
   "source": [
    "b.show()"
   ]
  },
  {
   "cell_type": "markdown",
   "metadata": {},
   "source": [
    "### for a sample point, plot gate vs. pulse trajectory of Rx(θ)"
   ]
  },
  {
   "cell_type": "code",
   "execution_count": 45,
   "metadata": {},
   "outputs": [
    {
     "name": "stdout",
     "output_type": "stream",
     "text": [
      "theta:  122.72727272727273\n",
      "        ┌──────────┐┌──────────┐┌────────────┐┌──────────┐┌──────────┐\n",
      "q_0: |0>┤ U1(pi/2) ├┤ Rx(pi/2) ├┤ U1(5.2836) ├┤ Rx(pi/2) ├┤ U1(pi/2) ├\n",
      "        └──────────┘└──────────┘└────────────┘└──────────┘└──────────┘\n",
      "        ┌───────────┐\n",
      "q_0: |0>┤ Rx(2.142) ├\n",
      "        └───────────┘\n"
     ]
    }
   ],
   "source": [
    "sample_point = 15\n",
    "print('theta: ', 180 * thetas[sample_point] / np.pi)\n",
    "print(standard_paths[sample_point])\n",
    "print(optimized_paths[sample_point])"
   ]
  },
  {
   "cell_type": "code",
   "execution_count": null,
   "metadata": {
    "scrolled": false
   },
   "outputs": [],
   "source": [
    "# standard trajectory\n",
    "b = Bloch()\n",
    "b.zlabel = ['$z$', '']\n",
    "b.point_size = [1, 32, 20, 20]\n",
    "b.point_marker = ['o', 's', '.', '^']\n",
    "b.add_points([0,0,0])\n",
    "\n",
    "z1_path = [[0],[0],[0]]\n",
    "\n",
    "x1_path = [ideal_Xexps[:21],\n",
    "           ideal_Yexps[:21],\n",
    "           ideal_Zexps[:21]]\n",
    "\n",
    "z2_angle = standard_paths[sample_point][2][0].params[0]\n",
    "z2_path = [list(np.sin(np.linspace(0,z2_angle,20))),\n",
    "           list(-np.cos(np.linspace(0,z2_angle,20))),\n",
    "           list(np.zeros(20))]\n",
    "\n",
    "z2_end_x = z2_path[0][-1]\n",
    "x2_path = [list(np.full(20, z2_end_x)),\n",
    "           list(np.sqrt(1-z2_end_x**2)*np.cos(np.linspace(0,np.pi/2,20))),\n",
    "           list(np.sqrt(1-z2_end_x**2)*np.sin(np.linspace(0,np.pi/2,20)))]\n",
    "\n",
    "x2_end_x = x2_path[0][-1]\n",
    "x2_end_y = x2_path[1][-1]\n",
    "x2_end_z = x2_path[2][-1]\n",
    "\n",
    "z3_path = [list(np.sqrt(1-x2_end_z**2)*np.cos(np.linspace(np.pi, 3*np.pi/2,20))),\n",
    "           list(np.sqrt(1-x2_end_z**2)*np.sin(np.linspace(np.pi, 3*np.pi/2,20))),\n",
    "           list(np.full(20, x2_end_z))]\n",
    "trajectory = [x1_path[i] + z2_path[i] + x2_path[i] + z3_path[i] for i in (0,1,2)]\n",
    "b.add_points(trajectory, 'l')\n",
    "\n",
    "# optimized trajectory\n",
    "z1_path = [[0],[0],[0]]\n",
    "x1_path = [ideal_Xexps[:sample_point], ideal_Yexps[:sample_point], ideal_Zexps[:sample_point]]\n",
    "z2_path = [[0],[0],[0]]\n",
    "trajectory = [x1_path[i] for i in (0,1,2)]\n",
    "b.add_points(trajectory, 's')\n",
    "\n",
    "b.show()"
   ]
  },
  {
   "cell_type": "code",
   "execution_count": null,
   "metadata": {},
   "outputs": [],
   "source": []
  }
 ],
 "metadata": {
  "kernelspec": {
   "display_name": "Python 3",
   "language": "python",
   "name": "python3"
  },
  "language_info": {
   "codemirror_mode": {
    "name": "ipython",
    "version": 3
   },
   "file_extension": ".py",
   "mimetype": "text/x-python",
   "name": "python",
   "nbconvert_exporter": "python",
   "pygments_lexer": "ipython3",
   "version": "3.7.3"
  }
 },
 "nbformat": 4,
 "nbformat_minor": 2
}
