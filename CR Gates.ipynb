{
 "cells": [
  {
   "cell_type": "code",
   "execution_count": 234,
   "metadata": {},
   "outputs": [],
   "source": [
    "import numpy as np\n",
    "import scipy\n",
    "import time\n",
    "import matplotlib.pyplot as plt\n",
    "%matplotlib inline"
   ]
  },
  {
   "cell_type": "code",
   "execution_count": 235,
   "metadata": {},
   "outputs": [],
   "source": [
    "from qiskit import *\n",
    "from qiskit.pulse import *\n",
    "from qiskit.tools.monitor import job_monitor\n",
    "from qiskit.visualization import plot_histogram\n",
    "import qiskit.pulse.pulse_lib as pulse_lib\n",
    "import qiskit.tools.jupyter"
   ]
  },
  {
   "cell_type": "code",
   "execution_count": 236,
   "metadata": {},
   "outputs": [
    {
     "name": "stderr",
     "output_type": "stream",
     "text": [
      "/Users/pranavgokhale/anaconda3/lib/python3.7/site-packages/qiskit/providers/ibmq/ibmqfactory.py:181: UserWarning: Credentials are already in use. The existing account in the session will be replaced.\n",
      "  warnings.warn('Credentials are already in use. The existing '\n"
     ]
    },
    {
     "data": {
      "text/plain": [
       "[<AccountProvider for IBMQ(hub='ibm-q', group='open', project='main')>,\n",
       " <AccountProvider for IBMQ(hub='ibm-q-ornl', group='bes-qis', project='argonne')>]"
      ]
     },
     "execution_count": 236,
     "metadata": {},
     "output_type": "execute_result"
    }
   ],
   "source": [
    "IBMQ.load_account() # Load account from disk\n",
    "IBMQ.providers()    # List all available providers"
   ]
  },
  {
   "cell_type": "code",
   "execution_count": 237,
   "metadata": {},
   "outputs": [],
   "source": [
    "provider = IBMQ.get_provider(group='bes-qis')\n",
    "backend = provider.get_backend('ibmq_boeblingen')\n",
    "system = pulse.PulseChannelSpec.from_backend(backend)\n",
    "config = backend.configuration()\n",
    "defaults = backend.defaults()\n",
    "cmd_def = pulse.CmdDef.from_defaults(backend.defaults().cmd_def, backend.defaults().pulse_library)\n",
    "measure = cmd_def.get('measure', qubits=config.meas_map[0])"
   ]
  },
  {
   "cell_type": "code",
   "execution_count": 238,
   "metadata": {},
   "outputs": [
    {
     "data": {
      "application/vnd.jupyter.widget-view+json": {
       "model_id": "305a3ecb613b4afd8d4fed56fdc6bd76",
       "version_major": 2,
       "version_minor": 0
      },
      "text/plain": [
       "Accordion(children=(VBox(layout=Layout(max_width='610px', min_width='610px')),), layout=Layout(max_height='500…"
      ]
     },
     "metadata": {},
     "output_type": "display_data"
    },
    {
     "data": {
      "application/javascript": [
       "$('div.job_widget')\n",
       "        .detach()\n",
       "        .appendTo($('#header'))\n",
       "        .css({\n",
       "            'z-index': 999,\n",
       "             'position': 'fixed',\n",
       "            'box-shadow': '5px 5px 5px -3px black',\n",
       "            'opacity': 0.95,\n",
       "            'float': 'left,'\n",
       "        })\n",
       "        "
      ],
      "text/plain": [
       "<IPython.core.display.Javascript object>"
      ]
     },
     "metadata": {},
     "output_type": "display_data"
    }
   ],
   "source": [
    "%qiskit_job_watcher"
   ]
  },
  {
   "cell_type": "markdown",
   "metadata": {},
   "source": [
    "-----"
   ]
  },
  {
   "cell_type": "code",
   "execution_count": 6,
   "metadata": {},
   "outputs": [],
   "source": [
    "# qubit to use for exeperiment\n",
    "control_qubit = 0\n",
    "target_qubit = 1\n",
    "uchannel = 0\n",
    "\n",
    "# exp configuration\n",
    "exps = 30\n",
    "shots = 512\n",
    "\n",
    "# Rabi pulse\n",
    "cr_amps = np.linspace(0, 0.2, exps)\n",
    "cr_samples = 200\n",
    "cr_sigma = 4\n",
    "cr_rise_fall = 16"
   ]
  },
  {
   "cell_type": "code",
   "execution_count": 7,
   "metadata": {},
   "outputs": [],
   "source": [
    "# Calculate amplitude from complex signal\n",
    "def get_amplitude(vec):\n",
    "    i_signal = np.imag(vec)\n",
    "    r_signal = np.real(vec)\n",
    "\n",
    "    mvec = [np.mean(r_signal), np.mean(i_signal)]\n",
    "\n",
    "    src_mat = np.vstack((r_signal - mvec[0], i_signal - mvec[1])).T\n",
    "    (_, _, v_mat) = np.linalg.svd(src_mat)\n",
    "\n",
    "    dvec = v_mat[0, 0:2]\n",
    "\n",
    "    if dvec.dot(mvec) < 0:\n",
    "        dvec = -dvec\n",
    "\n",
    "    return src_mat.dot(dvec)\n"
   ]
  },
  {
   "cell_type": "code",
   "execution_count": 8,
   "metadata": {
    "scrolled": true
   },
   "outputs": [
    {
     "data": {
      "text/plain": [
       "True"
      ]
     },
     "execution_count": 8,
     "metadata": {},
     "output_type": "execute_result"
    }
   ],
   "source": [
    "[control_qubit, target_qubit] in config.coupling_map"
   ]
  },
  {
   "cell_type": "code",
   "execution_count": 9,
   "metadata": {},
   "outputs": [
    {
     "data": {
      "text/plain": [
       "True"
      ]
     },
     "execution_count": 9,
     "metadata": {},
     "output_type": "execute_result"
    }
   ],
   "source": [
    "defaults.qubit_freq_est[control_qubit] > defaults.qubit_freq_est[target_qubit]"
   ]
  },
  {
   "cell_type": "code",
   "execution_count": 10,
   "metadata": {},
   "outputs": [
    {
     "data": {
      "text/plain": [
       "[UchannelLO(q=1, scale=(1+0j))]"
      ]
     },
     "execution_count": 10,
     "metadata": {},
     "output_type": "execute_result"
    }
   ],
   "source": [
    "config.u_channel_lo[uchannel]"
   ]
  },
  {
   "cell_type": "code",
   "execution_count": 11,
   "metadata": {},
   "outputs": [],
   "source": [
    "# Create schedule\n",
    "schedules = []\n",
    "for ii, cr_amp in enumerate(cr_amps):\n",
    "    # drive pulse\n",
    "    cr_rabi_pulse_p = pulse_lib.gaussian_square(duration=cr_samples,\n",
    "                                                amp=cr_amp,\n",
    "                                                sigma=cr_sigma,\n",
    "                                                risefall=cr_rise_fall,\n",
    "                                                name='cr_rabi_pulse_p%d' % ii)\n",
    "    cr_rabi_pulse_m = pulse_lib.gaussian_square(duration=cr_samples,\n",
    "                                                amp=-cr_amp,\n",
    "                                                sigma=cr_sigma,\n",
    "                                                risefall=cr_rise_fall,\n",
    "                                                name='cr_rabi_pulse_m%d' % ii)\n",
    "    \n",
    "    # add commands to schedule\n",
    "    schedule = pulse.Schedule(name='CR Rabi Experiment at drive amp = %s' % cr_amp)\n",
    "    \n",
    "    schedule |= cr_rabi_pulse_p(system.controls[uchannel])\n",
    "\n",
    "    schedule |= cmd_def.get('x', qubits=[control_qubit]) << schedule.duration\n",
    "    schedule |= cr_rabi_pulse_m(system.controls[uchannel]) << schedule.duration\n",
    "    schedule |= measure << schedule.duration\n",
    " \n",
    "    schedules.append(schedule)"
   ]
  },
  {
   "cell_type": "code",
   "execution_count": 12,
   "metadata": {},
   "outputs": [],
   "source": [
    "cr_rabi_qobj = assemble(schedules, backend, meas_level=1, meas_return='avg', shots=shots)"
   ]
  },
  {
   "cell_type": "code",
   "execution_count": 13,
   "metadata": {},
   "outputs": [
    {
     "name": "stdout",
     "output_type": "stream",
     "text": [
      "5d93dd4dde3ef200180cf24c\n"
     ]
    }
   ],
   "source": [
    "job = backend.run(cr_rabi_qobj)\n",
    "print(job.job_id())"
   ]
  },
  {
   "cell_type": "code",
   "execution_count": 14,
   "metadata": {},
   "outputs": [],
   "source": [
    "job = backend.retrieve_job('5d93dd4dde3ef200180cf24c')"
   ]
  },
  {
   "cell_type": "code",
   "execution_count": 15,
   "metadata": {},
   "outputs": [
    {
     "data": {
      "text/plain": [
       "Text(0.5,1,'CR Rabi oscillation')"
      ]
     },
     "execution_count": 15,
     "metadata": {},
     "output_type": "execute_result"
    },
    {
     "data": {
      "image/png": "[encoded data removed]",
      "text/plain": [
       "<Figure size 432x288 with 1 Axes>"
      ]
     },
     "metadata": {
      "needs_background": "light"
     },
     "output_type": "display_data"
    }
   ],
   "source": [
    "cr_rabi_result = job.result()\n",
    "target_qubit_rabi_data = np.ones(exps, dtype=np.complex_)\n",
    "control_qubit_rabi_data = np.ones(exps, dtype=np.complex_)\n",
    "\n",
    "\n",
    "scale_factor=1e-10\n",
    "\n",
    "for i in range(exps):\n",
    "    target_qubit_rabi_data[i] = cr_rabi_result.get_memory(i)[target_qubit]*scale_factor\n",
    "    control_qubit_rabi_data[i] = cr_rabi_result.get_memory(i)[control_qubit]*scale_factor\n",
    "    \n",
    "target_rabi_amp_data = get_amplitude(target_qubit_rabi_data)\n",
    "control_rabi_amp_data = get_amplitude(control_qubit_rabi_data)\n",
    "\n",
    "fit_func = lambda x,A,B,T,phi: (A*np.cos(2*np.pi*x/T+phi)+B)\n",
    "\n",
    "#Fit the data\n",
    "fitparams, conv = scipy.optimize.curve_fit(fit_func, cr_amps, target_rabi_amp_data, [3.0,0.0,0.1,0])\n",
    "\n",
    "#get the pi amplitude\n",
    "cr_pi_2_amp = (np.pi-fitparams[3])*fitparams[2]/4/np.pi\n",
    "\n",
    "plt.plot(cr_amps, fit_func(cr_amps, *fitparams), color='red')\n",
    "plt.axvline(cr_pi_2_amp, color='black', linestyle='dashed')\n",
    "plt.scatter(cr_amps, target_rabi_amp_data, label='target qubit')\n",
    "plt.scatter(cr_amps, control_rabi_amp_data, label='control qubit')\n",
    "plt.xlim(0, 0.2)\n",
    "plt.ylim(-7, 7)\n",
    "plt.legend()\n",
    "plt.xlabel('CR pulse amplitude, a.u.', fontsize=20)\n",
    "plt.ylabel('Signal, a.u.', fontsize=20)\n",
    "plt.title('CR Rabi oscillation', fontsize=20)"
   ]
  },
  {
   "cell_type": "code",
   "execution_count": 16,
   "metadata": {},
   "outputs": [
    {
     "data": {
      "text/plain": [
       "0.02450048659651925"
      ]
     },
     "execution_count": 16,
     "metadata": {},
     "output_type": "execute_result"
    }
   ],
   "source": [
    "cr_pi_2_amp"
   ]
  },
  {
   "cell_type": "code",
   "execution_count": 29,
   "metadata": {},
   "outputs": [],
   "source": [
    "cr_rabi_pulse_p = pulse_lib.gaussian_square(duration=cr_samples,\n",
    "                                            amp=cr_pi_2_amp,\n",
    "                                            sigma=cr_sigma,\n",
    "                                            risefall=cr_rise_fall,\n",
    "                                            name='cr_rabi_pulse_p%d' % ii)\n",
    "cr_rabi_pulse_m = pulse_lib.gaussian_square(duration=cr_samples,\n",
    "                                            amp=-cr_pi_2_amp,\n",
    "                                            sigma=cr_sigma,\n",
    "                                            risefall=cr_rise_fall,\n",
    "                                            name='cr_rabi_pulse_m%d' % ii)\n",
    "\n",
    "# add commands to schedule\n",
    "schedule = pulse.Schedule(name='CR Rabi Experiment at drive amp = %s' % cr_amp)\n",
    "\n",
    "schedule |= cr_rabi_pulse_p(system.controls[uchannel])\n",
    "schedule |= cmd_def.get('x', qubits=[control_qubit]) << schedule.duration\n",
    "schedule |= cr_rabi_pulse_m(system.controls[uchannel]) << schedule.duration\n",
    "schedule |= cmd_def.get('u3', qubits=[target_qubit], P0 = np.pi/2, P1 = 3*np.pi/2, P2=np.pi/2) << schedule.duration\n",
    "schedule |= measure << schedule.duration"
   ]
  },
  {
   "cell_type": "code",
   "execution_count": 30,
   "metadata": {},
   "outputs": [
    {
     "name": "stdout",
     "output_type": "stream",
     "text": [
      "5d93bf48b99007001972c0bf\n"
     ]
    }
   ],
   "source": [
    "job = execute(schedule, backend=backend, shots=shots)\n",
    "print(job.job_id())"
   ]
  },
  {
   "cell_type": "code",
   "execution_count": 39,
   "metadata": {},
   "outputs": [],
   "source": [
    "# applying X(pi/2) to target qubit. If it received a X(pi/2) rotation, we should see all |1>.\n",
    "# if it received a X(-pi/2) rotation, we should see all |0>.\n",
    "job = backend.retrieve_job('5d93bf48b99007001972c0bf')\n",
    "counts = job.result().get_counts()\n",
    "num_ones = sum([freq for (bitstring, freq) in counts.items() if ('000' + bitstring)[-2] == '1'])"
   ]
  },
  {
   "cell_type": "code",
   "execution_count": 40,
   "metadata": {},
   "outputs": [
    {
     "data": {
      "text/plain": [
       "0.443359375"
      ]
     },
     "execution_count": 40,
     "metadata": {},
     "output_type": "execute_result"
    }
   ],
   "source": [
    "num_ones/shots"
   ]
  },
  {
   "cell_type": "code",
   "execution_count": 34,
   "metadata": {},
   "outputs": [
    {
     "data": {
      "text/plain": [
       "512"
      ]
     },
     "execution_count": 34,
     "metadata": {},
     "output_type": "execute_result"
    }
   ],
   "source": [
    "shots"
   ]
  },
  {
   "cell_type": "code",
   "execution_count": 35,
   "metadata": {},
   "outputs": [],
   "source": [
    "# aha, so it did a X(pi/2) rotation. That means we have a CR_pi/2 rotation indeed.\n",
    "\n",
    "schedule = pulse.Schedule(name='CR Rabi Experiment at drive amp = %s' % cr_amp)\n",
    "\n",
    "schedule |= cmd_def.get('u1', qubits=[control_qubit], P0=np.pi/2)\n",
    "schedule |= cmd_def.get('u1', qubits=[target_qubit], P0=np.pi/2)\n",
    "\n",
    "schedule |= cmd_def.get('u2', qubits=[target_qubit], P0=0, P1=np.pi) << schedule.duration  # H\n",
    "\n",
    "\n",
    "schedule |= cmd_def.get('u3', qubits=[target_qubit], P0 = -np.pi/2, P1 = 3*np.pi/2, P2=np.pi/2) << schedule.duration  # Rx(-theta)\n",
    "\n",
    "schedule |= cr_rabi_pulse_p(system.controls[uchannel]) << schedule.duration\n",
    "schedule |= cmd_def.get('x', qubits=[control_qubit]) << schedule.duration\n",
    "schedule |= cr_rabi_pulse_m(system.controls[uchannel]) << schedule.duration\n",
    "\n",
    "\n",
    "schedule |= cmd_def.get('u2', qubits=[target_qubit], P0=0, P1=np.pi) << schedule.duration  # H\n",
    "\n",
    "schedule |= measure << schedule.duration"
   ]
  },
  {
   "cell_type": "code",
   "execution_count": 36,
   "metadata": {},
   "outputs": [
    {
     "name": "stdout",
     "output_type": "stream",
     "text": [
      "5d93da646afef300184e6d38\n"
     ]
    }
   ],
   "source": [
    "job = execute(schedule, backend=backend, shots=shots)\n",
    "print(job.job_id())"
   ]
  },
  {
   "cell_type": "code",
   "execution_count": 37,
   "metadata": {},
   "outputs": [
    {
     "ename": "KeyboardInterrupt",
     "evalue": "",
     "output_type": "error",
     "traceback": [
      "\u001b[0;31m---------------------------------------------------------------------------\u001b[0m",
      "\u001b[0;31mKeyboardInterrupt\u001b[0m                         Traceback (most recent call last)",
      "\u001b[0;32m<ipython-input-37-ce2546f80c08>\u001b[0m in \u001b[0;36m<module>\u001b[0;34m\u001b[0m\n\u001b[0;32m----> 1\u001b[0;31m \u001b[0mcounts\u001b[0m \u001b[0;34m=\u001b[0m \u001b[0mjob\u001b[0m\u001b[0;34m.\u001b[0m\u001b[0mresult\u001b[0m\u001b[0;34m(\u001b[0m\u001b[0;34m)\u001b[0m\u001b[0;34m.\u001b[0m\u001b[0mget_counts\u001b[0m\u001b[0;34m(\u001b[0m\u001b[0;34m)\u001b[0m\u001b[0;34m\u001b[0m\u001b[0;34m\u001b[0m\u001b[0m\n\u001b[0m\u001b[1;32m      2\u001b[0m \u001b[0mnum_ones\u001b[0m \u001b[0;34m=\u001b[0m \u001b[0msum\u001b[0m\u001b[0;34m(\u001b[0m\u001b[0;34m[\u001b[0m\u001b[0mfreq\u001b[0m \u001b[0;32mfor\u001b[0m \u001b[0;34m(\u001b[0m\u001b[0mbitstring\u001b[0m\u001b[0;34m,\u001b[0m \u001b[0mfreq\u001b[0m\u001b[0;34m)\u001b[0m \u001b[0;32min\u001b[0m \u001b[0mcounts\u001b[0m\u001b[0;34m.\u001b[0m\u001b[0mitems\u001b[0m\u001b[0;34m(\u001b[0m\u001b[0;34m)\u001b[0m \u001b[0;32mif\u001b[0m \u001b[0mbitstring\u001b[0m\u001b[0;34m.\u001b[0m\u001b[0mendswith\u001b[0m\u001b[0;34m(\u001b[0m\u001b[0;34m'1'\u001b[0m\u001b[0;34m)\u001b[0m\u001b[0;34m]\u001b[0m\u001b[0;34m)\u001b[0m\u001b[0;34m\u001b[0m\u001b[0;34m\u001b[0m\u001b[0m\n",
      "\u001b[0;32m~/anaconda3/lib/python3.7/site-packages/qiskit/providers/ibmq/job/ibmqjob.py\u001b[0m in \u001b[0;36mresult\u001b[0;34m(self, timeout, wait)\u001b[0m\n\u001b[1;32m    247\u001b[0m             \u001b[0mJobError\u001b[0m\u001b[0;34m:\u001b[0m \u001b[0;32mif\u001b[0m \u001b[0mattempted\u001b[0m \u001b[0mto\u001b[0m \u001b[0mrecover\u001b[0m \u001b[0ma\u001b[0m \u001b[0mresult\u001b[0m \u001b[0mon\u001b[0m \u001b[0ma\u001b[0m \u001b[0mfailed\u001b[0m \u001b[0mjob\u001b[0m\u001b[0;34m.\u001b[0m\u001b[0;34m\u001b[0m\u001b[0;34m\u001b[0m\u001b[0m\n\u001b[1;32m    248\u001b[0m         \"\"\"\n\u001b[0;32m--> 249\u001b[0;31m         \u001b[0mself\u001b[0m\u001b[0;34m.\u001b[0m\u001b[0m_wait_for_completion\u001b[0m\u001b[0;34m(\u001b[0m\u001b[0mtimeout\u001b[0m\u001b[0;34m=\u001b[0m\u001b[0mtimeout\u001b[0m\u001b[0;34m,\u001b[0m \u001b[0mwait\u001b[0m\u001b[0;34m=\u001b[0m\u001b[0mwait\u001b[0m\u001b[0;34m)\u001b[0m\u001b[0;34m\u001b[0m\u001b[0;34m\u001b[0m\u001b[0m\n\u001b[0m\u001b[1;32m    250\u001b[0m \u001b[0;34m\u001b[0m\u001b[0m\n\u001b[1;32m    251\u001b[0m         \u001b[0mstatus\u001b[0m \u001b[0;34m=\u001b[0m \u001b[0mself\u001b[0m\u001b[0;34m.\u001b[0m\u001b[0mstatus\u001b[0m\u001b[0;34m(\u001b[0m\u001b[0;34m)\u001b[0m\u001b[0;34m\u001b[0m\u001b[0;34m\u001b[0m\u001b[0m\n",
      "\u001b[0;32m~/anaconda3/lib/python3.7/site-packages/qiskit/providers/ibmq/job/ibmqjob.py\u001b[0m in \u001b[0;36m_wait_for_completion\u001b[0;34m(self, timeout, wait)\u001b[0m\n\u001b[1;32m    550\u001b[0m             \u001b[0mstart_time\u001b[0m \u001b[0;34m=\u001b[0m \u001b[0mtime\u001b[0m\u001b[0;34m.\u001b[0m\u001b[0mtime\u001b[0m\u001b[0;34m(\u001b[0m\u001b[0;34m)\u001b[0m\u001b[0;34m\u001b[0m\u001b[0;34m\u001b[0m\u001b[0m\n\u001b[1;32m    551\u001b[0m             \u001b[0;32mtry\u001b[0m\u001b[0;34m:\u001b[0m\u001b[0;34m\u001b[0m\u001b[0;34m\u001b[0m\u001b[0m\n\u001b[0;32m--> 552\u001b[0;31m                 \u001b[0mself\u001b[0m\u001b[0;34m.\u001b[0m\u001b[0m_wait_for_final_status_websocket\u001b[0m\u001b[0;34m(\u001b[0m\u001b[0mtimeout\u001b[0m\u001b[0;34m)\u001b[0m\u001b[0;34m\u001b[0m\u001b[0;34m\u001b[0m\u001b[0m\n\u001b[0m\u001b[1;32m    553\u001b[0m                 \u001b[0;32mreturn\u001b[0m\u001b[0;34m\u001b[0m\u001b[0;34m\u001b[0m\u001b[0m\n\u001b[1;32m    554\u001b[0m             \u001b[0;32mexcept\u001b[0m \u001b[0mWebsocketError\u001b[0m \u001b[0;32mas\u001b[0m \u001b[0mex\u001b[0m\u001b[0;34m:\u001b[0m\u001b[0;34m\u001b[0m\u001b[0;34m\u001b[0m\u001b[0m\n",
      "\u001b[0;32m~/anaconda3/lib/python3.7/site-packages/qiskit/providers/ibmq/job/ibmqjob.py\u001b[0m in \u001b[0;36m_wait_for_final_status_websocket\u001b[0;34m(self, timeout)\u001b[0m\n\u001b[1;32m    625\u001b[0m         \u001b[0;32mtry\u001b[0m\u001b[0;34m:\u001b[0m\u001b[0;34m\u001b[0m\u001b[0;34m\u001b[0m\u001b[0m\n\u001b[1;32m    626\u001b[0m             status_response = self._api.job_final_status_websocket(\n\u001b[0;32m--> 627\u001b[0;31m                 self._job_id, timeout=timeout)\n\u001b[0m\u001b[1;32m    628\u001b[0m             \u001b[0mself\u001b[0m\u001b[0;34m.\u001b[0m\u001b[0m_update_status\u001b[0m\u001b[0;34m(\u001b[0m\u001b[0mstatus_response\u001b[0m\u001b[0;34m)\u001b[0m\u001b[0;34m\u001b[0m\u001b[0;34m\u001b[0m\u001b[0m\n\u001b[1;32m    629\u001b[0m         \u001b[0;32mexcept\u001b[0m \u001b[0mWebsocketTimeoutError\u001b[0m\u001b[0;34m:\u001b[0m\u001b[0;34m\u001b[0m\u001b[0;34m\u001b[0m\u001b[0m\n",
      "\u001b[0;32m~/anaconda3/lib/python3.7/site-packages/qiskit/providers/ibmq/api_v2/clients/account.py\u001b[0m in \u001b[0;36mjob_final_status_websocket\u001b[0;34m(self, job_id, timeout)\u001b[0m\n\u001b[1;32m    227\u001b[0m                 \u001b[0;32mraise\u001b[0m\u001b[0;34m\u001b[0m\u001b[0;34m\u001b[0m\u001b[0m\n\u001b[1;32m    228\u001b[0m         return loop.run_until_complete(\n\u001b[0;32m--> 229\u001b[0;31m             self.client_ws.get_job_status(job_id, timeout=timeout))\n\u001b[0m\u001b[1;32m    230\u001b[0m \u001b[0;34m\u001b[0m\u001b[0m\n\u001b[1;32m    231\u001b[0m     \u001b[0;32mdef\u001b[0m \u001b[0mjob_properties\u001b[0m\u001b[0;34m(\u001b[0m\u001b[0mself\u001b[0m\u001b[0;34m,\u001b[0m \u001b[0mjob_id\u001b[0m\u001b[0;34m)\u001b[0m\u001b[0;34m:\u001b[0m\u001b[0;34m\u001b[0m\u001b[0;34m\u001b[0m\u001b[0m\n",
      "\u001b[0;32m~/anaconda3/lib/python3.7/site-packages/nest_asyncio.py\u001b[0m in \u001b[0;36mrun_until_complete\u001b[0;34m(self, future)\u001b[0m\n\u001b[1;32m     58\u001b[0m                 \u001b[0mf\u001b[0m\u001b[0;34m.\u001b[0m\u001b[0m_log_destroy_pending\u001b[0m \u001b[0;34m=\u001b[0m \u001b[0;32mFalse\u001b[0m\u001b[0;34m\u001b[0m\u001b[0;34m\u001b[0m\u001b[0m\n\u001b[1;32m     59\u001b[0m             \u001b[0;32mwhile\u001b[0m \u001b[0;32mnot\u001b[0m \u001b[0mf\u001b[0m\u001b[0;34m.\u001b[0m\u001b[0mdone\u001b[0m\u001b[0;34m(\u001b[0m\u001b[0;34m)\u001b[0m\u001b[0;34m:\u001b[0m\u001b[0;34m\u001b[0m\u001b[0;34m\u001b[0m\u001b[0m\n\u001b[0;32m---> 60\u001b[0;31m                 \u001b[0mrun_once\u001b[0m\u001b[0;34m(\u001b[0m\u001b[0mself\u001b[0m\u001b[0;34m)\u001b[0m\u001b[0;34m\u001b[0m\u001b[0;34m\u001b[0m\u001b[0m\n\u001b[0m\u001b[1;32m     61\u001b[0m             \u001b[0;32mreturn\u001b[0m \u001b[0mf\u001b[0m\u001b[0;34m.\u001b[0m\u001b[0mresult\u001b[0m\u001b[0;34m(\u001b[0m\u001b[0;34m)\u001b[0m\u001b[0;34m\u001b[0m\u001b[0;34m\u001b[0m\u001b[0m\n\u001b[1;32m     62\u001b[0m         \u001b[0;32melse\u001b[0m\u001b[0;34m:\u001b[0m\u001b[0;34m\u001b[0m\u001b[0;34m\u001b[0m\u001b[0m\n",
      "\u001b[0;32m~/anaconda3/lib/python3.7/site-packages/nest_asyncio.py\u001b[0m in \u001b[0;36mrun_once\u001b[0;34m(self)\u001b[0m\n\u001b[1;32m     87\u001b[0m             \u001b[0mtimeout\u001b[0m \u001b[0;34m=\u001b[0m \u001b[0mmax\u001b[0m\u001b[0;34m(\u001b[0m\u001b[0;36m0\u001b[0m\u001b[0;34m,\u001b[0m \u001b[0mwhen\u001b[0m \u001b[0;34m-\u001b[0m \u001b[0mself\u001b[0m\u001b[0;34m.\u001b[0m\u001b[0mtime\u001b[0m\u001b[0;34m(\u001b[0m\u001b[0;34m)\u001b[0m\u001b[0;34m)\u001b[0m\u001b[0;34m\u001b[0m\u001b[0;34m\u001b[0m\u001b[0m\n\u001b[1;32m     88\u001b[0m \u001b[0;34m\u001b[0m\u001b[0m\n\u001b[0;32m---> 89\u001b[0;31m         \u001b[0mevent_list\u001b[0m \u001b[0;34m=\u001b[0m \u001b[0mself\u001b[0m\u001b[0;34m.\u001b[0m\u001b[0m_selector\u001b[0m\u001b[0;34m.\u001b[0m\u001b[0mselect\u001b[0m\u001b[0;34m(\u001b[0m\u001b[0mtimeout\u001b[0m\u001b[0;34m)\u001b[0m\u001b[0;34m\u001b[0m\u001b[0;34m\u001b[0m\u001b[0m\n\u001b[0m\u001b[1;32m     90\u001b[0m         \u001b[0mself\u001b[0m\u001b[0;34m.\u001b[0m\u001b[0m_process_events\u001b[0m\u001b[0;34m(\u001b[0m\u001b[0mevent_list\u001b[0m\u001b[0;34m)\u001b[0m\u001b[0;34m\u001b[0m\u001b[0;34m\u001b[0m\u001b[0m\n\u001b[1;32m     91\u001b[0m \u001b[0;34m\u001b[0m\u001b[0m\n",
      "\u001b[0;32m~/anaconda3/lib/python3.7/selectors.py\u001b[0m in \u001b[0;36mselect\u001b[0;34m(self, timeout)\u001b[0m\n\u001b[1;32m    556\u001b[0m             \u001b[0mready\u001b[0m \u001b[0;34m=\u001b[0m \u001b[0;34m[\u001b[0m\u001b[0;34m]\u001b[0m\u001b[0;34m\u001b[0m\u001b[0;34m\u001b[0m\u001b[0m\n\u001b[1;32m    557\u001b[0m             \u001b[0;32mtry\u001b[0m\u001b[0;34m:\u001b[0m\u001b[0;34m\u001b[0m\u001b[0;34m\u001b[0m\u001b[0m\n\u001b[0;32m--> 558\u001b[0;31m                 \u001b[0mkev_list\u001b[0m \u001b[0;34m=\u001b[0m \u001b[0mself\u001b[0m\u001b[0;34m.\u001b[0m\u001b[0m_selector\u001b[0m\u001b[0;34m.\u001b[0m\u001b[0mcontrol\u001b[0m\u001b[0;34m(\u001b[0m\u001b[0;32mNone\u001b[0m\u001b[0;34m,\u001b[0m \u001b[0mmax_ev\u001b[0m\u001b[0;34m,\u001b[0m \u001b[0mtimeout\u001b[0m\u001b[0;34m)\u001b[0m\u001b[0;34m\u001b[0m\u001b[0;34m\u001b[0m\u001b[0m\n\u001b[0m\u001b[1;32m    559\u001b[0m             \u001b[0;32mexcept\u001b[0m \u001b[0mInterruptedError\u001b[0m\u001b[0;34m:\u001b[0m\u001b[0;34m\u001b[0m\u001b[0;34m\u001b[0m\u001b[0m\n\u001b[1;32m    560\u001b[0m                 \u001b[0;32mreturn\u001b[0m \u001b[0mready\u001b[0m\u001b[0;34m\u001b[0m\u001b[0;34m\u001b[0m\u001b[0m\n",
      "\u001b[0;31mKeyboardInterrupt\u001b[0m: "
     ]
    }
   ],
   "source": [
    "\n",
    "counts = job.result().get_counts()\n",
    "num_ones = sum([freq for (bitstring, freq) in counts.items() if bitstring.endswith('1')])"
   ]
  },
  {
   "cell_type": "code",
   "execution_count": 101,
   "metadata": {},
   "outputs": [
    {
     "name": "stdout",
     "output_type": "stream",
     "text": [
      "(ControlChannel(0),)\n",
      "(DriveChannel(1),)\n",
      "(ControlChannel(4),)\n",
      "(ControlChannel(12),)\n"
     ]
    }
   ],
   "source": [
    "instructions = cmd_def.get('u1', qubits=[1], P0=2).instructions\n",
    "for instruction in instructions:\n",
    "    print(instruction[1].channels)"
   ]
  },
  {
   "cell_type": "code",
   "execution_count": 107,
   "metadata": {},
   "outputs": [
    {
     "data": {
      "text/plain": [
       "((0, FrameChange(fc0, phase=1.571)),\n",
       " (0, FrameChange(fc1, phase=1.571)),\n",
       " (0, SamplePulse(Ym_d0, duration=10)),\n",
       " (0, SamplePulse(X90p_d1, duration=10)),\n",
       " (10, SamplePulse(CR90p_u0, duration=21)),\n",
       " (10, SamplePulse(CR90p_d1, duration=50)),\n",
       " (60, SamplePulse(Xp_d0, duration=10)),\n",
       " (70, SamplePulse(CR90m_u0, duration=21)),\n",
       " (70, SamplePulse(CR90m_d1, duration=50)))"
      ]
     },
     "execution_count": 107,
     "metadata": {},
     "output_type": "execute_result"
    }
   ],
   "source": [
    "(cmd_def.get('cx', qubits=[0,1])).flatten().instructions"
   ]
  },
  {
   "cell_type": "code",
   "execution_count": 111,
   "metadata": {},
   "outputs": [
    {
     "data": {
      "text/plain": [
       "['_Schedule__children',\n",
       " '__abstractmethods__',\n",
       " '__add__',\n",
       " '__class__',\n",
       " '__delattr__',\n",
       " '__dict__',\n",
       " '__dir__',\n",
       " '__doc__',\n",
       " '__eq__',\n",
       " '__format__',\n",
       " '__ge__',\n",
       " '__getattribute__',\n",
       " '__gt__',\n",
       " '__hash__',\n",
       " '__init__',\n",
       " '__init_subclass__',\n",
       " '__le__',\n",
       " '__lshift__',\n",
       " '__lt__',\n",
       " '__module__',\n",
       " '__ne__',\n",
       " '__new__',\n",
       " '__or__',\n",
       " '__reduce__',\n",
       " '__reduce_ex__',\n",
       " '__repr__',\n",
       " '__setattr__',\n",
       " '__sizeof__',\n",
       " '__str__',\n",
       " '__subclasshook__',\n",
       " '__weakref__',\n",
       " '_abc_impl',\n",
       " '_buffer',\n",
       " '_children',\n",
       " '_filter',\n",
       " '_instructions',\n",
       " '_name',\n",
       " '_timeslots',\n",
       " 'append',\n",
       " 'buffer',\n",
       " 'ch_duration',\n",
       " 'ch_start_time',\n",
       " 'ch_stop_time',\n",
       " 'channels',\n",
       " 'draw',\n",
       " 'duration',\n",
       " 'filter',\n",
       " 'flatten',\n",
       " 'insert',\n",
       " 'instructions',\n",
       " 'name',\n",
       " 'shift',\n",
       " 'start_time',\n",
       " 'stop_time',\n",
       " 'timeslots',\n",
       " 'union']"
      ]
     },
     "execution_count": 111,
     "metadata": {},
     "output_type": "execute_result"
    }
   ],
   "source": [
    "dir(pulse.Schedule())"
   ]
  },
  {
   "cell_type": "code",
   "execution_count": 131,
   "metadata": {},
   "outputs": [
    {
     "name": "stdout",
     "output_type": "stream",
     "text": [
      "(0, Schedule(\"name=cx\", 0, (0, FrameChange(fc0, phase=1.571)), (0, FrameChange(fc1, phase=1.571)), (0, SamplePulse(Ym_d0, duration=10)), (0, SamplePulse(X90p_d1, duration=10)), (10, SamplePulse(CR90p_u0, duration=21)), (10, SamplePulse(CR90p_d1, duration=50)), (60, SamplePulse(Xp_d0, duration=10)), (70, SamplePulse(CR90m_d1, duration=50))))\n",
      "(0, Schedule(\"name=CR90m_u0\", 70, (70, SamplePulse(CR90m_u0, duration=21))))\n"
     ]
    }
   ],
   "source": [
    "for child in cmd_def.get('cx', qubits=[0, 1])._children:\n",
    "    print(child)"
   ]
  },
  {
   "cell_type": "code",
   "execution_count": 149,
   "metadata": {},
   "outputs": [
    {
     "data": {
      "image/png": "[encoded data removed]",
      "text/plain": [
       "<Figure size 720x864 with 2 Axes>"
      ]
     },
     "execution_count": 149,
     "metadata": {},
     "output_type": "execute_result"
    }
   ],
   "source": [
    "cmd_def.get('cx', qubits=[0,1]).draw(scaling=7)"
   ]
  },
  {
   "cell_type": "code",
   "execution_count": 179,
   "metadata": {},
   "outputs": [
    {
     "ename": "AttributeError",
     "evalue": "can't set attribute",
     "output_type": "error",
     "traceback": [
      "\u001b[0;31m---------------------------------------------------------------------------\u001b[0m",
      "\u001b[0;31mAttributeError\u001b[0m                            Traceback (most recent call last)",
      "\u001b[0;32m<ipython-input-179-678d56fa9261>\u001b[0m in \u001b[0;36m<module>\u001b[0;34m\u001b[0m\n\u001b[1;32m      2\u001b[0m \u001b[0;32mfor\u001b[0m \u001b[0mchild\u001b[0m \u001b[0;32min\u001b[0m \u001b[0mcx_schedule\u001b[0m\u001b[0;34m.\u001b[0m\u001b[0mflatten\u001b[0m\u001b[0;34m(\u001b[0m\u001b[0;34m)\u001b[0m\u001b[0;34m.\u001b[0m\u001b[0m_children\u001b[0m\u001b[0;34m:\u001b[0m\u001b[0;34m\u001b[0m\u001b[0;34m\u001b[0m\u001b[0m\n\u001b[1;32m      3\u001b[0m     \u001b[0;32mif\u001b[0m \u001b[0mtype\u001b[0m\u001b[0;34m(\u001b[0m\u001b[0mchild\u001b[0m\u001b[0;34m[\u001b[0m\u001b[0;36m1\u001b[0m\u001b[0;34m]\u001b[0m\u001b[0;34m)\u001b[0m \u001b[0;34m==\u001b[0m \u001b[0mpulse\u001b[0m\u001b[0;34m.\u001b[0m\u001b[0mcommands\u001b[0m\u001b[0;34m.\u001b[0m\u001b[0msample_pulse\u001b[0m\u001b[0;34m.\u001b[0m\u001b[0mPulseInstruction\u001b[0m\u001b[0;34m:\u001b[0m\u001b[0;34m\u001b[0m\u001b[0;34m\u001b[0m\u001b[0m\n\u001b[0;32m----> 4\u001b[0;31m         \u001b[0mchild\u001b[0m\u001b[0;34m[\u001b[0m\u001b[0;36m1\u001b[0m\u001b[0;34m]\u001b[0m\u001b[0;34m.\u001b[0m\u001b[0mcommand\u001b[0m\u001b[0;34m.\u001b[0m\u001b[0msamples\u001b[0m \u001b[0;34m=\u001b[0m \u001b[0mmap\u001b[0m\u001b[0;34m(\u001b[0m\u001b[0;32mlambda\u001b[0m \u001b[0msample\u001b[0m\u001b[0;34m:\u001b[0m \u001b[0;36m0\u001b[0m\u001b[0;34m,\u001b[0m \u001b[0mchild\u001b[0m\u001b[0;34m[\u001b[0m\u001b[0;36m1\u001b[0m\u001b[0;34m]\u001b[0m\u001b[0;34m.\u001b[0m\u001b[0mcommand\u001b[0m\u001b[0;34m.\u001b[0m\u001b[0msamples\u001b[0m\u001b[0;34m)\u001b[0m\u001b[0;34m\u001b[0m\u001b[0;34m\u001b[0m\u001b[0m\n\u001b[0m",
      "\u001b[0;31mAttributeError\u001b[0m: can't set attribute"
     ]
    }
   ],
   "source": [
    "schedule = "
   ]
  },
  {
   "cell_type": "code",
   "execution_count": 187,
   "metadata": {},
   "outputs": [
    {
     "data": {
      "text/plain": [
       "(DriveChannel(1),)"
      ]
     },
     "execution_count": 187,
     "metadata": {},
     "output_type": "execute_result"
    }
   ],
   "source": [
    "instructions[3][1].channels"
   ]
  },
  {
   "cell_type": "code",
   "execution_count": 239,
   "metadata": {},
   "outputs": [],
   "source": [
    "def get_cr_schedule(theta=np.pi/2):\n",
    "    \"\"\"Effectively implements: 1-controlled RX(theta), 0-controlled RX(-theta)\"\"\"\n",
    "    assert theta <= np.pi/2\n",
    "    scaling_factor = theta / (np.pi/2)\n",
    "    \n",
    "    cx_schedule = cmd_def.get('cx', qubits=[0,1])\n",
    "    assert len(cx_schedule.instructions) == 9\n",
    "    \n",
    "    cr_schedule = pulse.Schedule()\n",
    "\n",
    "    offset = cx_schedule.instructions[4][0]\n",
    "    for instruction in cx_schedule.instructions[4:]:\n",
    "        command = instruction[1].command\n",
    "        if 'CR' in command.name and 'u0' in command.name:\n",
    "            command = SamplePulse(list(map(lambda sample: sample * scaling_factor, command.samples)))\n",
    "        cr_schedule |= command(instruction[1].channels[0]) << (instruction[0] - offset)\n",
    "        \n",
    "    cr_schedule = cmd_def.get('x', qubits=[0]) + cr_schedule\n",
    "    \n",
    "    return cr_schedule"
   ]
  },
  {
   "cell_type": "markdown",
   "metadata": {},
   "source": [
    "Annotated instructions:\n",
    "\n",
    "FrameChange(fc0, phase=1.571)      --> Z(qubit0)\n",
    "\n",
    "FrameChange(fc1, phase=1.571)      --> ignore--it affects control U(1), which is irrelevant\n",
    "\n",
    "SamplePulse(Ym_d0, duration=10)    --> Y(qubit 0)\n",
    "\n",
    "SamplePulse(X90p_d1, duration=10)  --> RX(90deg, qubit1)\n",
    "\n",
    "---------------\n",
    "\n",
    "Following sequence amounts to two CR pulses, one positive and one negative, separated by an X gate on qubit0.\n",
    "Sliding the X gate on qubit 0 to the left, this sequence becomes equivalent to an X(qubit0) followed by a CR with double the magnitude (i.e. double the angular rotation) of the individual ones. The positive and negative CR pulses help cancel out non ZX term errors. Specifically, the implemented CR becomes RX(-90deg, qubit1) followed by open control (qubit0) NOT on qubit1.\n",
    "\n",
    "SamplePulse(CR90p_u0, duration=21)\n",
    "\n",
    "SamplePulse(CR90p_d1, duration=50)\n",
    "\n",
    "SamplePulse(Xp_d0, duration=10)\n",
    "\n",
    "SamplePulse(CR90m_u0, duration=21)\n",
    "\n",
    "SamplePulse(CR90m_d1, duration=50)\n"
   ]
  },
  {
   "cell_type": "code",
   "execution_count": 223,
   "metadata": {},
   "outputs": [],
   "source": [
    "schedule = get_cr_schedule(theta=np.pi/4)\n",
    "schedule |= cmd_def.get('measure', qubits=config.meas_map[0]) << schedule.duration"
   ]
  },
  {
   "cell_type": "code",
   "execution_count": 226,
   "metadata": {},
   "outputs": [
    {
     "name": "stdout",
     "output_type": "stream",
     "text": [
      "5d9504cf6afef300184e6fc2\n"
     ]
    }
   ],
   "source": [
    "job = execute(schedule, backend=backend, shots=1000)\n",
    "print(job.job_id())"
   ]
  },
  {
   "cell_type": "code",
   "execution_count": 244,
   "metadata": {},
   "outputs": [
    {
     "name": "stdout",
     "output_type": "stream",
     "text": [
      "0.095\n"
     ]
    }
   ],
   "source": [
    "job = backend.retrieve_job('5d9504cf6afef300184e6fc2')\n",
    "counts = job.result().get_counts()\n",
    "num_ones = sum([freq for (bitstring, freq) in counts.items() if ('000' + bitstring)[-2] == '1'])\n",
    "print(num_ones/1000)  # should see about 14.6% (1-cos^2(pi/4/2)) fraction of ones"
   ]
  },
  {
   "cell_type": "code",
   "execution_count": 241,
   "metadata": {},
   "outputs": [],
   "source": [
    "schedule = get_cr_schedule(theta=3*np.pi/8)\n",
    "schedule |= cmd_def.get('measure', qubits=config.meas_map[0]) << schedule.duration"
   ]
  },
  {
   "cell_type": "code",
   "execution_count": 242,
   "metadata": {},
   "outputs": [
    {
     "name": "stderr",
     "output_type": "stream",
     "text": [
      "Task exception was never retrieved\n",
      "future: <Task finished coro=<WebsocketClient.get_job_status() done, defined at /Users/pranavgokhale/anaconda3/lib/python3.7/site-packages/qiskit/providers/ibmq/api_v2/clients/websocket.py:132> exception=None>\n",
      "Traceback (most recent call last):\n",
      "  File \"/Users/pranavgokhale/anaconda3/lib/python3.7/asyncio/tasks.py\", line 225, in __step\n",
      "    result = coro.throw(exc)\n",
      "  File \"/Users/pranavgokhale/anaconda3/lib/python3.7/site-packages/websockets/protocol.py\", line 684, in transfer_data\n",
      "    yield from self._put_message_waiter\n",
      "  File \"/Users/pranavgokhale/anaconda3/lib/python3.7/asyncio/futures.py\", line 260, in __await__\n",
      "    yield self  # This tells Task to wait for completion.\n",
      "concurrent.futures._base.CancelledError\n",
      "\n",
      "The above exception was the direct cause of the following exception:\n",
      "\n",
      "Traceback (most recent call last):\n",
      "  File \"/Users/pranavgokhale/anaconda3/lib/python3.7/site-packages/qiskit/providers/ibmq/api_v2/clients/websocket.py\", line 175, in get_job_status\n",
      "    response_raw = yield from websocket.recv()\n",
      "  File \"/Users/pranavgokhale/anaconda3/lib/python3.7/site-packages/websockets/protocol.py\", line 434, in recv\n",
      "    yield from self.ensure_open()\n",
      "  File \"/Users/pranavgokhale/anaconda3/lib/python3.7/site-packages/websockets/protocol.py\", line 658, in ensure_open\n",
      "    ) from self.transfer_data_exc\n",
      "websockets.exceptions.ConnectionClosed: WebSocket connection is closed: code = 1006 (connection closed abnormally [internal]), no reason\n",
      "\n",
      "The above exception was the direct cause of the following exception:\n",
      "\n",
      "Traceback (most recent call last):\n",
      "  File \"/Users/pranavgokhale/anaconda3/lib/python3.7/asyncio/tasks.py\", line 223, in __step\n",
      "    result = coro.send(None)\n",
      "  File \"/Users/pranavgokhale/anaconda3/lib/python3.7/site-packages/qiskit/providers/ibmq/api_v2/clients/websocket.py\", line 203, in get_job_status\n",
      "    'unexpectedly: {}'.format(message)) from ex\n",
      "qiskit.providers.ibmq.api_v2.exceptions.WebsocketError: Connection with websocket closed unexpectedly: Unexpected error\n"
     ]
    },
    {
     "name": "stdout",
     "output_type": "stream",
     "text": [
      "5d956ed3a58023001908cc9d\n"
     ]
    }
   ],
   "source": [
    "job = execute(schedule, backend=backend, shots=1000)\n",
    "print(job.job_id())"
   ]
  },
  {
   "cell_type": "code",
   "execution_count": 245,
   "metadata": {},
   "outputs": [
    {
     "name": "stdout",
     "output_type": "stream",
     "text": [
      "0.18\n"
     ]
    }
   ],
   "source": [
    "job = backend.retrieve_job('5d956ed3a58023001908cc9d')\n",
    "counts = job.result().get_counts()\n",
    "num_ones = sum([freq for (bitstring, freq) in counts.items() if ('000' + bitstring)[-2] == '1'])\n",
    "print(num_ones/1000)  # should see about 14.6% (1-cos^2(pi/4/2)) fraction of ones"
   ]
  },
  {
   "cell_type": "code",
   "execution_count": 246,
   "metadata": {},
   "outputs": [],
   "source": [
    "schedule = get_cr_schedule()\n",
    "schedule |= cmd_def.get('measure', qubits=config.meas_map[0]) << schedule.duration"
   ]
  },
  {
   "cell_type": "code",
   "execution_count": 247,
   "metadata": {},
   "outputs": [
    {
     "name": "stdout",
     "output_type": "stream",
     "text": [
      "5d957474a58023001908cc9f\n"
     ]
    }
   ],
   "source": [
    "job = execute(schedule, backend=backend, shots=1000)\n",
    "print(job.job_id())"
   ]
  },
  {
   "cell_type": "code",
   "execution_count": 248,
   "metadata": {},
   "outputs": [
    {
     "name": "stdout",
     "output_type": "stream",
     "text": [
      "0.267\n"
     ]
    }
   ],
   "source": [
    "job = backend.retrieve_job('5d957474a58023001908cc9f')\n",
    "counts = job.result().get_counts()\n",
    "num_ones = sum([freq for (bitstring, freq) in counts.items() if ('000' + bitstring)[-2] == '1'])\n",
    "print(num_ones/1000)  # should see about 14.6% (1-cos^2(pi/4/2)) fraction of ones"
   ]
  },
  {
   "cell_type": "code",
   "execution_count": null,
   "metadata": {},
   "outputs": [],
   "source": []
  }
 ],
 "metadata": {
  "kernelspec": {
   "display_name": "Python 3",
   "language": "python",
   "name": "python3"
  },
  "language_info": {
   "codemirror_mode": {
    "name": "ipython",
    "version": 3
   },
   "file_extension": ".py",
   "mimetype": "text/x-python",
   "name": "python",
   "nbconvert_exporter": "python",
   "pygments_lexer": "ipython3",
   "version": "3.7.1"
  }
 },
 "nbformat": 4,
 "nbformat_minor": 2
}
