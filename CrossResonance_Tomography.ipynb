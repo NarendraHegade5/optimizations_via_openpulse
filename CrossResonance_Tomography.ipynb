{
 "cells": [
  {
   "cell_type": "code",
   "execution_count": null,
   "metadata": {},
   "outputs": [],
   "source": [
    "import numpy as np\n",
    "import time\n",
    "from collections import namedtuple\n",
    "import matplotlib.pyplot as plt\n",
    "%matplotlib inline"
   ]
  },
  {
   "cell_type": "code",
   "execution_count": null,
   "metadata": {},
   "outputs": [],
   "source": [
    "import qiskit as q\n",
    "import qiskit.tools.jupyter\n",
    "from qiskit.pulse import pulse_lib as _  # only want to call pulse_lib as q.pulse.pulse_lib"
   ]
  },
  {
   "cell_type": "code",
   "execution_count": null,
   "metadata": {},
   "outputs": [],
   "source": [
    "import pulse_compiler_helper_fns"
   ]
  },
  {
   "cell_type": "code",
   "execution_count": null,
   "metadata": {},
   "outputs": [],
   "source": [
    "q.IBMQ.load_account() # Load account from disk\n",
    "q.IBMQ.providers()    # List all available providers"
   ]
  },
  {
   "cell_type": "code",
   "execution_count": null,
   "metadata": {},
   "outputs": [],
   "source": [
    "provider = q.IBMQ.get_provider(group='bes-qis')\n",
    "backend = provider.get_backend('ibmq_boeblingen')\n",
    "system = q.pulse.PulseChannelSpec.from_backend(backend)\n",
    "cmd_def = q.pulse.CmdDef.from_defaults(backend.defaults().cmd_def, backend.defaults().pulse_library)\n",
    "measure = cmd_def.get('measure', qubits=backend.configuration().meas_map[0])"
   ]
  },
  {
   "cell_type": "code",
   "execution_count": null,
   "metadata": {},
   "outputs": [],
   "source": [
    "# Measure X on target\n",
    "x_schedules = []\n",
    "for theta in np.linspace(0, np.pi, 20, endpoint=False):\n",
    "    schedule = pulse_compiler_helper_fns.get_cr_schedule(theta, 0, 1, cmd_def, system)\n",
    "    schedule |= cmd_def.get('u2', qubits=[1], P0=0, P1=np.pi) << schedule.duration\n",
    "    schedule |= measure << schedule.duration\n",
    "    x_schedules.append(schedule)\n",
    "    \n",
    "# do same thing, but first flip \n",
    "for theta in np.linspace(0, np.pi, 20, endpoint=False):\n",
    "    schedule = cmd_def.get('x', qubits=[0])\n",
    "    schedule |= pulse_compiler_helper_fns.get_cr_schedule(theta, 0, 1, cmd_def, system) << schedule.duration\n",
    "    schedule |= cmd_def.get('u2', qubits=[1], P0=0, P1=np.pi) << schedule.duration\n",
    "    schedule |= measure << schedule.duration\n",
    "    x_schedules.append(schedule)"
   ]
  },
  {
   "cell_type": "code",
   "execution_count": null,
   "metadata": {},
   "outputs": [],
   "source": [
    "# Measure Y on target\n",
    "y_schedules = []\n",
    "for theta in np.linspace(0, np.pi, 20, endpoint=False):\n",
    "    schedule = pulse_compiler_helper_fns.get_cr_schedule(theta, 0, 1, cmd_def, system)\n",
    "    schedule |= cmd_def.get('u1', qubits=[1], P0=-np.pi/2) << schedule.duration\n",
    "    schedule |= cmd_def.get('u2', qubits=[1], P0=0, P1=np.pi) << schedule.duration\n",
    "    schedule |= measure << schedule.duration\n",
    "    y_schedules.append(schedule)\n",
    "    \n",
    "# do same thing, but first flip \n",
    "for theta in np.linspace(0, np.pi, 20, endpoint=False):\n",
    "    schedule = cmd_def.get('x', qubits=[0])\n",
    "    schedule |= pulse_compiler_helper_fns.get_cr_schedule(theta, 0, 1, cmd_def, system) << schedule.duration\n",
    "    schedule |= cmd_def.get('u1', qubits=[1], P0=-np.pi/2) << schedule.duration\n",
    "    schedule |= cmd_def.get('u2', qubits=[1], P0=0, P1=np.pi) << schedule.duration\n",
    "    schedule |= measure << schedule.duration\n",
    "    y_schedules.append(schedule)"
   ]
  },
  {
   "cell_type": "code",
   "execution_count": null,
   "metadata": {},
   "outputs": [],
   "source": [
    "# Measure Z on target\n",
    "z_schedules = []\n",
    "for theta in np.linspace(0, np.pi, 20, endpoint=False):\n",
    "    schedule = pulse_compiler_helper_fns.get_cr_schedule(theta, 0, 1, cmd_def, system)\n",
    "    schedule |= cmd_def.get('u1', qubits=[1], P0=-np.pi/2) << schedule.duration\n",
    "    schedule |= cmd_def.get('u2', qubits=[1], P0=0, P1=np.pi) << schedule.duration\n",
    "    schedule |= measure << schedule.duration\n",
    "    z_schedules.append(schedule)\n",
    "    \n",
    "# do same thing, but first flip \n",
    "for theta in np.linspace(0, np.pi, 20, endpoint=False):\n",
    "    schedule = cmd_def.get('x', qubits=[0])\n",
    "    schedule |= pulse_compiler_helper_fns.get_cr_schedule(theta, 0, 1, cmd_def, system) << schedule.duration\n",
    "    schedule |= cmd_def.get('u1', qubits=[1], P0=-np.pi/2) << schedule.duration\n",
    "    schedule |= cmd_def.get('u2', qubits=[1], P0=0, P1=np.pi) << schedule.duration\n",
    "    schedule |= measure << schedule.duration\n",
    "    z_schedules.append(schedule)"
   ]
  },
  {
   "cell_type": "code",
   "execution_count": null,
   "metadata": {},
   "outputs": [],
   "source": [
    "shots = 200\n",
    "x_job = execute(x_schedules, backend=backend, shots=shots)\n",
    "print('X job is %s' % x_job.job_id())\n",
    "\n",
    "y_job = execute(y_schedules, backend=backend, shots=shots)\n",
    "print('Y job is %s' % y_job.job_id())\n",
    "\n",
    "z_job = execute(z_schedules, backend=backend, shots=shots)\n",
    "print('Z job is %s' % z_job.job_id())"
   ]
  },
  {
   "cell_type": "code",
   "execution_count": null,
   "metadata": {},
   "outputs": [],
   "source": [
    "x_result = x_job.result()\n",
    "y_result = y_job.result()\n",
    "z_result = z_job.result()"
   ]
  },
  {
   "cell_type": "code",
   "execution_count": null,
   "metadata": {},
   "outputs": [],
   "source": [
    "marginal_counts = q.ignis.verification.tomography.data.marginal_counts"
   ]
  },
  {
   "cell_type": "code",
   "execution_count": null,
   "metadata": {},
   "outputs": [],
   "source": [
    "x_vals_control_off = []\n",
    "for i in range(20):\n",
    "    x_counts = marginal_counts(x_result.get_counts(i), meas_qubits=[1])\n",
    "    x_vals_control_off.append((x_counts.get('0', 0) / shots - 0.5) * 2)\n",
    "\n",
    "x_vals_control_on = []\n",
    "for i in range(20, 40):\n",
    "    x_counts = marginal_counts(x_result.get_counts(i), meas_qubits=[1])\n",
    "    x_vals_control_on.append((x_counts.get('0', 0) / shots - 0.5) * 2)\n",
    "\n",
    "print(x_vals_control_off)\n",
    "print(x_vals_control_on)"
   ]
  },
  {
   "cell_type": "code",
   "execution_count": null,
   "metadata": {},
   "outputs": [],
   "source": [
    "y_vals_control_off = []\n",
    "for i in range(20):\n",
    "    y_counts = marginal_counts(y_result.get_counts(i), meas_qubits=[1])\n",
    "    y_vals_control_off.append((y_counts.get('0', 0) / shots - 0.5) * 2)\n",
    "\n",
    "y_vals_control_on = []\n",
    "for i in range(20, 40):\n",
    "    y_counts = marginal_counts(y_result.get_counts(i), meas_qubits=[1])\n",
    "    y_vals_control_on.append((y_counts.get('0', 0) / shots - 0.5) * 2)\n",
    "\n",
    "print(y_vals_control_off)\n",
    "print(y_vals_control_on)"
   ]
  },
  {
   "cell_type": "code",
   "execution_count": null,
   "metadata": {},
   "outputs": [],
   "source": [
    "z_vals_control_off = []\n",
    "for i in range(20):\n",
    "    z_counts = marginal_counts(z_result.get_counts(i), meas_qubits=[1])\n",
    "    z_vals_control_off.append((z_counts.get('0', 0) / shots - 0.5) * 2)\n",
    "\n",
    "z_vals_control_on = []\n",
    "for i in range(20, 40):\n",
    "    z_counts = marginal_counts(z_result.get_counts(i), meas_qubits=[1])\n",
    "    z_vals_control_on.append((z_counts.get('0', 0) / shots - 0.5) * 2)\n",
    "\n",
    "print(z_vals_control_off)\n",
    "print(z_vals_control_on)"
   ]
  }
 ],
 "metadata": {
  "kernelspec": {
   "display_name": "Python 3",
   "language": "python",
   "name": "python3"
  },
  "language_info": {
   "codemirror_mode": {
    "name": "ipython",
    "version": 3
   },
   "file_extension": ".py",
   "mimetype": "text/x-python",
   "name": "python",
   "nbconvert_exporter": "python",
   "pygments_lexer": "ipython3",
   "version": "3.7.3"
  }
 },
 "nbformat": 4,
 "nbformat_minor": 2
}
