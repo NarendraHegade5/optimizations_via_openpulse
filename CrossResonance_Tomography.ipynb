{
 "cells": [
  {
   "cell_type": "code",
   "execution_count": 1,
   "metadata": {},
   "outputs": [],
   "source": [
    "import numpy as np\n",
    "import time\n",
    "from collections import namedtuple\n",
    "import matplotlib.pyplot as plt\n",
    "%matplotlib inline"
   ]
  },
  {
   "cell_type": "code",
   "execution_count": 2,
   "metadata": {},
   "outputs": [],
   "source": [
    "import qiskit as q\n",
    "import qiskit.tools.jupyter\n",
    "from qiskit.pulse import pulse_lib as _  # only want to call pulse_lib as q.pulse.pulse_lib"
   ]
  },
  {
   "cell_type": "code",
   "execution_count": 3,
   "metadata": {},
   "outputs": [],
   "source": [
    "import pulse_compiler_helper_fns"
   ]
  },
  {
   "cell_type": "code",
   "execution_count": 4,
   "metadata": {},
   "outputs": [
    {
     "data": {
      "text/plain": [
       "[<AccountProvider for IBMQ(hub='ibm-q', group='open', project='main')>,\n",
       " <AccountProvider for IBMQ(hub='ibm-q-internal', group='reservations', project='reservations')>,\n",
       " <AccountProvider for IBMQ(hub='ibm-q-dev', group='qiskit-terra', project='pulse-testing')>,\n",
       " <AccountProvider for IBMQ(hub='ibm-q-dev', group='qiskit', project='terra')>,\n",
       " <AccountProvider for IBMQ(hub='ibm-q-dev', group='support', project='new-device-test')>,\n",
       " <AccountProvider for IBMQ(hub='ibm-q-dev', group='cloud', project='main')>,\n",
       " <AccountProvider for IBMQ(hub='ibm-q-perf', group='performance', project='default-params')>,\n",
       " <AccountProvider for IBMQ(hub='ibm-q-perf', group='performance', project='pulse-testing')>,\n",
       " <AccountProvider for IBMQ(hub='ibm-q-perf', group='qcaas', project='default')>,\n",
       " <AccountProvider for IBMQ(hub='perf-on-client-d', group='rocket', project='asplos')>]"
      ]
     },
     "execution_count": 4,
     "metadata": {},
     "output_type": "execute_result"
    }
   ],
   "source": [
    "q.IBMQ.load_account() # Load account from disk\n",
    "q.IBMQ.providers()    # List all available providers"
   ]
  },
  {
   "cell_type": "code",
   "execution_count": 5,
   "metadata": {},
   "outputs": [
    {
     "name": "stderr",
     "output_type": "stream",
     "text": [
      "/Users/alijavadi/Desktop/ajavadia-terra/qiskit/pulse/channels/pulse_channel_spec.py:87: DeprecationWarning: The PulseChannelSpec is deprecated. Use backend.configuration() instead. The supported methods require some migrations; check out the release notes for the complete details.\n",
      "  DeprecationWarning)\n"
     ]
    }
   ],
   "source": [
    "provider = q.IBMQ.get_provider(group='qiskit-terra', project='pulse-testing')\n",
    "backend = provider.get_backend('alt_almaden')\n",
    "system = q.pulse.PulseChannelSpec.from_backend(backend)\n",
    "cmd_def = q.pulse.CmdDef.from_defaults(backend.defaults().cmd_def, backend.defaults().pulse_library)\n",
    "measure = cmd_def.get('measure', qubits=backend.configuration().meas_map[0])"
   ]
  },
  {
   "cell_type": "code",
   "execution_count": 6,
   "metadata": {},
   "outputs": [],
   "source": [
    "# Measure X on target\n",
    "x_schedules = []\n",
    "for theta in np.linspace(0, np.pi, 41, endpoint=True):\n",
    "    schedule = pulse_compiler_helper_fns.get_cr_schedule(theta, 0, 1, cmd_def, system)\n",
    "    schedule |= cmd_def.get('u2', qubits=[1], P0=0, P1=np.pi) << schedule.duration\n",
    "    schedule |= measure << schedule.duration\n",
    "    x_schedules.append(schedule)\n",
    "    \n",
    "# do same thing, but first flip \n",
    "for theta in np.linspace(0, np.pi, 41, endpoint=True):\n",
    "    schedule = cmd_def.get('x', qubits=[0])\n",
    "    schedule |= pulse_compiler_helper_fns.get_cr_schedule(theta, 0, 1, cmd_def, system) << schedule.duration\n",
    "    schedule |= cmd_def.get('u2', qubits=[1], P0=0, P1=np.pi) << schedule.duration\n",
    "    schedule |= measure << schedule.duration\n",
    "    x_schedules.append(schedule)"
   ]
  },
  {
   "cell_type": "code",
   "execution_count": 7,
   "metadata": {},
   "outputs": [],
   "source": [
    "# Measure Y on target\n",
    "y_schedules = []\n",
    "for theta in np.linspace(0, np.pi, 41, endpoint=True):\n",
    "    schedule = pulse_compiler_helper_fns.get_cr_schedule(theta, 0, 1, cmd_def, system)\n",
    "    schedule |= cmd_def.get('u1', qubits=[1], P0=-np.pi/2) << schedule.duration\n",
    "    schedule |= cmd_def.get('u2', qubits=[1], P0=0, P1=np.pi) << schedule.duration\n",
    "    schedule |= measure << schedule.duration\n",
    "    y_schedules.append(schedule)\n",
    "    \n",
    "# do same thing, but first flip \n",
    "for theta in np.linspace(0, np.pi, 41, endpoint=True):\n",
    "    schedule = cmd_def.get('x', qubits=[0])\n",
    "    schedule |= pulse_compiler_helper_fns.get_cr_schedule(theta, 0, 1, cmd_def, system) << schedule.duration\n",
    "    schedule |= cmd_def.get('u1', qubits=[1], P0=-np.pi/2) << schedule.duration\n",
    "    schedule |= cmd_def.get('u2', qubits=[1], P0=0, P1=np.pi) << schedule.duration\n",
    "    schedule |= measure << schedule.duration\n",
    "    y_schedules.append(schedule)"
   ]
  },
  {
   "cell_type": "code",
   "execution_count": 8,
   "metadata": {},
   "outputs": [],
   "source": [
    "# Measure Z on target\n",
    "z_schedules = []\n",
    "for theta in np.linspace(0, np.pi, 41, endpoint=True):\n",
    "    schedule = pulse_compiler_helper_fns.get_cr_schedule(theta, 0, 1, cmd_def, system)\n",
    "    schedule |= measure << schedule.duration\n",
    "    z_schedules.append(schedule)\n",
    "    \n",
    "# do same thing, but first flip \n",
    "for theta in np.linspace(0, np.pi, 41, endpoint=True):\n",
    "    schedule = cmd_def.get('x', qubits=[0])\n",
    "    schedule |= pulse_compiler_helper_fns.get_cr_schedule(theta, 0, 1, cmd_def, system) << schedule.duration\n",
    "    schedule |= measure << schedule.duration\n",
    "    z_schedules.append(schedule)"
   ]
  },
  {
   "cell_type": "code",
   "execution_count": 9,
   "metadata": {},
   "outputs": [
    {
     "name": "stderr",
     "output_type": "stream",
     "text": [
      "/anaconda3/lib/python3.6/site-packages/ipywidgets/widgets/widget_layout.py:84: DeprecationWarning: Layout properties overflow_x and overflow_y have been deprecated and will be dropped in a future release. Please use the overflow shorthand property instead\n",
      "  warnings.warn(\"Layout properties overflow_x and overflow_y have been deprecated and will be dropped in a future release. Please use the overflow shorthand property instead\", DeprecationWarning)\n"
     ]
    },
    {
     "name": "stdout",
     "output_type": "stream",
     "text": [
      "X job is 5dd816a28aa7e00018b8f567\n",
      "Y job is 5dd816bff5613200186ad323\n",
      "Z job is 5dd816d90bf24b0018b73638\n"
     ]
    }
   ],
   "source": [
    "shots = 1000\n",
    "x_job = q.execute(x_schedules, backend=backend, shots=shots)\n",
    "print('X job is %s' % x_job.job_id())\n",
    "\n",
    "y_job = q.execute(y_schedules, backend=backend, shots=shots)\n",
    "print('Y job is %s' % y_job.job_id())\n",
    "\n",
    "z_job = q.execute(z_schedules, backend=backend, shots=shots)\n",
    "print('Z job is %s' % z_job.job_id())"
   ]
  },
  {
   "cell_type": "code",
   "execution_count": 10,
   "metadata": {},
   "outputs": [
    {
     "data": {
      "text/plain": [
       "<JobStatus.VALIDATING: 'job is being validated'>"
      ]
     },
     "execution_count": 10,
     "metadata": {},
     "output_type": "execute_result"
    }
   ],
   "source": [
    "z_job.status()"
   ]
  },
  {
   "cell_type": "code",
   "execution_count": 11,
   "metadata": {},
   "outputs": [
    {
     "data": {
      "text/plain": [
       "BackendStatus(backend_name='alt_almaden', backend_version='1.2.4', operational=True, pending_jobs=3, status_msg='active')"
      ]
     },
     "execution_count": 11,
     "metadata": {},
     "output_type": "execute_result"
    }
   ],
   "source": [
    "backend.status()"
   ]
  },
  {
   "cell_type": "code",
   "execution_count": 12,
   "metadata": {},
   "outputs": [],
   "source": [
    "x_result = x_job.result()\n",
    "y_result = y_job.result()\n",
    "z_result = z_job.result()"
   ]
  },
  {
   "cell_type": "code",
   "execution_count": 13,
   "metadata": {},
   "outputs": [],
   "source": [
    "from qiskit.ignis.verification.tomography.data import marginal_counts"
   ]
  },
  {
   "cell_type": "code",
   "execution_count": 14,
   "metadata": {},
   "outputs": [
    {
     "name": "stdout",
     "output_type": "stream",
     "text": [
      "[0.0020000000000000018, -0.02400000000000002, 0.03600000000000003, 0.028000000000000025, 0.02400000000000002, 0.06800000000000006, 0.07800000000000007, 0.016000000000000014, 0.04400000000000004, 0.0, 0.1319999999999999, 0.10200000000000009, 0.08000000000000007, 0.06600000000000006, 0.040000000000000036, 0.08200000000000007, 0.040000000000000036, 0.10400000000000009, 0.07800000000000007, 0.014000000000000012, 0.050000000000000044, -0.020000000000000018, 0.008000000000000007, 0.030000000000000027, 0.08400000000000007, 0.006000000000000005, 0.06400000000000006, 0.04200000000000004, 0.07800000000000007, 0.07800000000000007, 0.06000000000000005, 0.06000000000000005]\n",
      "[0.028000000000000025, 0.1200000000000001, 0.01200000000000001, 0.050000000000000044, 0.03400000000000003, 0.062000000000000055, -0.0020000000000000018, -0.0020000000000000018, -0.05600000000000005, 0.028000000000000025, 0.05400000000000005, 0.04200000000000004, -0.020000000000000018, 0.0, 0.05600000000000005, 0.0, 0.08600000000000008, 0.08200000000000007, 0.062000000000000055, 0.040000000000000036, 0.06600000000000006, 0.06400000000000006, 0.05800000000000005, 0.06600000000000006, 0.0020000000000000018, 0.1140000000000001, 0.0040000000000000036, 0.014000000000000012, 0.0040000000000000036, -0.03400000000000003, -0.03200000000000003, 0.026000000000000023]\n"
     ]
    }
   ],
   "source": [
    "x_vals_control_off = []\n",
    "for i in range(32):\n",
    "    x_counts = marginal_counts(x_result.get_counts(i), meas_qubits=[1])\n",
    "    x_vals_control_off.append((x_counts.get('0', 0) / shots - 0.5) * 2)\n",
    "\n",
    "x_vals_control_on = []\n",
    "for i in range(32, 64):\n",
    "    x_counts = marginal_counts(x_result.get_counts(i), meas_qubits=[1])\n",
    "    x_vals_control_on.append((x_counts.get('0', 0) / shots - 0.5) * 2)\n",
    "\n",
    "print(x_vals_control_off)\n",
    "print(x_vals_control_on)"
   ]
  },
  {
   "cell_type": "code",
   "execution_count": 15,
   "metadata": {},
   "outputs": [
    {
     "name": "stdout",
     "output_type": "stream",
     "text": [
      "[0.1259999999999999, 0.04400000000000004, -0.03400000000000003, -0.15800000000000003, -0.21599999999999997, -0.20799999999999996, -0.29800000000000004, -0.33799999999999997, -0.358, -0.43999999999999995, -0.516, -0.5760000000000001, -0.5660000000000001, -0.652, -0.6619999999999999, -0.6619999999999999, -0.74, -0.74, -0.748, -0.766, -0.764, -0.768, -0.742, -0.786, -0.764, -0.748, -0.716, -0.712, -0.6819999999999999, -0.65, -0.612, -0.548]\n",
      "[-0.482, -0.496, -0.44199999999999995, -0.394, -0.378, -0.28, -0.21599999999999997, -0.21599999999999997, -0.052000000000000046, 0.21199999999999997, 0.28600000000000003, 0.3400000000000001, 0.45599999999999996, 0.494, 0.5940000000000001, 0.6120000000000001, 0.6000000000000001, 0.712, 0.7, 0.774, 0.784, 0.8520000000000001, 0.8680000000000001, 0.8620000000000001, 0.8899999999999999, 0.8979999999999999, 0.948, 0.9019999999999999, 0.9099999999999999, 0.9179999999999999, 0.9319999999999999, 0.8819999999999999]\n"
     ]
    }
   ],
   "source": [
    "y_vals_control_off = []\n",
    "for i in range(32):\n",
    "    y_counts = marginal_counts(y_result.get_counts(i), meas_qubits=[1])\n",
    "    y_vals_control_off.append((y_counts.get('0', 0) / shots - 0.5) * 2)\n",
    "\n",
    "y_vals_control_on = []\n",
    "for i in range(32, 64):\n",
    "    y_counts = marginal_counts(y_result.get_counts(i), meas_qubits=[1])\n",
    "    y_vals_control_on.append((y_counts.get('0', 0) / shots - 0.5) * 2)\n",
    "\n",
    "print(y_vals_control_off)\n",
    "print(y_vals_control_on)"
   ]
  },
  {
   "cell_type": "code",
   "execution_count": 16,
   "metadata": {},
   "outputs": [
    {
     "name": "stdout",
     "output_type": "stream",
     "text": [
      "[0.972, 0.972, 0.968, 0.944, 0.9139999999999999, 0.8999999999999999, 0.8420000000000001, 0.8, 0.772, 0.782, 0.698, 0.5980000000000001, 0.6100000000000001, 0.5640000000000001, 0.558, 0.44199999999999995, 0.3779999999999999, 0.3700000000000001, 0.246, 0.20799999999999996, 0.18599999999999994, 0.05800000000000005, 0.02400000000000002, -0.09199999999999997, -0.132, -0.21599999999999997, -0.18999999999999995, -0.31200000000000006, -0.35, -0.372, -0.46199999999999997, -0.482]\n",
      "[-0.5680000000000001, -0.558, -0.6719999999999999, -0.6719999999999999, -0.6599999999999999, -0.714, -0.728, -0.794, -0.84, 0.966, 0.952, 0.944, 0.8999999999999999, 0.8779999999999999, 0.806, 0.764, 0.744, 0.736, 0.6599999999999999, 0.6339999999999999, 0.5720000000000001, 0.504, 0.48, 0.3839999999999999, 0.3740000000000001, 0.32200000000000006, 0.17999999999999994, 0.1160000000000001, 0.050000000000000044, 0.04600000000000004, -0.02400000000000002, -0.050000000000000044]\n"
     ]
    }
   ],
   "source": [
    "z_vals_control_off = []\n",
    "for i in range(32):\n",
    "    z_counts = marginal_counts(z_result.get_counts(i), meas_qubits=[1])\n",
    "    z_vals_control_off.append((z_counts.get('0', 0) / shots - 0.5) * 2)\n",
    "\n",
    "z_vals_control_on = []\n",
    "for i in range(32, 64):\n",
    "    z_counts = marginal_counts(z_result.get_counts(i), meas_qubits=[1])\n",
    "    z_vals_control_on.append((z_counts.get('0', 0) / shots - 0.5) * 2)\n",
    "\n",
    "print(z_vals_control_off)\n",
    "print(z_vals_control_on)"
   ]
  },
  {
   "cell_type": "code",
   "execution_count": 17,
   "metadata": {},
   "outputs": [],
   "source": [
    "# x_vals_control_off = \n",
    "# x_vals_control_on = \n",
    "# y_vals_control_off = \n",
    "# y_vals_control_on = \n",
    "# z_vals_control_off = \n",
    "# z_vals_control_on = "
   ]
  },
  {
   "cell_type": "code",
   "execution_count": 18,
   "metadata": {},
   "outputs": [
    {
     "data": {
      "text/plain": [
       "[0, 32, -1, 1]"
      ]
     },
     "execution_count": 18,
     "metadata": {},
     "output_type": "execute_result"
    },
    {
     "data": {
      "image/png": "[encoded data removed]",
      "text/plain": [
       "<Figure size 432x288 with 1 Axes>"
      ]
     },
     "metadata": {
      "needs_background": "light"
     },
     "output_type": "display_data"
    }
   ],
   "source": [
    "plt.plot(x_vals_control_off)\n",
    "plt.plot(x_vals_control_on)\n",
    "plt.axis([0, 32, -1, 1])"
   ]
  },
  {
   "cell_type": "code",
   "execution_count": 19,
   "metadata": {},
   "outputs": [
    {
     "data": {
      "text/plain": [
       "[0, 32, -1, 1]"
      ]
     },
     "execution_count": 19,
     "metadata": {},
     "output_type": "execute_result"
    },
    {
     "data": {
      "image/png": "[encoded data removed]",
      "text/plain": [
       "<Figure size 432x288 with 1 Axes>"
      ]
     },
     "metadata": {
      "needs_background": "light"
     },
     "output_type": "display_data"
    }
   ],
   "source": [
    "plt.plot(y_vals_control_off)\n",
    "plt.plot(y_vals_control_on)\n",
    "plt.axis([0, 32, -1, 1])"
   ]
  },
  {
   "cell_type": "code",
   "execution_count": 20,
   "metadata": {},
   "outputs": [
    {
     "data": {
      "text/plain": [
       "[0, 32, -1, 1]"
      ]
     },
     "execution_count": 20,
     "metadata": {},
     "output_type": "execute_result"
    },
    {
     "data": {
      "image/png": "[encoded data removed]",
      "text/plain": [
       "<Figure size 432x288 with 1 Axes>"
      ]
     },
     "metadata": {
      "needs_background": "light"
     },
     "output_type": "display_data"
    }
   ],
   "source": [
    "plt.plot(z_vals_control_off)\n",
    "plt.plot(z_vals_control_on)\n",
    "plt.axis([0, 32, -1, 1])"
   ]
  },
  {
   "cell_type": "code",
   "execution_count": null,
   "metadata": {},
   "outputs": [],
   "source": []
  }
 ],
 "metadata": {
  "kernelspec": {
   "display_name": "Python 3",
   "language": "python",
   "name": "python3"
  },
  "language_info": {
   "codemirror_mode": {
    "name": "ipython",
    "version": 3
   },
   "file_extension": ".py",
   "mimetype": "text/x-python",
   "name": "python",
   "nbconvert_exporter": "python",
   "pygments_lexer": "ipython3",
   "version": "3.6.9"
  }
 },
 "nbformat": 4,
 "nbformat_minor": 2
}
