{
 "cells": [
  {
   "cell_type": "markdown",
   "metadata": {},
   "source": [
    "## There are three sections here. See instructions below.\n",
    "Section 1 should be run using qiskit-terra master. This will cause standard compilation of RX(theta) into pulses.\n",
    "\n",
    "Section 2 should be run using Pranav's qiskit-terra fork, which will compile to a direct RX(theta) rotation. So after running Section 1, switch to the qiskit-terra fork, and restart the kernel.\n",
    "\n",
    "Section 3 is data analysis, which can be run with either qiskit-terra version. Easiest to keep running same fork, no need to restart kernel."
   ]
  },
  {
   "cell_type": "code",
   "execution_count": 10,
   "metadata": {},
   "outputs": [],
   "source": [
    "qubit_num = 0  # or change to a qubit that has bad coherence"
   ]
  },
  {
   "cell_type": "markdown",
   "metadata": {},
   "source": [
    "---\n",
    "## Section 1: Standard Compilation (run with qiskit-terra master)"
   ]
  },
  {
   "cell_type": "code",
   "execution_count": 2,
   "metadata": {},
   "outputs": [],
   "source": [
    "import numpy as np\n",
    "import time\n",
    "from collections import namedtuple\n",
    "import matplotlib.pyplot as plt\n",
    "%matplotlib inline"
   ]
  },
  {
   "cell_type": "code",
   "execution_count": 3,
   "metadata": {},
   "outputs": [],
   "source": [
    "import qiskit as q\n",
    "import qiskit.tools.jupyter\n",
    "from qiskit.pulse import pulse_lib as _  # only want to call pulse_lib as q.pulse.pulse_lib"
   ]
  },
  {
   "cell_type": "code",
   "execution_count": 4,
   "metadata": {},
   "outputs": [],
   "source": [
    "import pulse_compiler_helper_fns"
   ]
  },
  {
   "cell_type": "code",
   "execution_count": 7,
   "metadata": {},
   "outputs": [
    {
     "name": "stderr",
     "output_type": "stream",
     "text": [
      "Credentials are already in use. The existing account in the session will be replaced.\n"
     ]
    },
    {
     "data": {
      "text/plain": [
       "<AccountProvider for IBMQ(hub='ibm-q', group='open', project='main')>"
      ]
     },
     "execution_count": 7,
     "metadata": {},
     "output_type": "execute_result"
    }
   ],
   "source": [
    "q.IBMQ.load_account() # Load account from disk"
   ]
  },
  {
   "cell_type": "code",
   "execution_count": 10,
   "metadata": {},
   "outputs": [
    {
     "name": "stderr",
     "output_type": "stream",
     "text": [
      "/Users/alijavadi/Desktop/ajavadia-terra/qiskit/pulse/channels/pulse_channel_spec.py:87: DeprecationWarning: The PulseChannelSpec is deprecated. Use backend.configuration() instead. The supported methods require some migrations; check out the release notes for the complete details.\n",
      "  DeprecationWarning)\n"
     ]
    }
   ],
   "source": [
    "provider = q.IBMQ.get_provider(group='qiskit-terra', project='pulse-testing')\n",
    "backend = provider.get_backend('alt_almaden')\n",
    "config = backend.configuration()\n",
    "system = q.pulse.PulseChannelSpec.from_backend(backend)\n",
    "cmd_def = q.pulse.CmdDef.from_defaults(backend.defaults().cmd_def, backend.defaults().pulse_library)\n",
    "measure = cmd_def.get('measure', qubits=backend.configuration().meas_map[0])"
   ]
  },
  {
   "cell_type": "code",
   "execution_count": 7,
   "metadata": {},
   "outputs": [
    {
     "name": "stdout",
     "output_type": "stream",
     "text": [
      "[ 0.17453293  0.34906585  0.52359878  0.6981317   0.87266463  1.04719755\n",
      "  1.22173048  1.3962634   1.57079633  1.74532925  1.91986218  2.0943951\n",
      "  2.26892803  2.44346095  2.61799388  2.7925268   2.96705973]\n"
     ]
    }
   ],
   "source": [
    "num_angles = 17  # will exclude endpoints of 0 and 2pi\n",
    "angles = np.linspace(0, np.pi, num_angles+1, endpoint=False)[1:]  # get rid of endpoints\n",
    "print(angles)"
   ]
  },
  {
   "cell_type": "code",
   "execution_count": 8,
   "metadata": {},
   "outputs": [],
   "source": [
    "schedules = []\n",
    "for angle in angles:\n",
    "    schedule = cmd_def.get('u3', [qubit_num], P0=angle, P1=3*np.pi/2, P2=np.pi/2)  # RX(angle) = U3(angle, 3pi/2, pi/2)\n",
    "    schedule |= measure << schedule.duration\n",
    "    schedules.append(schedule)"
   ]
  },
  {
   "cell_type": "code",
   "execution_count": 13,
   "metadata": {},
   "outputs": [
    {
     "data": {
      "image/png": "[encoded data removed]",
      "text/plain": [
       "<Figure size 720x864 with 2 Axes>"
      ]
     },
     "execution_count": 13,
     "metadata": {},
     "output_type": "execute_result"
    }
   ],
   "source": [
    "# sanity check, show a schedule\n",
    "schedules[10].draw(plot_range=(0, 1500), channels=[config.drive(0)])"
   ]
  },
  {
   "cell_type": "code",
   "execution_count": 14,
   "metadata": {},
   "outputs": [
    {
     "name": "stdout",
     "output_type": "stream",
     "text": [
      "5dd45214407b8c0019f72135\n"
     ]
    },
    {
     "name": "stderr",
     "output_type": "stream",
     "text": [
      "/anaconda3/lib/python3.6/site-packages/ipywidgets/widgets/widget_layout.py:84: DeprecationWarning: Layout properties overflow_x and overflow_y have been deprecated and will be dropped in a future release. Please use the overflow shorthand property instead\n",
      "  warnings.warn(\"Layout properties overflow_x and overflow_y have been deprecated and will be dropped in a future release. Please use the overflow shorthand property instead\", DeprecationWarning)\n"
     ]
    }
   ],
   "source": [
    "shots = 1000\n",
    "standard_job = q.execute(schedules, backend=backend, shots=shots)\n",
    "print(standard_job.job_id())"
   ]
  },
  {
   "cell_type": "markdown",
   "metadata": {},
   "source": [
    "------\n",
    "## Section 2: Direct RX (Switch to Pranav's qiskit-terra fork, then restart kernel but don't clear output)"
   ]
  },
  {
   "cell_type": "code",
   "execution_count": 1,
   "metadata": {},
   "outputs": [],
   "source": [
    "import numpy as np\n",
    "import time\n",
    "from collections import namedtuple\n",
    "import matplotlib.pyplot as plt\n",
    "%matplotlib inline"
   ]
  },
  {
   "cell_type": "code",
   "execution_count": 2,
   "metadata": {},
   "outputs": [],
   "source": [
    "import qiskit as q\n",
    "import qiskit.tools.jupyter\n",
    "from qiskit.pulse import pulse_lib as _  # only want to call pulse_lib as q.pulse.pulse_lib"
   ]
  },
  {
   "cell_type": "code",
   "execution_count": 3,
   "metadata": {},
   "outputs": [],
   "source": [
    "import pulse_compiler_helper_fns"
   ]
  },
  {
   "cell_type": "code",
   "execution_count": 6,
   "metadata": {},
   "outputs": [
    {
     "name": "stderr",
     "output_type": "stream",
     "text": [
      "Credentials are already in use. The existing account in the session will be replaced.\n"
     ]
    },
    {
     "data": {
      "text/plain": [
       "<AccountProvider for IBMQ(hub='ibm-q', group='open', project='main')>"
      ]
     },
     "execution_count": 6,
     "metadata": {},
     "output_type": "execute_result"
    }
   ],
   "source": [
    "q.IBMQ.load_account() # Load account from disk"
   ]
  },
  {
   "cell_type": "code",
   "execution_count": 5,
   "metadata": {},
   "outputs": [
    {
     "name": "stderr",
     "output_type": "stream",
     "text": [
      "/Users/alijavadi/Desktop/ajavadia-terra/qiskit/pulse/channels/pulse_channel_spec.py:87: DeprecationWarning: The PulseChannelSpec is deprecated. Use backend.configuration() instead. The supported methods require some migrations; check out the release notes for the complete details.\n",
      "  DeprecationWarning)\n"
     ]
    }
   ],
   "source": [
    "provider = q.IBMQ.get_provider(group='qiskit-terra', project='pulse-testing')\n",
    "backend = provider.get_backend('alt_almaden')\n",
    "config = backend.configuration()\n",
    "system = q.pulse.PulseChannelSpec.from_backend(backend)\n",
    "cmd_def = q.pulse.CmdDef.from_defaults(backend.defaults().cmd_def, backend.defaults().pulse_library)\n",
    "measure = cmd_def.get('measure', qubits=backend.configuration().meas_map[0])"
   ]
  },
  {
   "cell_type": "code",
   "execution_count": 8,
   "metadata": {},
   "outputs": [
    {
     "name": "stdout",
     "output_type": "stream",
     "text": [
      "[ 0.17453293  0.34906585  0.52359878  0.6981317   0.87266463  1.04719755\n",
      "  1.22173048  1.3962634   1.57079633  1.74532925  1.91986218  2.0943951\n",
      "  2.26892803  2.44346095  2.61799388  2.7925268   2.96705973]\n"
     ]
    }
   ],
   "source": [
    "num_angles = 17  # will exclude endpoints of 0 and 2pi\n",
    "angles = np.linspace(0, np.pi, num_angles+1, endpoint=False)[1:]  # get rid of endpoints\n",
    "print(angles)"
   ]
  },
  {
   "cell_type": "code",
   "execution_count": 11,
   "metadata": {},
   "outputs": [],
   "source": [
    "schedules = []\n",
    "for angle in angles:\n",
    "    circuit = q.QuantumCircuit(20)\n",
    "    circuit.rx(angle, qubit_num)\n",
    "    decomposed_circuit = circuit.decompose()\n",
    "    pulse_compiler_helper_fns.update_basis_gates_and_cmd_def(decomposed_circuit, backend, system, cmd_def)\n",
    "    transpiled_circuit = q.transpile(circuit, backend, optimization_level=1)\n",
    "    schedule = q.schedule(transpiled_circuit, backend=backend, cmd_def=cmd_def)\n",
    "    schedule |= measure << schedule.duration\n",
    "    schedules.append(schedule)"
   ]
  },
  {
   "cell_type": "code",
   "execution_count": 12,
   "metadata": {},
   "outputs": [
    {
     "data": {
      "image/png": "[encoded data removed]",
      "text/plain": [
       "<Figure size 720x864 with 1 Axes>"
      ]
     },
     "execution_count": 12,
     "metadata": {},
     "output_type": "execute_result"
    }
   ],
   "source": [
    "# sanity check, show a schedule\n",
    "schedules[10].draw(plot_range=(0, 1500), channels=[config.drive(0)])"
   ]
  },
  {
   "cell_type": "code",
   "execution_count": 13,
   "metadata": {},
   "outputs": [
    {
     "name": "stdout",
     "output_type": "stream",
     "text": [
      "5dd453edf501cd001811d73f\n"
     ]
    },
    {
     "name": "stderr",
     "output_type": "stream",
     "text": [
      "/anaconda3/lib/python3.6/site-packages/ipywidgets/widgets/widget_layout.py:84: DeprecationWarning: Layout properties overflow_x and overflow_y have been deprecated and will be dropped in a future release. Please use the overflow shorthand property instead\n",
      "  warnings.warn(\"Layout properties overflow_x and overflow_y have been deprecated and will be dropped in a future release. Please use the overflow shorthand property instead\", DeprecationWarning)\n"
     ]
    }
   ],
   "source": [
    "shots = 1000\n",
    "direct_job = q.execute(schedules, backend=backend, shots=shots)\n",
    "print(direct_job.job_id())"
   ]
  },
  {
   "cell_type": "markdown",
   "metadata": {},
   "source": [
    "---\n",
    "## Section 3: Data Analysis"
   ]
  },
  {
   "cell_type": "code",
   "execution_count": 14,
   "metadata": {},
   "outputs": [],
   "source": [
    "standard_job = backend.retrieve_job('5dd45214407b8c0019f72135')\n",
    "direct_job = backend.retrieve_job('5dd453edf501cd001811d73f')"
   ]
  },
  {
   "cell_type": "code",
   "execution_count": 27,
   "metadata": {},
   "outputs": [
    {
     "data": {
      "text/plain": [
       "<JobStatus.DONE: 'job has successfully run'>"
      ]
     },
     "execution_count": 27,
     "metadata": {},
     "output_type": "execute_result"
    }
   ],
   "source": [
    "direct_job.status()"
   ]
  },
  {
   "cell_type": "code",
   "execution_count": 28,
   "metadata": {},
   "outputs": [],
   "source": [
    "standard_result = standard_job.result()\n",
    "direct_result = direct_job.result()"
   ]
  },
  {
   "cell_type": "code",
   "execution_count": 29,
   "metadata": {},
   "outputs": [],
   "source": [
    "from qiskit.ignis.verification.tomography.data import marginal_counts"
   ]
  },
  {
   "cell_type": "code",
   "execution_count": 30,
   "metadata": {},
   "outputs": [
    {
     "name": "stdout",
     "output_type": "stream",
     "text": [
      "[0.032, 0.075, 0.112, 0.127, 0.178, 0.241, 0.353, 0.442, 0.508, 0.57, 0.647, 0.74, 0.766, 0.832, 0.878, 0.924, 0.907]\n",
      "[0.034, 0.054, 0.094, 0.144, 0.183, 0.253, 0.355, 0.382, 0.514, 0.573, 0.659, 0.737, 0.781, 0.848, 0.888, 0.917, 0.921]\n"
     ]
    }
   ],
   "source": [
    "standard_fracs = []\n",
    "for i in range(num_angles):\n",
    "    counts = marginal_counts(standard_result.get_counts(i), meas_qubits=[qubit_num])\n",
    "    standard_fracs.append(counts.get('1', 0) / shots)\n",
    "print(standard_fracs)\n",
    "\n",
    "direct_fracs = []\n",
    "for i in range(num_angles):\n",
    "    counts = marginal_counts(direct_result.get_counts(i), meas_qubits=[qubit_num])\n",
    "    direct_fracs.append(counts.get('1', 0) / shots)\n",
    "print(direct_fracs)"
   ]
  },
  {
   "cell_type": "code",
   "execution_count": 31,
   "metadata": {},
   "outputs": [
    {
     "data": {
      "text/plain": [
       "[0, 3.141592653589793, 0, 1]"
      ]
     },
     "execution_count": 31,
     "metadata": {},
     "output_type": "execute_result"
    },
    {
     "data": {
      "image/png": "[encoded data removed]",
      "text/plain": [
       "<Figure size 432x288 with 1 Axes>"
      ]
     },
     "metadata": {
      "needs_background": "light"
     },
     "output_type": "display_data"
    }
   ],
   "source": [
    "plt.scatter(angles, standard_fracs)\n",
    "plt.scatter(angles, direct_fracs)\n",
    "plt.plot(angles, [np.sin(angle / 2) ** 2 for angle in angles])\n",
    "plt.axis([0, np.pi, 0, 1])"
   ]
  },
  {
   "cell_type": "code",
   "execution_count": null,
   "metadata": {},
   "outputs": [],
   "source": []
  }
 ],
 "metadata": {
  "kernelspec": {
   "display_name": "Python 3",
   "language": "python",
   "name": "python3"
  },
  "language_info": {
   "codemirror_mode": {
    "name": "ipython",
    "version": 3
   },
   "file_extension": ".py",
   "mimetype": "text/x-python",
   "name": "python",
   "nbconvert_exporter": "python",
   "pygments_lexer": "ipython3",
   "version": "3.6.9"
  }
 },
 "nbformat": 4,
 "nbformat_minor": 2
}
