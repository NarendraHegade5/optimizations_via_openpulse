{
 "cells": [
  {
   "cell_type": "code",
   "execution_count": 1,
   "metadata": {},
   "outputs": [],
   "source": [
    "import numpy as np\n",
    "import time\n",
    "from collections import namedtuple\n",
    "import matplotlib.pyplot as plt\n",
    "%matplotlib inline"
   ]
  },
  {
   "cell_type": "code",
   "execution_count": 2,
   "metadata": {},
   "outputs": [],
   "source": [
    "import qiskit as q\n",
    "import qiskit.tools.jupyter\n",
    "from qiskit.pulse import pulse_lib as _  # only want to call pulse_lib as q.pulse.pulse_lib\n",
    "from qiskit.test.mock import FakeAlmaden\n",
    "from qiskit.ignis.verification.tomography.data import marginal_counts"
   ]
  },
  {
   "cell_type": "code",
   "execution_count": 3,
   "metadata": {},
   "outputs": [],
   "source": [
    "import pulse_compiler_helper_fns"
   ]
  },
  {
   "cell_type": "code",
   "execution_count": 4,
   "metadata": {},
   "outputs": [
    {
     "name": "stderr",
     "output_type": "stream",
     "text": [
      "/Users/pranavgokhale/Developer/qiskit/qiskit-terra/qiskit/pulse/channels/pulse_channel_spec.py:87: DeprecationWarning: The PulseChannelSpec is deprecated. Use backend.configuration() instead. The supported methods require some migrations; check out the release notes for the complete details.\n",
      "  DeprecationWarning)\n"
     ]
    }
   ],
   "source": [
    "backend = FakeAlmaden()\n",
    "system = q.pulse.PulseChannelSpec.from_backend(backend)\n",
    "back_config = backend.configuration().to_dict()\n",
    "cmd_def = q.pulse.CmdDef.from_defaults(backend.defaults().cmd_def, backend.defaults().pulse_library)\n",
    "measure = cmd_def.get('measure', qubits=backend.configuration().meas_map[0])\n",
    "backend_sim = qiskit.Aer.get_backend('pulse_simulator')"
   ]
  },
  {
   "cell_type": "code",
   "execution_count": 5,
   "metadata": {},
   "outputs": [],
   "source": [
    "hamiltonian = {}\n",
    "hamiltonian['h_str'] = ['_SUM[i,0,1,wq{i}/2*(I{i}-Z{i})]', '_SUM[i,0,1,omegad{i}*X{i}||D{i}]',\n",
    "                        'jq0q1*Sp0*Sm1', 'jq0q1*Sm0*Sp1', 'omegad1*X0||U0', 'omegad0*X1||U1']\n",
    "hamiltonian['qub'] = {'0': 2, '1': 2}\n",
    "hamiltonian['vars'] = {'wq0': 30.518812656662774, 'wq1': 31.238229295532093,\n",
    "                       'omegad0': 0.1675, 'omegad1': 0.176,\n",
    "                       'jq0q1': -0.0069}\n",
    "\n",
    "back_config['hamiltonian'] = hamiltonian\n",
    "back_config['noise'] = {}\n",
    "back_config['dt'] = 1.0\n",
    "back_config['ode_options'] = {}\n",
    "back_config['qubit_list'] = [0,1]"
   ]
  },
  {
   "cell_type": "markdown",
   "metadata": {},
   "source": [
    "------"
   ]
  },
  {
   "cell_type": "code",
   "execution_count": 6,
   "metadata": {},
   "outputs": [],
   "source": [
    "# first check |00>. CNOT should yield |00> again.\n",
    "circuit = q.QuantumCircuit(2)\n",
    "circuit.cx(0, 1)\n",
    "\n",
    "decomposed_circuit = circuit.decompose()\n",
    "#print(decomposed_circuit)\n",
    "\n",
    "pulse_compiler_helper_fns.update_basis_gates_and_cmd_def(decomposed_circuit, backend, system, cmd_def)\n",
    "transpiled_circuit = q.transpile(decomposed_circuit, backend, optimization_level=1)\n",
    "#print(transpiled_circuit)\n",
    "\n",
    "schedule = q.schedule(transpiled_circuit, backend=backend, cmd_def=cmd_def)\n",
    "schedule |= measure << schedule.duration"
   ]
  },
  {
   "cell_type": "code",
   "execution_count": 7,
   "metadata": {},
   "outputs": [
    {
     "data": {
      "text/plain": [
       "array([0.        , 4.85720941, 4.97172909, 9.82893851])"
      ]
     },
     "execution_count": 7,
     "metadata": {},
     "output_type": "execute_result"
    }
   ],
   "source": [
    "shots = 1000\n",
    "qobj = q.assemble(schedule, backend, \n",
    "                       meas_level=1, meas_return='avg', \n",
    "                       memory_slots=2,\n",
    "                       shots=shots, sim_config = back_config)\n",
    "evals, estates = backend_sim.get_dressed_energies(qobj)\n",
    "evals/2/np.pi"
   ]
  },
  {
   "cell_type": "code",
   "execution_count": 10,
   "metadata": {},
   "outputs": [
    {
     "name": "stdout",
     "output_type": "stream",
     "text": [
      "{'00000000000000000010': 5, '00000000000000000000': 9995}\n"
     ]
    }
   ],
   "source": [
    "shots = 10000\n",
    "\n",
    "qobj = q.assemble(schedule, backend, \n",
    "                     qubit_lo_freq = [evals[1]/2/np.pi, evals[2]/2/np.pi],\n",
    "                     shots=shots, sim_config = back_config)\n",
    "result = backend_sim.run(qobj).result()\n",
    "print(result.get_counts())"
   ]
  },
  {
   "cell_type": "markdown",
   "metadata": {},
   "source": [
    "------"
   ]
  },
  {
   "cell_type": "code",
   "execution_count": 11,
   "metadata": {},
   "outputs": [
    {
     "name": "stdout",
     "output_type": "stream",
     "text": [
      "{'00000000000000000010': 9982, '00000000000000000000': 18}\n"
     ]
    }
   ],
   "source": [
    "# now check |01>. CNOT should yield |01> again.\n",
    "circuit = q.QuantumCircuit(2)\n",
    "circuit.x(1)\n",
    "circuit.cx(0, 1)\n",
    "\n",
    "decomposed_circuit = circuit.decompose()\n",
    "#print(decomposed_circuit)\n",
    "\n",
    "pulse_compiler_helper_fns.update_basis_gates_and_cmd_def(decomposed_circuit, backend, system, cmd_def)\n",
    "transpiled_circuit = q.transpile(decomposed_circuit, backend, optimization_level=1)\n",
    "#print(transpiled_circuit)\n",
    "\n",
    "schedule = q.schedule(transpiled_circuit, backend=backend, cmd_def=cmd_def)\n",
    "schedule |= measure << schedule.duration\n",
    "\n",
    "\n",
    "qobj = q.assemble(schedule, backend, \n",
    "                     qubit_lo_freq = [evals[1]/2/np.pi, evals[2]/2/np.pi],\n",
    "                     shots=shots, sim_config = back_config)\n",
    "result = backend_sim.run(qobj).result()\n",
    "print(result.get_counts())"
   ]
  },
  {
   "cell_type": "markdown",
   "metadata": {},
   "source": [
    "------"
   ]
  },
  {
   "cell_type": "code",
   "execution_count": 12,
   "metadata": {},
   "outputs": [
    {
     "name": "stdout",
     "output_type": "stream",
     "text": [
      "{'00000000000000000011': 9996, '00000000000000000001': 4}\n"
     ]
    }
   ],
   "source": [
    "# now check |10>. CNOT should yield |11>.\n",
    "circuit = q.QuantumCircuit(2)\n",
    "circuit.x(0)\n",
    "circuit.cx(0, 1)\n",
    "\n",
    "decomposed_circuit = circuit.decompose()\n",
    "#print(decomposed_circuit)\n",
    "\n",
    "pulse_compiler_helper_fns.update_basis_gates_and_cmd_def(decomposed_circuit, backend, system, cmd_def)\n",
    "transpiled_circuit = q.transpile(decomposed_circuit, backend, optimization_level=1)\n",
    "#print(transpiled_circuit)\n",
    "\n",
    "schedule = q.schedule(transpiled_circuit, backend=backend, cmd_def=cmd_def)\n",
    "schedule |= measure << schedule.duration\n",
    "\n",
    "\n",
    "qobj = q.assemble(schedule, backend, \n",
    "                     qubit_lo_freq = [evals[1]/2/np.pi, evals[2]/2/np.pi],\n",
    "                     shots=shots, sim_config = back_config)\n",
    "result = backend_sim.run(qobj).result()\n",
    "print(result.get_counts())"
   ]
  },
  {
   "cell_type": "markdown",
   "metadata": {},
   "source": [
    "------"
   ]
  },
  {
   "cell_type": "code",
   "execution_count": 13,
   "metadata": {},
   "outputs": [
    {
     "name": "stdout",
     "output_type": "stream",
     "text": [
      "{'00000000000000000011': 11, '00000000000000000001': 9989}\n"
     ]
    }
   ],
   "source": [
    "# now check |11>. CNOT should yield |10>.\n",
    "circuit = q.QuantumCircuit(2)\n",
    "circuit.x(0)\n",
    "circuit.x(1)\n",
    "circuit.cx(0, 1)\n",
    "\n",
    "decomposed_circuit = circuit.decompose()\n",
    "#print(decomposed_circuit)\n",
    "\n",
    "pulse_compiler_helper_fns.update_basis_gates_and_cmd_def(decomposed_circuit, backend, system, cmd_def)\n",
    "transpiled_circuit = q.transpile(decomposed_circuit, backend, optimization_level=1)\n",
    "#print(transpiled_circuit)\n",
    "\n",
    "schedule = q.schedule(transpiled_circuit, backend=backend, cmd_def=cmd_def)\n",
    "schedule |= measure << schedule.duration\n",
    "\n",
    "\n",
    "qobj = q.assemble(schedule, backend, \n",
    "                     qubit_lo_freq = [evals[1]/2/np.pi, evals[2]/2/np.pi],\n",
    "                     shots=shots, sim_config = back_config)\n",
    "result = backend_sim.run(qobj).result()\n",
    "print(result.get_counts())"
   ]
  }
 ],
 "metadata": {
  "kernelspec": {
   "display_name": "Python 3",
   "language": "python",
   "name": "python3"
  },
  "language_info": {
   "codemirror_mode": {
    "name": "ipython",
    "version": 3
   },
   "file_extension": ".py",
   "mimetype": "text/x-python",
   "name": "python",
   "nbconvert_exporter": "python",
   "pygments_lexer": "ipython3",
   "version": "3.7.3"
  }
 },
 "nbformat": 4,
 "nbformat_minor": 2
}
