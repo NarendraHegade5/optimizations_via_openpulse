{
 "cells": [
  {
   "cell_type": "markdown",
   "metadata": {},
   "source": [
    "In this notebook we use Quantum State Tomography (QST) to obtain fidelities of ZZ(θ) interactions, using:\n",
    "\n",
    "1. a standard decomposition using 2 CNOTs\n",
    "2. an optimized decomposition using only one Cross Resonance (CR(θ))\n",
    "\n",
    "In both implementations, the CR pulses are echoed.\n",
    "\n",
    "The state on which we do tomography is produced by a ZZ(θ) sandwiched between hadmards\n",
    "```\n",
    "        ┌───┐        ┌───┐\n",
    "q_0: |0>┤ H ├─■──────┤ H ├\n",
    "        ├───┤ │zz(θ) ├───┤\n",
    "q_1: |0>┤ H ├─■──────┤ H ├\n",
    "        └───┘        └───┘\n",
    "```\n",
    "\n",
    "when starting at |00>, this simplifies to the following:\n",
    "```\n",
    "                 ┌───┐\n",
    "q_0: |0>─────────┤ X ├\n",
    "        ┌───────┐└─┬─┘\n",
    "q_1: |0>┤ Rx(θ) ├──■──\n",
    "        └───────┘\n",
    "```\n",
    "\n",
    "which causes the |00> and |11> basis states to track each other in a sinusoid:\n",
    "```\n",
    "|Ⲯ> = exp(θ/2)|00> + exp(π/2-θ/2)|11>\n",
    "```"
   ]
  },
  {
   "cell_type": "code",
   "execution_count": 1,
   "metadata": {},
   "outputs": [],
   "source": [
    "import matplotlib.pyplot as plt\n",
    "import numpy as np\n",
    "\n",
    "from qiskit import IBMQ, pulse, schedule, transpile, assemble, QuantumCircuit, QuantumRegister, ClassicalRegister\n",
    "from qiskit.pulse import pulse_lib as pulse_library, reschedule\n",
    "from qiskit.ignis.measurement.discriminator.iq_discriminators import LinearIQDiscriminator\n",
    "from qiskit.ignis.measurement.discriminator.filters import DiscriminationFilter\n",
    "import qiskit.ignis.mitigation.measurement as mit\n",
    "from qiskit.ignis.verification.tomography import process_tomography_circuits, ProcessTomographyFitter\n",
    "from qiskit.ignis.verification.tomography import state_tomography_circuits, StateTomographyFitter\n",
    "from qiskit.ignis.verification.tomography.basis import PauliBasis\n",
    "from qiskit.visualization.state_visualization import plot_state_city\n",
    "from qiskit.quantum_info import state_fidelity\n",
    "from qiskit.circuit import Gate\n",
    "from qiskit.scheduler import schedule_circuit, ScheduleConfig\n",
    "from qiskit.quantum_info import state_fidelity, process_fidelity\n",
    "\n",
    "import matplotlib.pyplot as plt\n",
    "%matplotlib inline"
   ]
  },
  {
   "cell_type": "code",
   "execution_count": 2,
   "metadata": {},
   "outputs": [],
   "source": [
    "import qiskit as q\n",
    "import qiskit.tools.jupyter\n",
    "from qiskit.pulse import pulse_lib as _  # only want to call pulse_lib as q.pulse.pulse_lib"
   ]
  },
  {
   "cell_type": "code",
   "execution_count": 3,
   "metadata": {},
   "outputs": [],
   "source": [
    "import pulse_compiler_helper_fns"
   ]
  },
  {
   "cell_type": "code",
   "execution_count": 4,
   "metadata": {},
   "outputs": [
    {
     "data": {
      "text/plain": [
       "<AccountProvider for IBMQ(hub='ibm-q', group='open', project='main')>"
      ]
     },
     "execution_count": 4,
     "metadata": {},
     "output_type": "execute_result"
    }
   ],
   "source": [
    "q.IBMQ.load_account() # Load account from disk"
   ]
  },
  {
   "cell_type": "code",
   "execution_count": 5,
   "metadata": {
    "scrolled": true
   },
   "outputs": [
    {
     "name": "stderr",
     "output_type": "stream",
     "text": [
      "/Users/alijavadi/Desktop/ajavadia-terra/qiskit/pulse/channels/pulse_channel_spec.py:87: DeprecationWarning: The PulseChannelSpec is deprecated. Use backend.configuration() instead. The supported methods require some migrations; check out the release notes for the complete details.\n",
      "  DeprecationWarning)\n"
     ]
    }
   ],
   "source": [
    "provider = q.IBMQ.get_provider(group='qiskit-terra', project='pulse-testing')\n",
    "backend = provider.get_backend('alt_almaden')\n",
    "system = q.pulse.PulseChannelSpec.from_backend(backend)\n",
    "cmd_def = q.pulse.CmdDef.from_defaults(backend.defaults().cmd_def, backend.defaults().pulse_library)\n",
    "config = backend.configuration()\n",
    "measure = cmd_def.get('measure', qubits=backend.configuration().meas_map[0])"
   ]
  },
  {
   "cell_type": "code",
   "execution_count": 6,
   "metadata": {},
   "outputs": [
    {
     "name": "stdout",
     "output_type": "stream",
     "text": [
      "[0.         0.07853982 0.15707963 0.23561945 0.31415927 0.39269908\n",
      " 0.4712389  0.54977871 0.62831853 0.70685835 0.78539816 0.86393798\n",
      " 0.9424778  1.02101761 1.09955743 1.17809725 1.25663706 1.33517688\n",
      " 1.41371669 1.49225651 1.57079633]\n"
     ]
    }
   ],
   "source": [
    "thetas = np.linspace(0, np.pi/2, 21, endpoint=True)\n",
    "print(thetas)"
   ]
  },
  {
   "cell_type": "code",
   "execution_count": 7,
   "metadata": {},
   "outputs": [],
   "source": [
    "sine_schedules_std = []\n",
    "sine_schedules_opt = []"
   ]
  },
  {
   "cell_type": "code",
   "execution_count": 8,
   "metadata": {},
   "outputs": [],
   "source": [
    "## Standard Way: Cnot RZ Cnot\n",
    "for theta in thetas:\n",
    "    circuit = q.QuantumCircuit(2)\n",
    "    circuit.h(0)\n",
    "    circuit.h(1)\n",
    "    circuit.cx(0, 1)\n",
    "    circuit.rz(theta, 1)\n",
    "    circuit.cx(0, 1)\n",
    "    circuit.h(0)\n",
    "    circuit.h(1)\n",
    "\n",
    "    decomposed_circuit = circuit.decompose()\n",
    "\n",
    "    pulse_compiler_helper_fns.update_basis_gates_and_cmd_def(decomposed_circuit, backend, system, cmd_def)\n",
    "    transpiled_circuit = q.transpile(decomposed_circuit, backend, optimization_level=1)\n",
    "\n",
    "    schedule = q.schedule(transpiled_circuit, backend=backend, cmd_def=cmd_def)\n",
    "    sine_schedules_std.append(schedule)"
   ]
  },
  {
   "cell_type": "code",
   "execution_count": 9,
   "metadata": {},
   "outputs": [],
   "source": [
    "## Optimized Way: zz_interaction decomposes directly to cross resonance for theta in thetas:\n",
    "for theta in thetas:\n",
    "    circuit = q.QuantumCircuit(2)\n",
    "    circuit.h(0)\n",
    "    circuit.h(1)\n",
    "    circuit.zz_interaction(theta, 0, 1)\n",
    "    circuit.h(0)\n",
    "    circuit.h(1)\n",
    "\n",
    "    decomposed_circuit = circuit.decompose()\n",
    "\n",
    "    pulse_compiler_helper_fns.update_basis_gates_and_cmd_def(decomposed_circuit, backend, system, cmd_def)\n",
    "    transpiled_circuit = q.transpile(decomposed_circuit, backend, optimization_level=0)\n",
    "\n",
    "    schedule = q.schedule(transpiled_circuit, backend=backend, cmd_def=cmd_def)    \n",
    "    sine_schedules_opt.append(schedule)"
   ]
  },
  {
   "cell_type": "markdown",
   "metadata": {},
   "source": [
    "### Set up State Tomography"
   ]
  },
  {
   "cell_type": "code",
   "execution_count": 10,
   "metadata": {},
   "outputs": [],
   "source": [
    "def qst_circuits_and_schedules(schedule, theta):\n",
    "    \"\"\"\n",
    "    create the state tomography circuits\n",
    "    the state preparation circuit is (H $otimes$ H).ZZ.(H $otimes$ H)\n",
    "    \"\"\"\n",
    "    num_qubits = 2\n",
    "    qubit_pair = [0, 1]\n",
    "    qr = QuantumRegister(num_qubits)\n",
    "    my_gate = Gate(name='sinusoid_{}'.format(theta), num_qubits=num_qubits, params=[])\n",
    "\n",
    "    # create the tomography circuits\n",
    "    qc = QuantumCircuit(qr)\n",
    "    qc.append(my_gate, qr[:])\n",
    "    qst_circuits = state_tomography_circuits(qc, measured_qubits=qr)\n",
    "\n",
    "    # transpile so that the singles are in terms of the u gates\n",
    "    qst_circuits = transpile(qst_circuits, backend, initial_layout=qubit_pair,\n",
    "                             basis_gates=['u1','u2','u3',my_gate.name])\n",
    "\n",
    "    # add the custom gate to the cmd def\n",
    "    cmd_def = q.pulse.CmdDef.from_defaults(backend.defaults().cmd_def, backend.defaults().pulse_library)\n",
    "    cmd_def.add(my_gate.name, qubits=qubit_pair, schedule=schedule)\n",
    "\n",
    "    # schedule!\n",
    "    schedule_config = ScheduleConfig(cmd_def, meas_map=backend.configuration().meas_map)\n",
    "    qst_schedules = [schedule_circuit(circ, schedule_config) for circ in qst_circuits]\n",
    "    \n",
    "    return qst_circuits, qst_schedules"
   ]
  },
  {
   "cell_type": "code",
   "execution_count": null,
   "metadata": {
    "scrolled": false
   },
   "outputs": [],
   "source": [
    "tomo_circuits_std = []\n",
    "tomo_schedules_std = []\n",
    "for sine_schedule, theta in zip(sine_schedules_std, thetas):\n",
    "    tomo_circs, tomo_scheds = qst_circuits_and_schedules(sine_schedule, theta)\n",
    "    tomo_circuits_std.append(tomo_circs)\n",
    "    tomo_schedules_std.append(tomo_scheds)\n",
    "    \n",
    "tomo_circuits_opt = []\n",
    "tomo_schedules_opt = []\n",
    "for sine_schedule, theta in zip(sine_schedules_opt, thetas):\n",
    "    tomo_circs, tomo_scheds = qst_circuits_and_schedules(sine_schedule, theta)\n",
    "    tomo_circuits_opt.append(tomo_circs)\n",
    "    tomo_schedules_opt.append(tomo_scheds)"
   ]
  },
  {
   "cell_type": "code",
   "execution_count": null,
   "metadata": {},
   "outputs": [],
   "source": [
    "tomo_schedules_std[0][0].filter(channels=[config.drive(0), config.control(0)]).draw()"
   ]
  },
  {
   "cell_type": "code",
   "execution_count": null,
   "metadata": {},
   "outputs": [],
   "source": [
    "tomo_schedules_opt[0][0].filter(channels=[config.drive(0), config.control(0)]).draw()"
   ]
  },
  {
   "cell_type": "markdown",
   "metadata": {},
   "source": [
    "### Run tomo experiments"
   ]
  },
  {
   "cell_type": "code",
   "execution_count": null,
   "metadata": {},
   "outputs": [],
   "source": [
    "import itertools\n",
    "flat_schedules_std = list(itertools.chain(*tomo_schedules_std))\n",
    "flat_schedules_opt = list(itertools.chain(*tomo_schedules_opt))"
   ]
  },
  {
   "cell_type": "code",
   "execution_count": null,
   "metadata": {},
   "outputs": [],
   "source": [
    "shots = 2000\n",
    "job_std = q.execute(flat_schedules_std, backend=backend, shots=shots)\n",
    "job_opt = q.execute(flat_schedules_opt, backend=backend, shots=shots)\n",
    "print('job_std is %s' % job_std.job_id())\n",
    "print('job_opt is %s' % job_opt.job_id())"
   ]
  },
  {
   "cell_type": "code",
   "execution_count": null,
   "metadata": {},
   "outputs": [],
   "source": [
    "job_opt.status()"
   ]
  },
  {
   "cell_type": "markdown",
   "metadata": {},
   "source": [
    "### Run a mitigation cal job"
   ]
  },
  {
   "cell_type": "code",
   "execution_count": null,
   "metadata": {
    "scrolled": true
   },
   "outputs": [],
   "source": [
    "import qiskit.ignis.mitigation.measurement as mit\n",
    "meas_qcs, meas_labels = mit.complete_meas_cal(qubit_list=[0,1])\n",
    "meas_qcs_transpiled = q.transpile(meas_qcs, backend, basis_gates=['x'])\n",
    "meas_schedules = q.schedule(meas_qcs_transpiled, backend=backend, cmd_def=cmd_def)\n",
    "job_mit = q.execute(meas_schedules, backend)"
   ]
  },
  {
   "cell_type": "code",
   "execution_count": null,
   "metadata": {
    "scrolled": false
   },
   "outputs": [],
   "source": [
    "job_mit.status()"
   ]
  },
  {
   "cell_type": "markdown",
   "metadata": {},
   "source": [
    "-----\n",
    "### Fit tomography data to get statevector"
   ]
  },
  {
   "cell_type": "code",
   "execution_count": null,
   "metadata": {},
   "outputs": [],
   "source": [
    "from qiskit.result import marginal_counts"
   ]
  },
  {
   "cell_type": "code",
   "execution_count": null,
   "metadata": {},
   "outputs": [],
   "source": [
    "result_std = job_std.result()\n",
    "result_opt = job_opt.result()"
   ]
  },
  {
   "cell_type": "code",
   "execution_count": null,
   "metadata": {},
   "outputs": [],
   "source": [
    "# mitigate results\n",
    "result_mit = marginal_counts(job_mit.result(), [0,1])\n",
    "readout_fitter = mit.CompleteMeasFitter(result_mit, meas_labels)\n",
    "readout_fitter.cal_matrix"
   ]
  },
  {
   "cell_type": "code",
   "execution_count": null,
   "metadata": {},
   "outputs": [],
   "source": [
    "result_std_marg = marginal_counts(result_std, [0,1])\n",
    "result_opt_marg = marginal_counts(result_opt, [0,1])"
   ]
  },
  {
   "cell_type": "code",
   "execution_count": null,
   "metadata": {},
   "outputs": [],
   "source": [
    "from copy import deepcopy\n",
    "result_cpy_std = deepcopy(result_std_marg)\n",
    "result_cpy_opt = deepcopy(result_opt_marg)"
   ]
  },
  {
   "cell_type": "code",
   "execution_count": null,
   "metadata": {},
   "outputs": [],
   "source": [
    "standard_statevectors = []\n",
    "optimized_statevectors = []\n",
    "\n",
    "for i, theta in enumerate(thetas):\n",
    "    result_std_mit = readout_fitter.filter.apply(result_cpy_std)\n",
    "    result_opt_mit = readout_fitter.filter.apply(result_cpy_opt)\n",
    "    \n",
    "    # remove results for other thetas\n",
    "    # TODO: allow selecting subset of result\n",
    "    single_qst_size = len(tomo_schedules_std[0])\n",
    "    del result_std_mit.results[:i*single_qst_size]\n",
    "    del result_std_mit.results[single_qst_size:]\n",
    "    del result_opt_mit.results[:i*single_qst_size]\n",
    "    del result_opt_mit.results[single_qst_size:]\n",
    "    assert len(result_std_mit.results) == single_qst_size\n",
    "    assert len(result_opt_mit.results) == single_qst_size\n",
    "\n",
    "    qst_fitter = StateTomographyFitter(result_std_mit, tomo_circuits_std[i])\n",
    "    sv = qst_fitter.fit(method='cvx')\n",
    "    standard_statevectors.append(sv)\n",
    "    \n",
    "    qst_fitter = StateTomographyFitter(result_opt_mit, tomo_circuits_opt[i])\n",
    "    sv = qst_fitter.fit(method='cvx')\n",
    "    optimized_statevectors.append(sv)"
   ]
  },
  {
   "cell_type": "markdown",
   "metadata": {},
   "source": [
    "## Analysis"
   ]
  },
  {
   "cell_type": "markdown",
   "metadata": {},
   "source": [
    "### plot fidelities"
   ]
  },
  {
   "cell_type": "code",
   "execution_count": null,
   "metadata": {},
   "outputs": [],
   "source": [
    "# what are the ideal statevectors\n",
    "from qiskit.quantum_info.states import Statevector\n",
    "ideal_statevectors = []\n",
    "for theta in thetas:\n",
    "    circuit = QuantumCircuit(2)\n",
    "    circuit.h(0)\n",
    "    circuit.h(1)\n",
    "    circuit.rzz(theta, 0, 1)\n",
    "    circuit.h(0)\n",
    "    circuit.h(1)\n",
    "    ideal = Statevector.from_instruction(circuit).data\n",
    "    ideal_statevectors.append(ideal)"
   ]
  },
  {
   "cell_type": "code",
   "execution_count": null,
   "metadata": {},
   "outputs": [],
   "source": [
    "standard_fidelities = []\n",
    "for sv1, sv2 in zip(standard_statevectors, ideal_statevectors):\n",
    "    fidelity = state_fidelity(sv1, sv2)\n",
    "    standard_fidelities.append(fidelity)\n",
    "    \n",
    "optimized_fidelities = []\n",
    "for sv1, sv2 in zip(optimized_statevectors, ideal_statevectors):\n",
    "    fidelity = state_fidelity(np.abs(sv1), np.abs(sv2))\n",
    "    optimized_fidelities.append(fidelity)"
   ]
  },
  {
   "cell_type": "code",
   "execution_count": null,
   "metadata": {},
   "outputs": [],
   "source": [
    "plt.plot(thetas * 180 / np.pi, standard_fidelities, 'r')\n",
    "plt.plot(thetas * 180 / np.pi, optimized_fidelities, 'g')\n",
    "plt.ylabel('Fidelity')\n",
    "plt.legend(['standard fidelity', 'optimized fidelity'])"
   ]
  },
  {
   "cell_type": "code",
   "execution_count": null,
   "metadata": {},
   "outputs": [],
   "source": [
    "np.mean(standard_fidelities)"
   ]
  },
  {
   "cell_type": "code",
   "execution_count": null,
   "metadata": {},
   "outputs": [],
   "source": [
    "np.mean(optimized_fidelities)"
   ]
  },
  {
   "cell_type": "markdown",
   "metadata": {},
   "source": [
    "### plot the sinusoidal P(00) and P(11)"
   ]
  },
  {
   "cell_type": "code",
   "execution_count": null,
   "metadata": {},
   "outputs": [],
   "source": [
    "ideal_00_prob = [abs(sv[0])**2 for sv in ideal_statevectors]\n",
    "ideal_11_prob = [abs(sv[-1])**2 for sv in ideal_statevectors]\n",
    "std_00_prob = [sv[0][0].real for sv in standard_statevectors]  # these are actually density matrices not statevectors\n",
    "std_11_prob = [sv[-1][-1].real for sv in standard_statevectors]\n",
    "opt_00_prob = [sv[0][0].real for sv in optimized_statevectors]\n",
    "opt_11_prob = [sv[-1][-1].real for sv in optimized_statevectors]"
   ]
  },
  {
   "cell_type": "code",
   "execution_count": null,
   "metadata": {
    "scrolled": true
   },
   "outputs": [],
   "source": [
    "fig = plt.figure(figsize=(10,5))\n",
    "plt.subplot(121)\n",
    "plt.plot(thetas * 180 / np.pi, ideal_00_prob, 'b--')\n",
    "plt.plot(thetas * 180 / np.pi, std_00_prob, 'r--')\n",
    "plt.plot(thetas * 180 / np.pi, opt_00_prob, 'g--')\n",
    "plt.legend(['P(00) Ideal', 'P(11) Standard', 'P(00) Optimized'])\n",
    "\n",
    "plt.subplot(122)\n",
    "plt.plot(thetas * 180 / np.pi, ideal_11_prob, 'b')\n",
    "plt.plot(thetas * 180 / np.pi, std_11_prob, 'r')\n",
    "plt.plot(thetas * 180 / np.pi, opt_11_prob, 'g')\n",
    "plt.ylabel('Fidelity')\n",
    "plt.legend(['P(11) Ideal', 'P(00) Standard', 'P(11) Optimized'])"
   ]
  },
  {
   "cell_type": "code",
   "execution_count": null,
   "metadata": {},
   "outputs": [],
   "source": []
  }
 ],
 "metadata": {
  "kernelspec": {
   "display_name": "Python 3",
   "language": "python",
   "name": "python3"
  },
  "language_info": {
   "codemirror_mode": {
    "name": "ipython",
    "version": 3
   },
   "file_extension": ".py",
   "mimetype": "text/x-python",
   "name": "python",
   "nbconvert_exporter": "python",
   "pygments_lexer": "ipython3",
   "version": "3.6.9"
  }
 },
 "nbformat": 4,
 "nbformat_minor": 2
}
