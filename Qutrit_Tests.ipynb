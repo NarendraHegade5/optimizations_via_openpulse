{
 "cells": [
  {
   "cell_type": "markdown",
   "metadata": {},
   "source": [
    "# Setting stuff up\n",
    "Pick your favorite open pulse compatible backend"
   ]
  },
  {
   "cell_type": "code",
   "execution_count": 11,
   "metadata": {},
   "outputs": [],
   "source": [
    "%matplotlib inline\n",
    "import qiskit.pulse as pulse\n",
    "import qiskit.pulse.pulse_lib as pulse_lib\n",
    "from qiskit.compiler import assemble\n",
    "\n",
    "import qiskit\n",
    "qiskit.__qiskit_version__\n",
    "from qiskit.tools.jupyter import backend_overview, backend_monitor\n",
    "from qiskit.tools.monitor import job_monitor\n",
    "import numpy as np\n",
    "import pickle\n",
    "import matplotlib.pyplot as plotter\n",
    "import time"
   ]
  },
  {
   "cell_type": "code",
   "execution_count": 12,
   "metadata": {},
   "outputs": [
    {
     "name": "stderr",
     "output_type": "stream",
     "text": [
      "/anaconda3/envs/earnestq/lib/python3.7/site-packages/qiskit/providers/ibmq/ibmqfactory.py:181: UserWarning: Credentials are already in use. The existing account in the session will be replaced.\n",
      "  warnings.warn('Credentials are already in use. The existing '\n"
     ]
    },
    {
     "data": {
      "text/plain": [
       "<AccountProvider for IBMQ(hub='ibm-q', group='open', project='main')>"
      ]
     },
     "execution_count": 12,
     "metadata": {},
     "output_type": "execute_result"
    }
   ],
   "source": [
    "from qiskit import IBMQ\n",
    "## Put in your infor\n",
    "# IBMQ.save_account()\n",
    "IBMQ.load_account()"
   ]
  },
  {
   "cell_type": "code",
   "execution_count": 13,
   "metadata": {},
   "outputs": [],
   "source": [
    "def qubit_drive_freq_sweep(drive_duration=128,drive_strength=0.002,drive_qubits=[1],drive_span_MHz=20,drive_freq_steps_MHz=1.0,freq_shift_GHz=0.0):\n",
    "    # drive pulse parameters\n",
    "    drive_sigma = 16\n",
    "    schedules = []\n",
    "    schedule_LOs = []\n",
    "\n",
    "    for ii,qubit in enumerate(drive_qubits):\n",
    "        center_frequency_GHz = backend_defaults.qubit_freq_est[qubit]\n",
    "        center_frequency_GHz = center_frequency_GHz - freq_shift_GHz\n",
    "        print (center_frequency_GHz)\n",
    "        frequency_min = center_frequency_GHz - drive_span_MHz/2.e3\n",
    "        frequency_max = center_frequency_GHz + drive_span_MHz/2.e3\n",
    "        frequencies_GHz = np.arange(frequency_min, frequency_max, drive_freq_steps_MHz/1e3)\n",
    "        # creating drive pulse\n",
    "        drive_pulse = pulse_lib.gaussian(duration=drive_duration, amp=drive_strength,\n",
    "                                         sigma=drive_sigma, name='mydrivepulse')\n",
    "        drive_pulse_qubit = drive_pulse(backend_devicespec.q[qubit].drive)\n",
    "\n",
    "\n",
    "\n",
    "        # measurement pulse parameters\n",
    "        meas_amp = 0.05\n",
    "        meas_samples = 1200\n",
    "        meas_sigma = 4\n",
    "        meas_risefall = 25\n",
    "\n",
    "        # creating measurement pulse\n",
    "        meas_pulse = pulse_lib.gaussian_square(duration=meas_samples, amp=meas_amp,\n",
    "                                               sigma=meas_sigma, risefall=meas_risefall, \n",
    "                                               name='mymeasurepulse')\n",
    "        meas_pulse_qubit = meas_pulse(backend_devicespec.q[qubit].measure)\n",
    "\n",
    "        # create acquire pulse\n",
    "        acq_cmd=pulse.Acquire(duration=meas_samples)\n",
    "        acq_cmd_qubit = acq_cmd(backend_devicespec.q, backend_devicespec.mem)\n",
    "\n",
    "        # combined measure and acquire pulse\n",
    "        measure_and_acquire_qubit = meas_pulse_qubit | acq_cmd_qubit\n",
    "\n",
    "        # scalefactor for received data\n",
    "        scale_factor = 1e-10\n",
    "\n",
    "\n",
    "\n",
    "        num_shots_per_frequency = 512\n",
    "        for jj, drive_frequency in enumerate(frequencies_GHz):\n",
    "            # start an empty schedule with a label\n",
    "            this_schedule = pulse.Schedule(name=\"Frequency = {}\".format(drive_frequency))\n",
    "            this_schedule += drive_pulse_qubit\n",
    "            this_schedule += measure_and_acquire_qubit << this_schedule.duration\n",
    "\n",
    "            schedules.append(this_schedule)\n",
    "            thisLO = pulse.LoConfig({backend_devicespec.q[qubit].drive: drive_frequency})\n",
    "            schedule_LOs.append(thisLO)\n",
    "        \n",
    "    VNASweep_experiment_qobj = assemble(schedules, backend = backend, \n",
    "                            meas_level=1, meas_return='avg', \n",
    "                            shots=num_shots_per_frequency,\n",
    "                            schedule_los = schedule_LOs\n",
    "                            )\n",
    "    return VNASweep_experiment_qobj, schedules, schedule_LOs"
   ]
  },
  {
   "cell_type": "code",
   "execution_count": 14,
   "metadata": {},
   "outputs": [],
   "source": [
    "def qubit_rabi_pow_sweep(drive_duration=128,drive_start=0.005,drive_stop=0.05,drive_steps=0.005,drive_qubits=[1],drive_freq=5.0):\n",
    "    # drive pulse parameters\n",
    "    drive_sigma = 16\n",
    "    Rabi_schedules = []\n",
    "    Rabi_schedule_LOs = []\n",
    "    for ii,qubit in enumerate(drive_qubits):\n",
    "        drive_powers = np.arange(drive_start, drive_stop, drive_steps)\n",
    "        # creating drive pulse\n",
    "        drive_pulse = pulse_lib.gaussian(duration=drive_duration, amp=drive_start,\n",
    "                                         sigma=drive_sigma, name='mydrivepulse')\n",
    "        drive_pulse_qubit = drive_pulse(backend_devicespec.q[qubit].drive)\n",
    "\n",
    "\n",
    "\n",
    "        # measurement pulse parameters\n",
    "        meas_amp = 0.05\n",
    "        meas_samples = 1200\n",
    "        meas_sigma = 4\n",
    "        meas_risefall = 25\n",
    "\n",
    "        # creating measurement pulse\n",
    "        meas_pulse = pulse_lib.gaussian_square(duration=meas_samples, amp=meas_amp,\n",
    "                                               sigma=meas_sigma, risefall=meas_risefall, \n",
    "                                               name='mymeasurepulse')\n",
    "        meas_pulse_qubit = meas_pulse(backend_devicespec.q[qubit].measure)\n",
    "\n",
    "        # create acquire pulse\n",
    "        acq_cmd=pulse.Acquire(duration=meas_samples)\n",
    "        acq_cmd_qubit = acq_cmd(backend_devicespec.q, backend_devicespec.mem)\n",
    "\n",
    "        # combined measure and acquire pulse\n",
    "        measure_and_acquire_qubit = meas_pulse_qubit | acq_cmd_qubit\n",
    "\n",
    "        # scalefactor for received data\n",
    "        scale_factor = 1e-10\n",
    "\n",
    "\n",
    "\n",
    "        num_shots_per_frequency = 512\n",
    "        for ii, drive_power in enumerate(drive_powers):\n",
    "            rabi_pulse = pulse_lib.gaussian(duration=drive_duration, amp=drive_power, \n",
    "                                            sigma=drive_sigma, name='rabi_pulse_{}'.format(ii))\n",
    "            rabi_pulse_qubit = rabi_pulse(backend_devicespec.q[qubit].drive)\n",
    "            # start an empty schedule with a label\n",
    "            this_schedule = pulse.Schedule(name=\"Rabi drive = {}\".format(drive_power))\n",
    "            this_schedule += rabi_pulse_qubit\n",
    "            this_schedule += measure_and_acquire_qubit << this_schedule.duration\n",
    "\n",
    "            Rabi_schedules.append(this_schedule)\n",
    "            thisLO = pulse.LoConfig({backend_devicespec.q[qubit].drive: drive_freq})\n",
    "            Rabi_schedule_LOs.append(thisLO)\n",
    "        \n",
    "    Rabi_power_qobj = assemble(Rabi_schedules, backend = backend, \n",
    "                            meas_level=1, meas_return='avg', \n",
    "                            shots=num_shots_per_frequency,\n",
    "                            schedule_los = Rabi_schedule_LOs\n",
    "                            )\n",
    "    return Rabi_power_qobj, Rabi_schedules, Rabi_schedule_LOs"
   ]
  },
  {
   "cell_type": "code",
   "execution_count": 15,
   "metadata": {},
   "outputs": [],
   "source": [
    "def T1_measurement(qubit=0, qubit_freq=1.0,pi_pulse_pow=0.2,pi_pulse_duration=128,time_max_us=500.0,time_step_us=2.0):\n",
    "    # T1 experiment parameters\n",
    "    drive_sigma = 6\n",
    "    times_us = np.arange(1, time_max_us, time_step_us)\n",
    "    num_shots_per_point = 512\n",
    "\n",
    "    # drive parameters\n",
    "\n",
    "    # create schedules for Ramsey experiment \n",
    "    T1_schedules = []\n",
    "    T1_schedule_LOs = []\n",
    "\n",
    "    T1_pulse = pulse_lib.gaussian(duration=pi_pulse_duration, amp=pi_pulse_pow, \n",
    "                                    sigma=drive_sigma, name='T1_pulse')\n",
    "    T1_pulse_qubit = T1_pulse(backend_devicespec.q[qubit].drive)\n",
    "    thisLO = pulse.LoConfig({backend_devicespec.q[qubit].drive: qubit_freq})\n",
    "    for ii, delay_time_us in enumerate(times_us):\n",
    "        # start an empty schedule with a label\n",
    "        this_schedule = pulse.Schedule(name=\"T1 delay = {} us\".format(qubit_freq))\n",
    "        this_schedule += T1_pulse_qubit\n",
    "        this_schedule |= (measure_and_acquire_qubit << int(delay_time_us*1000/dt))\n",
    "\n",
    "        T1_schedules.append(this_schedule)\n",
    "        T1_schedule_LOs.append(thisLO)\n",
    "\n",
    "    T1_experiment_qobj = assemble (T1_schedules, backend = backend, \n",
    "                                meas_level=1, meas_return='avg',\n",
    "                                shots=num_shots_per_point,\n",
    "                                schedule_los = T1_schedule_LOs\n",
    "                                    )\n",
    "    return T1_experiment_qobj, T1_schedules, T1_schedule_LOs"
   ]
  },
  {
   "cell_type": "code",
   "execution_count": 16,
   "metadata": {},
   "outputs": [],
   "source": [
    "\n",
    "# test_qobj, test_schedules, test_LO_schedules = qubit_rabi_pow_sweep(drive_steps=0.002)\n",
    "# print (len(test_schedules))\n",
    "# # np.arange(0.01, 0.05,0.007)\n"
   ]
  },
  {
   "cell_type": "code",
   "execution_count": 17,
   "metadata": {},
   "outputs": [],
   "source": [
    "# test_num = 1\n",
    "# test_schedules[20].draw(channels_to_plot=[backend_devicespec.q[test_num].measure, \n",
    "#                                            backend_devicespec.q[test_num].drive,\n",
    "#                                            #backend_devicespec.q[qubit].acquire,\n",
    "#                                          ],\n",
    "#                                          scaling=10.0)"
   ]
  },
  {
   "cell_type": "code",
   "execution_count": 18,
   "metadata": {},
   "outputs": [],
   "source": [
    "# IBMQ.provider()\n",
    "provider = IBMQ.get_provider(hub='ibm-q-dev', group='support', project='default')"
   ]
  },
  {
   "cell_type": "code",
   "execution_count": 19,
   "metadata": {},
   "outputs": [
    {
     "data": {
      "text/plain": [
       "[<IBMQBackend('ibmq_poughkeepsie') from IBMQ(hub='ibm-q-dev', group='support', project='default')>,\n",
       " <IBMQBackend('ibmq_boeblingen') from IBMQ(hub='ibm-q-dev', group='support', project='default')>,\n",
       " <IBMQBackend('ibmq_singapore') from IBMQ(hub='ibm-q-dev', group='support', project='default')>,\n",
       " <IBMQBackend('ibmq_almaden') from IBMQ(hub='ibm-q-dev', group='support', project='default')>,\n",
       " <IBMQBackend('ibmq_johannesburg') from IBMQ(hub='ibm-q-dev', group='support', project='default')>,\n",
       " <IBMQBackend('ibmq_rochester') from IBMQ(hub='ibm-q-dev', group='support', project='default')>,\n",
       " <IBMQSimulator('ibmq_qasm_simulator') from IBMQ(hub='ibm-q-dev', group='support', project='default')>]"
      ]
     },
     "execution_count": 19,
     "metadata": {},
     "output_type": "execute_result"
    }
   ],
   "source": [
    "provider.backends()"
   ]
  },
  {
   "cell_type": "code",
   "execution_count": 20,
   "metadata": {},
   "outputs": [],
   "source": [
    "backend = provider.get_backend('ibmq_boeblingen')\n",
    "backend_config = backend.configuration()"
   ]
  },
  {
   "cell_type": "code",
   "execution_count": 21,
   "metadata": {
    "scrolled": false
   },
   "outputs": [
    {
     "name": "stderr",
     "output_type": "stream",
     "text": [
      "UsageError: Line magic function `%qiskit_backend_monitor` not found.\n"
     ]
    }
   ],
   "source": [
    "%qiskit_backend_monitor backend"
   ]
  },
  {
   "cell_type": "code",
   "execution_count": 22,
   "metadata": {},
   "outputs": [
    {
     "name": "stderr",
     "output_type": "stream",
     "text": [
      "/anaconda3/envs/earnestq/lib/python3.7/site-packages/qiskit/pulse/channels/device_specification.py:46: DeprecationWarning: DeviceSpecification is deprecated.Instead of DeviceSpecification, use PulseChannelSpec.\n",
      "  'Instead of DeviceSpecification, use PulseChannelSpec.', DeprecationWarning)\n"
     ]
    }
   ],
   "source": [
    "backend_defaults = backend.defaults()\n",
    "backend_devicespec = pulse.DeviceSpecification.create_from(backend)\n",
    "dt = backend_config.dt"
   ]
  },
  {
   "cell_type": "code",
   "execution_count": 23,
   "metadata": {
    "scrolled": false
   },
   "outputs": [
    {
     "data": {
      "text/plain": [
       "4.8472947497933605"
      ]
     },
     "execution_count": 23,
     "metadata": {},
     "output_type": "execute_result"
    }
   ],
   "source": [
    "backend_defaults.qubit_freq_est[1]"
   ]
  },
  {
   "cell_type": "code",
   "execution_count": 12,
   "metadata": {},
   "outputs": [],
   "source": [
    "# Calculate amplitude from complex signal\n",
    "def get_amplitude(vec):\n",
    "    i_signal = np.imag(vec)\n",
    "    r_signal = np.real(vec)\n",
    "\n",
    "    mvec = [np.mean(r_signal), np.mean(i_signal)]\n",
    "\n",
    "    src_mat = np.vstack((r_signal - mvec[0], i_signal - mvec[1])).T\n",
    "    (_, _, v_mat) = np.linalg.svd(src_mat)\n",
    "\n",
    "    dvec = v_mat[0, 0:2]\n",
    "\n",
    "    if dvec.dot(mvec) < 0:\n",
    "        dvec = -dvec\n",
    "\n",
    "    return src_mat.dot(dvec)"
   ]
  },
  {
   "cell_type": "markdown",
   "metadata": {},
   "source": [
    "# 1. Find the qubit"
   ]
  },
  {
   "cell_type": "markdown",
   "metadata": {},
   "source": [
    "Define the frequency range that will be swept in search of the qubit."
   ]
  },
  {
   "cell_type": "code",
   "execution_count": 13,
   "metadata": {},
   "outputs": [],
   "source": [
    "old_codes = ['5dc86e28bb6fd100115aacbc', '5dc86e2e0d505d0012dfe992', '5dc86e347820a700116595cb', '5dc86e3a0d505d0012dfe993', '5dc86e400d505d0012dfe994', '5dc86e457820a700116595cc', '5dc86e4b6c4dd90011508683', '5dc86e506c4dd90011508684', '5dc86e56bb6fd100115aacbe', '5dc86e5b6c4dd90011508685', '5dc86e610d505d0012dfe995', '5dc86e66867adf00111319b4', '5dc86e6cbb6fd100115aacc0', '5dc86e717820a700116595ce', '5dc86e776622b000110091f9', '5dc86e7c0d505d0012dfe996', '5dc86e8173c4410011ef04a9', '5dc86e877a1785001174c496', '5dc86e8c70b70d00122d0129', '5dc86e9270b70d00122d012b']"
   ]
  },
  {
   "cell_type": "code",
   "execution_count": 14,
   "metadata": {},
   "outputs": [],
   "source": [
    "if False:\n",
    "    print (\"About to run\")\n",
    "    time.sleep(1)\n",
    "    qubit_job_codes = []\n",
    "    for i in range(20):\n",
    "        sweep_qobj, schedules, schedule_LOs = qubit_drive_freq_sweep(drive_qubits=[i])\n",
    "        time.sleep(0.1)\n",
    "        job = backend.run(sweep_qobj)\n",
    "        time.sleep(2)\n",
    "        print (job.job_id())\n",
    "        time.sleep(2)\n",
    "        qubit_job_codes.append(job.job_id())\n",
    "    print (qubit_job_codes)"
   ]
  },
  {
   "cell_type": "code",
   "execution_count": 15,
   "metadata": {},
   "outputs": [
    {
     "ename": "NameError",
     "evalue": "name 'qubit_job_codes' is not defined",
     "output_type": "error",
     "traceback": [
      "\u001b[0;31m---------------------------------------------------------------------------\u001b[0m",
      "\u001b[0;31mNameError\u001b[0m                                 Traceback (most recent call last)",
      "\u001b[0;32m<ipython-input-15-3fc54de158b8>\u001b[0m in \u001b[0;36m<module>\u001b[0;34m\u001b[0m\n\u001b[0;32m----> 1\u001b[0;31m \u001b[0mjob\u001b[0m \u001b[0;34m=\u001b[0m \u001b[0mbackend\u001b[0m\u001b[0;34m.\u001b[0m\u001b[0mretrieve_job\u001b[0m\u001b[0;34m(\u001b[0m\u001b[0mqubit_job_codes\u001b[0m\u001b[0;34m[\u001b[0m\u001b[0;36m0\u001b[0m\u001b[0;34m]\u001b[0m\u001b[0;34m)\u001b[0m\u001b[0;34m\u001b[0m\u001b[0;34m\u001b[0m\u001b[0m\n\u001b[0m\u001b[1;32m      2\u001b[0m \u001b[0mVNASweep_results\u001b[0m \u001b[0;34m=\u001b[0m \u001b[0mjob\u001b[0m\u001b[0;34m.\u001b[0m\u001b[0mresult\u001b[0m\u001b[0;34m(\u001b[0m\u001b[0mtimeout\u001b[0m\u001b[0;34m=\u001b[0m\u001b[0;36m3600\u001b[0m\u001b[0;34m)\u001b[0m\u001b[0;34m\u001b[0m\u001b[0;34m\u001b[0m\u001b[0m\n",
      "\u001b[0;31mNameError\u001b[0m: name 'qubit_job_codes' is not defined"
     ]
    }
   ],
   "source": [
    "job = backend.retrieve_job(qubit_job_codes[0])\n",
    "VNASweep_results = job.result(timeout=3600)"
   ]
  },
  {
   "cell_type": "code",
   "execution_count": 16,
   "metadata": {},
   "outputs": [
    {
     "name": "stdout",
     "output_type": "stream",
     "text": [
      "4.752420191956177\n"
     ]
    },
    {
     "ename": "ValueError",
     "evalue": "shapes (20,40) and (2,) not aligned: 40 (dim 1) != 2 (dim 0)",
     "output_type": "error",
     "traceback": [
      "\u001b[0;31m---------------------------------------------------------------------------\u001b[0m",
      "\u001b[0;31mValueError\u001b[0m                                Traceback (most recent call last)",
      "\u001b[0;32m<ipython-input-16-fa81aa039020>\u001b[0m in \u001b[0;36m<module>\u001b[0;34m\u001b[0m\n\u001b[1;32m     19\u001b[0m \u001b[0;34m\u001b[0m\u001b[0m\n\u001b[1;32m     20\u001b[0m \u001b[0;32mimport\u001b[0m \u001b[0mmatplotlib\u001b[0m\u001b[0;34m.\u001b[0m\u001b[0mpyplot\u001b[0m \u001b[0;32mas\u001b[0m \u001b[0mplotter\u001b[0m\u001b[0;34m\u001b[0m\u001b[0;34m\u001b[0m\u001b[0m\n\u001b[0;32m---> 21\u001b[0;31m \u001b[0mplotter\u001b[0m\u001b[0;34m.\u001b[0m\u001b[0mplot\u001b[0m\u001b[0;34m(\u001b[0m\u001b[0mplot_X\u001b[0m\u001b[0;34m,\u001b[0m \u001b[0mget_amplitude\u001b[0m\u001b[0;34m(\u001b[0m\u001b[0mplot_Y\u001b[0m\u001b[0;34m)\u001b[0m\u001b[0;34m)\u001b[0m\u001b[0;34m\u001b[0m\u001b[0;34m\u001b[0m\u001b[0m\n\u001b[0m\u001b[1;32m     22\u001b[0m \u001b[0mplotter\u001b[0m\u001b[0;34m.\u001b[0m\u001b[0maxvline\u001b[0m\u001b[0;34m(\u001b[0m\u001b[0mcenter_frequency_GHz\u001b[0m\u001b[0;34m)\u001b[0m\u001b[0;34m\u001b[0m\u001b[0;34m\u001b[0m\u001b[0m\n",
      "\u001b[0;32m<ipython-input-12-61d0f4fb553e>\u001b[0m in \u001b[0;36mget_amplitude\u001b[0;34m(vec)\u001b[0m\n\u001b[1;32m     14\u001b[0m         \u001b[0mdvec\u001b[0m \u001b[0;34m=\u001b[0m \u001b[0;34m-\u001b[0m\u001b[0mdvec\u001b[0m\u001b[0;34m\u001b[0m\u001b[0;34m\u001b[0m\u001b[0m\n\u001b[1;32m     15\u001b[0m \u001b[0;34m\u001b[0m\u001b[0m\n\u001b[0;32m---> 16\u001b[0;31m     \u001b[0;32mreturn\u001b[0m \u001b[0msrc_mat\u001b[0m\u001b[0;34m.\u001b[0m\u001b[0mdot\u001b[0m\u001b[0;34m(\u001b[0m\u001b[0mdvec\u001b[0m\u001b[0;34m)\u001b[0m\u001b[0;34m\u001b[0m\u001b[0;34m\u001b[0m\u001b[0m\n\u001b[0m",
      "\u001b[0;31mValueError\u001b[0m: shapes (20,40) and (2,) not aligned: 40 (dim 1) != 2 (dim 0)"
     ]
    }
   ],
   "source": [
    "qubit = 18\n",
    "job = backend.retrieve_job(old_codes[qubit])\n",
    "VNASweep_results = job.result(timeout=3600)\n",
    "drive_span_MHz=20\n",
    "drive_freq_steps_MHz=1.0\n",
    "center_frequency_GHz = backend_defaults.qubit_freq_est[qubit]\n",
    "print (center_frequency_GHz)\n",
    "center_frequency_GHz = center_frequency_GHz \n",
    "scale_factor=1.0\n",
    "\n",
    "frequency_min = center_frequency_GHz - drive_span_MHz/2.e3\n",
    "frequency_max = center_frequency_GHz + drive_span_MHz/2.e3\n",
    "frequencies_GHz = np.arange(frequency_min, frequency_max, drive_freq_steps_MHz/1e3)\n",
    "plot_X = frequencies_GHz\n",
    "plot_Y = []\n",
    "for kk, drive_frequency in enumerate(frequencies_GHz):\n",
    "    thisfrequency_results = VNASweep_results.get_memory(kk)*scale_factor\n",
    "    plot_Y.append( thisfrequency_results[qubit]  )\n",
    "\n",
    "import matplotlib.pyplot as plotter\n",
    "plotter.plot(plot_X, get_amplitude(plot_Y))\n",
    "plotter.axvline(center_frequency_GHz)"
   ]
  },
  {
   "cell_type": "code",
   "execution_count": 142,
   "metadata": {},
   "outputs": [
    {
     "name": "stdout",
     "output_type": "stream",
     "text": [
      "4.697297169266484\n"
     ]
    },
    {
     "data": {
      "text/plain": [
       "4.847297169266485"
      ]
     },
     "execution_count": 142,
     "metadata": {},
     "output_type": "execute_result"
    }
   ],
   "source": [
    "sweep_qobj, schedules, schedule_LOs = qubit_drive_freq_sweep(drive_strength=0.35,drive_qubits=[1],freq_shift_GHz=0.15)\n",
    "backend_defaults.qubit_freq_est[1]"
   ]
  },
  {
   "cell_type": "markdown",
   "metadata": {},
   "source": [
    "## Two photon process"
   ]
  },
  {
   "cell_type": "code",
   "execution_count": 144,
   "metadata": {},
   "outputs": [
    {
     "name": "stdout",
     "output_type": "stream",
     "text": [
      "0\n",
      "4.896900365638736\n",
      "5dcb09ca6c129f0011a81599\n",
      "1\n",
      "4.697297169266484\n",
      "5dcb09d07069d20011460061\n",
      "2\n",
      "4.553656554150497\n",
      "5dcb09d5491a8100123b25f6\n",
      "3\n",
      "4.624331194461392\n",
      "5dcb09db491a8100123b25f7\n",
      "4\n",
      "4.216183279759661\n",
      "5dcb09e1b3fed10012292945\n",
      "5\n",
      "4.761607192206396\n",
      "5dcb09e61896660011bb283d\n",
      "6\n",
      "4.576867284366795\n",
      "5dcb09ec5eb52e00110c5baf\n",
      "7\n",
      "4.396024207803126\n",
      "5dcb09f22592de0011c9320d\n",
      "8\n",
      "4.508592808845852\n",
      "5dcb09f72592de0011c9320e\n",
      "9\n",
      "4.616633465544842\n",
      "5dcb09fd491a8100123b25f9\n",
      "10\n",
      "4.805298927928206\n",
      "5dcb0a03684d760011534d5d\n",
      "11\n",
      "4.371705870615484\n",
      "5dcb0a091896660011bb283f\n",
      "12\n",
      "4.582563137710962\n",
      "5dcb0a0e1896660011bb2840\n",
      "13\n",
      "4.485560601622505\n",
      "5dcb0a14b3fed10012292949\n",
      "14\n",
      "4.405080859933487\n",
      "5dcb0a1a2592de0011c93210\n",
      "15\n",
      "4.432274241287666\n",
      "5dcb0a20f2b4ea001160718e\n",
      "16\n",
      "4.605623987546261\n",
      "5dcb0a26491a8100123b25fc\n",
      "17\n",
      "4.439829544070661\n",
      "5dcb0a2bf2b4ea001160718f\n",
      "18\n",
      "4.602420191956177\n",
      "5dcb0a310a67070011e8da76\n",
      "19\n",
      "4.885361892935842\n",
      "5dcb0a365eb52e00110c5bb2\n",
      "['5dcb09ca6c129f0011a81599', '5dcb09d07069d20011460061', '5dcb09d5491a8100123b25f6', '5dcb09db491a8100123b25f7', '5dcb09e1b3fed10012292945', '5dcb09e61896660011bb283d', '5dcb09ec5eb52e00110c5baf', '5dcb09f22592de0011c9320d', '5dcb09f72592de0011c9320e', '5dcb09fd491a8100123b25f9', '5dcb0a03684d760011534d5d', '5dcb0a091896660011bb283f', '5dcb0a0e1896660011bb2840', '5dcb0a14b3fed10012292949', '5dcb0a1a2592de0011c93210', '5dcb0a20f2b4ea001160718e', '5dcb0a26491a8100123b25fc', '5dcb0a2bf2b4ea001160718f', '5dcb0a310a67070011e8da76', '5dcb0a365eb52e00110c5bb2']\n"
     ]
    }
   ],
   "source": [
    "twophoton_job_codes = []\n",
    "for i in range(20):\n",
    "    print (i)\n",
    "    sweep_qobj, schedules, schedule_LOs = qubit_drive_freq_sweep(drive_strength=0.35,drive_qubits=[i],freq_shift_GHz=0.15)\n",
    "    time.sleep(0.1)\n",
    "    job = backend.run(sweep_qobj)\n",
    "    time.sleep(2)\n",
    "    print (job.job_id())\n",
    "    time.sleep(2)\n",
    "    twophoton_job_codes.append(job.job_id())\n",
    "print (twophoton_job_codes)"
   ]
  },
  {
   "cell_type": "code",
   "execution_count": 18,
   "metadata": {},
   "outputs": [],
   "source": [
    "tp_codes = ['5dc86f30bb6fd100115aacc1', '5dc86f356c4dd90011508689', '5dc86f3bbb6fd100115aacc2', '5dc86f416c4dd9001150868c', '5dc86f46de13de0011d5cc47', '5dc86f4bde13de0011d5cc49', '5dc86f5170b70d00122d012e', '5dc86f5770b70d00122d0130', '5dc86f5dbb6fd100115aacc4', '5dc86f62bb6fd100115aacc5', '5dc86f68de13de0011d5cc4b', '5dc86f6d70b70d00122d0131', '5dc86f737a1785001174c498', '5dc86f796c4dd9001150868f', '5dc86f7e867adf00111319bd', '5dc86f8473c4410011ef04b0', '5dc86f8a6622b000110091fd', '5dc86f8fbb6fd100115aacc6', '5dc86f9570b70d00122d0132', '5dc86f9a7a1785001174c499']"
   ]
  },
  {
   "cell_type": "code",
   "execution_count": 47,
   "metadata": {},
   "outputs": [
    {
     "data": {
      "text/plain": [
       "[<matplotlib.lines.Line2D at 0x134e18748>]"
      ]
     },
     "execution_count": 47,
     "metadata": {},
     "output_type": "execute_result"
    },
    {
     "data": {
      "image/png": "[encoded data removed]",
      "text/plain": [
       "<Figure size 432x288 with 1 Axes>"
      ]
     },
     "metadata": {
      "needs_background": "light"
     },
     "output_type": "display_data"
    }
   ],
   "source": [
    "complex_vec = plot_Y[np.argmin(get_amplitude(plot_Y))]\n",
    "freq = plot_X[np.argmin(get_amplitude(plot_Y))]\n",
    "plotter.plot(freq,abs(complex_vec),\"*\")"
   ]
  },
  {
   "cell_type": "code",
   "execution_count": 159,
   "metadata": {},
   "outputs": [
    {
     "name": "stdout",
     "output_type": "stream",
     "text": [
      "The qubit 01 frequency is 4.589830\n",
      "4.439829544070661\n"
     ]
    },
    {
     "data": {
      "text/plain": [
       "<matplotlib.lines.Line2D at 0x13372f4a8>"
      ]
     },
     "execution_count": 159,
     "metadata": {},
     "output_type": "execute_result"
    },
    {
     "data": {
      "image/png": "[encoded data removed]",
      "text/plain": [
       "<Figure size 432x288 with 1 Axes>"
      ]
     },
     "metadata": {
      "needs_background": "light"
     },
     "output_type": "display_data"
    }
   ],
   "source": [
    "drive_freq_steps_MHz= 1.0\n",
    "drive_span_MHz = 20.0\n",
    "freq_shift_GHz = 0.15\n",
    "qubit = -3\n",
    "print (\"The qubit 01 frequency is %f\" %backend_defaults.qubit_freq_est[qubit])\n",
    "job = backend.retrieve_job(twophoton_job_codes[qubit])\n",
    "VNASweep_results = job.result(timeout=3600)\n",
    "\n",
    "\n",
    "### . Getting the correct frequencies\n",
    "center_frequency_GHz = backend_defaults.qubit_freq_est[qubit]\n",
    "center_frequency_GHz = center_frequency_GHz - freq_shift_GHz\n",
    "print (center_frequency_GHz)\n",
    "frequency_min = center_frequency_GHz - drive_span_MHz/2.e3\n",
    "frequency_max = center_frequency_GHz + drive_span_MHz/2.e3\n",
    "frequencies_GHz = np.arange(frequency_min, frequency_max, drive_freq_steps_MHz/1e3)\n",
    "\n",
    "## Back to the usual\n",
    "plot_X = frequencies_GHz\n",
    "plot_Y = []\n",
    "for kk, drive_frequency in enumerate(frequencies_GHz):\n",
    "    thisfrequency_results = VNASweep_results.get_memory(kk)*scale_factor\n",
    "    plot_Y.append(  thisfrequency_results[qubit])  \n",
    "\n",
    "import matplotlib.pyplot as plotter\n",
    "plotter.plot(plot_X, get_amplitude(plot_Y),\"--*\")\n",
    "complex_vec = plot_Y[np.argmin(get_amplitude(plot_Y))]\n",
    "freq = plot_X[np.argmin(get_amplitude(plot_Y))]\n",
    "two_photon_peak.append(freq)\n",
    "plotter.plot(freq,get_amplitude(complex_vec),\".\")\n",
    "plotter.axvline(freq)\n",
    "# plotter.axvline(4.6950)"
   ]
  },
  {
   "cell_type": "code",
   "execution_count": 161,
   "metadata": {
    "scrolled": false
   },
   "outputs": [
    {
     "name": "stdout",
     "output_type": "stream",
     "text": [
      "0\n",
      "4.896900365638736\n",
      "1\n",
      "4.697297169266484\n",
      "2\n",
      "4.553656554150497\n",
      "3\n",
      "4.624331194461392\n",
      "4\n",
      "4.216183279759661\n",
      "5\n",
      "4.761607192206396\n",
      "6\n",
      "4.576867284366795\n",
      "7\n",
      "4.396024207803126\n",
      "8\n",
      "4.508592808845852\n",
      "9\n",
      "4.616633465544842\n",
      "10\n",
      "4.805298927928206\n",
      "11\n",
      "4.371705870615484\n",
      "12\n",
      "4.582563137710962\n",
      "13\n",
      "4.485560601622505\n",
      "14\n",
      "4.405080859933487\n",
      "15\n",
      "4.432274241287666\n",
      "16\n",
      "4.605623987546261\n",
      "17\n",
      "4.439829544070661\n",
      "18\n",
      "4.602420191956177\n",
      "19\n",
      "4.885361892935842\n"
     ]
    },
    {
     "data": {
      "image/png": "[encoded data removed]",
      "text/plain": [
       "<Figure size 432x288 with 1 Axes>"
      ]
     },
     "metadata": {
      "needs_background": "light"
     },
     "output_type": "display_data"
    }
   ],
   "source": [
    "two_photon_peak = []\n",
    "freq_shift_GHz = 0.15\n",
    "for jj in range(20):\n",
    "    qubit = jj\n",
    "    print (qubit)\n",
    "    job = backend.retrieve_job(twophoton_job_codes[qubit])\n",
    "    VNASweep_results = job.result(timeout=3600)\n",
    "    \n",
    "    \n",
    "    ### . Getting the correct frequencies\n",
    "    center_frequency_GHz = backend_defaults.qubit_freq_est[qubit]\n",
    "    center_frequency_GHz = center_frequency_GHz - freq_shift_GHz\n",
    "    print (center_frequency_GHz)\n",
    "    frequency_min = center_frequency_GHz - drive_span_MHz/2.e3\n",
    "    frequency_max = center_frequency_GHz + drive_span_MHz/2.e3\n",
    "    frequencies_GHz = np.arange(frequency_min, frequency_max, drive_freq_steps_MHz/1e3)\n",
    "    \n",
    "    ## Back to the usual\n",
    "    plot_X = frequencies_GHz\n",
    "    plot_Y = []\n",
    "    for kk, drive_frequency in enumerate(frequencies_GHz):\n",
    "        thisfrequency_results = VNASweep_results.get_memory(kk)*scale_factor\n",
    "        plot_Y.append(  thisfrequency_results[qubit]  )\n",
    "\n",
    "    import matplotlib.pyplot as plotter\n",
    "    plotter.plot(plot_X, get_amplitude(plot_Y),\"--*\")\n",
    "    complex_vec = plot_Y[np.argmin(get_amplitude(plot_Y))]\n",
    "    freq = plot_X[np.argmin(get_amplitude(plot_Y))]\n",
    "    two_photon_peak.append(freq)\n",
    "    plotter.plot(freq,get_amplitude(complex_vec),\".\")\n",
    "    plotter.axvline(freq)\n",
    "    # plotter.axvline(4.6950)"
   ]
  },
  {
   "cell_type": "code",
   "execution_count": 26,
   "metadata": {},
   "outputs": [
    {
     "name": "stdout",
     "output_type": "stream",
     "text": [
      "0.15199636219316925\n"
     ]
    }
   ],
   "source": [
    "testtest = [4.894900365638739, 4.695297169266487, 4.5526565541505, 4.621331194461394, 4.207183279759661, 4.7606071922063995, 4.573867284366798, 4.390024207803128, 4.504592808845854, 4.611633465544844, 4.8022989279282084, 4.365705870615486, 4.582563137710966, 4.480560601622507, 4.400080859933489, 4.425274241287667, 4.6046239875462645, 4.4338295440706625, 4.599420191956179, 4.876361892935843]\n",
    "point = 0\n",
    "print (backend_defaults.qubit_freq_est[point]-testtest[point])"
   ]
  },
  {
   "cell_type": "code",
   "execution_count": 30,
   "metadata": {},
   "outputs": [
    {
     "name": "stdout",
     "output_type": "stream",
     "text": [
      "[0.15199636219316925, 0.1519975805268734, 0.15101767012394784, 0.15298718022445446, 0.15900657322260336, 0.1509995784394027, 0.15300025279023366, 0.15599601648593264, 0.15398763425062345, 0.15500496982881717, 0.15300541142502677, 0.15599811253074147, 0.14999023494484298, 0.1550140852602464, 0.15501477548158338, 0.15699608519940522, 0.15100461474790805, 0.15599241160900412, 0.15298762922990328, 0.15901575519297229]\n"
     ]
    }
   ],
   "source": [
    "two_photon_freq_diff = []\n",
    "for i in range(len(testtest)):\n",
    "    two_photon_freq_diff.append(backend_defaults.qubit_freq_est[i]-testtest[i])\n",
    "print (two_photon_freq_diff)"
   ]
  },
  {
   "cell_type": "code",
   "execution_count": 167,
   "metadata": {},
   "outputs": [
    {
     "name": "stdout",
     "output_type": "stream",
     "text": [
      "[4.894900365638739, 4.695297169266487, 4.5526565541505, 4.621331194461394, 4.207183279759661, 4.7606071922063995, 4.573867284366798, 4.390024207803128, 4.504592808845854, 4.611633465544844, 4.8022989279282084, 4.365705870615486, 4.582563137710966, 4.480560601622507, 4.400080859933489, 4.425274241287667, 4.6046239875462645, 4.4338295440706625, 4.599420191956179, 4.876361892935843]\n",
      "0.1589999999999998\n"
     ]
    }
   ],
   "source": [
    "print (two_photon_peak)\n",
    "point = 4\n",
    "print (backend_defaults.qubit_freq_est[point]-two_photon_peak[point])"
   ]
  },
  {
   "cell_type": "markdown",
   "metadata": {},
   "source": [
    "# 3. Rabi experiment"
   ]
  },
  {
   "cell_type": "markdown",
   "metadata": {},
   "source": [
    "# 1 photon rabi\n",
    "### $E_{01}$ Rabi"
   ]
  },
  {
   "cell_type": "code",
   "execution_count": 62,
   "metadata": {},
   "outputs": [],
   "source": [
    "onephonton_chevron_codes = []"
   ]
  },
  {
   "cell_type": "code",
   "execution_count": 86,
   "metadata": {},
   "outputs": [
    {
     "name": "stdout",
     "output_type": "stream",
     "text": [
      "26\n"
     ]
    }
   ],
   "source": [
    "print(len(np.arange(0.0,0.65,0.025)))\n",
    "old_2p_rabi_codes = ['5dca1a876622b00011009854', '5dca1a89de13de0011d5d27d', '5dca1a8abb6fd100115ab30c', '5dca1a8b70b70d00122d0734', '5dca1a8d867adf0011132026', '5dca1a8ede13de0011d5d27e', '5dca1a90bb6fd100115ab310', '5dca1a91de13de0011d5d27f', '5dca1a9370b70d00122d0735', '5dca1a9470b70d00122d0736', '5dca1a960d505d0012dff039', '5dca1a97bb6fd100115ab312', '5dca1a986c4dd90011508cd6', '5dca1a9a70b70d00122d0738', '5dca1a9b7820a70011659bd4', '5dca1a9d73c4410011ef0b2b', '5dca1a9e867adf0011132028', '5dca1aa0de13de0011d5d281', '5dca1aa10d505d0012dff03a', '5dca1aa273c4410011ef0b2c']"
   ]
  },
  {
   "cell_type": "code",
   "execution_count": 168,
   "metadata": {},
   "outputs": [
    {
     "name": "stdout",
     "output_type": "stream",
     "text": [
      "Running Experiment on Qubit [0], at frequency 4.894900 GHz\n",
      "Running Experiment on Qubit [1], at frequency 4.695297 GHz\n",
      "Running Experiment on Qubit [2], at frequency 4.552657 GHz\n",
      "Running Experiment on Qubit [3], at frequency 4.621331 GHz\n",
      "Running Experiment on Qubit [4], at frequency 4.207183 GHz\n",
      "Running Experiment on Qubit [5], at frequency 4.760607 GHz\n",
      "Running Experiment on Qubit [6], at frequency 4.573867 GHz\n",
      "Running Experiment on Qubit [7], at frequency 4.390024 GHz\n",
      "Running Experiment on Qubit [8], at frequency 4.504593 GHz\n",
      "Running Experiment on Qubit [9], at frequency 4.611633 GHz\n",
      "Running Experiment on Qubit [10], at frequency 4.802299 GHz\n",
      "Running Experiment on Qubit [11], at frequency 4.365706 GHz\n",
      "Running Experiment on Qubit [12], at frequency 4.582563 GHz\n",
      "Running Experiment on Qubit [13], at frequency 4.480561 GHz\n",
      "Running Experiment on Qubit [14], at frequency 4.400081 GHz\n",
      "Running Experiment on Qubit [15], at frequency 4.425274 GHz\n",
      "Running Experiment on Qubit [16], at frequency 4.604624 GHz\n",
      "Running Experiment on Qubit [17], at frequency 4.433830 GHz\n",
      "Running Experiment on Qubit [18], at frequency 4.599420 GHz\n",
      "Running Experiment on Qubit [19], at frequency 4.876362 GHz\n",
      "['5dcb0dcd5eb52e00110c5bbc', '5dcb0dceb3fed1001229295e', '5dcb0dd01896660011bb284d', '5dcb0dd20a67070011e8da84', '5dcb0dd3684d760011534d6f', '5dcb0dd50a67070011e8da85', '5dcb0dd65eb52e00110c5bbe', '5dcb0dd87069d20011460074', '5dcb0dda7069d20011460076', '5dcb0ddcb3fed10012292962', '5dcb0dde2592de0011c9321d', '5dcb0ddff2b4ea001160719e', '5dcb0de1f2b4ea001160719f', '5dcb0de2684d760011534d71', '5dcb0de47069d20011460077', '5dcb0de6b3fed10012292964', '5dcb0de7b3fed10012292965', '5dcb0de91896660011bb284f', '5dcb0dea491a8100123b2609', '5dcb0decb3fed10012292966']\n"
     ]
    }
   ],
   "source": [
    "two_photon_rabi_codes = []\n",
    "\n",
    "for i in range(20):\n",
    "    qubit_freq = two_photon_peak[i]\n",
    "    drive_qubit = [i]\n",
    "    print (\"Running Experiment on Qubit %s, at frequency %f GHz\"%(drive_qubit,qubit_freq))\n",
    "    sweep_qobj, schedules, schedule_LOs = qubit_rabi_pow_sweep(drive_start=0.0,drive_stop=0.65,drive_steps=0.025,drive_qubits=drive_qubit,drive_freq=qubit_freq)\n",
    "    job = backend.run(sweep_qobj)\n",
    "    two_photon_rabi_codes.append(job.job_id())\n",
    "\n",
    "print (two_photon_rabi_codes)"
   ]
  },
  {
   "cell_type": "code",
   "execution_count": 285,
   "metadata": {},
   "outputs": [
    {
     "name": "stdout",
     "output_type": "stream",
     "text": [
      "9\n",
      "5dcb0dda7069d20011460076\n"
     ]
    },
    {
     "data": {
      "text/plain": [
       "<matplotlib.lines.Line2D at 0x13ba926a0>"
      ]
     },
     "execution_count": 285,
     "metadata": {},
     "output_type": "execute_result"
    },
    {
     "data": {
      "image/png": "[encoded data removed]",
      "text/plain": [
       "<Figure size 432x288 with 1 Axes>"
      ]
     },
     "metadata": {
      "needs_background": "light"
     },
     "output_type": "display_data"
    }
   ],
   "source": [
    "plot_Y = []\n",
    "drive_powers = np.arange(0.0,0.65,0.025)\n",
    "qubit = 8\n",
    "print (qubit+1)\n",
    "print (two_photon_rabi_codes[qubit])\n",
    "job = backend.retrieve_job(two_photon_rabi_codes[qubit])\n",
    "Rabi_results = job.result(timeout=3600)\n",
    "    \n",
    "\n",
    "plot_Y = []\n",
    "for jj, drive_power in enumerate(drive_powers):\n",
    "    thispower_results = Rabi_results.get_memory(jj)*scale_factor\n",
    "    plot_Y.append( thispower_results[qubit] )\n",
    "\n",
    "plot_X = drive_powers\n",
    "\n",
    "plot_Y = plot_Y-np.mean(plot_Y)\n",
    "plotter.plot(plot_X, get_amplitude(plot_Y),\"-*\")\n",
    "plotter.axvline(0.4)"
   ]
  },
  {
   "cell_type": "code",
   "execution_count": 247,
   "metadata": {},
   "outputs": [
    {
     "name": "stdout",
     "output_type": "stream",
     "text": [
      "20\n"
     ]
    }
   ],
   "source": [
    "twop_pi = [0.2,0.18,0.55,0.1,0.1,0.52,0.15,0.2,0.29,0.0,0.3,0.2,0.22,0.2,0.2,0.2,0.2,0.2,0.2,0.4]\n",
    "print (len(twop_rabi_pow_pi))"
   ]
  },
  {
   "cell_type": "markdown",
   "metadata": {},
   "source": [
    "# T1 measurements"
   ]
  },
  {
   "cell_type": "code",
   "execution_count": 243,
   "metadata": {},
   "outputs": [],
   "source": [
    "i=0\n",
    "\n",
    "T1_experiment_qobj, T1_schedules, T1_schedule_LOs = T1_measurement(qubit_freq=two_photon_peak[i],pi_pulse_pow=0.2,pi_pulse_duration=128,time_max_us=500.0,time_step_us=2.0)"
   ]
  },
  {
   "cell_type": "code",
   "execution_count": 268,
   "metadata": {},
   "outputs": [
    {
     "name": "stdout",
     "output_type": "stream",
     "text": [
      "Submitting T1 Experiment on Qubit [0], at frequency 4.894900 GHz with power 0.200000 (arb)\n",
      "Submitting T1 Experiment on Qubit [1], at frequency 4.695297 GHz with power 0.180000 (arb)\n",
      "Submitting T1 Experiment on Qubit [2], at frequency 4.552657 GHz with power 0.550000 (arb)\n",
      "Submitting T1 Experiment on Qubit [3], at frequency 4.621331 GHz with power 0.100000 (arb)\n",
      "Submitting T1 Experiment on Qubit [4], at frequency 4.207183 GHz with power 0.100000 (arb)\n",
      "Submitting T1 Experiment on Qubit [5], at frequency 4.760607 GHz with power 0.520000 (arb)\n",
      "Submitting T1 Experiment on Qubit [6], at frequency 4.573867 GHz with power 0.150000 (arb)\n",
      "Submitting T1 Experiment on Qubit [7], at frequency 4.390024 GHz with power 0.200000 (arb)\n",
      "Submitting T1 Experiment on Qubit [8], at frequency 4.504593 GHz with power 0.290000 (arb)\n",
      "Submitting T1 Experiment on Qubit [9], at frequency 4.611633 GHz with power 0.000000 (arb)\n",
      "Submitting T1 Experiment on Qubit [10], at frequency 4.802299 GHz with power 0.300000 (arb)\n",
      "Submitting T1 Experiment on Qubit [11], at frequency 4.365706 GHz with power 0.200000 (arb)\n",
      "Submitting T1 Experiment on Qubit [12], at frequency 4.582563 GHz with power 0.220000 (arb)\n",
      "Submitting T1 Experiment on Qubit [13], at frequency 4.480561 GHz with power 0.200000 (arb)\n",
      "Submitting T1 Experiment on Qubit [14], at frequency 4.400081 GHz with power 0.200000 (arb)\n",
      "Submitting T1 Experiment on Qubit [15], at frequency 4.425274 GHz with power 0.200000 (arb)\n",
      "Submitting T1 Experiment on Qubit [16], at frequency 4.604624 GHz with power 0.200000 (arb)\n",
      "Submitting T1 Experiment on Qubit [17], at frequency 4.433830 GHz with power 0.200000 (arb)\n",
      "Submitting T1 Experiment on Qubit [18], at frequency 4.599420 GHz with power 0.200000 (arb)\n",
      "Submitting T1 Experiment on Qubit [19], at frequency 4.876362 GHz with power 0.400000 (arb)\n",
      "['5dcb60f72592de0011c93366', '5dcb60fab3fed10012292aac', '5dcb60fd5eb52e00110c5d05', '5dcb60fff2b4ea00116072ce', '5dcb61016c129f0011a816e3', '5dcb61030a67070011e8dbba', '5dcb6106491a8100123b2732', '5dcb61085eb52e00110c5d07', '5dcb610a0a67070011e8dbbc', '5dcb610c5eb52e00110c5d08', '5dcb610f2592de0011c93368', '5dcb6111b3fed10012292aad', '5dcb6113684d760011534ec3', '5dcb61165eb52e00110c5d0a', '5dcb6119491a8100123b2733', '5dcb611c6c129f0011a816e5', '5dcb611f7069d200114601bf', '5dcb61226c129f0011a816e6', '5dcb6124b3fed10012292ab0', '5dcb6128f2b4ea00116072d4']\n"
     ]
    }
   ],
   "source": [
    "T1_codes = []\n",
    "\n",
    "for i in range(20):\n",
    "    qubit_freq = two_photon_peak[i]\n",
    "    drive_qubit = [i]\n",
    "    qubit_pow = twop_pi[i]\n",
    "\n",
    "    print (\"Submitting T1 Experiment on Qubit %s, at frequency %f GHz with power %f (arb)\"%(drive_qubit,qubit_freq,qubit_pow))\n",
    "    T1_experiment_qobj, T1_schedules, T1_schedule_LOs = T1_measurement(qubit=i, qubit_freq=two_photon_peak[i],pi_pulse_pow=twop_pi[i],pi_pulse_duration=128,time_max_us=500.0,time_step_us=2.0)\n",
    "    job = backend.run(T1_experiment_qobj)\n",
    "    T1_codes.append(job.job_id())\n",
    "\n",
    "print (T1_codes)"
   ]
  },
  {
   "cell_type": "code",
   "execution_count": 302,
   "metadata": {},
   "outputs": [
    {
     "name": "stdout",
     "output_type": "stream",
     "text": [
      "250\n"
     ]
    },
    {
     "data": {
      "text/plain": [
       "[<matplotlib.lines.Line2D at 0x13b4edfd0>]"
      ]
     },
     "execution_count": 302,
     "metadata": {},
     "output_type": "execute_result"
    },
    {
     "data": {
      "image/png": "[encoded data removed]",
      "text/plain": [
       "<Figure size 432x288 with 1 Axes>"
      ]
     },
     "metadata": {
      "needs_background": "light"
     },
     "output_type": "display_data"
    }
   ],
   "source": [
    "qubit = 1\n",
    "job = backend.retrieve_job(T1_codes[qubit])\n",
    "T1_results = job.result(timeout=3600)\n",
    "time_max_us=500.0\n",
    "time_step_us=2.0\n",
    "times_us = np.arange(1, time_max_us, time_step_us)\n",
    "print (len(times_us))\n",
    "plot_X = times_us\n",
    "plot_Y = []\n",
    "for jj, delay_time_us in enumerate(times_us):\n",
    "    thisdelay_results = T1_results.get_memory(jj)*scale_factor\n",
    "    plot_Y.append( thisdelay_results[qubit] )\n",
    "\n",
    "plotter.plot(plot_X, plot_Y,\"--*\")"
   ]
  },
  {
   "cell_type": "markdown",
   "metadata": {},
   "source": [
    "WTF is that dip about?"
   ]
  },
  {
   "cell_type": "code",
   "execution_count": 300,
   "metadata": {},
   "outputs": [
    {
     "name": "stdout",
     "output_type": "stream",
     "text": [
      "250\n"
     ]
    },
    {
     "data": {
      "text/plain": [
       "[<matplotlib.lines.Line2D at 0x13b6ff9b0>]"
      ]
     },
     "execution_count": 300,
     "metadata": {},
     "output_type": "execute_result"
    },
    {
     "data": {
      "image/png": "[encoded data removed]",
      "text/plain": [
       "<Figure size 432x288 with 1 Axes>"
      ]
     },
     "metadata": {
      "needs_background": "light"
     },
     "output_type": "display_data"
    }
   ],
   "source": [
    "qubit = 19\n",
    "job = backend.retrieve_job(T1_codes[qubit])\n",
    "T1_results = job.result(timeout=3600)\n",
    "time_max_us=500.0\n",
    "time_step_us=2.0\n",
    "times_us = np.arange(1, time_max_us, time_step_us)\n",
    "print (len(times_us))\n",
    "plot_X = times_us\n",
    "plot_Y = []\n",
    "for jj, delay_time_us in enumerate(times_us):\n",
    "    thisdelay_results = T1_results.get_memory(jj)*scale_factor\n",
    "    plot_Y.append( thisdelay_results[qubit] )\n",
    "\n",
    "plotter.plot(plot_X, plot_Y)"
   ]
  },
  {
   "cell_type": "code",
   "execution_count": 313,
   "metadata": {},
   "outputs": [
    {
     "name": "stdout",
     "output_type": "stream",
     "text": [
      "T1 = 74.23507524950999 us\n",
      "T1 from backend = 50.59515676617817 us\n"
     ]
    },
    {
     "data": {
      "text/plain": [
       "Text(0, 0.5, 'Measured signal, a.u.')"
      ]
     },
     "execution_count": 313,
     "metadata": {},
     "output_type": "execute_result"
    },
    {
     "data": {
      "image/png": "[encoded data removed]",
      "text/plain": [
       "<Figure size 432x288 with 1 Axes>"
      ]
     },
     "metadata": {
      "needs_background": "light"
     },
     "output_type": "display_data"
    }
   ],
   "source": [
    "from scipy.optimize import curve_fit\n",
    "\n",
    "fit_func = lambda x,A,T1,B: (A*np.exp(-x/T1)+B)\n",
    "fit_func2 = lambda x,A,B: (A*np.exp(-x/59.8)+B)\n",
    "\n",
    "#Fit the data\n",
    "fitparams, conv = curve_fit(fit_func, plot_X,\n",
    "                                      get_amplitude(plot_Y),\n",
    "                                      [-1.0,50,-11])\n",
    "fitparams2, conv2 = curve_fit(fit_func2, plot_X,\n",
    "                                      get_amplitude(plot_Y),\n",
    "                                      [-1.0,-11])\n",
    "\n",
    "print(f\"T1 = {fitparams[1]} us\")\n",
    "print(f\"T1 from backend = {backend.properties().qubits[qubit][0].value} us\")\n",
    "\n",
    "plotter.scatter(plot_X, get_amplitude(plot_Y))\n",
    "plotter.plot(plot_X, fit_func(plot_X, *fitparams), color='red')\n",
    "plotter.plot(plot_X, fit_func2(plot_X, *fitparams2), color='black')\n",
    "plotter.xlim(0, np.max(plot_X))\n",
    "plotter.xlabel('Delay before measurement, ($\\mu$s)', fontsize=20)\n",
    "plotter.ylabel('Measured signal, a.u.', fontsize=20)"
   ]
  },
  {
   "cell_type": "code",
   "execution_count": null,
   "metadata": {},
   "outputs": [],
   "source": []
  },
  {
   "cell_type": "code",
   "execution_count": null,
   "metadata": {},
   "outputs": [],
   "source": []
  },
  {
   "cell_type": "code",
   "execution_count": null,
   "metadata": {},
   "outputs": [],
   "source": []
  },
  {
   "cell_type": "code",
   "execution_count": null,
   "metadata": {},
   "outputs": [],
   "source": []
  },
  {
   "cell_type": "code",
   "execution_count": null,
   "metadata": {},
   "outputs": [],
   "source": []
  },
  {
   "cell_type": "code",
   "execution_count": null,
   "metadata": {},
   "outputs": [],
   "source": []
  },
  {
   "cell_type": "code",
   "execution_count": 122,
   "metadata": {},
   "outputs": [],
   "source": [
    "# from scipy.optimize import curve_fit\n",
    "\n",
    "# fit_func = lambda x,A,B,T,phi: (A*np.cos(2*np.pi*x/T+phi)+B)\n",
    "\n",
    "# #Fit the data\n",
    "# fitparams, conv = curve_fit(fit_func, plot_X, plot_Y, [3.0  ,0.0  ,0.04  ,0])\n",
    "\n",
    "# #get the pi amplitude\n",
    "# first_peak = abs(np.pi-fitparams[3])*fitparams[2]/(2*np.pi)\n",
    "# pi_amp = abs(fitparams[2]/2)\n",
    "\n",
    "# plotter.scatter(plot_X, plot_Y)\n",
    "# plotter.plot(plot_X, fit_func(plot_X, *fitparams), color='red')\n",
    "# plotter.axvline(first_peak, color='black', linestyle='dashed')\n",
    "# plotter.axvline(first_peak + pi_amp, color='black', linestyle='dashed')\n",
    "# plotter.xlabel('Pulse amplitude, a.u.', fontsize=20)\n",
    "# plotter.ylabel('Signal, a.u.', fontsize=20)\n",
    "# plotter.title('Rough Pi Amplitude Calibration', fontsize=20)\n",
    "\n",
    "# print('Pi Amplitude %f'%(pi_amp))"
   ]
  },
  {
   "cell_type": "code",
   "execution_count": 123,
   "metadata": {},
   "outputs": [],
   "source": [
    "qubit_rabi_data = np.ones(num_Rabi_points, dtype=np.complex_)\n",
    "for i in range(num_Rabi_points):\n",
    "    qubit_rabi_data[i] = Rabi_results.get_memory(i)[qubit]*scale_factor\n",
    "rabi_amp_data = get_amplitude(qubit_rabi_data)"
   ]
  },
  {
   "cell_type": "code",
   "execution_count": 124,
   "metadata": {},
   "outputs": [],
   "source": [
    "saved_data = dict()\n",
    "saved_data['rabi_amp_data'] = rabi_amp_data\n",
    "saved_data['drive_amplitudes'] = drive_powers\n",
    "saved_data['drive_samples'] = drive_samples\n",
    "with open('rabi_exp_data_with_varying_drive_amplitudes.pkl', 'wb') as handle:\n",
    "    pickle.dump(saved_data, handle)"
   ]
  },
  {
   "cell_type": "code",
   "execution_count": 125,
   "metadata": {},
   "outputs": [],
   "source": [
    "with open('rabi_exp_data_with_varying_drive_amplitudes.pkl', 'rb') as handle:\n",
    "    loaded_data = pickle.load(handle)\n",
    "rabi_amp_data = loaded_data['rabi_amp_data']\n",
    "drive_amps = loaded_data['drive_amplitudes']\n",
    "drive_samples = loaded_data['drive_samples']"
   ]
  },
  {
   "cell_type": "code",
   "execution_count": 134,
   "metadata": {},
   "outputs": [
    {
     "data": {
      "text/plain": [
       "(0, 0.07)"
      ]
     },
     "execution_count": 134,
     "metadata": {},
     "output_type": "execute_result"
    },
    {
     "data": {
      "image/png": "[encoded data removed]",
      "text/plain": [
       "<Figure size 432x288 with 1 Axes>"
      ]
     },
     "metadata": {
      "needs_background": "light"
     },
     "output_type": "display_data"
    }
   ],
   "source": [
    "#rabi_amp_data = get_amplitude(qubit_rabi_data)\n",
    "\n",
    "# fit_func = lambda x,A,B,T,phi: (A*np.cos(2*np.pi*x/T+phi)+B)\n",
    "\n",
    "#Fit the data\n",
    "# fitparams, conv = curve_fit(fit_func, drive_amps, rabi_amp_data, [1.0,0.0,0.02,0])\n",
    "\n",
    "#get the pi amplitude\n",
    "# pi_amp = (np.pi-fitparams[3])*fitparams[2]/2/np.pi\n",
    "\n",
    "plt.scatter(drive_amps, rabi_amp_data)\n",
    "plt.axvline(0.04)\n",
    "# plt.plot(drive_amps, fit_func(drive_amps, *fitparams), color='red')\n",
    "# plt.axvline(pi_amp, color='black', linestyle='dashed')\n",
    "plt.xlim(0, 0.07)\n",
    "# # plt.ylim(-2, 2)\n",
    "# plt.xlabel('Pulse amplitude, a.u.', fontsize=20)\n",
    "# plt.ylabel('Signal, a.u.', fontsize=20)\n",
    "# plt.title('Rough Pi Amplitude Calibration', fontsize=20)"
   ]
  },
  {
   "cell_type": "code",
   "execution_count": 41,
   "metadata": {},
   "outputs": [],
   "source": [
    "#### ^^^^^^^ Need to fix the rabi oscillation fit.   Not sure what is going wrong here"
   ]
  },
  {
   "cell_type": "markdown",
   "metadata": {},
   "source": [
    "# Rabi Oscillation with varying duration"
   ]
  },
  {
   "cell_type": "code",
   "execution_count": 155,
   "metadata": {},
   "outputs": [],
   "source": [
    "# Rabi experiment parameters\n",
    "num_Rabi_points = 70\n",
    "num_freq_points = 20\n",
    "num_shots_per_point = 512\n",
    "rough_frequency_qubit = backend_devicespec.q[qubit].drive\n",
    "backend_defaults = backend.defaults()\n",
    "rough_qubit_freq = backend_defaults.qubit_freq_est[qubit]\n",
    "sig_ma = 0.006\n",
    "\n",
    "# drive_frequencies = np.linspace(rough_frequency_qubit-sig_ma,rough_frequency_qubit+sig_ma,num_freq_points)\n",
    "\n",
    "# drive parameters\n",
    "duration_min = 4\n",
    "duration_max = 60\n",
    "drive_durations = np.array([int(i) for i in range(duration_min, duration_max, 1)])\n",
    "drive_samples = 128\n",
    "drive_sigma = 16\n",
    "# Note: for codes[2] the max was 100 and steps of 2.\n",
    "# For codes[3] the max was 60 and steps of 1. 5db86a45e440250018ba81a3\n",
    "\n",
    "# create schedules for Rabi experiment \n",
    "Rabi_schedules = []\n",
    "Rabi_schedule_LOs = []\n",
    "\n",
    "mm=19\n",
    "for ii, drive_duration in enumerate(drive_durations):\n",
    "    rabi_pulse = pulse_lib.gaussian(duration=drive_duration, amp=0.1, \n",
    "                                    sigma=drive_sigma, name='rabi_pulse_{}'.format(ii))\n",
    "    rabi_pulse_qubit = rabi_pulse(backend_devicespec.q[qubit].drive)\n",
    "    # start an empty schedule with a label\n",
    "    this_schedule = pulse.Schedule(name=\"Rabi drive = {}\".format(drive_power))\n",
    "    this_schedule += rabi_pulse_qubit\n",
    "    this_schedule += measure_and_acquire_qubit << this_schedule.duration\n",
    "    \n",
    "    Rabi_schedules.append(this_schedule)\n",
    "    thisLO = pulse.LoConfig({backend_devicespec.q[qubit].drive: rough_qubit_freq})\n",
    "    Rabi_schedule_LOs.append(thisLO)\n",
    "    \n",
    "Rabi_schedules[-1].draw(channels_to_plot=[backend_devicespec.q[qubit].measure, \n",
    "                                           backend_devicespec.q[qubit].drive,\n",
    "                                           #backend_devicespec.q[qubit].acquire,\n",
    "                                         ],\n",
    "                                         scaling=10.0)  \n",
    "\n",
    "rabi_experiment_qobj = assemble (Rabi_schedules, backend = backend, \n",
    "                            meas_level=1, meas_return='avg',\n",
    "                            shots=num_shots_per_point,\n",
    "                            schedule_los = Rabi_schedule_LOs\n",
    "                                )\n",
    "\n",
    "# job = backend.run(rabi_experiment_qobj)\n",
    "# onephonton_chevron_codes.append(job.job_id())\n",
    "\n",
    "# print (onephonton_chevron_codes)"
   ]
  },
  {
   "cell_type": "code",
   "execution_count": 152,
   "metadata": {},
   "outputs": [
    {
     "data": {
      "text/plain": [
       "'5db86a45e440250018ba81a3'"
      ]
     },
     "execution_count": 152,
     "metadata": {},
     "output_type": "execute_result"
    }
   ],
   "source": [
    "job.job_id()"
   ]
  },
  {
   "cell_type": "code",
   "execution_count": 156,
   "metadata": {},
   "outputs": [],
   "source": [
    "rabi_duration_drive_codes = [\"5db76a49676a4200188da865\",\"5db856749b911f001903c6a3\",\"5db864bb889b23001aee5ec6\",\"5db86a45e440250018ba81a3\"] # First job was power 0.05.  Second was 0.01. Third 0.1 with 4-100 durations, steps of 2.\n",
    "\n",
    "\n",
    "\n",
    "\n"
   ]
  },
  {
   "cell_type": "code",
   "execution_count": 157,
   "metadata": {},
   "outputs": [
    {
     "data": {
      "text/plain": [
       "[<matplotlib.lines.Line2D at 0x13d069898>]"
      ]
     },
     "execution_count": 157,
     "metadata": {},
     "output_type": "execute_result"
    },
    {
     "data": {
      "image/png": "[encoded data removed]",
      "text/plain": [
       "<Figure size 432x288 with 1 Axes>"
      ]
     },
     "metadata": {
      "needs_background": "light"
     },
     "output_type": "display_data"
    }
   ],
   "source": [
    "Y_plots= []\n",
    "job = backend.retrieve_job(rabi_duration_drive_codes[3])\n",
    "Rabi_results = job.result(timeout=3600)\n",
    "    \n",
    "\n",
    "plot_Y = []\n",
    "for jj, drive_power in enumerate(drive_durations):\n",
    "    thispower_results = Rabi_results.get_memory(jj)*scale_factor\n",
    "    plot_Y.append( thispower_results[qubit] )\n",
    "Y_plots.append(plot_Y)\n",
    "plot_X = drive_durations\n",
    "import matplotlib.pyplot as plotter\n",
    "plot_Y = plot_Y-np.mean(plot_Y)\n",
    "plotter.plot(plot_X, plot_Y)"
   ]
  },
  {
   "cell_type": "code",
   "execution_count": 158,
   "metadata": {},
   "outputs": [],
   "source": [
    "qubit_rabi_data = np.ones(len(drive_durations), dtype=np.complex_)\n",
    "for i in range(len(drive_durations)):\n",
    "    qubit_rabi_data[i] = Rabi_results.get_memory(i)[qubit]*scale_factor\n",
    "rabi_amp_data = get_amplitude(qubit_rabi_data)"
   ]
  },
  {
   "cell_type": "code",
   "execution_count": 159,
   "metadata": {},
   "outputs": [],
   "source": [
    "saved_data = dict()\n",
    "saved_data['rabi_amp_data'] = rabi_amp_data\n",
    "saved_data['drive_amplitudes'] = drive_powers\n",
    "saved_data['drive_samples'] = drive_samples\n",
    "with open('rabi_exp_data_with_varying_drive_amplitudes.pkl', 'wb') as handle:\n",
    "    pickle.dump(saved_data, handle)"
   ]
  },
  {
   "cell_type": "code",
   "execution_count": 160,
   "metadata": {},
   "outputs": [],
   "source": [
    "with open('rabi_exp_data_with_varying_drive_amplitudes.pkl', 'rb') as handle:\n",
    "    loaded_data = pickle.load(handle)\n",
    "rabi_amp_data = loaded_data['rabi_amp_data']\n",
    "drive_amps = loaded_data['drive_amplitudes']\n",
    "drive_samples = loaded_data['drive_samples']"
   ]
  },
  {
   "cell_type": "code",
   "execution_count": 161,
   "metadata": {},
   "outputs": [
    {
     "data": {
      "text/plain": [
       "<matplotlib.collections.PathCollection at 0x13affa748>"
      ]
     },
     "execution_count": 161,
     "metadata": {},
     "output_type": "execute_result"
    },
    {
     "data": {
      "image/png": "[encoded data removed]",
      "text/plain": [
       "<Figure size 432x288 with 1 Axes>"
      ]
     },
     "metadata": {
      "needs_background": "light"
     },
     "output_type": "display_data"
    }
   ],
   "source": [
    "#rabi_amp_data = get_amplitude(qubit_rabi_data)\n",
    "\n",
    "fit_func = lambda x,A,B,T,phi: (A*np.cos(2*np.pi*x/T+phi)+B)\n",
    "\n",
    "#Fit the data\n",
    "fitparams, conv = curve_fit(fit_func, drive_durations, rabi_amp_data, [1.0,0.0,0.02,0])\n",
    "\n",
    "#get the pi amplitude\n",
    "pi_amp = (np.pi-fitparams[3])*fitparams[2]/2/np.pi\n",
    "\n",
    "plt.scatter(drive_durations, rabi_amp_data)\n",
    "# plt.plot(drive_amps, fit_func(drive_amps, *fitparams), color='red')\n",
    "# plt.axvline(pi_amp, color='black', linestyle='dashed')\n",
    "# # plt.xlim(0, 0.05)\n",
    "# # plt.ylim(-2, 2)\n",
    "# plt.xlabel('Pulse amplitude, a.u.', fontsize=20)\n",
    "# plt.ylabel('Signal, a.u.', fontsize=20)\n",
    "# plt.title('Rough Pi Amplitude Calibration', fontsize=20)"
   ]
  },
  {
   "cell_type": "markdown",
   "metadata": {},
   "source": [
    "# 2 photon rabi"
   ]
  },
  {
   "cell_type": "code",
   "execution_count": 137,
   "metadata": {},
   "outputs": [
    {
     "data": {
      "text/plain": [
       "<qiskit.pulse.channels.device_specification.DeviceSpecification at 0x132b64f28>"
      ]
     },
     "execution_count": 137,
     "metadata": {},
     "output_type": "execute_result"
    }
   ],
   "source": [
    "backend_devicespec"
   ]
  },
  {
   "cell_type": "code",
   "execution_count": 130,
   "metadata": {},
   "outputs": [],
   "source": [
    "# Rabi experiment parameters\n",
    "num_Rabi_points = 90\n",
    "num_freq_points = 20\n",
    "num_shots_per_point = 512\n",
    "rough_frequency_qubit = backend_devicespec.q[qubit].drive\n",
    "backend_defaults = backend.defaults()\n",
    "rough_qubit_freq = 4.847297169266485\n",
    "sig_ma = 0.006\n",
    "\n",
    "# drive_frequencies = np.linspace(rough_frequency_qubit-sig_ma,rough_frequency_qubit+sig_ma,num_freq_points)\n",
    "\n",
    "# drive parameters\n",
    "drive_power_min = 0.0\n",
    "drive_power_max = 0.3\n",
    "drive_powers = np.linspace(drive_power_min, drive_power_max, num_Rabi_points)\n",
    "drive_samples = 128\n",
    "drive_sigma = 16\n",
    "\n",
    "# create schedules for Rabi experiment \n",
    "Rabi_schedules = []\n",
    "Rabi_schedule_LOs = []\n",
    "\n",
    "mm=19\n",
    "for ii, drive_power in enumerate(drive_powers):\n",
    "    rabi_pulse = pulse_lib.gaussian(duration=drive_samples, amp=drive_power, \n",
    "                                    sigma=drive_sigma, name='rabi_pulse_{}'.format(ii))\n",
    "    rabi_pulse_qubit = rabi_pulse(backend_devicespec.q[qubit].drive)\n",
    "    \n",
    "    # measurement pulse parameters\n",
    "    meas_amp = 0.05\n",
    "    meas_samples = 1200\n",
    "    meas_sigma = 4\n",
    "    meas_risefall = 25\n",
    "\n",
    "    # creating measurement pulse\n",
    "    meas_pulse = pulse_lib.gaussian_square(duration=meas_samples, amp=meas_amp,\n",
    "                                           sigma=meas_sigma, risefall=meas_risefall, \n",
    "                                           name='mymeasurepulse')\n",
    "    meas_pulse_qubit = meas_pulse(backend_devicespec.q[qubit].measure)\n",
    "\n",
    "    # create acquire pulse\n",
    "    acq_cmd=pulse.Acquire(duration=meas_samples)\n",
    "    acq_cmd_qubit = acq_cmd(backend_devicespec.q, backend_devicespec.mem)\n",
    "\n",
    "    # combined measure and acquire pulse\n",
    "    measure_and_acquire_qubit = meas_pulse_qubit | acq_cmd_qubit\n",
    "\n",
    "    # scalefactor for received data\n",
    "    scale_factor = 1e-10\n",
    "    \n",
    "    \n",
    "    # start an empty schedule with a label\n",
    "    this_schedule = pulse.Schedule(name=\"Rabi drive = {}\".format(drive_power))\n",
    "    this_schedule += rabi_pulse_qubit\n",
    "    this_schedule += measure_and_acquire_qubit << this_schedule.duration\n",
    "    \n",
    "    Rabi_schedules.append(this_schedule)\n",
    "    thisLO = pulse.LoConfig({backend_devicespec.q[qubit].drive: rough_qubit_freq})\n",
    "    Rabi_schedule_LOs.append(thisLO)\n",
    "    \n",
    "Rabi_schedules[-1].draw(channels_to_plot=[backend_devicespec.q[qubit].measure, \n",
    "                                           backend_devicespec.q[qubit].drive,\n",
    "                                           #backend_devicespec.q[qubit].acquire,\n",
    "                                         ],\n",
    "                                         scaling=10.0)  \n",
    "\n",
    "rabi_experiment_qobj = assemble (Rabi_schedules, backend = backend, \n",
    "                            meas_level=1, meas_return='avg',\n",
    "                            shots=num_shots_per_point,\n",
    "                            schedule_los = Rabi_schedule_LOs\n",
    "                                )\n",
    "\n",
    "# job = backend.run(rabi_experiment_qobj)\n",
    "# onephonton_chevron_codes.append(job.job_id())\n",
    "\n",
    "# print (onephonton_chevron_codes)"
   ]
  },
  {
   "cell_type": "code",
   "execution_count": 121,
   "metadata": {},
   "outputs": [
    {
     "data": {
      "text/plain": [
       "'5dcb0494f2b4ea001160716b'"
      ]
     },
     "execution_count": 121,
     "metadata": {},
     "output_type": "execute_result"
    }
   ],
   "source": [
    "job.job_id()"
   ]
  },
  {
   "cell_type": "code",
   "execution_count": 123,
   "metadata": {},
   "outputs": [],
   "source": [
    "twoprabi_codes = [\"5dcafed81896660011bb280d\",\"5dcb00cd0a67070011e8da43\",\"5dcb0494f2b4ea001160716b\"] #spot 1 should not do anything....lets see what happens"
   ]
  },
  {
   "cell_type": "code",
   "execution_count": 128,
   "metadata": {},
   "outputs": [
    {
     "name": "stdout",
     "output_type": "stream",
     "text": [
      "[0.         0.0057971  0.0115942  0.0173913  0.02318841 0.02898551\n",
      " 0.03478261 0.04057971 0.04637681 0.05217391 0.05797101 0.06376812\n",
      " 0.06956522 0.07536232 0.08115942 0.08695652 0.09275362 0.09855072\n",
      " 0.10434783 0.11014493 0.11594203 0.12173913 0.12753623 0.13333333\n",
      " 0.13913043 0.14492754 0.15072464 0.15652174 0.16231884 0.16811594\n",
      " 0.17391304 0.17971014 0.18550725 0.19130435 0.19710145 0.20289855\n",
      " 0.20869565 0.21449275 0.22028986 0.22608696 0.23188406 0.23768116\n",
      " 0.24347826 0.24927536 0.25507246 0.26086957 0.26666667 0.27246377\n",
      " 0.27826087 0.28405797 0.28985507 0.29565217 0.30144928 0.30724638\n",
      " 0.31304348 0.31884058 0.32463768 0.33043478 0.33623188 0.34202899\n",
      " 0.34782609 0.35362319 0.35942029 0.36521739 0.37101449 0.37681159\n",
      " 0.3826087  0.3884058  0.3942029  0.4       ]\n"
     ]
    }
   ],
   "source": [
    "print (drive_powers)"
   ]
  },
  {
   "cell_type": "code",
   "execution_count": 135,
   "metadata": {},
   "outputs": [
    {
     "data": {
      "text/plain": [
       "<matplotlib.lines.Line2D at 0x133019668>"
      ]
     },
     "execution_count": 135,
     "metadata": {},
     "output_type": "execute_result"
    },
    {
     "data": {
      "image/png": "[encoded data removed]",
      "text/plain": [
       "<Figure size 432x288 with 1 Axes>"
      ]
     },
     "metadata": {
      "needs_background": "light"
     },
     "output_type": "display_data"
    }
   ],
   "source": [
    "Y_plots= []\n",
    "job = backend.retrieve_job(twoprabi_codes[2])\n",
    "Rabi_results = job.result(timeout=3600)\n",
    "    \n",
    "\n",
    "plot_Y = []\n",
    "for jj, drive_power in enumerate(drive_powers):\n",
    "    thispower_results = Rabi_results.get_memory(jj)*scale_factor\n",
    "    plot_Y.append( thispower_results[qubit] )\n",
    "Y_plots.append(plot_Y)\n",
    "plot_X = drive_powers\n",
    "\n",
    "plot_Y = plot_Y-np.mean(plot_Y)\n",
    "plotter.plot(plot_X, plot_Y,\"--*\")\n",
    "plotter.axvline(0.185)"
   ]
  },
  {
   "cell_type": "code",
   "execution_count": null,
   "metadata": {},
   "outputs": [],
   "source": []
  },
  {
   "cell_type": "markdown",
   "metadata": {},
   "source": [
    "# IQ Plots"
   ]
  },
  {
   "cell_type": "markdown",
   "metadata": {},
   "source": [
    "Okay, so the varying duration rabi pulses are behaving a bit oddly.   In the meantime lets see how we can do with the IQ plots (also, worth trying to get the IQ plots of the 2 state.  \n",
    "\n",
    "\n",
    "Lets start off with defining a $\\pi$ pulse."
   ]
  },
  {
   "cell_type": "code",
   "execution_count": 226,
   "metadata": {},
   "outputs": [],
   "source": [
    "drive_samples = 128\n",
    "drive_sigma = 16\n",
    "# pi_amp = 0.04\n",
    "pi_amp = 0.185\n",
    "pi_pulse = pulse_lib.gaussian(duration=drive_samples,\n",
    "                              amp=pi_amp, \n",
    "                              sigma=drive_sigma,\n",
    "                              name='pi_pulse')"
   ]
  },
  {
   "cell_type": "code",
   "execution_count": 227,
   "metadata": {},
   "outputs": [],
   "source": [
    "# measurement pulse parameters\n",
    "meas_amp = 0.2\n",
    "meas_samples = 200\n",
    "meas_sigma = 4\n",
    "meas_risefall = 25\n",
    "\n",
    "# creating measurement pulse\n",
    "meas_pulse = pulse_lib.gaussian_square(duration=meas_samples, amp=meas_amp,\n",
    "                                       sigma=meas_sigma, risefall=meas_risefall, \n",
    "                                       name='mymeasurepulse')\n",
    "meas_pulse_qubit = meas_pulse(backend_devicespec.q[qubit].measure)\n",
    "\n",
    "\n",
    "# create acquire pulse\n",
    "acq_cmd=pulse.Acquire(duration=meas_samples)\n",
    "acq_cmd_qubit = acq_cmd(backend_devicespec.q, backend_devicespec.mem)\n",
    "\n",
    "# combined measure and acquire pulse\n",
    "measure_and_acquire_qubit = meas_pulse_qubit | acq_cmd_qubit\n",
    "\n",
    "\n",
    "\n",
    "meas_map_idx = None\n",
    "for i, measure_group in enumerate(backend_config.meas_map):\n",
    "    if qubit in measure_group:\n",
    "        meas_map_idx = i\n",
    "        break\n",
    "assert meas_map_idx is not None, f\"Couldn't find qubit {qubit} in the meas_map!\"\n",
    "### Collect the necessary channels\n",
    "drive_chan = pulse.DriveChannel(qubit)\n",
    "meas_chan = pulse.MeasureChannel(qubit)\n",
    "acq_chan = pulse.AcquireChannel(qubit)\n",
    "# Create the base schedule\n",
    "# Start with drive pulse acting on the drive channel\n",
    "schedule = pulse.Schedule(name='Frequency sweep')\n",
    "schedule += drive_pulse(drive_chan)\n",
    "\n",
    "# In a new schedule, which we will use again later, add a measurement stimulus on the\n",
    "# measure channel pulse to trigger readout\n",
    "measure_schedule = meas_pulse(meas_chan)\n",
    "# Trigger data acquisition, and store classified values into respective memory slots\n",
    "measure_schedule += acq_cmd([pulse.AcquireChannel(i) for i in backend_config.meas_map[meas_map_idx]],\n",
    "                            [pulse.MemorySlot(i) for i in backend_config.meas_map[meas_map_idx]])\n",
    "# The left shift `<<` is special syntax meaning to shift the start time of the schedule by some duration\n",
    "schedule += measure_schedule << schedule.duration\n",
    "\n",
    "\n",
    "# Create the frequency settings for the sweep\n",
    "schedule_frequencies = [{drive_chan: freq} for freq in frequencies_GHz]"
   ]
  },
  {
   "cell_type": "code",
   "execution_count": 228,
   "metadata": {},
   "outputs": [
    {
     "data": {
      "text/plain": [
       "array([4.691 , 4.6915, 4.692 , 4.6925, 4.693 , 4.6935, 4.694 , 4.6945,\n",
       "       4.695 , 4.6955, 4.696 , 4.6965, 4.697 , 4.6975, 4.698 , 4.6985])"
      ]
     },
     "execution_count": 228,
     "metadata": {},
     "output_type": "execute_result"
    }
   ],
   "source": [
    "frequencies_GHz"
   ]
  },
  {
   "cell_type": "code",
   "execution_count": 229,
   "metadata": {},
   "outputs": [],
   "source": [
    "# Create two schedules for the Rabi experiment \n",
    "# Ground state schedule\n",
    "gnd_schedule = pulse.Schedule(name=\"ground state\")\n",
    "gnd_schedule += measure_schedule\n",
    "\n",
    "# Excited state schedule\n",
    "exc_schedule = pulse.Schedule(name=\"excited state\")\n",
    "exc_schedule += pi_pulse(drive_chan)  # We found this in Part 2.A!\n",
    "exc_schedule += measure_schedule << exc_schedule.duration"
   ]
  },
  {
   "cell_type": "code",
   "execution_count": 230,
   "metadata": {},
   "outputs": [
    {
     "data": {
      "image/png": "[encoded data removed]",
      "text/plain": [
       "<Figure size 720x864 with 1 Axes>"
      ]
     },
     "execution_count": 230,
     "metadata": {},
     "output_type": "execute_result"
    }
   ],
   "source": [
    "gnd_schedule.draw(channels_to_plot=[drive_chan, meas_chan], scaling=4.0)"
   ]
  },
  {
   "cell_type": "code",
   "execution_count": 231,
   "metadata": {},
   "outputs": [
    {
     "data": {
      "image/png": "[encoded data removed]",
      "text/plain": [
       "<Figure size 720x864 with 1 Axes>"
      ]
     },
     "execution_count": 231,
     "metadata": {},
     "output_type": "execute_result"
    }
   ],
   "source": [
    "exc_schedule.draw(channels_to_plot=[drive_chan, meas_chan], scaling=4.0)"
   ]
  },
  {
   "cell_type": "code",
   "execution_count": 232,
   "metadata": {},
   "outputs": [],
   "source": [
    "# Execution settings\n",
    "num_shots = 1024\n",
    "# rough_frequency_qubit = 4.847295222285821\n",
    "rough_frequency_qubit = 4.6950\n",
    "gnd_exc_program = assemble([gnd_schedule, exc_schedule],\n",
    "                           backend=backend,\n",
    "                           meas_level=1,\n",
    "                           meas_return='single',\n",
    "                           shots=num_shots,\n",
    "                           schedule_los=[{drive_chan: rough_frequency_qubit}] * 2)"
   ]
  },
  {
   "cell_type": "code",
   "execution_count": 233,
   "metadata": {},
   "outputs": [
    {
     "name": "stdout",
     "output_type": "stream",
     "text": [
      "5dbc86486d90bb0018fb84f5\n"
     ]
    }
   ],
   "source": [
    "job = backend.run(gnd_exc_program)\n",
    "print(job.job_id())\n",
    "# job_monitor(job, quiet=False)"
   ]
  },
  {
   "cell_type": "code",
   "execution_count": 235,
   "metadata": {},
   "outputs": [],
   "source": [
    "gnd_exc_codes = [\"5db86fac99afd80019fc519a\",\"5db87285889b23001aee5f64\",\"5db872a199afd80019fc51ab\",\"5db872bfe440250018ba81d3\",\"5db875d7d3a8f10018a3e341\"] #1200 , #200, #2000, #20000 (error), #10000\n",
    "\n",
    "gnd_exc_codes_pow = [\"5db8795361a7870019954124\",\"5db87984f52ef7001ae785d4\",\"5db879c583968b00193a3cde\",\"5db879ddbb72de0018d8f1df\",\"5db879f6d3a8f10018a3e36d\"] #time fixed. 1200 samples   (above was power set to 0.05)sweeping power. #0.1, #0.2, #0.3, #0.01, #0.025\n",
    "\n",
    "gnd_exc_codes2 = [\"5db8b25ce440250018ba840b\",\"5db8b2aebb72de0018d8f3e2\",\"5db8b2c2889b23001aee6177\",\"5db8b2e6d3a8f10018a3e589\",\"5db8b314f52ef7001ae787f4\",\"5db8b32cd3a8f10018a3e58c\",\"5db8c296889b23001aee618a\",\"5db8c2ced3a8f10018a3e5a5\",\"5db8c2e6889b23001aee618c\"] # power set to 0.1 and varying the duration: #200, #600, #1200, #2000, #5000, #10000, #300, #400, #500\n",
    "\n",
    "gnd_f_codes = [\"5dbb23fdcc27e40018397ac5\"]\n",
    "gnd_e_codes = [\"5dbb28b5cc27e40018397adb\"]\n",
    "\n",
    "#Optimizing the qubit readout\n",
    "#2000samp with 0.1pow, #1200 samp with 0.15 pow, #500 samples with 0.25 pow, #500 sam 0.15 pow, #200 sam 0.2 pow\n",
    "g_e_codes = [\"5dbc509bcc27e40018397e7a\",\"5dbc544bcc27e40018397e86\",\"5dbc55ff1af28c0018cca78e\",\"5dbc5bb5cc27e40018397e99\", \"5dbc862123d1610018bf4ef0\"] \n",
    "g_f_codes = [\"5dbc50c823d1610018bf4e84\",\"5dbc5410cc27e40018397e84\",\"5dbc562626935800184e659b\",\"5dbc5b8f084c3b00195c8d1b\",\"5dbc86486d90bb0018fb84f5\"] "
   ]
  },
  {
   "cell_type": "code",
   "execution_count": 238,
   "metadata": {},
   "outputs": [],
   "source": [
    "job = backend.retrieve_job(g_e_codes[-2])\n",
    "gnd_e_results = job.result(timeout=3600)\n",
    "job = backend.retrieve_job(g_f_codes[-2])\n",
    "gnd_f_results = job.result(timeout=3600)"
   ]
  },
  {
   "cell_type": "code",
   "execution_count": 239,
   "metadata": {},
   "outputs": [
    {
     "data": {
      "image/png": "[encoded data removed]",
      "text/plain": [
       "<Figure size 432x288 with 1 Axes>"
      ]
     },
     "metadata": {
      "needs_background": "light"
     },
     "output_type": "display_data"
    }
   ],
   "source": [
    "gnd_results = gnd_exc_results.get_memory(0)[:, qubit]\n",
    "exc_results = gnd_exc_results.get_memory(1)[:, qubit]\n",
    "f_results = gnd_f_results.get_memory(1)[:, qubit]\n",
    "import matplotlib.pyplot as plt\n",
    "\n",
    "# Plot all the results\n",
    "# All results from the gnd_schedule are plotted in blue\n",
    "plt.scatter(np.real(gnd_results), np.imag(gnd_results), \n",
    "                s=5, cmap='viridis', c='blue', alpha=0.5, label='state_0')\n",
    "# All results from the exc_schedule are plotted in red\n",
    "plt.scatter(np.real(exc_results), np.imag(exc_results), \n",
    "                s=5, cmap='viridis', c='red', alpha=0.5, label='state_1')\n",
    "#e states\n",
    "plt.scatter(np.real(f_results), np.imag(e_results), \n",
    "                s=5, cmap='viridis', c='green', alpha=0.5, label='state_2')\n",
    "\n",
    "# Plot a large dot for the average result of the 0 and 1 states.\n",
    "mean_gnd = np.mean(gnd_results) # takes mean of both real and imaginary parts\n",
    "mean_exc = np.mean(exc_results)\n",
    "mean_f = np.mean(f_results)\n",
    "plt.scatter(np.real(mean_gnd), np.imag(mean_gnd), \n",
    "            s=200, cmap='viridis', c='blue',alpha=1.0, label='state_0_mean')\n",
    "plt.scatter(np.real(mean_exc), np.imag(mean_exc), \n",
    "            s=200, cmap='viridis', c='red',alpha=1.0, label='state_1_mean')\n",
    "plt.scatter(np.real(mean_f), np.imag(mean_f), \n",
    "            s=200, cmap='viridis', c='green',alpha=1.0, label='state_2_mean')\n",
    "\n",
    "plt.ylabel('I [a.u.]', fontsize=15)\n",
    "plt.xlabel('Q [a.u.]', fontsize=15)\n",
    "plt.legend([\"|0>\",\"|1>\",\"|2>\"],fontsize=15)\n",
    "plt.show()"
   ]
  },
  {
   "cell_type": "markdown",
   "metadata": {},
   "source": [
    "# Getting prototypical chevrons"
   ]
  },
  {
   "cell_type": "code",
   "execution_count": 16,
   "metadata": {},
   "outputs": [],
   "source": [
    "chevron_codes  =['5db8c50715a70b001967dcda', '5db8c51061a787001995434f', '5db8c51983968b00193a3f26', '5db8c520d3a8f10018a3e5ac', '5db8c525889b23001aee618e', '5db8c52a99afd80019fc53ec', '5db8c536f52ef7001ae7880d', '5db8c53ff52ef7001ae7880f', '5db8c544d3a8f10018a3e5ae', '5db8c54a15a70b001967dcdd', '5db8c54ef52ef7001ae78811', '5db8c55115a70b001967dcdf', '5db8c556d3a8f10018a3e5b0', '5db8c55b15a70b001967dce1', '5db8c560f52ef7001ae78813', '5db8c56461a7870019954351', '5db8c568889b23001aee6190', '5db8c56c99afd80019fc53ee', '5db8c57015a70b001967dce3', '5db8c57483968b00193a3f28', '5db8c578a693ee001877ed25', '5db8c57d99afd80019fc53f0', '5db8c581a693ee001877ed27', '5db8c587f52ef7001ae78815', '5db8c58c15a70b001967dce5', '5db8c59383968b00193a3f2a', '5db8c59883968b00193a3f2c', '5db8c59f15a70b001967dce8', '5db8c5a5a693ee001877ed29', '5db8c5ac83968b00193a3f2e', '5db8c5b2e440250018ba8424', '5db8c5b715a70b001967dceb', '5db8c5bce440250018ba8426', '5db8c5c2a693ee001877ed2b', '5db8c5c961a7870019954353', '5db8c5ce61a7870019954355', '5db8c5d3f52ef7001ae78817', '5db8c5dabb72de0018d8f3fb', '5db8c5de99afd80019fc53f3', '5db8c5e4a693ee001877ed2f']\n",
    "qubit_rabi_frequencies = [4.8412952222858205, 4.841602914593513, 4.841910606901205, 4.842218299208898, 4.84252599151659, 4.842833683824282, 4.843141376131975, 4.843449068439667, 4.843756760747359, 4.844064453055052, 4.844372145362744, 4.844679837670436, 4.844987529978129, 4.845295222285821, 4.845602914593513, 4.845910606901206, 4.846218299208898, 4.84652599151659, 4.846833683824283, 4.847141376131975, 4.8474490684396665, 4.847756760747359, 4.848064453055051, 4.8483721453627435, 4.848679837670436, 4.848987529978128, 4.8492952222858206, 4.849602914593513, 4.849910606901205, 4.850218299208898, 4.85052599151659, 4.850833683824282, 4.851141376131975, 4.851449068439667, 4.851756760747359, 4.852064453055052, 4.852372145362744, 4.852679837670436, 4.852987529978129, 4.853295222285821]"
   ]
  },
  {
   "cell_type": "code",
   "execution_count": 40,
   "metadata": {},
   "outputs": [
    {
     "name": "stdout",
     "output_type": "stream",
     "text": [
      "['5db8c50715a70b001967dcda', '5db8c51061a787001995434f', '5db8c51983968b00193a3f26', '5db8c520d3a8f10018a3e5ac', '5db8c525889b23001aee618e', '5db8c52a99afd80019fc53ec', '5db8c536f52ef7001ae7880d', '5db8c53ff52ef7001ae7880f', '5db8c544d3a8f10018a3e5ae', '5db8c54a15a70b001967dcdd', '5db8c54ef52ef7001ae78811', '5db8c55115a70b001967dcdf', '5db8c556d3a8f10018a3e5b0', '5db8c55b15a70b001967dce1', '5db8c560f52ef7001ae78813', '5db8c56461a7870019954351', '5db8c568889b23001aee6190', '5db8c56c99afd80019fc53ee', '5db8c57015a70b001967dce3', '5db8c57483968b00193a3f28', '5db8c578a693ee001877ed25', '5db8c57d99afd80019fc53f0', '5db8c581a693ee001877ed27', '5db8c587f52ef7001ae78815', '5db8c58c15a70b001967dce5', '5db8c59383968b00193a3f2a', '5db8c59883968b00193a3f2c', '5db8c59f15a70b001967dce8', '5db8c5a5a693ee001877ed29', '5db8c5ac83968b00193a3f2e', '5db8c5b2e440250018ba8424', '5db8c5b715a70b001967dceb', '5db8c5bce440250018ba8426', '5db8c5c2a693ee001877ed2b', '5db8c5c961a7870019954353', '5db8c5ce61a7870019954355', '5db8c5d3f52ef7001ae78817', '5db8c5dabb72de0018d8f3fb', '5db8c5de99afd80019fc53f3', '5db8c5e4a693ee001877ed2f']\n",
      "[4.8412952222858205, 4.841602914593513, 4.841910606901205, 4.842218299208898, 4.84252599151659, 4.842833683824282, 4.843141376131975, 4.843449068439667, 4.843756760747359, 4.844064453055052, 4.844372145362744, 4.844679837670436, 4.844987529978129, 4.845295222285821, 4.845602914593513, 4.845910606901206, 4.846218299208898, 4.84652599151659, 4.846833683824283, 4.847141376131975, 4.8474490684396665, 4.847756760747359, 4.848064453055051, 4.8483721453627435, 4.848679837670436, 4.848987529978128, 4.8492952222858206, 4.849602914593513, 4.849910606901205, 4.850218299208898, 4.85052599151659, 4.850833683824282, 4.851141376131975, 4.851449068439667, 4.851756760747359, 4.852064453055052, 4.852372145362744, 4.852679837670436, 4.852987529978129, 4.853295222285821]\n"
     ]
    }
   ],
   "source": [
    "# Rabi experiment parameters\n",
    "num_Rabi_points = 70\n",
    "num_freq_points = 40\n",
    "num_shots_per_point = 512\n",
    "backend_defaults = backend.defaults()\n",
    "rough_qubit_freq = backend_defaults.qubit_freq_est[qubit]\n",
    "sig_ma = 0.006\n",
    "\n",
    "drive_frequencies = np.linspace(rough_qubit_freq-sig_ma,rough_qubit_freq+sig_ma,num_freq_points)\n",
    "\n",
    "# drive parameters\n",
    "duration_min = 4\n",
    "duration_max = 60\n",
    "drive_durations = np.array([int(i) for i in range(duration_min, duration_max, 1)])\n",
    "drive_samples = 128\n",
    "drive_sigma = 16\n",
    "# Note: for codes[2] the max was 100 and steps of 2.\n",
    "# For codes[3] the max was 60 and steps of 1. 5db86a45e440250018ba81a3\n",
    "\n",
    "# create schedules for Rabi experiment \n",
    "Rabi_schedules = []\n",
    "Rabi_schedule_LOs = []\n",
    "\n",
    "mm=39\n",
    "for ii, drive_duration in enumerate(drive_durations):\n",
    "    rabi_pulse = pulse_lib.gaussian(duration=drive_duration, amp=0.1, \n",
    "                                    sigma=drive_sigma, name='rabi_pulse_{}'.format(ii))\n",
    "    rabi_pulse_qubit = rabi_pulse(backend_devicespec.q[qubit].drive)\n",
    "    # start an empty schedule with a label\n",
    "    this_schedule = pulse.Schedule(name=\"Rabi drive = {}\".format(drive_power))\n",
    "    this_schedule += rabi_pulse_qubit\n",
    "    this_schedule += measure_and_acquire_qubit << this_schedule.duration\n",
    "    \n",
    "    Rabi_schedules.append(this_schedule)\n",
    "    thisLO = pulse.LoConfig({backend_devicespec.q[qubit].drive: drive_frequencies[mm]})\n",
    "    Rabi_schedule_LOs.append(thisLO)\n",
    "    \n",
    "\n",
    "\n",
    "rabi_experiment_qobj = assemble (Rabi_schedules, backend = backend, \n",
    "                            meas_level=1, meas_return='avg',\n",
    "                            shots=num_shots_per_point,\n",
    "                            schedule_los = Rabi_schedule_LOs\n",
    "                                )\n",
    "\n",
    "# job = backend.run(rabi_experiment_qobj)\n",
    "# job_code =  job.job_id()\n",
    "print (chevron_codes)\n",
    "print (qubit_rabi_frequencies)"
   ]
  },
  {
   "cell_type": "code",
   "execution_count": 33,
   "metadata": {},
   "outputs": [],
   "source": [
    "Y_plots= []\n",
    "for k in range(len(chevron_codes)):\n",
    "    job = backend.retrieve_job(chevron_codes[k])\n",
    "    Rabi_results = job.result(timeout=3600)\n",
    "    \n",
    "\n",
    "    plot_Y = []\n",
    "    for jj, drive_duration in enumerate(drive_durations):\n",
    "        thispower_results = Rabi_results.get_memory(jj)*scale_factor\n",
    "        plot_Y.append( thispower_results[qubit] )\n",
    "    Y_plots.append(plot_Y)"
   ]
  },
  {
   "cell_type": "code",
   "execution_count": 38,
   "metadata": {},
   "outputs": [
    {
     "data": {
      "text/plain": [
       "[<matplotlib.lines.Line2D at 0x13179db38>]"
      ]
     },
     "execution_count": 38,
     "metadata": {},
     "output_type": "execute_result"
    },
    {
     "data": {
      "image/png": "[encoded data removed]",
      "text/plain": [
       "<Figure size 432x288 with 1 Axes>"
      ]
     },
     "metadata": {
      "needs_background": "light"
     },
     "output_type": "display_data"
    }
   ],
   "source": [
    "plot_X = drive_durations\n",
    "import matplotlib.pyplot as plotter\n",
    "plot_Ynew = get_amplitude(plot_Y)\n",
    "plot_Y = plot_Y - np.mean(plot_Y)\n",
    "plotter.plot(plot_X, plot_Ynew)"
   ]
  },
  {
   "cell_type": "code",
   "execution_count": 41,
   "metadata": {},
   "outputs": [
    {
     "name": "stdout",
     "output_type": "stream",
     "text": [
      "40\n"
     ]
    },
    {
     "data": {
      "text/plain": [
       "<matplotlib.collections.QuadMesh at 0x1310dca90>"
      ]
     },
     "execution_count": 41,
     "metadata": {},
     "output_type": "execute_result"
    },
    {
     "data": {
      "image/png": "[encoded data removed]",
      "text/plain": [
       "<Figure size 432x288 with 1 Axes>"
      ]
     },
     "metadata": {
      "needs_background": "light"
     },
     "output_type": "display_data"
    }
   ],
   "source": [
    "Y_amp_plots = []\n",
    "for i in range(len(Y_plots)):\n",
    "    Y_amp_plots.append(get_amplitude(Y_plots[i]))\n",
    "print (len(Y_amp_plots))\n",
    "plotter.pcolormesh(drive_durations,qubit_rabi_frequencies, Y_amp_plots)"
   ]
  },
  {
   "cell_type": "markdown",
   "metadata": {},
   "source": [
    "# Chevron pattern with power on x-axis"
   ]
  },
  {
   "cell_type": "code",
   "execution_count": 20,
   "metadata": {},
   "outputs": [],
   "source": [
    "pow_chevron_codes = ['5db8c6b6889b23001aee6198', '5db8c6cbf52ef7001ae7881b', '5db8c6d2f52ef7001ae7881d', '5db8c6d6f52ef7001ae7881f', '5db8c6eb99afd80019fc53f7', '5db8c6f699afd80019fc53f9', '5db8c6fc83968b00193a3f30', '5db8c704889b23001aee619a', '5db8c70761a787001995435b', '5db8c70c99afd80019fc53fb', '5db8c710bb72de0018d8f401', '5db8c71361a787001995435d', '5db8c716e440250018ba842d', '5db8c71a99afd80019fc53fe', '5db8c71df52ef7001ae78821', '5db8c721f52ef7001ae78823', '5db8c725a693ee001877ed32', '5db8c72861a787001995435f', '5db8c72ba693ee001877ed34', '5db8c72fd3a8f10018a3e5b4', '5db8c732a693ee001877ed36', '5db8c73615a70b001967dcf1', '5db8c73b61a7870019954361', '5db8c73f61a7870019954363', '5db8c742889b23001aee619d', '5db8c74699afd80019fc5400', '5db8c749889b23001aee619f', '5db8c74ce440250018ba842f', '5db8c74f15a70b001967dcf3', '5db8c75383968b00193a3f32', '5db8c76715a70b001967dcf5', '5db8c76dbb72de0018d8f403', '5db8c770f52ef7001ae78825', '5db8c77461a7870019954365', '5db8c778a693ee001877ed38', '5db8c77ca693ee001877ed3a', '5db8c782bb72de0018d8f406', '5db8c78599afd80019fc5402', '5db8c789e440250018ba8431', '5db8c78de440250018ba8433']\n",
    "qubit_pow_rabi_frequencies = [4.8412952222858205, 4.841602914593513, 4.841910606901205, 4.842218299208898, 4.84252599151659, 4.842833683824282, 4.843141376131975, 4.843449068439667, 4.843756760747359, 4.844064453055052, 4.844372145362744, 4.844679837670436, 4.844987529978129, 4.845295222285821, 4.845602914593513, 4.845910606901206, 4.846218299208898, 4.84652599151659, 4.846833683824283, 4.847141376131975, 4.8474490684396665, 4.847756760747359, 4.848064453055051, 4.8483721453627435, 4.848679837670436, 4.848987529978128, 4.8492952222858206, 4.849602914593513, 4.849910606901205, 4.850218299208898, 4.85052599151659, 4.850833683824282, 4.851141376131975, 4.851449068439667, 4.851756760747359, 4.852064453055052, 4.852372145362744, 4.852679837670436, 4.852987529978129, 4.853295222285821]"
   ]
  },
  {
   "cell_type": "code",
   "execution_count": 21,
   "metadata": {},
   "outputs": [
    {
     "name": "stdout",
     "output_type": "stream",
     "text": [
      "['5db8c6b6889b23001aee6198', '5db8c6cbf52ef7001ae7881b', '5db8c6d2f52ef7001ae7881d', '5db8c6d6f52ef7001ae7881f', '5db8c6eb99afd80019fc53f7', '5db8c6f699afd80019fc53f9', '5db8c6fc83968b00193a3f30', '5db8c704889b23001aee619a', '5db8c70761a787001995435b', '5db8c70c99afd80019fc53fb', '5db8c710bb72de0018d8f401', '5db8c71361a787001995435d', '5db8c716e440250018ba842d', '5db8c71a99afd80019fc53fe', '5db8c71df52ef7001ae78821', '5db8c721f52ef7001ae78823', '5db8c725a693ee001877ed32', '5db8c72861a787001995435f', '5db8c72ba693ee001877ed34', '5db8c72fd3a8f10018a3e5b4', '5db8c732a693ee001877ed36', '5db8c73615a70b001967dcf1', '5db8c73b61a7870019954361', '5db8c73f61a7870019954363', '5db8c742889b23001aee619d', '5db8c74699afd80019fc5400', '5db8c749889b23001aee619f', '5db8c74ce440250018ba842f', '5db8c74f15a70b001967dcf3', '5db8c75383968b00193a3f32', '5db8c76715a70b001967dcf5', '5db8c76dbb72de0018d8f403', '5db8c770f52ef7001ae78825', '5db8c77461a7870019954365', '5db8c778a693ee001877ed38', '5db8c77ca693ee001877ed3a', '5db8c782bb72de0018d8f406', '5db8c78599afd80019fc5402', '5db8c789e440250018ba8431', '5db8c78de440250018ba8433']\n",
      "[4.8412952222858205, 4.841602914593513, 4.841910606901205, 4.842218299208898, 4.84252599151659, 4.842833683824282, 4.843141376131975, 4.843449068439667, 4.843756760747359, 4.844064453055052, 4.844372145362744, 4.844679837670436, 4.844987529978129, 4.845295222285821, 4.845602914593513, 4.845910606901206, 4.846218299208898, 4.84652599151659, 4.846833683824283, 4.847141376131975, 4.8474490684396665, 4.847756760747359, 4.848064453055051, 4.8483721453627435, 4.848679837670436, 4.848987529978128, 4.8492952222858206, 4.849602914593513, 4.849910606901205, 4.850218299208898, 4.85052599151659, 4.850833683824282, 4.851141376131975, 4.851449068439667, 4.851756760747359, 4.852064453055052, 4.852372145362744, 4.852679837670436, 4.852987529978129, 4.853295222285821]\n"
     ]
    }
   ],
   "source": [
    "# Rabi experiment parameters\n",
    "num_Rabi_points = 70\n",
    "num_freq_points = 40\n",
    "num_shots_per_point = 512\n",
    "backend_defaults = backend.defaults()\n",
    "rough_qubit_freq = backend_defaults.qubit_freq_est[qubit]\n",
    "sig_ma = 0.006\n",
    "\n",
    "drive_frequencies = np.linspace(rough_qubit_freq-sig_ma,rough_qubit_freq+sig_ma,num_freq_points)\n",
    "\n",
    "# drive parameters\n",
    "drive_power_min = 0.0\n",
    "drive_power_max = 0.15\n",
    "drive_powers = np.linspace(drive_power_min, drive_power_max, num_Rabi_points)\n",
    "drive_samples = 128\n",
    "drive_sigma = 16\n",
    "\n",
    "# create schedules for Rabi experiment \n",
    "Rabi_schedules = []\n",
    "Rabi_schedule_LOs = []\n",
    "\n",
    "mm=39\n",
    "for ii, drive_power in enumerate(drive_powers):\n",
    "    rabi_pulse = pulse_lib.gaussian(duration=drive_samples, amp=drive_power, \n",
    "                                    sigma=drive_sigma, name='rabi_pulse_{}'.format(ii))\n",
    "    rabi_pulse_qubit = rabi_pulse(backend_devicespec.q[qubit].drive)\n",
    "    # start an empty schedule with a label\n",
    "    this_schedule = pulse.Schedule(name=\"Rabi drive = {}\".format(drive_power))\n",
    "    this_schedule += rabi_pulse_qubit\n",
    "    this_schedule += measure_and_acquire_qubit << this_schedule.duration\n",
    "    \n",
    "    Rabi_schedules.append(this_schedule)\n",
    "    thisLO = pulse.LoConfig({backend_devicespec.q[qubit].drive: drive_frequencies[mm]})\n",
    "    Rabi_schedule_LOs.append(thisLO)\n",
    "    \n",
    "\n",
    "rabi_experiment_qobj = assemble (Rabi_schedules, backend = backend, \n",
    "                            meas_level=1, meas_return='avg',\n",
    "                            shots=num_shots_per_point,\n",
    "                            schedule_los = Rabi_schedule_LOs\n",
    "                                )\n",
    "\n",
    "# job = backend.run(rabi_experiment_qobj)\n",
    "# job_code =  job.job_id()\n",
    "print (pow_chevron_codes)\n",
    "print (qubit_pow_rabi_frequencies)"
   ]
  },
  {
   "cell_type": "code",
   "execution_count": 42,
   "metadata": {},
   "outputs": [],
   "source": [
    "Y_plots= []\n",
    "for k in range(len(pow_chevron_codes)):\n",
    "    job = backend.retrieve_job(pow_chevron_codes[k])\n",
    "    Rabi_results = job.result(timeout=3600)\n",
    "    \n",
    "\n",
    "    plot_Y = []\n",
    "    for jj, drive_power in enumerate(drive_powers):\n",
    "        thispower_results = Rabi_results.get_memory(jj)*scale_factor\n",
    "        plot_Y.append( thispower_results[qubit] )\n",
    "    Y_plots.append(plot_Y)"
   ]
  },
  {
   "cell_type": "code",
   "execution_count": 43,
   "metadata": {},
   "outputs": [
    {
     "data": {
      "text/plain": [
       "[<matplotlib.lines.Line2D at 0x130fba0f0>]"
      ]
     },
     "execution_count": 43,
     "metadata": {},
     "output_type": "execute_result"
    },
    {
     "data": {
      "image/png": "[encoded data removed]",
      "text/plain": [
       "<Figure size 432x288 with 1 Axes>"
      ]
     },
     "metadata": {
      "needs_background": "light"
     },
     "output_type": "display_data"
    }
   ],
   "source": [
    "plot_X = drive_powers\n",
    "plot_Ynew = get_amplitude(plot_Y)\n",
    "plot_Y = plot_Y - np.mean(plot_Y)\n",
    "plotter.plot(plot_X, plot_Ynew)"
   ]
  },
  {
   "cell_type": "code",
   "execution_count": 46,
   "metadata": {},
   "outputs": [
    {
     "name": "stdout",
     "output_type": "stream",
     "text": [
      "40\n"
     ]
    },
    {
     "data": {
      "text/plain": [
       "<matplotlib.collections.QuadMesh at 0x131cc6d30>"
      ]
     },
     "execution_count": 46,
     "metadata": {},
     "output_type": "execute_result"
    },
    {
     "data": {
      "image/png": "[encoded data removed]",
      "text/plain": [
       "<Figure size 432x288 with 1 Axes>"
      ]
     },
     "metadata": {
      "needs_background": "light"
     },
     "output_type": "display_data"
    }
   ],
   "source": [
    "Y_amp_plots = []\n",
    "for i in range(len(Y_plots)):\n",
    "    Y_amp_plots.append(get_amplitude(Y_plots[i]))\n",
    "print (len(Y_amp_plots))\n",
    "plotter.pcolormesh(drive_powers,qubit_rabi_frequencies, Y_amp_plots)"
   ]
  },
  {
   "cell_type": "code",
   "execution_count": null,
   "metadata": {},
   "outputs": [],
   "source": []
  }
 ],
 "metadata": {
  "kernelspec": {
   "display_name": "Python 3",
   "language": "python",
   "name": "python3"
  },
  "language_info": {
   "codemirror_mode": {
    "name": "ipython",
    "version": 3
   },
   "file_extension": ".py",
   "mimetype": "text/x-python",
   "name": "python",
   "nbconvert_exporter": "python",
   "pygments_lexer": "ipython3",
   "version": "3.7.3"
  }
 },
 "nbformat": 4,
 "nbformat_minor": 2
}
