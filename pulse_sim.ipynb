{
 "cells": [
  {
   "cell_type": "markdown",
   "metadata": {},
   "source": [
    "Setting up pulse simulator:\n",
    "\n",
    "1) switch to openpulse-sim branch of qiskit-aer, also include this pull request https://github.com/Qiskit/qiskit-aer/pull/451 and increase `nsteps` in qiskit-aer/qiskit/providers/aer/openpulse/solver/options.py (I upped 100x to 50000)\n",
    "\n",
    "2) run `python setup.py build_ext --inplace`\n",
    "\n",
    "3) `python ./setup.py bdist_wheel`\n",
    "\n",
    "4) `cd dist` and `pip install` the wheel\n",
    "\n",
    "5) `rm -rf /Users/pranavgokhale/anaconda3/envs/QiskitDevenv/lib/python3.7/site-packages/qiskit` (replace with your username / site-packages location)\n",
    "\n",
    "6) `ln -s /Users/pranavgokhale/Developer/qiskit/qiskit-aer/qiskit/ /Users/pranavgokhale/anaconda3/envs/QiskitDevenv/lib/python3.7/site-packages/qiskit` (tailor paths to your setup)"
   ]
  },
  {
   "cell_type": "code",
   "execution_count": 2,
   "metadata": {},
   "outputs": [],
   "source": [
    "#Import general libraries (needed for functions)\n",
    "import numpy as np\n",
    "import matplotlib.pyplot as plt\n",
    "from scipy.optimize import curve_fit\n",
    "\n",
    "#Import Qiskit classes classes\n",
    "import qiskit\n",
    "#from qiskit.providers.aer.noise import NoiseModel\n",
    "#from qiskit.providers.aer.noise.errors.standard_errors import depolarizing_error, thermal_relaxation_error\n",
    "\n",
    "import qiskit.pulse as pulse\n",
    "import qiskit.pulse.pulse_lib as pulse_lib\n",
    "from qiskit.compiler import assemble\n",
    "import random\n",
    "from qiskit.test.mock import FakeAlmaden"
   ]
  },
  {
   "cell_type": "code",
   "execution_count": 3,
   "metadata": {},
   "outputs": [
    {
     "name": "stderr",
     "output_type": "stream",
     "text": [
      "/Users/pranavgokhale/Developer/qiskit/qiskit-terra/qiskit/pulse/channels/pulse_channel_spec.py:87: DeprecationWarning: The PulseChannelSpec is deprecated. Use backend.configuration() instead. The supported methods require some migrations; check out the release notes for the complete details.\n",
      "  DeprecationWarning)\n"
     ]
    }
   ],
   "source": [
    "#Get a pulse configuration from the fake backend\n",
    "backend_real = FakeAlmaden()\n",
    "back_config = backend_real.configuration().to_dict()\n",
    "system = pulse.PulseChannelSpec.from_backend(backend_real)"
   ]
  },
  {
   "cell_type": "code",
   "execution_count": 4,
   "metadata": {},
   "outputs": [],
   "source": [
    "#Get pulse simulator backend\n",
    "backend_sim = qiskit.Aer.get_backend('pulse_simulator')"
   ]
  },
  {
   "cell_type": "markdown",
   "metadata": {},
   "source": [
    "## Simulations\n",
    "\n",
    "### These need to be run in sequential order\n",
    "\n",
    "[Rabi Oscillation](#rabi)\n",
    "Apply a pulse to Q0 and measure the population evoluation versus pulse amplitude\n",
    "\n",
    "[Measurement Level 1 for the Readout Test](#readout_test)\n",
    "<br> Prepare the |0> and |1> states and look at the measurement level 1 output \n",
    "\n",
    "[CR Oscillation](#cr)\n",
    "<br> Look at the Q1 State when we drive Q0 at the frequency of Q1\n",
    "\n",
    "[T1](#t1)\n",
    "<br>Demonstrating noise with pulse"
   ]
  },
  {
   "cell_type": "markdown",
   "metadata": {},
   "source": [
    "<a id='rabi'></a>\n",
    "# Simulate a Rabi Oscillation"
   ]
  },
  {
   "cell_type": "markdown",
   "metadata": {},
   "source": [
    "First, we are going to simulate a rabi oscillation, i.e., meausure the qubit state population versus the amplitude of a drive pulse. This is the same example that is in the tutorials."
   ]
  },
  {
   "cell_type": "markdown",
   "metadata": {},
   "source": [
    "### Build Pulse Schedule "
   ]
  },
  {
   "cell_type": "markdown",
   "metadata": {},
   "source": [
    "Build on qubit 0"
   ]
  },
  {
   "cell_type": "code",
   "execution_count": 5,
   "metadata": {},
   "outputs": [],
   "source": [
    "cmd_def = qiskit.pulse.CmdDef.from_defaults(backend_real.defaults().cmd_def, backend_real.defaults().pulse_library)\n",
    "measure = cmd_def.get('measure', qubits=backend_real.configuration().meas_map[0])"
   ]
  },
  {
   "cell_type": "code",
   "execution_count": 6,
   "metadata": {},
   "outputs": [],
   "source": [
    "#qubit to use for exeperiment\n",
    "qubit = 0\n",
    "# exp configuration\n",
    "exps = 41\n",
    "shots = 512\n",
    "\n",
    "# Rabi pulse\n",
    "drive_amps = np.linspace(0, 0.9, exps)\n",
    "drive_samples = 128\n",
    "drive_sigma = 16\n",
    "\n",
    "# Create schedule\n",
    "schedules = []\n",
    "for ii, drive_amp in enumerate(drive_amps):\n",
    "    # drive pulse\n",
    "    rabi_pulse = pulse_lib.gaussian(duration=drive_samples, \n",
    "                                    amp=drive_amp, \n",
    "                                    sigma=drive_sigma, name='rabi_pulse_%d' % ii)\n",
    "    \n",
    "    # add commands to schedule\n",
    "    schedule = pulse.Schedule(name='rabi_exp_amp_%s' % drive_amp)\n",
    "    \n",
    "    schedule += rabi_pulse(system.qubits[qubit].drive)\n",
    "    schedule |= measure << schedule.duration\n",
    " \n",
    "    schedules.append(schedule)"
   ]
  },
  {
   "cell_type": "markdown",
   "metadata": {},
   "source": [
    "### Design the Hamiltonian"
   ]
  },
  {
   "cell_type": "markdown",
   "metadata": {},
   "source": [
    "Let's build a transmon Hamiltonian with anharmonicity to test the Rabi oscillation and CR"
   ]
  },
  {
   "cell_type": "code",
   "execution_count": 7,
   "metadata": {},
   "outputs": [],
   "source": [
    "hamiltonian = {}\n",
    "hamiltonian['h_str'] = ['_SUM[i,0,1,wq{i}/2*(I{i}-Z{i})]', '_SUM[i,0,1,omegad{i}*X{i}||D{i}]',\n",
    "                        'jq0q1*Sp0*Sm1', 'jq0q1*Sm0*Sp1', 'omegad1*X0||U0', 'omegad0*X1||U1']\n",
    "hamiltonian['qub'] = {'0': 3, '1': 3}\n",
    "hamiltonian['vars'] = {'wq0': 30.518812656662774, 'wq1': 31.238229295532093,\n",
    "                       'omegad0': 2*np.pi*0.02, 'omegad1': 2*np.pi*0.02,\n",
    "                       'jq0q1': 0.01}\n",
    "\n",
    "back_config['hamiltonian'] = hamiltonian\n",
    "back_config['noise'] = {}\n",
    "back_config['dt'] = 1.0"
   ]
  },
  {
   "cell_type": "markdown",
   "metadata": {},
   "source": [
    "### Add Solver Settings"
   ]
  },
  {
   "cell_type": "markdown",
   "metadata": {},
   "source": [
    "Any solver settings also does into the back_config"
   ]
  },
  {
   "cell_type": "code",
   "execution_count": 8,
   "metadata": {},
   "outputs": [],
   "source": [
    "back_config['ode_options'] = {}"
   ]
  },
  {
   "cell_type": "markdown",
   "metadata": {},
   "source": [
    "### Restrict the Qubits Used in the Simulation "
   ]
  },
  {
   "cell_type": "markdown",
   "metadata": {},
   "source": [
    "We can use a qubit whitelist (`qubit_list`) to restrict the set of qubits used in the solution. The pulse simulator will appropriately alter the Hamiltonian. To start let's assume the list contains the first 2 qubits."
   ]
  },
  {
   "cell_type": "code",
   "execution_count": 9,
   "metadata": {},
   "outputs": [],
   "source": [
    "back_config['qubit_list'] = [0,1]\n",
    "#back_config['qubit_list'] = list(range(20))\n",
    "#back_config['qubit_list'] = None"
   ]
  },
  {
   "cell_type": "markdown",
   "metadata": {},
   "source": [
    "### Assemble the qobj with the backend config file and the qubit_list"
   ]
  },
  {
   "cell_type": "markdown",
   "metadata": {},
   "source": [
    "We have to do this step twice to get the dressed frequencies for setting the LO's. Note here that we set `meas_level=1` and `meas_return=avg` which will return the average probability for the qubit to be in the |1> state."
   ]
  },
  {
   "cell_type": "code",
   "execution_count": 10,
   "metadata": {},
   "outputs": [],
   "source": [
    "rabi_qobj = assemble(schedules, backend_real, \n",
    "                     meas_level=1, meas_return='avg', \n",
    "                     memory_slots=2,\n",
    "                     shots=shots, sim_config = back_config)"
   ]
  },
  {
   "cell_type": "code",
   "execution_count": 11,
   "metadata": {},
   "outputs": [],
   "source": [
    "evals, estates = backend_sim.get_dressed_energies(rabi_qobj)"
   ]
  },
  {
   "cell_type": "code",
   "execution_count": 12,
   "metadata": {},
   "outputs": [
    {
     "data": {
      "text/plain": [
       "array([ 0.        ,  4.85719783,  9.71439566,  4.97174068,  9.82893851,\n",
       "       14.68607003,  9.94348135, 14.80074549, 19.65787701])"
      ]
     },
     "execution_count": 12,
     "metadata": {},
     "output_type": "execute_result"
    }
   ],
   "source": [
    "evals/2/np.pi"
   ]
  },
  {
   "cell_type": "code",
   "execution_count": 13,
   "metadata": {},
   "outputs": [],
   "source": [
    "rabi_qobj = assemble(schedules, backend_real, \n",
    "                     meas_level=1, meas_return='avg', \n",
    "                     memory_slots=2, qubit_lo_freq = [evals[1]/2/np.pi,\n",
    "                                                      evals[3]/2/np.pi],\n",
    "                     shots=shots, sim_config = back_config)"
   ]
  },
  {
   "cell_type": "markdown",
   "metadata": {},
   "source": [
    "### Simulate"
   ]
  },
  {
   "cell_type": "code",
   "execution_count": 14,
   "metadata": {},
   "outputs": [],
   "source": [
    "#Note: this is how to run bypassing the backend\n",
    "#opsys = qiskit.providers.aer.openpulse.qobj.digest.digest_pulse_obj(rabi_qobj.to_dict())\n",
    "#simdata = qiskit.providers.aer.openpulse.solver.opsolve.opsolve(opsys)"
   ]
  },
  {
   "cell_type": "code",
   "execution_count": 15,
   "metadata": {},
   "outputs": [],
   "source": [
    "sim_result = backend_sim.run(rabi_qobj).result()"
   ]
  },
  {
   "cell_type": "code",
   "execution_count": 16,
   "metadata": {},
   "outputs": [
    {
     "data": {
      "text/plain": [
       "128.0"
      ]
     },
     "execution_count": 16,
     "metadata": {},
     "output_type": "execute_result"
    }
   ],
   "source": [
    "#get the end time of the simulation in dt\n",
    "sim_result.results[0].header.ode_t"
   ]
  },
  {
   "cell_type": "code",
   "execution_count": 17,
   "metadata": {},
   "outputs": [
    {
     "data": {
      "text/plain": [
       "array([1.+0.j, 0.+0.j, 0.+0.j, 0.+0.j, 0.+0.j, 0.+0.j, 0.+0.j, 0.+0.j,\n",
       "       0.+0.j])"
      ]
     },
     "execution_count": 17,
     "metadata": {},
     "output_type": "execute_result"
    }
   ],
   "source": [
    "#get the statevector IN THE FRAME OF THE ORIGINAL HAMILTONIAN\n",
    "sim_result.get_statevector(0)"
   ]
  },
  {
   "cell_type": "markdown",
   "metadata": {},
   "source": [
    "Extract the qubit populations "
   ]
  },
  {
   "cell_type": "code",
   "execution_count": 18,
   "metadata": {},
   "outputs": [],
   "source": [
    "amp_data_Q0 = []\n",
    "amp_data_Q1 = []\n",
    "\n",
    "for exp_idx in range(len(drive_amps)):\n",
    "    exp_mem = sim_result.get_memory(exp_idx)\n",
    "    amp_data_Q0.append(np.abs(exp_mem[0]))\n",
    "    amp_data_Q1.append(np.abs(exp_mem[1]))"
   ]
  },
  {
   "cell_type": "code",
   "execution_count": 20,
   "metadata": {},
   "outputs": [
    {
     "name": "stdout",
     "output_type": "stream",
     "text": [
      "Pi Amplitude 0.179919\n"
     ]
    },
    {
     "data": {
      "image/png": "[encoded data removed]",
      "text/plain": [
       "<Figure size 432x288 with 1 Axes>"
      ]
     },
     "metadata": {
      "needs_background": "light"
     },
     "output_type": "display_data"
    }
   ],
   "source": [
    "#Fit the data\n",
    "fit_func = lambda x,A,B,T,phi: (A*np.cos(2*np.pi*x/T+phi)+B)\n",
    "fitparams, conv = curve_fit(fit_func, drive_amps, amp_data_Q0, [0.5,0.5,0.3,1.5])\n",
    "\n",
    "#get the pi amplitude\n",
    "pi_amp = (fitparams[3])*fitparams[2]/2/np.pi\n",
    "\n",
    "plt.plot(drive_amps, amp_data_Q0, label='Q0')\n",
    "plt.plot(drive_amps, amp_data_Q1, label='Q1')\n",
    "plt.plot(drive_amps, fit_func(drive_amps, *fitparams), color='black', linestyle='dashed', label='Fit')\n",
    "plt.axvline(pi_amp, color='black', linestyle='dashed')\n",
    "plt.legend()\n",
    "plt.xlabel('Pulse amplitude, a.u.', fontsize=20)\n",
    "plt.ylabel('Signal, a.u.', fontsize=20)\n",
    "plt.title('Rabi on Q0', fontsize=20)\n",
    "plt.grid(True)\n",
    "\n",
    "print('Pi Amplitude %f'%(pi_amp))"
   ]
  },
  {
   "cell_type": "markdown",
   "metadata": {},
   "source": [
    "<a id='readout_test'></a>\n",
    "# Look at the Shots Distribution"
   ]
  },
  {
   "cell_type": "markdown",
   "metadata": {},
   "source": [
    "Using the pulse amplitude calibrated above, do an experiment with no pulse and an experiment with a pi pulse and look at the measurement outcomes. "
   ]
  },
  {
   "cell_type": "code",
   "execution_count": 27,
   "metadata": {},
   "outputs": [],
   "source": [
    "# Create schedule\n",
    "pi_pulse = pulse_lib.gaussian(duration=drive_samples,\n",
    "                                amp=pi_amp, \n",
    "                                sigma=drive_sigma,\n",
    "                                name='pi_pulse')\n",
    "\n",
    "pi_2_pulse = pulse_lib.gaussian(duration=drive_samples,\n",
    "                                amp=pi_amp/2, \n",
    "                                sigma=drive_sigma,\n",
    "                                name='pi_2_pulse')\n",
    "    \n",
    "# excited\n",
    "excited_exp = pulse.Schedule(name='pi_exp')\n",
    "excited_exp += pi_pulse(system.qubits[qubit].drive)\n",
    "measure_time = excited_exp.duration\n",
    "excited_exp |= measure << measure_time\n",
    "\n",
    "# superposition\n",
    "sup_exp = pulse.Schedule(name='pi_2_exp')\n",
    "sup_exp += pi_2_pulse(system.qubits[qubit].drive)\n",
    "measure_time = sup_exp.duration\n",
    "sup_exp |= measure << measure_time\n",
    "\n",
    "# ground\n",
    "ground_exp = pulse.Schedule(name='no_pi_exp')\n",
    "ground_exp |= pulse.Schedule(name='ground_exp')\n",
    "ground_exp |= measure << measure_time \n",
    "\n",
    "excited_exp_schedules = [ground_exp, excited_exp]  #sup_exp, excited_exp]"
   ]
  },
  {
   "cell_type": "markdown",
   "metadata": {},
   "source": [
    "Change the `meas_return=single` which will return each individual measurement"
   ]
  },
  {
   "cell_type": "code",
   "execution_count": 28,
   "metadata": {},
   "outputs": [],
   "source": [
    "readout_qobj = assemble(excited_exp_schedules, backend_real, \n",
    "                     meas_level=1, meas_return='single', \n",
    "                     memory_slots=2, qubit_lo_freq = [evals[1]/2/np.pi,\n",
    "                                                      evals[3]/2/np.pi],\n",
    "                     shots=shots, sim_config = back_config)"
   ]
  },
  {
   "cell_type": "code",
   "execution_count": 29,
   "metadata": {},
   "outputs": [],
   "source": [
    "sim_result = backend_sim.run(readout_qobj).result()"
   ]
  },
  {
   "cell_type": "markdown",
   "metadata": {},
   "source": [
    "Plot the data, there is no measurement error in the simulator data so the histographs will be all centered at the average point."
   ]
  },
  {
   "cell_type": "code",
   "execution_count": 30,
   "metadata": {},
   "outputs": [],
   "source": [
    "ground_data = sim_result.get_memory(0)[:, qubit]\n",
    "excited_data = sim_result.get_memory(1)[:, qubit]\n",
    "#sup_data = sim_result.get_memory(1)[:, qubit]"
   ]
  },
  {
   "cell_type": "markdown",
   "metadata": {},
   "source": [
    "Add some random noise to the data to better approximate the experiment"
   ]
  },
  {
   "cell_type": "code",
   "execution_count": 32,
   "metadata": {},
   "outputs": [],
   "source": [
    "for idx in range(len(ground_data)):\n",
    "    ground_data[idx] += random.gauss(0,0.1)+1j*random.gauss(0,0.1)\n",
    "    excited_data[idx] += random.gauss(0,0.1)+1j*random.gauss(0,0.1)\n",
    "    #sup_data[idx] += random.gauss(0,0.1)+1j*random.gauss(0,0.1)"
   ]
  },
  {
   "cell_type": "code",
   "execution_count": 33,
   "metadata": {},
   "outputs": [
    {
     "data": {
      "text/plain": [
       "Text(0, 0.5, 'Q (a.u.)')"
      ]
     },
     "execution_count": 33,
     "metadata": {},
     "output_type": "execute_result"
    },
    {
     "data": {
      "image/png": "[encoded data removed]",
      "text/plain": [
       "<Figure size 432x288 with 1 Axes>"
      ]
     },
     "metadata": {
      "needs_background": "light"
     },
     "output_type": "display_data"
    }
   ],
   "source": [
    "plt.scatter(np.real(ground_data), np.imag(ground_data), s=5, cmap='viridis',c='blue',alpha=0.5, label='|0>')\n",
    "plt.scatter(np.real(excited_data), np.imag(excited_data), s=5, cmap='viridis',c='green',alpha=0.5, label='|1>')\n",
    "#plt.scatter(np.real(sup_data), np.imag(sup_data), s=5, cmap='viridis',c='red',alpha=0.5, label='|0>+|1>')\n",
    "ground_center = np.mean(ground_data)\n",
    "excited_center = np.mean(excited_data)\n",
    "#sup_center = np.mean(sup_data)\n",
    "\n",
    "plt.scatter(np.real(ground_center), np.imag(ground_center), c='blue', s=200, alpha=1.0)\n",
    "plt.scatter(np.real(excited_center), np.imag(excited_center), c='green', s=200, alpha=1.0)\n",
    "#plt.scatter(np.real(sup_center), np.imag(sup_center), c='red', s=200, alpha=1.0)\n",
    "\n",
    "plt.title('Kernel integrated I-Q scatter plot', fontsize=20)\n",
    "plt.legend(loc='upper right')\n",
    "plt.xlabel('I (a.u.)', fontsize=16)\n",
    "plt.ylabel('Q (a.u.)', fontsize=16)"
   ]
  },
  {
   "cell_type": "markdown",
   "metadata": {},
   "source": [
    "<a id='cr'></a>\n",
    "# Cross-Resonance"
   ]
  },
  {
   "cell_type": "markdown",
   "metadata": {},
   "source": [
    "Simulate cross-resonance by driving on U0. Note you need to run Rabi first to setup the hamiltonian."
   ]
  },
  {
   "cell_type": "code",
   "execution_count": 41,
   "metadata": {},
   "outputs": [],
   "source": [
    "#qubit to use for exeperiment\n",
    "qubit = 0\n",
    "# exp configuration\n",
    "exps = 41\n",
    "shots = 512\n",
    "\n",
    "# Rabi pulse\n",
    "cr_drive_amps = np.linspace(0, 0.9, exps)\n",
    "cr_drive_samples = 128*3*8\n",
    "cr_drive_sigma = 4\n",
    "\n",
    "\n",
    "# Create schedule\n",
    "schedules = []\n",
    "for ii, cr_drive_amp in enumerate(cr_drive_amps):\n",
    "    # drive pulse\n",
    "    cr_rabi_pulse = pulse_lib.gaussian_square(duration=cr_drive_samples, \n",
    "                                    amp=cr_drive_amp, \n",
    "                                    risefall=cr_drive_sigma*4,\n",
    "                                    sigma=cr_drive_sigma, name='rabi_pulse_%d' % ii)\n",
    "    \n",
    "    # add commands to schedule\n",
    "    schedule = pulse.Schedule(name='cr_rabi_exp_amp_%s' % cr_drive_amp)\n",
    "    \n",
    "    schedule += cr_rabi_pulse(system.controls[1])\n",
    "    schedule |= measure << schedule.duration\n",
    " \n",
    "    schedules.append(schedule)"
   ]
  },
  {
   "cell_type": "code",
   "execution_count": 42,
   "metadata": {},
   "outputs": [],
   "source": [
    "cr_rabi_qobj = assemble(schedules, backend_real, \n",
    "                     meas_level=1, meas_return='avg', \n",
    "                     memory_slots=2, qubit_lo_freq = [evals[1]/2/np.pi,\n",
    "                                                      evals[3]/2/np.pi],\n",
    "                     shots=shots, sim_config = back_config)"
   ]
  },
  {
   "cell_type": "code",
   "execution_count": 43,
   "metadata": {},
   "outputs": [],
   "source": [
    "sim_result = backend_sim.run(cr_rabi_qobj).result()"
   ]
  },
  {
   "cell_type": "code",
   "execution_count": 44,
   "metadata": {},
   "outputs": [],
   "source": [
    "amp_data_Q0 = []\n",
    "amp_data_Q1 = []\n",
    "\n",
    "for exp_idx in range(len(cr_drive_amps)):\n",
    "    exp_mem = sim_result.get_memory(exp_idx)\n",
    "    amp_data_Q0.append(np.abs(exp_mem[0]))\n",
    "    amp_data_Q1.append(np.abs(exp_mem[1]))"
   ]
  },
  {
   "cell_type": "code",
   "execution_count": 45,
   "metadata": {},
   "outputs": [
    {
     "data": {
      "image/png": "[encoded data removed]",
      "text/plain": [
       "<Figure size 432x288 with 1 Axes>"
      ]
     },
     "metadata": {
      "needs_background": "light"
     },
     "output_type": "display_data"
    }
   ],
   "source": [
    "plt.plot(drive_amps, amp_data_Q0, label='Q0')\n",
    "plt.plot(drive_amps, amp_data_Q1, label='Q1')\n",
    "plt.legend()\n",
    "plt.xlabel('Pulse amplitude, a.u.', fontsize=20)\n",
    "plt.ylabel('Signal, a.u.', fontsize=20)\n",
    "plt.title('CR (Target Q1, driving on Q0)', fontsize=20)\n",
    "plt.grid(True)"
   ]
  },
  {
   "cell_type": "markdown",
   "metadata": {},
   "source": [
    "<a id='t1'></a>\n",
    "# T1"
   ]
  },
  {
   "cell_type": "markdown",
   "metadata": {},
   "source": [
    "Using the calibrated Pi pulse add a T1 decay channel and simulate a t1 experiment. This can take a while to run. The noise operators in pulse are still a work in progress."
   ]
  },
  {
   "cell_type": "code",
   "execution_count": null,
   "metadata": {},
   "outputs": [],
   "source": [
    "\n",
    "t1_times = np.linspace(0,500,10)\n",
    "t1_times = np.array(t1_times, dtype=int)\n",
    "\n",
    "T1_exps = []\n",
    "for kk in range(len(t1_times)):\n",
    "    schedule = pulse.Schedule(name='T1_{}'.format(kk))\n",
    "    schedule |= pi_pulse(system.qubits[qubit].drive) << schedule.duration\n",
    "    schedule |= measure_and_acquire << int(t1_times[kk]) + schedule.duration\n",
    "    T1_exps.append(schedule)"
   ]
  },
  {
   "cell_type": "code",
   "execution_count": null,
   "metadata": {},
   "outputs": [],
   "source": [
    "# Add noise to the Hamiltonian on qubit '0'\n",
    "back_config['noise'] = {\"qubit\": \n",
    "                        {\"0\": \n",
    "                         {\"Sm\": 0.006\n",
    "                         }}}\n",
    "#back_config['noise'] = {}"
   ]
  },
  {
   "cell_type": "code",
   "execution_count": null,
   "metadata": {},
   "outputs": [],
   "source": [
    "t1_qobj = assemble(T1_exps, backend_real, \n",
    "                     meas_level=1, meas_return='avg', \n",
    "                     memory_slots=2, qubit_lo_freq = [evals[1]/2/np.pi,\n",
    "                                                      evals[3]/2/np.pi],\n",
    "                     shots=100, sim_config = back_config)"
   ]
  },
  {
   "cell_type": "code",
   "execution_count": null,
   "metadata": {},
   "outputs": [],
   "source": [
    "sim_result_t1 = backend_sim.run(t1_qobj).result()"
   ]
  },
  {
   "cell_type": "code",
   "execution_count": null,
   "metadata": {},
   "outputs": [],
   "source": [
    "t1_data_Q0 = []\n",
    "t1_data_Q1 = []\n",
    "\n",
    "\n",
    "for exp_idx in range(len(t1_times)):\n",
    "    exp_mem = sim_result_t1.get_memory(exp_idx)\n",
    "    t1_data_Q0.append(np.abs(exp_mem[0]))\n",
    "    t1_data_Q1.append(np.abs(exp_mem[1]))\n"
   ]
  },
  {
   "cell_type": "code",
   "execution_count": null,
   "metadata": {},
   "outputs": [],
   "source": [
    "#Fit the data\n",
    "fit_func_t1 = lambda x,A,B,T: (A*np.exp(-x/T)+B)\n",
    "fitparams, conv = curve_fit(fit_func_t1, t1_times, t1_data_Q0, [0.5,0.5,100])\n",
    "\n",
    "\n",
    "plt.plot(t1_times, t1_data_Q0, label='Q0')\n",
    "plt.plot(t1_times, t1_data_Q1, label='Q1')\n",
    "plt.plot(t1_times, fit_func_t1(t1_times, *fitparams), color='black', linestyle='dashed', label='Fit')\n",
    "\n",
    "plt.legend()\n",
    "plt.xlabel('Wait Time (dt)', fontsize=20)\n",
    "plt.ylabel('Signal, a.u.', fontsize=20)\n",
    "plt.ylim([0,1.05])\n",
    "plt.title('T1 on Q0', fontsize=20)\n",
    "plt.grid(True)\n"
   ]
  },
  {
   "cell_type": "code",
   "execution_count": null,
   "metadata": {},
   "outputs": [],
   "source": []
  }
 ],
 "metadata": {
  "kernelspec": {
   "display_name": "Python 3",
   "language": "python",
   "name": "python3"
  },
  "language_info": {
   "codemirror_mode": {
    "name": "ipython",
    "version": 3
   },
   "file_extension": ".py",
   "mimetype": "text/x-python",
   "name": "python",
   "nbconvert_exporter": "python",
   "pygments_lexer": "ipython3",
   "version": "3.7.3"
  }
 },
 "nbformat": 4,
 "nbformat_minor": 2
}
