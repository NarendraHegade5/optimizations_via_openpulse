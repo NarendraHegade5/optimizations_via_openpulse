{
 "cells": [
  {
   "cell_type": "markdown",
   "metadata": {},
   "source": [
    "Setting up pulse simulator:\n",
    "\n",
    "1) switch to openpulse-sim branch of qiskit-aer, also include this pull request https://github.com/Qiskit/qiskit-aer/pull/451 and increase `nsteps` in qiskit-aer/qiskit/providers/aer/openpulse/solver/options.py (I upped 100x to 50000)\n",
    "\n",
    "2) run `python setup.py build_ext --inplace`\n",
    "\n",
    "3) `python ./setup.py bdist_wheel`\n",
    "\n",
    "4) `cd dist` and `pip install` the wheel\n",
    "\n",
    "5) `rm -rf /Users/pranavgokhale/anaconda3/envs/QiskitDevenv/lib/python3.7/site-packages/qiskit` (replace with your username / site-packages location)\n",
    "\n",
    "6) `ln -s /Users/pranavgokhale/Developer/qiskit/qiskit-aer/qiskit/ /Users/pranavgokhale/anaconda3/envs/QiskitDevenv/lib/python3.7/site-packages/qiskit` (tailor paths to your setup)"
   ]
  },
  {
   "cell_type": "code",
   "execution_count": null,
   "metadata": {},
   "outputs": [],
   "source": [
    "import numpy as np\n",
    "import time\n",
    "from collections import namedtuple\n",
    "import matplotlib.pyplot as plt\n",
    "%matplotlib inline"
   ]
  },
  {
   "cell_type": "code",
   "execution_count": null,
   "metadata": {},
   "outputs": [],
   "source": [
    "import qiskit as q\n",
    "import qiskit.tools.jupyter\n",
    "from qiskit.pulse import pulse_lib as _  # only want to call pulse_lib as q.pulse.pulse_lib\n",
    "from qiskit.test.mock import FakeAlmaden\n",
    "from qiskit.ignis.verification.tomography.data import marginal_counts"
   ]
  },
  {
   "cell_type": "code",
   "execution_count": null,
   "metadata": {},
   "outputs": [],
   "source": [
    "import pulse_compiler_helper_fns"
   ]
  },
  {
   "cell_type": "code",
   "execution_count": null,
   "metadata": {},
   "outputs": [],
   "source": [
    "backend = FakeAlmaden()\n",
    "system = q.pulse.PulseChannelSpec.from_backend(backend)\n",
    "back_config = backend.configuration().to_dict()\n",
    "cmd_def = q.pulse.CmdDef.from_defaults(backend.defaults().cmd_def, backend.defaults().pulse_library)\n",
    "measure = cmd_def.get('measure', qubits=backend.configuration().meas_map[0])\n",
    "backend_sim = qiskit.Aer.get_backend('pulse_simulator')"
   ]
  },
  {
   "cell_type": "code",
   "execution_count": null,
   "metadata": {},
   "outputs": [],
   "source": [
    "hamiltonian = {}\n",
    "hamiltonian['h_str'] = ['_SUM[i,0,1,wq{i}/2*(I{i}-Z{i})]', '_SUM[i,0,1,omegad{i}*X{i}||D{i}]',\n",
    "                        'jq0q1*Sp0*Sm1', 'jq0q1*Sm0*Sp1', 'omegad1*X0||U0', 'omegad0*X1||U1']\n",
    "hamiltonian['qub'] = {'0': 2, '1': 2}\n",
    "hamiltonian['vars'] = {'wq0': 30.518812656662774, 'wq1': 31.238229295532093,\n",
    "                       'omegad0': 0.1675, 'omegad1': 0.176,\n",
    "                       'jq0q1': -0.0069}\n",
    "\n",
    "back_config['hamiltonian'] = hamiltonian\n",
    "back_config['noise'] = {}\n",
    "back_config['dt'] = 1.0\n",
    "back_config['ode_options'] = {}\n",
    "back_config['qubit_list'] = [0,1]"
   ]
  },
  {
   "cell_type": "code",
   "execution_count": null,
   "metadata": {},
   "outputs": [],
   "source": [
    "schedules = []\n",
    "thetas = np.linspace(0, np.pi, 41)\n",
    "for theta in thetas:\n",
    "    for basis in ['X', 'Y', 'Z']:\n",
    "        circuit = q.QuantumCircuit(1)\n",
    "        circuit.rx(theta, 0)\n",
    "        decomposed_circuit = circuit.decompose()\n",
    "        pulse_compiler_helper_fns.update_basis_gates_and_cmd_def(decomposed_circuit, backend, system, cmd_def)\n",
    "        transpiled_circuit = q.transpile(circuit, backend, optimization_level=1)\n",
    "        schedule = q.schedule(transpiled_circuit, backend=backend, cmd_def=cmd_def)\n",
    "        if basis == 'Y':  # apply H Sdag\n",
    "            schedule |= cmd_def.get('u1', qubits=[0], P0=-np.pi/2) << schedule.duration\n",
    "            schedule |= cmd_def.get('u2', qubits=[0], P0=0, P1=np.pi) << schedule.duration\n",
    "        elif basis == 'X':  # apply H\n",
    "            schedule |= cmd_def.get('u2', qubits=[0], P0=0, P1=np.pi) << schedule.duration\n",
    "        schedule |= measure << schedule.duration\n",
    "        schedules.append(schedule)"
   ]
  },
  {
   "cell_type": "markdown",
   "metadata": {},
   "source": [
    "We have to do this step twice to get the dressed frequencies for setting the LO's. Note here that we set `meas_level=1` and `meas_return=avg` which will return the average probability for the qubit to be in the |1> state."
   ]
  },
  {
   "cell_type": "code",
   "execution_count": null,
   "metadata": {},
   "outputs": [],
   "source": [
    "shots = 10000"
   ]
  },
  {
   "cell_type": "code",
   "execution_count": null,
   "metadata": {},
   "outputs": [],
   "source": [
    "qobj = q.assemble(schedules, backend, \n",
    "                       meas_level=1, meas_return='avg', \n",
    "                       memory_slots=2,\n",
    "                       shots=shots, sim_config = back_config)"
   ]
  },
  {
   "cell_type": "code",
   "execution_count": null,
   "metadata": {},
   "outputs": [],
   "source": [
    "evals, estates = backend_sim.get_dressed_energies(rabi_qobj)\n",
    "evals/2/np.pi"
   ]
  },
  {
   "cell_type": "code",
   "execution_count": null,
   "metadata": {},
   "outputs": [],
   "source": [
    "qobj = q.assemble(schedules, backend, \n",
    "                       qubit_lo_freq = [evals[1]/2/np.pi, evals[3]/2/np.pi],\n",
    "                       shots=shots, sim_config = back_config)"
   ]
  },
  {
   "cell_type": "code",
   "execution_count": null,
   "metadata": {},
   "outputs": [],
   "source": [
    "sim_result = backend_sim.run(qobj).result()"
   ]
  },
  {
   "cell_type": "code",
   "execution_count": null,
   "metadata": {},
   "outputs": [],
   "source": [
    "\n",
    "xs, ys, zs = [], [], []\n",
    "for i in range(len(thetas)):\n",
    "    x_counts = marginal_counts(sim_result.get_counts(3 * i), meas_qubits=[0])\n",
    "    y_counts = marginal_counts(sim_result.get_counts(3 * i + 1), meas_qubits=[0])\n",
    "    z_counts = marginal_counts(sim_result.get_counts(3 * i + 2), meas_qubits=[0])\n",
    "    \n",
    "    x = (x_counts.get('0', 0) / shots - 0.5) * 2\n",
    "    y = (y_counts.get('0', 0) / shots - 0.5) * 2\n",
    "    z = (z_counts.get('0', 0) / shots - 0.5) * 2\n",
    "    print(thetas[i], x, y, z)"
   ]
  },
  {
   "cell_type": "code",
   "execution_count": null,
   "metadata": {},
   "outputs": [],
   "source": [
    "import qutip\n",
    "from qutip import *\n",
    "from colour import Color\n",
    "green = Color(\"green\")\n",
    "colors = list(green.range_to(Color(\"#CC6600\"),41))\n",
    "colors = [color.get_hex_l() for color in colors]"
   ]
  },
  {
   "cell_type": "code",
   "execution_count": null,
   "metadata": {},
   "outputs": [],
   "source": [
    "data = \"\"\"0.0 0.022199999999999998 0.010399999999999965 1.0\n",
    "0.07853981633974483 0.019200000000000106 -0.07740000000000002 0.9974000000000001\n",
    "0.15707963267948966 0.008799999999999919 -0.14080000000000004 0.9872000000000001\n",
    "0.23561944901923448 0.011400000000000077 -0.22519999999999996 0.9734\n",
    "0.3141592653589793 0.012399999999999967 -0.30279999999999996 0.9530000000000001\n",
    "0.39269908169872414 0.0038000000000000256 -0.388 0.921\n",
    "0.47123889803846897 0.0041999999999999815 -0.4386 0.8839999999999999\n",
    "0.5497787143782138 0.02740000000000009 -0.5004 0.8575999999999999\n",
    "0.6283185307179586 -0.009600000000000053 -0.5636 0.808\n",
    "0.7068583470577035 0.02079999999999993 -0.628 0.75\n",
    "0.7853981633974483 0.017800000000000038 -0.6996 0.704\n",
    "0.8639379797371931 0.014399999999999968 -0.7424 0.6424000000000001\n",
    "0.9424777960769379 0.008199999999999985 -0.8068 0.5952\n",
    "1.0210176124166828 0.005800000000000027 -0.8513999999999999 0.5307999999999999\n",
    "1.0995574287564276 0.0129999999999999 -0.8878 0.4618\n",
    "1.1780972450961724 -0.012599999999999945 -0.9154 0.3817999999999999\n",
    "1.2566370614359172 0.006999999999999895 -0.9484 0.3062\n",
    "1.335176877775662 0.0036000000000000476 -0.966 0.23960000000000004\n",
    "1.413716694115407 0.012399999999999967 -0.9862 0.1581999999999999\n",
    "1.4922565104551517 -0.0011999999999999789 -0.996 0.06679999999999997\n",
    "1.5707963267948966 0.006599999999999939 -1.0 0.0041999999999999815\n",
    "1.6493361431346414 -0.0033999999999999586 -0.9988 -0.09919999999999995\n",
    "1.7278759594743862 -0.0031999999999999806 -0.9898 -0.15059999999999996\n",
    "1.806415775814131 -0.0036000000000000476 -0.9748 -0.2378\n",
    "1.8849555921538759 -0.010399999999999965 -0.9538 -0.3032\n",
    "1.9634954084936207 -0.0232 -0.9299999999999999 -0.38739999999999997\n",
    "2.0420352248333655 -0.01959999999999995 -0.8992 -0.45099999999999996\n",
    "2.1205750411731104 -0.03620000000000001 -0.8674 -0.5182\n",
    "2.199114857512855 -0.007800000000000029 -0.8212 -0.5964\n",
    "2.2776546738526 -0.010399999999999965 -0.7678 -0.6432\n",
    "2.356194490192345 -0.01980000000000004 -0.7206 -0.7090000000000001\n",
    "2.4347343065320897 -0.015599999999999947 -0.6502 -0.7604\n",
    "2.5132741228718345 -0.01639999999999997 -0.5920000000000001 -0.8058\n",
    "2.5918139392115793 -0.019000000000000017 -0.5376000000000001 -0.8504\n",
    "2.670353755551324 -0.013399999999999967 -0.46919999999999995 -0.8948\n",
    "2.748893571891069 -0.030399999999999983 -0.392 -0.9178\n",
    "2.827433388230814 -0.01319999999999999 -0.3104 -0.9518\n",
    "2.9059732045705586 -0.0050000000000000044 -0.24 -0.9724\n",
    "2.9845130209103035 -0.025399999999999978 -0.17320000000000002 -0.9872\n",
    "3.0630528372500483 -0.01539999999999997 -0.0776 -0.997\n",
    "3.141592653589793 -0.015199999999999991 -0.046599999999999975 -1.0\"\"\".split()\n",
    "\n",
    "b = Bloch()\n",
    "b.vector_color=colors\n",
    "xs, zs = [], []\n",
    "while len(data) > 0:\n",
    "    data.pop(0)\n",
    "    x, y, z = float(data.pop(0)), float(data.pop(0)), float(data.pop(0))\n",
    "    norm = np.sqrt(x**2 + y**2 + z**2)\n",
    "    x, y, z = x / norm, y / norm, z / norm\n",
    "    xs.append(x); zs.append(z)\n",
    "    b.add_vectors([x, y, z])\n",
    "b.show()"
   ]
  },
  {
   "cell_type": "code",
   "execution_count": null,
   "metadata": {},
   "outputs": [],
   "source": [
    "b.save('Figures/drag_trajectory_bloch_sphere_SIMULATED.svg')"
   ]
  },
  {
   "cell_type": "code",
   "execution_count": null,
   "metadata": {},
   "outputs": [],
   "source": [
    "from scipy.optimize import curve_fit\n",
    "fit_func = lambda z, A, w: A * np.sin((-1-z) * w)\n",
    "\n",
    "fitparams, conv = curve_fit(fit_func, zs, xs, [0.1, np.pi])\n",
    "fit_xs = [fit_func(z, *fitparams) for z in zs]"
   ]
  },
  {
   "cell_type": "code",
   "execution_count": null,
   "metadata": {},
   "outputs": [],
   "source": [
    "fig, ax = plt.subplots(figsize=(3.5, 5.27))\n",
    "plt.gcf().subplots_adjust(left=0.23)\n",
    "plt.scatter(xs, zs)\n",
    "plt.axis([-0.3, 0.3, -1, 1])\n",
    "plt.plot(fit_xs, zs)\n",
    "plt.xlabel('X Component', fontsize=12)\n",
    "plt.ylabel('Z Component', fontsize=12)\n",
    "plt.title('X-Z Plane Projection', fontsize=14)\n",
    "plt.xticks([-0.2, 0, .2])\n",
    "plt.yticks([-1, -.5, 0, .5, 1])\n",
    "\n",
    "plt.plot([0, 0], [-1, 1], 'g--')\n",
    "\n",
    "circle1 = plt.Circle((0, 0), 1, fill=False, linewidth=2)\n",
    "plt.gcf().gca().add_artist(circle1)\n",
    "plt.savefig('Figures/drag_trajectory_2d_SIMULATED.svg')"
   ]
  },
  {
   "cell_type": "code",
   "execution_count": null,
   "metadata": {},
   "outputs": [],
   "source": [
    "fig, ax = plt.subplots(figsize=(5, 2.5))\n",
    "plt.gcf().subplots_adjust(left=0.23)\n",
    "plt.scatter(xs, zs)\n",
    "plt.axis([-0.1, 0.1, -0.5, 0.5])\n",
    "plt.plot(fit_xs, zs)\n",
    "plt.xlabel('X Component', fontsize=12)\n",
    "plt.ylabel('Z Component', fontsize=12)\n",
    "plt.title('X-Z Plane Projection', fontsize=14)\n",
    "\n",
    "plt.plot([0, 0], [-1, 1], 'g--')\n",
    "\n",
    "circle1 = plt.Circle((0, 0), 1, fill=False, linewidth=2)\n",
    "plt.gcf().gca().add_artist(circle1)\n",
    "plt.savefig('Figures/drag_trajectory_2d_SIMULATED_inset.svg')"
   ]
  },
  {
   "cell_type": "markdown",
   "metadata": {},
   "source": [
    "---\n",
    "### Simulate for non-DRAG (so just Gaussian with no imaginary component)\n",
    "Unfortunately, results are not useful, probably because we only have qubits (not qutrits)"
   ]
  },
  {
   "cell_type": "code",
   "execution_count": null,
   "metadata": {},
   "outputs": [],
   "source": [
    "qubit = 0\n",
    "# exp configuration\n",
    "exps = 41\n",
    "\n",
    "# Rabi pulse\n",
    "drive_amps = np.linspace(0, 1.0, exps)\n",
    "drive_samples = 32\n",
    "drive_sigma = 3.8\n",
    "\n",
    "# Create schedule\n",
    "schedules = []\n",
    "for ii, drive_amp in enumerate(drive_amps):\n",
    "    # drive pulse\n",
    "    rabi_pulse = q.pulse.pulse_lib.gaussian(duration=drive_samples, \n",
    "                                    amp=drive_amp, \n",
    "                                    sigma=drive_sigma, name='rabi_pulse_%d' % ii)\n",
    "    \n",
    "    for basis in ['X', 'Y', 'Z']:\n",
    "        # add commands to schedule\n",
    "        schedule = q.pulse.Schedule(name='rabi_exp_amp_%s' % drive_amp)\n",
    "        schedule += rabi_pulse(system.qubits[0].drive)\n",
    "        if basis == 'Y':  # apply H Sdag\n",
    "            schedule |= cmd_def.get('u1', qubits=[0], P0=-np.pi/2) << schedule.duration\n",
    "            schedule |= cmd_def.get('u2', qubits=[0], P0=0, P1=np.pi) << schedule.duration\n",
    "        elif basis == 'X':  # apply H\n",
    "            schedule |= cmd_def.get('u2', qubits=[0], P0=0, P1=np.pi) << schedule.duration\n",
    "        schedule |= measure << schedule.duration\n",
    "        schedules.append(schedule)"
   ]
  },
  {
   "cell_type": "code",
   "execution_count": null,
   "metadata": {},
   "outputs": [],
   "source": [
    "qobj = q.assemble(schedules, backend, \n",
    "                  qubit_lo_freq = [evals[1]/2/np.pi, evals[3]/2/np.pi],\n",
    "                  shots=shots, sim_config = back_config)"
   ]
  },
  {
   "cell_type": "code",
   "execution_count": null,
   "metadata": {},
   "outputs": [],
   "source": [
    "sim_result = backend_sim.run(qobj).result()"
   ]
  },
  {
   "cell_type": "code",
   "execution_count": null,
   "metadata": {},
   "outputs": [],
   "source": [
    "from qiskit.ignis.verification.tomography.data import marginal_counts\n",
    "\n",
    "xs, ys, zs = [], [], []\n",
    "for i in range(len(thetas)):\n",
    "    x_counts = marginal_counts(sim_result.get_counts(3 * i), meas_qubits=[0])\n",
    "    y_counts = marginal_counts(sim_result.get_counts(3 * i + 1), meas_qubits=[0])\n",
    "    z_counts = marginal_counts(sim_result.get_counts(3 * i + 2), meas_qubits=[0])\n",
    "    \n",
    "    x = (x_counts.get('0', 0) / shots - 0.5) * 2\n",
    "    y = (y_counts.get('0', 0) / shots - 0.5) * 2\n",
    "    z = (z_counts.get('0', 0) / shots - 0.5) * 2\n",
    "    print(thetas[i], x, y, z)"
   ]
  },
  {
   "cell_type": "code",
   "execution_count": null,
   "metadata": {},
   "outputs": [],
   "source": [
    "data = \"\"\"0.0 0.02299999999999991 0.005600000000000049 1.0\n",
    "0.07853981633974483 0.007600000000000051 -0.07620000000000005 0.996\n",
    "0.15707963267948966 0.012399999999999967 -0.16279999999999994 0.99\n",
    "0.23561944901923448 -0.0016000000000000458 -0.23219999999999996 0.9712000000000001\n",
    "0.3141592653589793 0.008599999999999941 -0.2834 0.9536\n",
    "0.39269908169872414 0.01639999999999997 -0.36760000000000004 0.9164000000000001\n",
    "0.47123889803846897 0.007400000000000073 -0.44179999999999997 0.8897999999999999\n",
    "0.5497787143782138 0.01200000000000001 -0.5267999999999999 0.8544\n",
    "0.6283185307179586 0.00019999999999997797 -0.5831999999999999 0.8118000000000001\n",
    "0.7068583470577035 -0.0013999999999999568 -0.6352 0.7474000000000001\n",
    "0.7853981633974483 0.006399999999999961 -0.7032 0.718\n",
    "0.8639379797371931 0.010199999999999987 -0.7605999999999999 0.6504000000000001\n",
    "0.9424777960769379 0.014999999999999902 -0.8029999999999999 0.5724\n",
    "1.0210176124166828 -0.01759999999999995 -0.8616 0.5022\n",
    "1.0995574287564276 -0.010600000000000054 -0.8968 0.4161999999999999\n",
    "1.1780972450961724 0.0242 -0.9226 0.3668\n",
    "1.2566370614359172 0.033199999999999896 -0.9516 0.2876000000000001\n",
    "1.335176877775662 -0.005800000000000027 -0.9772 0.20520000000000005\n",
    "1.413716694115407 -0.012199999999999989 -0.9894 0.1277999999999999\n",
    "1.4922565104551517 -0.016000000000000014 -0.998 0.06719999999999993\n",
    "1.5707963267948966 -0.007800000000000029 -1.0 -0.021399999999999975\n",
    "1.6493361431346414 -0.0038000000000000256 -0.996 -0.11639999999999995\n",
    "1.7278759594743862 -0.008199999999999985 -0.9866 -0.18799999999999994\n",
    "1.806415775814131 -0.0050000000000000044 -0.9708 -0.24619999999999997\n",
    "1.8849555921538759 -0.012199999999999989 -0.9448 -0.3458\n",
    "1.9634954084936207 -0.0043999999999999595 -0.923 -0.40900000000000003\n",
    "2.0420352248333655 -0.0016000000000000458 -0.8902 -0.477\n",
    "2.1205750411731104 -0.014800000000000035 -0.8394 -0.5409999999999999\n",
    "2.199114857512855 -0.014599999999999946 -0.7856 -0.6138\n",
    "2.2776546738526 -0.0048000000000000265 -0.7445999999999999 -0.6722\n",
    "2.356194490192345 -0.012199999999999989 -0.6910000000000001 -0.7376\n",
    "2.4347343065320897 -0.03059999999999996 -0.6317999999999999 -0.781\n",
    "2.5132741228718345 -0.019399999999999973 -0.5820000000000001 -0.8358\n",
    "2.5918139392115793 -0.00880000000000003 -0.5184 -0.8812\n",
    "2.670353755551324 -0.020000000000000018 -0.4164 -0.9132\n",
    "2.748893571891069 -0.021199999999999997 -0.35519999999999996 -0.9402\n",
    "2.827433388230814 -0.0043999999999999595 -0.28680000000000005 -0.9606\n",
    "2.9059732045705586 -0.02300000000000002 -0.2016 -0.9798\n",
    "2.9845130209103035 -0.012199999999999989 -0.11880000000000002 -0.9926\n",
    "3.0630528372500483 -0.0010000000000000009 -0.03380000000000005 -1.0\n",
    "3.141592653589793 -0.018399999999999972 0.026799999999999935 -0.9988\n",
    "\"\"\".split()\n",
    "\n",
    "b = Bloch()\n",
    "b.vector_color=colors\n",
    "xs, zs = [], []\n",
    "while len(data) > 0:\n",
    "    data.pop(0)\n",
    "    x, y, z = float(data.pop(0)), float(data.pop(0)), float(data.pop(0))\n",
    "    norm = np.sqrt(x**2 + y**2 + z**2)\n",
    "    x, y, z = x / norm, y / norm, z / norm\n",
    "    xs.append(x); zs.append(z)\n",
    "    b.add_vectors([x, y, z])\n",
    "b.show()"
   ]
  },
  {
   "cell_type": "code",
   "execution_count": null,
   "metadata": {},
   "outputs": [],
   "source": [
    "fig, ax = plt.subplots(figsize=(5.15, 5.27))\n",
    "plt.gcf().subplots_adjust(left=0.13)\n",
    "plt.scatter(xs, zs)\n",
    "plt.axis([-0.45, 0.45, -1, 1])\n",
    "#plt.plot(fit_xs, zs)\n",
    "plt.xlabel('X Component', fontsize=12)\n",
    "plt.ylabel('Z Component', fontsize=12)\n",
    "plt.title('X-Z Plane Projection', fontsize=14)\n",
    "plt.xticks([-0.4, -0.2, 0, .2, .4])\n",
    "plt.yticks([-1, -.5, 0, .5, 1])\n",
    "\n",
    "plt.plot([0, 0], [-1, 1], 'g--')\n",
    "\n",
    "circle1 = plt.Circle((0, 0), 1, fill=False, linewidth=2)\n",
    "plt.gcf().gca().add_artist(circle1)"
   ]
  },
  {
   "cell_type": "code",
   "execution_count": null,
   "metadata": {},
   "outputs": [],
   "source": []
  }
 ],
 "metadata": {
  "kernelspec": {
   "display_name": "Python 3",
   "language": "python",
   "name": "python3"
  },
  "language_info": {
   "codemirror_mode": {
    "name": "ipython",
    "version": 3
   },
   "file_extension": ".py",
   "mimetype": "text/x-python",
   "name": "python",
   "nbconvert_exporter": "python",
   "pygments_lexer": "ipython3",
   "version": "3.7.3"
  }
 },
 "nbformat": 4,
 "nbformat_minor": 2
}
