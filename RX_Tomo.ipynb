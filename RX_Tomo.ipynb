{
 "cells": [
  {
   "cell_type": "markdown",
   "metadata": {},
   "source": [
    "In this notebook we use Quantum State Tomography (QST) to obtain fidelities of Rx(θ) interactions, using:\n",
    "\n",
    "1. a standard decomposition using 2 X90 pulses\n",
    "2. an optimized implementation using a scaled X180 pulse\n",
    "\n",
    "The state on which we do tomography is produced by the following circuit and produces a sinusoid probability of reading out 1.\n",
    "```\n",
    "        ┌────────┐\n",
    "q_0: |0>┤  Rx(θ) ├\n",
    "        └────────┘\n",
    "```"
   ]
  },
  {
   "cell_type": "code",
   "execution_count": 2,
   "metadata": {},
   "outputs": [],
   "source": [
    "import matplotlib.pyplot as plt\n",
    "import numpy as np\n",
    "from copy import deepcopy\n",
    "\n",
    "from qiskit import IBMQ, pulse, schedule, transpile, assemble, QuantumCircuit, QuantumRegister, ClassicalRegister\n",
    "from qiskit.pulse import pulse_lib as pulse_library, reschedule\n",
    "from qiskit.ignis.measurement.discriminator.iq_discriminators import LinearIQDiscriminator\n",
    "from qiskit.ignis.measurement.discriminator.filters import DiscriminationFilter\n",
    "import qiskit.ignis.mitigation.measurement as mit\n",
    "from qiskit.ignis.verification.tomography import process_tomography_circuits, ProcessTomographyFitter\n",
    "from qiskit.ignis.verification.tomography import state_tomography_circuits, StateTomographyFitter\n",
    "from qiskit.ignis.verification.tomography.basis import PauliBasis\n",
    "from qiskit.visualization.state_visualization import plot_state_city\n",
    "from qiskit.quantum_info import state_fidelity\n",
    "from qiskit.circuit import Gate\n",
    "from qiskit.scheduler import schedule_circuit, ScheduleConfig\n",
    "from qiskit.quantum_info import state_fidelity, process_fidelity\n",
    "\n",
    "import matplotlib.pyplot as plt\n",
    "%matplotlib inline"
   ]
  },
  {
   "cell_type": "code",
   "execution_count": 3,
   "metadata": {},
   "outputs": [],
   "source": [
    "import qiskit as q\n",
    "import qiskit.tools.jupyter\n",
    "from qiskit.pulse import pulse_lib as _  # only want to call pulse_lib as q.pulse.pulse_lib"
   ]
  },
  {
   "cell_type": "code",
   "execution_count": 4,
   "metadata": {},
   "outputs": [],
   "source": [
    "import pulse_compiler_helper_fns"
   ]
  },
  {
   "cell_type": "code",
   "execution_count": 5,
   "metadata": {},
   "outputs": [
    {
     "data": {
      "text/plain": [
       "<AccountProvider for IBMQ(hub='ibm-q', group='open', project='main')>"
      ]
     },
     "execution_count": 5,
     "metadata": {},
     "output_type": "execute_result"
    }
   ],
   "source": [
    "q.IBMQ.load_account() # Load account from disk"
   ]
  },
  {
   "cell_type": "code",
   "execution_count": 6,
   "metadata": {},
   "outputs": [
    {
     "name": "stderr",
     "output_type": "stream",
     "text": [
      "/Users/alijavadi/Desktop/ajavadia-terra/qiskit/pulse/channels/pulse_channel_spec.py:87: DeprecationWarning: The PulseChannelSpec is deprecated. Use backend.configuration() instead. The supported methods require some migrations; check out the release notes for the complete details.\n",
      "  DeprecationWarning)\n"
     ]
    }
   ],
   "source": [
    "provider = q.IBMQ.get_provider(group='qiskit-terra', project='pulse-testing')\n",
    "backend = provider.get_backend('alt_almaden')\n",
    "system = q.pulse.PulseChannelSpec.from_backend(backend)\n",
    "cmd_def = q.pulse.CmdDef.from_defaults(backend.defaults().cmd_def, backend.defaults().pulse_library)\n",
    "measure = cmd_def.get('measure', qubits=backend.configuration().meas_map[0])\n",
    "config = backend.configuration()\n",
    "props = backend.properties()"
   ]
  },
  {
   "cell_type": "markdown",
   "metadata": {},
   "source": [
    "### experiment parameters"
   ]
  },
  {
   "cell_type": "code",
   "execution_count": 7,
   "metadata": {},
   "outputs": [],
   "source": [
    "def qubit_t1(qubit):\n",
    "    return props.qubits[qubit][0].value\n",
    "\n",
    "def qubit_t2(qubit):\n",
    "    return props.qubits[qubit][1].value\n",
    "\n",
    "def sort_qubits_by_t1():\n",
    "    \"\"\"in ascending order\"\"\"\n",
    "    qubits = [i for i in range(config.n_qubits)]\n",
    "    qubits = sorted(qubits, key=qubit_t1)\n",
    "    return qubits"
   ]
  },
  {
   "cell_type": "code",
   "execution_count": 8,
   "metadata": {},
   "outputs": [
    {
     "data": {
      "text/plain": [
       "[7, 13, 6, 12, 17, 9, 1, 11, 8, 3, 14, 19, 16, 0, 2, 15, 10, 18, 5, 4]"
      ]
     },
     "execution_count": 8,
     "metadata": {},
     "output_type": "execute_result"
    }
   ],
   "source": [
    "sort_qubits_by_t1()"
   ]
  },
  {
   "cell_type": "code",
   "execution_count": 9,
   "metadata": {},
   "outputs": [
    {
     "name": "stdout",
     "output_type": "stream",
     "text": [
      "[0.         0.07853982 0.15707963 0.23561945 0.31415927 0.39269908\n",
      " 0.4712389  0.54977871 0.62831853 0.70685835 0.78539816 0.86393798\n",
      " 0.9424778  1.02101761 1.09955743 1.17809725 1.25663706 1.33517688\n",
      " 1.41371669 1.49225651 1.57079633 1.64933614 1.72787596 1.80641578\n",
      " 1.88495559 1.96349541 2.04203522 2.12057504 2.19911486 2.27765467\n",
      " 2.35619449 2.43473431 2.51327412 2.59181394 2.67035376 2.74889357\n",
      " 2.82743339 2.9059732  2.98451302 3.06305284 3.14159265]\n"
     ]
    }
   ],
   "source": [
    "shots = 2000\n",
    "thetas = np.linspace(0, np.pi, 41, endpoint=True)\n",
    "print(thetas)"
   ]
  },
  {
   "cell_type": "markdown",
   "metadata": {},
   "source": [
    "## Direct RX(θ) Gate"
   ]
  },
  {
   "cell_type": "code",
   "execution_count": 10,
   "metadata": {},
   "outputs": [],
   "source": [
    "rx_schedules_std = []\n",
    "rx_schedules_opt = []\n",
    "\n",
    "## Standard Way: Cnot RZ Cnot\n",
    "for theta in thetas:\n",
    "    circuit = q.QuantumCircuit(1)\n",
    "    circuit.u3(theta, -np.pi/2, np.pi/2, 0)\n",
    "\n",
    "    transpiled_circuit = q.transpile(circuit, backend, optimization_level=0)\n",
    "\n",
    "    schedule = q.schedule(transpiled_circuit, backend=backend, cmd_def=cmd_def)\n",
    "    rx_schedules_std.append(schedule)\n",
    "    \n",
    "## Optimized Way: use a direct rotation about X axis\n",
    "for theta in thetas:\n",
    "    circuit = q.QuantumCircuit(1)\n",
    "    circuit.rx(theta, 0)\n",
    "\n",
    "    decomposed_circuit = circuit.decompose()\n",
    "\n",
    "    pulse_compiler_helper_fns.update_basis_gates_and_cmd_def(decomposed_circuit, backend, system, cmd_def)\n",
    "    transpiled_circuit = q.transpile(decomposed_circuit, backend, optimization_level=0)\n",
    "\n",
    "    schedule = q.schedule(transpiled_circuit, backend=backend, cmd_def=cmd_def)    \n",
    "    rx_schedules_opt.append(schedule)"
   ]
  },
  {
   "cell_type": "markdown",
   "metadata": {},
   "source": [
    "### Set up State Tomography"
   ]
  },
  {
   "cell_type": "code",
   "execution_count": 11,
   "metadata": {},
   "outputs": [],
   "source": [
    "def qst_circuits_and_schedules(schedule, theta):\n",
    "    \"\"\"\n",
    "    create the state tomography circuits\n",
    "    the state preparation circuit is (H $otimes$ H).ZZ.(H $otimes$ H)\n",
    "    \"\"\"\n",
    "    num_qubits = 1\n",
    "    qubit = [0]\n",
    "    qr = QuantumRegister(num_qubits)\n",
    "    my_gate = Gate(name='rx_{}'.format(theta), num_qubits=num_qubits, params=[])\n",
    "\n",
    "    # create the tomography circuits\n",
    "    qc = QuantumCircuit(qr)\n",
    "    qc.append(my_gate, qr[:])\n",
    "    qst_circuits = state_tomography_circuits(qc, measured_qubits=qr)\n",
    "\n",
    "    # transpile so that the singles are in terms of the u gates\n",
    "    qst_circuits = transpile(qst_circuits, backend, initial_layout=qubit,\n",
    "                             basis_gates=['u1','u2','u3',my_gate.name])\n",
    "\n",
    "    # add the custom gate to the cmd def\n",
    "    cmd_def = q.pulse.CmdDef.from_defaults(backend.defaults().cmd_def, backend.defaults().pulse_library)\n",
    "    cmd_def.add(my_gate.name, qubits=qubit, schedule=schedule)\n",
    "\n",
    "    # schedule!\n",
    "    schedule_config = ScheduleConfig(cmd_def, meas_map=backend.configuration().meas_map)\n",
    "    qst_schedules = [schedule_circuit(circ, schedule_config) for circ in qst_circuits]\n",
    "    \n",
    "    return qst_circuits, qst_schedules"
   ]
  },
  {
   "cell_type": "code",
   "execution_count": 12,
   "metadata": {},
   "outputs": [],
   "source": [
    "tomo_circuits_std = []\n",
    "tomo_schedules_std = []\n",
    "for rx_schedule, theta in zip(rx_schedules_std, thetas):\n",
    "    tomo_circs, tomo_scheds = qst_circuits_and_schedules(rx_schedule, theta)\n",
    "    tomo_circuits_std.append(tomo_circs)\n",
    "    tomo_schedules_std.append(tomo_scheds)\n",
    "    \n",
    "tomo_circuits_opt = []\n",
    "tomo_schedules_opt = []\n",
    "for rx_schedule, theta in zip(rx_schedules_opt, thetas):\n",
    "    tomo_circs, tomo_scheds = qst_circuits_and_schedules(rx_schedule, theta)\n",
    "    tomo_circuits_opt.append(tomo_circs)\n",
    "    tomo_schedules_opt.append(tomo_scheds)"
   ]
  },
  {
   "cell_type": "code",
   "execution_count": 13,
   "metadata": {},
   "outputs": [
    {
     "data": {
      "image/png": "[encoded data removed]",
      "text/plain": [
       "<Figure size 720x864 with 2 Axes>"
      ]
     },
     "execution_count": 13,
     "metadata": {},
     "output_type": "execute_result"
    }
   ],
   "source": [
    "tomo_schedules_std[16][0].filter(channels=[config.drive(0)]).draw()"
   ]
  },
  {
   "cell_type": "code",
   "execution_count": 14,
   "metadata": {},
   "outputs": [
    {
     "data": {
      "image/png": "[encoded data removed]",
      "text/plain": [
       "<Figure size 720x864 with 2 Axes>"
      ]
     },
     "execution_count": 14,
     "metadata": {},
     "output_type": "execute_result"
    }
   ],
   "source": [
    "tomo_schedules_opt[16][0].filter(channels=[config.drive(0)]).draw()"
   ]
  },
  {
   "cell_type": "markdown",
   "metadata": {},
   "source": [
    "### Run tomo experiments"
   ]
  },
  {
   "cell_type": "code",
   "execution_count": 44,
   "metadata": {},
   "outputs": [],
   "source": [
    "import itertools\n",
    "flat_schedules_std = list(itertools.chain(*tomo_schedules_std))\n",
    "flat_schedules_opt = list(itertools.chain(*tomo_schedules_opt))"
   ]
  },
  {
   "cell_type": "code",
   "execution_count": 45,
   "metadata": {},
   "outputs": [
    {
     "name": "stderr",
     "output_type": "stream",
     "text": [
      "/anaconda3/lib/python3.6/site-packages/ipywidgets/widgets/widget_layout.py:84: DeprecationWarning: Layout properties overflow_x and overflow_y have been deprecated and will be dropped in a future release. Please use the overflow shorthand property instead\n",
      "  warnings.warn(\"Layout properties overflow_x and overflow_y have been deprecated and will be dropped in a future release. Please use the overflow shorthand property instead\", DeprecationWarning)\n"
     ]
    },
    {
     "name": "stdout",
     "output_type": "stream",
     "text": [
      "job_std is 5dda00f68aa7e00018b8fc38\n",
      "job_opt is 5dda010dfa67c10018cebd1e\n"
     ]
    }
   ],
   "source": [
    "job_std = q.execute(flat_schedules_std, backend=backend, shots=shots)\n",
    "job_opt = q.execute(flat_schedules_opt, backend=backend, shots=shots)\n",
    "print('job_std is %s' % job_std.job_id())\n",
    "print('job_opt is %s' % job_opt.job_id())"
   ]
  },
  {
   "cell_type": "code",
   "execution_count": 23,
   "metadata": {},
   "outputs": [],
   "source": [
    "job_std = backend.retrieve_job('5dda00f68aa7e00018b8fc38')\n",
    "job_opt = backend.retrieve_job('5dda010dfa67c10018cebd1e')"
   ]
  },
  {
   "cell_type": "code",
   "execution_count": 33,
   "metadata": {
    "scrolled": true
   },
   "outputs": [
    {
     "data": {
      "text/plain": [
       "<JobStatus.DONE: 'job has successfully run'>"
      ]
     },
     "execution_count": 33,
     "metadata": {},
     "output_type": "execute_result"
    }
   ],
   "source": [
    "job_std.status()"
   ]
  },
  {
   "cell_type": "code",
   "execution_count": 44,
   "metadata": {},
   "outputs": [
    {
     "data": {
      "text/plain": [
       "<JobStatus.DONE: 'job has successfully run'>"
      ]
     },
     "execution_count": 44,
     "metadata": {},
     "output_type": "execute_result"
    }
   ],
   "source": [
    "job_opt.status()"
   ]
  },
  {
   "cell_type": "markdown",
   "metadata": {},
   "source": [
    "### Run a mitigation cal job"
   ]
  },
  {
   "cell_type": "code",
   "execution_count": 20,
   "metadata": {},
   "outputs": [
    {
     "name": "stderr",
     "output_type": "stream",
     "text": [
      "/anaconda3/lib/python3.6/site-packages/ipywidgets/widgets/widget_layout.py:84: DeprecationWarning: Layout properties overflow_x and overflow_y have been deprecated and will be dropped in a future release. Please use the overflow shorthand property instead\n",
      "  warnings.warn(\"Layout properties overflow_x and overflow_y have been deprecated and will be dropped in a future release. Please use the overflow shorthand property instead\", DeprecationWarning)\n"
     ]
    }
   ],
   "source": [
    "import qiskit.ignis.mitigation.measurement as mit\n",
    "meas_qcs, meas_labels = mit.complete_meas_cal(qubit_list=[0])\n",
    "meas_qcs_transpiled = q.transpile(meas_qcs, backend, basis_gates=['x'])\n",
    "meas_schedules = q.schedule(meas_qcs_transpiled, backend=backend, cmd_def=cmd_def)\n",
    "job_mit = q.execute(meas_schedules, backend)\n",
    "print('job_mit is %s' % job_mit.job_id())"
   ]
  },
  {
   "cell_type": "code",
   "execution_count": 21,
   "metadata": {},
   "outputs": [
    {
     "name": "stdout",
     "output_type": "stream",
     "text": [
      "5dda039497300300184d49ce\n"
     ]
    }
   ],
   "source": [
    "print(job_mit.job_id())"
   ]
  },
  {
   "cell_type": "code",
   "execution_count": 60,
   "metadata": {
    "scrolled": true
   },
   "outputs": [
    {
     "data": {
      "text/plain": [
       "<JobStatus.DONE: 'job has successfully run'>"
      ]
     },
     "execution_count": 60,
     "metadata": {},
     "output_type": "execute_result"
    }
   ],
   "source": [
    "job_mit.status()"
   ]
  },
  {
   "cell_type": "markdown",
   "metadata": {},
   "source": [
    "-----\n",
    "### Fit tomography data to get statevector"
   ]
  },
  {
   "cell_type": "code",
   "execution_count": 61,
   "metadata": {},
   "outputs": [],
   "source": [
    "from qiskit.result import marginal_counts"
   ]
  },
  {
   "cell_type": "code",
   "execution_count": 62,
   "metadata": {},
   "outputs": [],
   "source": [
    "result_std = job_std.result()\n",
    "result_opt = job_opt.result()"
   ]
  },
  {
   "cell_type": "code",
   "execution_count": 63,
   "metadata": {},
   "outputs": [
    {
     "data": {
      "text/plain": [
       "array([[0.97167969, 0.08496094],\n",
       "       [0.02832031, 0.91503906]])"
      ]
     },
     "execution_count": 63,
     "metadata": {},
     "output_type": "execute_result"
    }
   ],
   "source": [
    "# mitigate results\n",
    "result_mit = marginal_counts(job_mit.result(), [0])\n",
    "readout_fitter = mit.CompleteMeasFitter(result_mit, meas_labels)\n",
    "readout_fitter.cal_matrix"
   ]
  },
  {
   "cell_type": "code",
   "execution_count": 64,
   "metadata": {},
   "outputs": [],
   "source": [
    "result_std_marg = marginal_counts(result_std, [0])\n",
    "result_opt_marg = marginal_counts(result_opt, [0])"
   ]
  },
  {
   "cell_type": "code",
   "execution_count": 65,
   "metadata": {},
   "outputs": [],
   "source": [
    "from copy import deepcopy\n",
    "result_cpy_std = deepcopy(result_std_marg)\n",
    "result_cpy_opt = deepcopy(result_opt_marg)"
   ]
  },
  {
   "cell_type": "code",
   "execution_count": 66,
   "metadata": {},
   "outputs": [],
   "source": [
    "standard_statevectors = []\n",
    "optimized_statevectors = []\n",
    "\n",
    "for i, theta in enumerate(thetas):\n",
    "    result_std_mit = readout_fitter.filter.apply(result_cpy_std)\n",
    "    result_opt_mit = readout_fitter.filter.apply(result_cpy_opt)\n",
    "    \n",
    "    # remove results for other thetas\n",
    "    # TODO: allow selecting subset of result\n",
    "    single_qst_size = len(tomo_schedules_std[0])\n",
    "    del result_std_mit.results[:i*single_qst_size]\n",
    "    del result_std_mit.results[single_qst_size:]\n",
    "    del result_opt_mit.results[:i*single_qst_size]\n",
    "    del result_opt_mit.results[single_qst_size:]\n",
    "    assert len(result_std_mit.results) == single_qst_size\n",
    "    assert len(result_opt_mit.results) == single_qst_size\n",
    "\n",
    "    qst_fitter = StateTomographyFitter(result_std_mit, tomo_circuits_std[i])\n",
    "    sv = qst_fitter.fit(method='cvx')\n",
    "    standard_statevectors.append(sv)\n",
    "    \n",
    "    qst_fitter = StateTomographyFitter(result_opt_mit, tomo_circuits_opt[i])\n",
    "    sv = qst_fitter.fit(method='cvx')\n",
    "    optimized_statevectors.append(sv)"
   ]
  },
  {
   "cell_type": "markdown",
   "metadata": {},
   "source": [
    "## Analysis"
   ]
  },
  {
   "cell_type": "markdown",
   "metadata": {},
   "source": [
    "### plot state fidelities"
   ]
  },
  {
   "cell_type": "code",
   "execution_count": 67,
   "metadata": {},
   "outputs": [],
   "source": [
    "# what are the ideal statevectors\n",
    "from qiskit.quantum_info.states import Statevector\n",
    "ideal_statevectors = []\n",
    "for theta in thetas:\n",
    "    circuit = QuantumCircuit(1)\n",
    "    circuit.rx(theta, 0)\n",
    "    ideal = Statevector.from_instruction(circuit).data\n",
    "    ideal_statevectors.append(ideal)"
   ]
  },
  {
   "cell_type": "code",
   "execution_count": 68,
   "metadata": {},
   "outputs": [],
   "source": [
    "standard_fidelities = []\n",
    "for sv1, sv2 in zip(standard_statevectors, ideal_statevectors):\n",
    "    fidelity = state_fidelity(sv1, sv2)\n",
    "    standard_fidelities.append(fidelity)\n",
    "    \n",
    "optimized_fidelities = []\n",
    "for sv1, sv2 in zip(optimized_statevectors, ideal_statevectors):\n",
    "    fidelity = state_fidelity(np.abs(sv1), np.abs(sv2))\n",
    "    optimized_fidelities.append(fidelity)"
   ]
  },
  {
   "cell_type": "code",
   "execution_count": 69,
   "metadata": {},
   "outputs": [
    {
     "data": {
      "text/plain": [
       "<matplotlib.legend.Legend at 0x1a4749d320>"
      ]
     },
     "execution_count": 69,
     "metadata": {},
     "output_type": "execute_result"
    },
    {
     "data": {
      "image/png": "[encoded data removed]",
      "text/plain": [
       "<Figure size 432x288 with 1 Axes>"
      ]
     },
     "metadata": {
      "needs_background": "light"
     },
     "output_type": "display_data"
    }
   ],
   "source": [
    "plt.plot(thetas * 180 / np.pi, standard_fidelities, 'r')\n",
    "plt.plot(thetas * 180 / np.pi, optimized_fidelities, 'g')\n",
    "plt.ylabel('Fidelity')\n",
    "plt.legend(['standard fidelity', 'optimized fidelity'])"
   ]
  },
  {
   "cell_type": "code",
   "execution_count": 70,
   "metadata": {},
   "outputs": [
    {
     "data": {
      "text/plain": [
       "0.9956835416470913"
      ]
     },
     "execution_count": 70,
     "metadata": {},
     "output_type": "execute_result"
    }
   ],
   "source": [
    "np.mean(standard_fidelities)"
   ]
  },
  {
   "cell_type": "code",
   "execution_count": 71,
   "metadata": {},
   "outputs": [
    {
     "data": {
      "text/plain": [
       "0.9963787579971299"
      ]
     },
     "execution_count": 71,
     "metadata": {},
     "output_type": "execute_result"
    }
   ],
   "source": [
    "np.mean(optimized_fidelities)"
   ]
  },
  {
   "cell_type": "markdown",
   "metadata": {},
   "source": [
    "### plot standard vs. optimized rotation paths"
   ]
  },
  {
   "cell_type": "code",
   "execution_count": 72,
   "metadata": {},
   "outputs": [
    {
     "ename": "SyntaxError",
     "evalue": "invalid syntax (<ipython-input-72-a4939b5afba7>, line 6)",
     "output_type": "error",
     "traceback": [
      "\u001b[0;36m  File \u001b[0;32m\"<ipython-input-72-a4939b5afba7>\"\u001b[0;36m, line \u001b[0;32m6\u001b[0m\n\u001b[0;31m    standard_rotations =\u001b[0m\n\u001b[0m                         ^\u001b[0m\n\u001b[0;31mSyntaxError\u001b[0m\u001b[0;31m:\u001b[0m invalid syntax\n"
     ]
    }
   ],
   "source": [
    "# Waltz Decomposition\n",
    "from qiskit.quantum_info.synthesis.one_qubit_decompose import OneQubitEulerDecomposer\n",
    "from qiskit.quantum_info import Operator\n",
    "from qiskit.extensions.standard import U3Gate, RXGate\n",
    "for theta in [1.57]:\n",
    "    standard_paths = U3Gate(theta, -np.pi/2, np.pi/2)\n",
    "    optimized_path = RXGate(theta)"
   ]
  },
  {
   "cell_type": "code",
   "execution_count": 75,
   "metadata": {},
   "outputs": [],
   "source": [
    "from qiskit.quantum_info.operators.pauli import pauli_group, Pauli\n",
    "from qiskit.quantum_info.states import DensityMatrix\n",
    "\n",
    "paulis = pauli_group(1)\n",
    "X = paulis[1]\n",
    "Y = paulis[2]\n",
    "Z = paulis[3]\n",
    "\n",
    "ideal_rhos = [DensityMatrix(sv) for sv in ideal_statevectors]\n",
    "ideal_Xexps = [np.real(np.trace(np.dot(X.to_matrix(), rho.data))) for rho in ideal_rhos]\n",
    "ideal_Yexps = [np.real(np.trace(np.dot(Y.to_matrix(), rho.data))) for rho in ideal_rhos]\n",
    "ideal_Zexps = [np.real(np.trace(np.dot(Z.to_matrix(), rho.data))) for rho in ideal_rhos]\n",
    "\n",
    "std_rhos = [DensityMatrix(sv) for sv in standard_statevectors]\n",
    "std_Xexps = [np.real(np.trace(np.dot(X.to_matrix(), rho.data))) for rho in std_rhos]\n",
    "std_Yexps = [np.real(np.trace(np.dot(Y.to_matrix(), rho.data))) for rho in std_rhos]\n",
    "std_Zexps = [np.real(np.trace(np.dot(Z.to_matrix(), rho.data))) for rho in std_rhos]\n",
    "\n",
    "opt_rhos = [DensityMatrix(sv) for sv in optimized_statevectors]\n",
    "opt_Xexps = [np.real(np.trace(np.dot(X.to_matrix(), rho.data))) for rho in opt_rhos]\n",
    "opt_Yexps = [np.real(np.trace(np.dot(Y.to_matrix(), rho.data))) for rho in opt_rhos]\n",
    "opt_Zexps = [np.real(np.trace(np.dot(Z.to_matrix(), rho.data))) for rho in opt_rhos]"
   ]
  },
  {
   "cell_type": "code",
   "execution_count": 77,
   "metadata": {},
   "outputs": [
    {
     "data": {
      "text/plain": [
       "[<matplotlib.lines.Line2D at 0x1a4149bf98>]"
      ]
     },
     "execution_count": 77,
     "metadata": {},
     "output_type": "execute_result"
    },
    {
     "data": {
      "image/png": "[encoded data removed]",
      "text/plain": [
       "<Figure size 432x288 with 1 Axes>"
      ]
     },
     "metadata": {
      "needs_background": "light"
     },
     "output_type": "display_data"
    }
   ],
   "source": [
    "plt.plot(thetas * 180 / np.pi, ideal_Xexps, 'b--')\n",
    "plt.plot(thetas * 180 / np.pi, ideal_Yexps, 'bx')\n",
    "plt.plot(thetas * 180 / np.pi, ideal_Zexps, 'b.')\n",
    "\n",
    "plt.plot(thetas * 180 / np.pi, std_Xexps, 'r--')\n",
    "plt.plot(thetas * 180 / np.pi, std_Yexps, 'rx')\n",
    "plt.plot(thetas * 180 / np.pi, std_Zexps, 'r.')\n",
    "\n",
    "plt.plot(thetas * 180 / np.pi, opt_Xexps, 'g--')\n",
    "plt.plot(thetas * 180 / np.pi, opt_Yexps, 'gx')\n",
    "plt.plot(thetas * 180 / np.pi, opt_Zexps, 'g.')"
   ]
  },
  {
   "cell_type": "markdown",
   "metadata": {},
   "source": [
    "### plot trajectories on Bloch sphere"
   ]
  },
  {
   "cell_type": "code",
   "execution_count": null,
   "metadata": {},
   "outputs": [],
   "source": [
    "from qutip import Bloch\n",
    "b = Bloch()\n",
    "b.add_points([Xexps, Yexps, Zexps])\n",
    "b.show()"
   ]
  },
  {
   "cell_type": "code",
   "execution_count": null,
   "metadata": {},
   "outputs": [],
   "source": [
    "b = Bloch()\n",
    "xp = [np.cos(th) for th in np.linspace(0, 2*np.pi, 20)]\n",
    "yp = [np.sin(th) for th in np.linspace(0, 2*np.pi, 20)]\n",
    "zp = np.zeros(20)\n",
    "pnts = [xp, yp, zp]\n",
    "b.add_points(pnts)\n",
    "b.show()"
   ]
  },
  {
   "cell_type": "code",
   "execution_count": null,
   "metadata": {},
   "outputs": [],
   "source": [
    "b.clear()"
   ]
  },
  {
   "cell_type": "code",
   "execution_count": null,
   "metadata": {},
   "outputs": [],
   "source": [
    "b=Bloch()\n",
    "b.add_points([0,0,1])\n",
    "b.show()"
   ]
  }
 ],
 "metadata": {
  "kernelspec": {
   "display_name": "Python 3",
   "language": "python",
   "name": "python3"
  },
  "language_info": {
   "codemirror_mode": {
    "name": "ipython",
    "version": 3
   },
   "file_extension": ".py",
   "mimetype": "text/x-python",
   "name": "python",
   "nbconvert_exporter": "python",
   "pygments_lexer": "ipython3",
   "version": "3.6.9"
  }
 },
 "nbformat": 4,
 "nbformat_minor": 2
}
