{
 "cells": [
  {
   "cell_type": "code",
   "execution_count": 1,
   "metadata": {},
   "outputs": [],
   "source": [
    "%load_ext autoreload\n",
    "%autoreload 2"
   ]
  },
  {
   "cell_type": "code",
   "execution_count": 2,
   "metadata": {},
   "outputs": [],
   "source": [
    "import numpy as np\n",
    "\n",
    "import matplotlib.pyplot as plt\n",
    "%matplotlib inline"
   ]
  },
  {
   "cell_type": "code",
   "execution_count": 3,
   "metadata": {},
   "outputs": [],
   "source": [
    "import qiskit as q\n",
    "import qiskit.tools.jupyter\n",
    "from qiskit.pulse import pulse_lib as _  # only want to call pulse_lib as q.pulse.pulse_lib"
   ]
  },
  {
   "cell_type": "code",
   "execution_count": 4,
   "metadata": {},
   "outputs": [],
   "source": [
    "import pulse_compiler_helper_fns"
   ]
  },
  {
   "cell_type": "code",
   "execution_count": 5,
   "metadata": {},
   "outputs": [
    {
     "data": {
      "text/plain": [
       "<AccountProvider for IBMQ(hub='ibm-q', group='open', project='main')>"
      ]
     },
     "execution_count": 5,
     "metadata": {},
     "output_type": "execute_result"
    }
   ],
   "source": [
    "q.IBMQ.load_account() # Load account from disk"
   ]
  },
  {
   "cell_type": "code",
   "execution_count": 6,
   "metadata": {},
   "outputs": [],
   "source": [
    "provider = q.IBMQ.get_provider(group='open')\n",
    "backend = provider.get_backend('ibmq_armonk')\n",
    "defaults = backend.defaults()\n",
    "circ_inst_map = defaults.circuit_instruction_map\n",
    "measure = circ_inst_map.get('measure', qubits=backend.configuration().meas_map[0])"
   ]
  },
  {
   "cell_type": "markdown",
   "metadata": {},
   "source": [
    "## RB Schedules"
   ]
  },
  {
   "cell_type": "code",
   "execution_count": 77,
   "metadata": {},
   "outputs": [],
   "source": [
    "from qiskit.transpiler.passes.optimize_1q_gates import Optimize1qGates\n",
    "\n",
    "num_repetitions = 5\n",
    "K = 25\n",
    "\n",
    "schedules_std = {i: [] for i in range(num_repetitions)}\n",
    "schedules_opt = {i: [] for i in range(num_repetitions)}\n",
    "schedules_opt_slow = {i: [] for i in range(num_repetitions)}\n",
    "\n",
    "for i in range(num_repetitions):\n",
    "    for k in range(1, K):\n",
    "        circuit, slow_circuit = q.QuantumCircuit(1), q.QuantumCircuit(1)\n",
    "\n",
    "        total_theta, total_phi, total_lam = 0, 0, 0\n",
    "\n",
    "        for _ in range(k):\n",
    "            theta, phi, lam = np.random.rand() * np.pi, np.random.rand() * np.pi, np.random.rand() * np.pi\n",
    "            circuit.u3(theta, phi, lam, 0); slow_circuit.u3(theta, phi, lam, 0); slow_circuit.iden(0);\n",
    "            total_theta, total_phi, total_lam = Optimize1qGates.compose_u3(\n",
    "                theta, phi, lam, total_theta, total_phi, total_lam)\n",
    "        circuit.u3(-total_theta, -total_lam, -total_phi, 0)  # inverse of U3(theta, phi, lam) is U3(-theta, -lam, -phi)\n",
    "        slow_circuit.u3(-total_theta, -total_lam, -total_phi, 0); slow_circuit.iden(0);\n",
    "\n",
    "\n",
    "        transpiled_circuit = q.transpile(circuit, backend, optimization_level=0)\n",
    "        schedule = q.schedule(transpiled_circuit, backend=backend, inst_map=circ_inst_map)\n",
    "        schedule |= measure << schedule.duration\n",
    "        schedules_std[i].append(schedule)\n",
    "\n",
    "        with qiskit.PulseBackedOptimizationContext():\n",
    "            decomposed_circuit = circuit.decompose()\n",
    "            pulse_compiler_helper_fns.update_basis_gates_and_circ_inst_map(decomposed_circuit, backend, circ_inst_map)\n",
    "            transpiled_circuit = q.transpile(decomposed_circuit, backend, optimization_level=0)\n",
    "            schedule = q.schedule(transpiled_circuit, backend=backend, inst_map=circ_inst_map)\n",
    "            schedule |= measure << schedule.duration\n",
    "            schedules_opt[i].append(schedule)\n",
    "\n",
    "            decomposed_circuit = slow_circuit.decompose()\n",
    "            pulse_compiler_helper_fns.update_basis_gates_and_circ_inst_map(decomposed_circuit, backend, circ_inst_map)\n",
    "            transpiled_circuit = q.transpile(decomposed_circuit, backend, optimization_level=0)\n",
    "            schedule = q.schedule(transpiled_circuit, backend=backend, inst_map=circ_inst_map)\n",
    "            schedule |= measure << schedule.duration\n",
    "            schedules_opt_slow[i].append(schedule)"
   ]
  },
  {
   "cell_type": "code",
   "execution_count": 78,
   "metadata": {},
   "outputs": [],
   "source": [
    "# ACTUALLY, HAD TO RUN THESE ONE BY ONE SINCE ARMONK ONLY ALLOWED 5 JOBS SUBMITTED AT A TIME\n",
    "jobs_std, jobs_opt, jobs_opt_slow = {}, {}, {}\n",
    "for i in range(num_repetitions):\n",
    "    jobs_std[i] = q.execute(schedules_std[i], backend=backend, shots=8000)\n",
    "    jobs_opt[i] = q.execute(schedules_opt[i], backend=backend, shots=8000)\n",
    "    jobs_opt_slow[i] = q.execute(schedules_opt_slow[i], backend=backend, shots=8000)"
   ]
  },
  {
   "cell_type": "code",
   "execution_count": 82,
   "metadata": {},
   "outputs": [],
   "source": [
    "job_ids_std = {0: '5e3cef4358ee6900185e84fa', 1: '5e3cf2f422883900183976fa', 2: '5e3cf5ea0c75be001886e554', 3: '5e3d8c3394f62b0018e1aa3f', 4: '5e3da65cb0bc3100191f8d96'}\n",
    "job_ids_opt = {0: '5e3cef528baf3a001859d7d6', 1: '5e3cf2fe58ee6900185e84fd', 2: '5e3cf5f58baf3a001859d7da', 3: '5e3d8c3d4d0f01001837ede2', 4: '5e3da666a400ea001906bc38'}\n",
    "job_ids_opt_slow = {0: '5e3cef7dd30b5c00189c9c71', 1: '5e3cf329d30b5c00189c9c74', 2: '5e3cf621e1620b0018c67f8f', 3: '5e3d8c48e92f620018c19c61', 4: '5e3da67223227b001859417b'}"
   ]
  },
  {
   "cell_type": "code",
   "execution_count": 83,
   "metadata": {},
   "outputs": [],
   "source": [
    "jobs_std = {i: backend.retrieve_job(job_id) for (i, job_id) in job_ids_std.items()}\n",
    "jobs_opt = {i: backend.retrieve_job(job_id) for (i, job_id) in job_ids_opt.items()}\n",
    "jobs_opt_slow = {i: backend.retrieve_job(job_id) for (i, job_id) in job_ids_opt_slow.items()}"
   ]
  },
  {
   "cell_type": "code",
   "execution_count": 86,
   "metadata": {},
   "outputs": [],
   "source": [
    "std_probs = [0] * (K-1)\n",
    "opt_probs = [0] * (K-1)\n",
    "opt_slow_probs = [0] * (K-1)\n",
    "\n",
    "for i in range(num_repetitions):\n",
    "    job_std, job_opt, job_opt_slow = jobs_std[i], jobs_opt[i], jobs_opt_slow[i]\n",
    "\n",
    "    std_result, opt_result, opt_slow_result  = job_std.result(), job_opt.result(), job_opt_slow.result()\n",
    "\n",
    "    for expt_num in range(K-1):\n",
    "        std_probs[expt_num] += std_result.get_counts(expt_num).get('0', 0) / 8000 / num_repetitions\n",
    "        opt_probs[expt_num] += opt_result.get_counts(expt_num).get('0', 0) / 8000 / num_repetitions\n",
    "        opt_slow_probs[expt_num] += opt_slow_result.get_counts(expt_num).get('0', 0) / 8000 / num_repetitions"
   ]
  },
  {
   "cell_type": "code",
   "execution_count": 165,
   "metadata": {},
   "outputs": [],
   "source": [
    "# Fit all three probabilities to alpha**k - A, with common A and different alpha's\n",
    "\n",
    "def comboFunc(comboData, A, alpha_std, alpha_opt, alpha_opt_slow):  # https://stats.stackexchange.com/a/348874\n",
    "    extract1 = comboData[:len(Ks)] # first data\n",
    "    extract2 = comboData[len(Ks):-len(Ks)] # second data\n",
    "    extract3 = comboData[-len(Ks):] # second data\n",
    "\n",
    "    result1 = alpha_std**extract1 - A\n",
    "    result2 = alpha_opt**extract2 - A\n",
    "    result3 = alpha_opt_slow**extract3 - A\n",
    "\n",
    "    return np.append(np.append(result1, result2), result3)\n",
    "\n",
    "\n",
    "popt, _ = scipy.optimize.curve_fit(\n",
    "    comboFunc,\n",
    "    np.append(np.append(Ks, Ks), Ks),\n",
    "    np.append(np.append(std_probs, opt_probs), opt_slow_probs),\n",
    "    p0=[-0.03, 0.99, 0.99, 0.99])\n",
    "\n",
    "A, alpha_std, alpha_opt, alpha_opt_slow = popt"
   ]
  },
  {
   "cell_type": "code",
   "execution_count": 232,
   "metadata": {},
   "outputs": [
    {
     "data": {
      "image/png": "[encoded data removed]",
      "text/plain": [
       "<Figure size 432x252 with 1 Axes>"
      ]
     },
     "metadata": {
      "needs_background": "light"
     },
     "output_type": "display_data"
    }
   ],
   "source": [
    "import scipy\n",
    "\n",
    "plt.rcParams.update({'font.size': 14})\n",
    "\n",
    "Ks = list(range(2, K+1))\n",
    "\n",
    "fig, ax = plt.subplots(figsize=(6, 3.5))\n",
    "\n",
    "plt.scatter(Ks, opt_probs, s=15)\n",
    "plt.plot(np.linspace(2, K+1, 100), alpha_opt**np.linspace(2, K+1, 100) - A, label='optimized')\n",
    "\n",
    "plt.scatter(Ks, opt_slow_probs, s=15)\n",
    "plt.plot(np.linspace(2, K+1, 100), alpha_opt_slow**np.linspace(2, K+1, 100) - A, label='optimized-slow')\n",
    "\n",
    "plt.scatter(Ks, std_probs, s=15)\n",
    "plt.plot(np.linspace(2, K+1, 100), alpha_std**np.linspace(2, K+1, 100) - A, label='standard')\n",
    "\n",
    "\n",
    "plt.xticks([5, 10, 15, 20, K]);\n",
    "plt.legend()\n",
    "plt.ylim(0.912, 0.963)\n",
    "plt.ylabel('Prob of |0>');\n",
    "plt.xlabel('K (number of unitaries applied)');\n",
    "plt.savefig('Figures/RB.svg', bbox_inches = \"tight\")"
   ]
  },
  {
   "cell_type": "code",
   "execution_count": 223,
   "metadata": {},
   "outputs": [
    {
     "data": {
      "text/plain": [
       "array([99.86618157, 99.83044874, 99.8153452 ])"
      ]
     },
     "execution_count": 223,
     "metadata": {},
     "output_type": "execute_result"
    }
   ],
   "source": [
    "np.array([alpha_opt, alpha_opt_slow, alpha_std]) * 100"
   ]
  },
  {
   "cell_type": "code",
   "execution_count": 200,
   "metadata": {},
   "outputs": [],
   "source": [
    "def coherence_limit(gatelen, T1, T2):  # from qiskit/ignis/verification/randomized_benchmarking/rb_utils.py\n",
    "    return 0.5* (1.-2./3.*np.exp(-gatelen/T2) - 1./3.*np.exp(-gatelen/T1))"
   ]
  },
  {
   "cell_type": "code",
   "execution_count": 229,
   "metadata": {},
   "outputs": [
    {
     "name": "stdout",
     "output_type": "stream",
     "text": [
      "0.013117013635560726\n",
      "0.006558940413795011\n"
     ]
    }
   ],
   "source": [
    "# all times below are in microseconds\n",
    "\n",
    "# std takes 1280 dts per gate, each of 0.22 ns. Opt takes 640 dts per gate\n",
    "gate_time_std = 1280*2.2222222222222221e-10 / 10e-6\n",
    "gate_time_opt = 640*2.2222222222222221e-10 / 10e-6\n",
    "\n",
    "print(coherence_limit(gate_time_std, T1=124, T2=102) * 100)\n",
    "print(coherence_limit(gate_time_opt, T1=124, T2=102) * 100)"
   ]
  }
 ],
 "metadata": {
  "kernelspec": {
   "display_name": "Python 3",
   "language": "python",
   "name": "python3"
  },
  "language_info": {
   "codemirror_mode": {
    "name": "ipython",
    "version": 3
   },
   "file_extension": ".py",
   "mimetype": "text/x-python",
   "name": "python",
   "nbconvert_exporter": "python",
   "pygments_lexer": "ipython3",
   "version": "3.7.3"
  }
 },
 "nbformat": 4,
 "nbformat_minor": 2
}
