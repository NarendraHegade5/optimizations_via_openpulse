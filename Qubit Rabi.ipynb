{
 "cells": [
  {
   "cell_type": "code",
   "execution_count": 292,
   "metadata": {},
   "outputs": [],
   "source": [
    "import numpy as np\n",
    "import time\n",
    "import matplotlib.pyplot as plt"
   ]
  },
  {
   "cell_type": "code",
   "execution_count": 293,
   "metadata": {},
   "outputs": [],
   "source": [
    "from qiskit import *\n",
    "from qiskit.pulse import *\n",
    "from qiskit.tools.monitor import job_monitor\n",
    "from qiskit.visualization import plot_histogram\n",
    "import qiskit.pulse.pulse_lib as pulse_lib\n",
    "import qiskit.tools.jupyter"
   ]
  },
  {
   "cell_type": "code",
   "execution_count": 294,
   "metadata": {},
   "outputs": [
    {
     "name": "stderr",
     "output_type": "stream",
     "text": [
      "/Users/pranavgokhale/anaconda3/lib/python3.7/site-packages/qiskit/providers/ibmq/ibmqfactory.py:181: UserWarning: Credentials are already in use. The existing account in the session will be replaced.\n",
      "  warnings.warn('Credentials are already in use. The existing '\n"
     ]
    },
    {
     "data": {
      "text/plain": [
       "[<AccountProvider for IBMQ(hub='ibm-q', group='open', project='main')>,\n",
       " <AccountProvider for IBMQ(hub='ibm-q-ornl', group='bes-qis', project='argonne')>]"
      ]
     },
     "execution_count": 294,
     "metadata": {},
     "output_type": "execute_result"
    }
   ],
   "source": [
    "IBMQ.load_account() # Load account from disk\n",
    "IBMQ.providers()    # List all available providers"
   ]
  },
  {
   "cell_type": "code",
   "execution_count": 295,
   "metadata": {},
   "outputs": [],
   "source": [
    "provider = IBMQ.get_provider(group='bes-qis')\n",
    "backend = provider.get_backend('ibmq_boeblingen')\n",
    "system = pulse.PulseChannelSpec.from_backend(backend)\n",
    "config = backend.configuration()\n",
    "defaults = backend.defaults()\n",
    "cmd_def = pulse.CmdDef.from_defaults(backend.defaults().cmd_def, backend.defaults().pulse_library)"
   ]
  },
  {
   "cell_type": "code",
   "execution_count": 268,
   "metadata": {},
   "outputs": [
    {
     "data": {
      "application/vnd.jupyter.widget-view+json": {
       "model_id": "5a5027a8cf78400abfe2563944821f46",
       "version_major": 2,
       "version_minor": 0
      },
      "text/plain": [
       "Accordion(children=(VBox(layout=Layout(max_width='610px', min_width='610px')),), layout=Layout(max_height='500…"
      ]
     },
     "metadata": {},
     "output_type": "display_data"
    },
    {
     "data": {
      "application/javascript": [
       "$('div.job_widget')\n",
       "        .detach()\n",
       "        .appendTo($('#header'))\n",
       "        .css({\n",
       "            'z-index': 999,\n",
       "             'position': 'fixed',\n",
       "            'box-shadow': '5px 5px 5px -3px black',\n",
       "            'opacity': 0.95,\n",
       "            'float': 'left,'\n",
       "        })\n",
       "        "
      ],
      "text/plain": [
       "<IPython.core.display.Javascript object>"
      ]
     },
     "metadata": {},
     "output_type": "display_data"
    }
   ],
   "source": [
    "%qiskit_job_watcher"
   ]
  },
  {
   "cell_type": "markdown",
   "metadata": {},
   "source": [
    "----"
   ]
  },
  {
   "cell_type": "code",
   "execution_count": 12,
   "metadata": {},
   "outputs": [
    {
     "name": "stdout",
     "output_type": "stream",
     "text": [
      "[0.    0.005 0.01  0.015 0.02  0.025 0.03  0.035 0.04  0.045 0.05 ]\n"
     ]
    }
   ],
   "source": [
    "num_drive_amps = 11\n",
    "drive_amps = np.linspace(0, 0.05, num_drive_amps)\n",
    "drive_samples = 128\n",
    "drive_sigma = 16\n",
    "\n",
    "print(drive_amps)"
   ]
  },
  {
   "cell_type": "code",
   "execution_count": 13,
   "metadata": {},
   "outputs": [],
   "source": [
    "measure = cmd_def.get('measure', qubits=config.meas_map[0])"
   ]
  },
  {
   "cell_type": "code",
   "execution_count": 28,
   "metadata": {},
   "outputs": [],
   "source": [
    "schedules = []\n",
    "for drive_amp in drive_amps:\n",
    "    rabi_pulse = pulse_lib.gaussian(duration=drive_samples,\n",
    "                                    amp=drive_amp,\n",
    "                                    sigma=drive_sigma,\n",
    "                                    name='rabi_pulse_with_drive_amp_%s' % drive_amp)\n",
    "    \n",
    "    # add commands to schedule\n",
    "    schedule = pulse.Schedule(name='Rabi Experiment at drive amp = %s' % drive_amp)\n",
    "    \n",
    "    schedule |= rabi_pulse(system.qubits[0].drive)\n",
    "    schedule |= measure << schedule.duration\n",
    " \n",
    "    schedules.append(schedule)"
   ]
  },
  {
   "cell_type": "code",
   "execution_count": 33,
   "metadata": {},
   "outputs": [],
   "source": [
    "qobj = assemble(schedules, backend, shots=512)\n",
    "job = backend.run(qobj)"
   ]
  },
  {
   "cell_type": "code",
   "execution_count": 34,
   "metadata": {},
   "outputs": [
    {
     "data": {
      "text/plain": [
       "'5d890be14a13e1001863a9a6'"
      ]
     },
     "execution_count": 34,
     "metadata": {},
     "output_type": "execute_result"
    }
   ],
   "source": [
    "job.job_id()"
   ]
  },
  {
   "cell_type": "code",
   "execution_count": 49,
   "metadata": {},
   "outputs": [],
   "source": [
    "frac_ones = []\n",
    "for i in range(num_drive_amps):\n",
    "    counts = job.result().get_counts(i)\n",
    "    num_ones = sum({freq for (bitstring, freq) in counts.items() if bitstring.endswith('1')})\n",
    "    frac_ones.append(num_ones / 512)"
   ]
  },
  {
   "cell_type": "code",
   "execution_count": 51,
   "metadata": {
    "scrolled": false
   },
   "outputs": [
    {
     "data": {
      "text/plain": [
       "<matplotlib.collections.PathCollection at 0x1a258bb3c8>"
      ]
     },
     "execution_count": 51,
     "metadata": {},
     "output_type": "execute_result"
    },
    {
     "data": {
      "image/png": "[encoded data removed]",
      "text/plain": [
       "<Figure size 432x288 with 1 Axes>"
      ]
     },
     "metadata": {
      "needs_background": "light"
     },
     "output_type": "display_data"
    }
   ],
   "source": [
    "plt.scatter(drive_amps, frac_ones)"
   ]
  },
  {
   "cell_type": "markdown",
   "metadata": {},
   "source": [
    "----"
   ]
  },
  {
   "cell_type": "markdown",
   "metadata": {},
   "source": [
    "---\n",
    "## Try again, zoomed in to optimal amplitude"
   ]
  },
  {
   "cell_type": "code",
   "execution_count": 91,
   "metadata": {},
   "outputs": [
    {
     "name": "stdout",
     "output_type": "stream",
     "text": [
      "[0.015  0.0155 0.016  0.0165 0.017  0.0175 0.018  0.0185 0.019  0.0195\n",
      " 0.02   0.0205 0.021  0.0215 0.022  0.0225 0.023  0.0235 0.024  0.0245\n",
      " 0.025 ]\n"
     ]
    }
   ],
   "source": [
    "num_drive_amps = 21\n",
    "drive_amps = np.linspace(0.015, 0.025, num_drive_amps)\n",
    "drive_samples = 128\n",
    "drive_sigma = 16\n",
    "\n",
    "print(drive_amps)"
   ]
  },
  {
   "cell_type": "code",
   "execution_count": 92,
   "metadata": {},
   "outputs": [],
   "source": [
    "measure = cmd_def.get('measure', qubits=config.meas_map[0])"
   ]
  },
  {
   "cell_type": "code",
   "execution_count": 93,
   "metadata": {},
   "outputs": [],
   "source": [
    "schedules = []\n",
    "for drive_amp in drive_amps:\n",
    "    rabi_pulse = pulse_lib.gaussian(duration=drive_samples,\n",
    "                                    amp=drive_amp,\n",
    "                                    sigma=drive_sigma,\n",
    "                                    name='rabi_pulse_with_drive_amp_%s' % drive_amp)\n",
    "    \n",
    "    # add commands to schedule\n",
    "    schedule = pulse.Schedule(name='Rabi Experiment at drive amp = %s' % drive_amp)\n",
    "    \n",
    "    schedule |= rabi_pulse(system.qubits[0].drive)\n",
    "    schedule |= measure << schedule.duration\n",
    " \n",
    "    schedules.append(schedule)"
   ]
  },
  {
   "cell_type": "code",
   "execution_count": 94,
   "metadata": {},
   "outputs": [
    {
     "data": {
      "text/plain": [
       "'5d891e034a13e1001863a9ba'"
      ]
     },
     "execution_count": 94,
     "metadata": {},
     "output_type": "execute_result"
    }
   ],
   "source": [
    "qobj = assemble(schedules, backend, shots=1024)\n",
    "job = backend.run(qobj)\n",
    "job.job_id()"
   ]
  },
  {
   "cell_type": "code",
   "execution_count": 97,
   "metadata": {},
   "outputs": [],
   "source": [
    "frac_ones = []\n",
    "for i in range(num_drive_amps):\n",
    "    counts = job.result().get_counts(i)\n",
    "    num_ones = sum({freq for (bitstring, freq) in counts.items() if bitstring.endswith('1')})\n",
    "    frac_ones.append(num_ones / 1024)"
   ]
  },
  {
   "cell_type": "code",
   "execution_count": 105,
   "metadata": {
    "scrolled": false
   },
   "outputs": [
    {
     "data": {
      "text/plain": [
       "(0.015, 0.025)"
      ]
     },
     "execution_count": 105,
     "metadata": {},
     "output_type": "execute_result"
    },
    {
     "data": {
      "image/png": "[encoded data removed]",
      "text/plain": [
       "<Figure size 432x288 with 1 Axes>"
      ]
     },
     "metadata": {
      "needs_background": "light"
     },
     "output_type": "display_data"
    }
   ],
   "source": [
    "plt.scatter(drive_amps, frac_ones)\n",
    "plt.xticks(np.arange(0.015, 0.025, step=0.001))\n",
    "plt.xlim(0.015, 0.025)"
   ]
  },
  {
   "cell_type": "code",
   "execution_count": 130,
   "metadata": {},
   "outputs": [
    {
     "name": "stdout",
     "output_type": "stream",
     "text": [
      "amplitude is 0.02\n",
      "sigma is 16\n",
      "duration is 128\n",
      "integral is (0.8020699602267553+0j)\n"
     ]
    }
   ],
   "source": [
    "print('amplitude is %s' % drive_amps[10])\n",
    "print('sigma is %s' % drive_sigma)\n",
    "print('duration is %s' % drive_samples)\n",
    "print('integral is %s' % sum(schedules[10].instructions[0][1].command.samples))"
   ]
  },
  {
   "cell_type": "markdown",
   "metadata": {},
   "source": [
    "---\n",
    "## Try a faster (shorter duration) X pulse"
   ]
  },
  {
   "cell_type": "code",
   "execution_count": 131,
   "metadata": {},
   "outputs": [
    {
     "name": "stdout",
     "output_type": "stream",
     "text": [
      "[0.06       0.06444444 0.06888889 0.07333333 0.07777778 0.08222222\n",
      " 0.08666667 0.09111111 0.09555556 0.1       ]\n"
     ]
    }
   ],
   "source": [
    "num_drive_amps = 10\n",
    "drive_amps = np.linspace(0.06, 0.10, num_drive_amps)\n",
    "drive_samples = 32\n",
    "drive_sigma = 4\n",
    "\n",
    "print(drive_amps)"
   ]
  },
  {
   "cell_type": "code",
   "execution_count": 133,
   "metadata": {},
   "outputs": [],
   "source": [
    "schedules = []\n",
    "for drive_amp in drive_amps:\n",
    "    rabi_pulse = pulse_lib.gaussian(duration=drive_samples,\n",
    "                                    amp=drive_amp,\n",
    "                                    sigma=drive_sigma,\n",
    "                                    name='rabi_pulse_with_drive_amp_%s' % drive_amp)\n",
    "    \n",
    "    # add commands to schedule\n",
    "    schedule = pulse.Schedule(name='Rabi Experiment at drive amp = %s' % drive_amp)\n",
    "    \n",
    "    schedule |= rabi_pulse(system.qubits[0].drive)\n",
    "    schedule |= measure << schedule.duration\n",
    " \n",
    "    schedules.append(schedule)"
   ]
  },
  {
   "cell_type": "code",
   "execution_count": 134,
   "metadata": {},
   "outputs": [
    {
     "data": {
      "text/plain": [
       "'5d89245801bf92001948dc65'"
      ]
     },
     "execution_count": 134,
     "metadata": {},
     "output_type": "execute_result"
    }
   ],
   "source": [
    "qobj = assemble(schedules, backend, shots=512)\n",
    "job = backend.run(qobj)\n",
    "job.job_id()"
   ]
  },
  {
   "cell_type": "code",
   "execution_count": 137,
   "metadata": {},
   "outputs": [],
   "source": [
    "frac_ones = []\n",
    "for i in range(num_drive_amps):\n",
    "    counts = job.result().get_counts(i)\n",
    "    num_ones = sum({freq for (bitstring, freq) in counts.items() if bitstring.endswith('1')})\n",
    "    frac_ones.append(num_ones / 512)"
   ]
  },
  {
   "cell_type": "code",
   "execution_count": 138,
   "metadata": {},
   "outputs": [
    {
     "data": {
      "text/plain": [
       "(0.06, 0.1)"
      ]
     },
     "execution_count": 138,
     "metadata": {},
     "output_type": "execute_result"
    },
    {
     "data": {
      "image/png": "[encoded data removed]",
      "text/plain": [
       "<Figure size 432x288 with 1 Axes>"
      ]
     },
     "metadata": {
      "needs_background": "light"
     },
     "output_type": "display_data"
    }
   ],
   "source": [
    "plt.scatter(drive_amps, frac_ones)\n",
    "plt.xticks(np.arange(0.06, 0.10, step=0.01))\n",
    "plt.xlim(0.06, 0.10)"
   ]
  },
  {
   "cell_type": "markdown",
   "metadata": {},
   "source": [
    "---\n",
    "## Go even faster (this is the best one)"
   ]
  },
  {
   "cell_type": "code",
   "execution_count": 140,
   "metadata": {},
   "outputs": [
    {
     "name": "stdout",
     "output_type": "stream",
     "text": [
      "[0.24       0.25777778 0.27555556 0.29333333 0.31111111 0.32888889\n",
      " 0.34666667 0.36444444 0.38222222 0.4       ]\n"
     ]
    }
   ],
   "source": [
    "num_drive_amps = 10\n",
    "drive_amps = np.linspace(0.24, 0.40, num_drive_amps)\n",
    "drive_samples = 8\n",
    "drive_sigma = 1\n",
    "\n",
    "print(drive_amps)"
   ]
  },
  {
   "cell_type": "code",
   "execution_count": 142,
   "metadata": {},
   "outputs": [],
   "source": [
    "schedules = []\n",
    "for drive_amp in drive_amps:\n",
    "    rabi_pulse = pulse_lib.gaussian(duration=drive_samples,\n",
    "                                    amp=drive_amp,\n",
    "                                    sigma=drive_sigma,\n",
    "                                    name='rabi_pulse_with_drive_amp_%s' % drive_amp)\n",
    "    \n",
    "    # add commands to schedule\n",
    "    schedule = pulse.Schedule(name='Rabi Experiment at drive amp = %s' % drive_amp)\n",
    "    \n",
    "    schedule |= rabi_pulse(system.qubits[0].drive)\n",
    "    schedule |= measure << schedule.duration\n",
    " \n",
    "    schedules.append(schedule)"
   ]
  },
  {
   "cell_type": "code",
   "execution_count": 143,
   "metadata": {},
   "outputs": [
    {
     "data": {
      "text/plain": [
       "'5d89256048b726001ab3c3a1'"
      ]
     },
     "execution_count": 143,
     "metadata": {},
     "output_type": "execute_result"
    }
   ],
   "source": [
    "qobj = assemble(schedules, backend, shots=512)\n",
    "job = backend.run(qobj)\n",
    "job.job_id()"
   ]
  },
  {
   "cell_type": "code",
   "execution_count": 144,
   "metadata": {},
   "outputs": [],
   "source": [
    "frac_ones = []\n",
    "for i in range(num_drive_amps):\n",
    "    counts = job.result().get_counts(i)\n",
    "    num_ones = sum({freq for (bitstring, freq) in counts.items() if bitstring.endswith('1')})\n",
    "    frac_ones.append(num_ones / 512)"
   ]
  },
  {
   "cell_type": "code",
   "execution_count": 145,
   "metadata": {},
   "outputs": [
    {
     "data": {
      "text/plain": [
       "(0.24, 0.4)"
      ]
     },
     "execution_count": 145,
     "metadata": {},
     "output_type": "execute_result"
    },
    {
     "data": {
      "image/png": "[encoded data removed]",
      "text/plain": [
       "<Figure size 432x288 with 1 Axes>"
      ]
     },
     "metadata": {
      "needs_background": "light"
     },
     "output_type": "display_data"
    }
   ],
   "source": [
    "plt.scatter(drive_amps, frac_ones)\n",
    "plt.xticks(np.arange(0.24, 0.40, step=0.01))\n",
    "plt.xlim(0.24, 0.40)"
   ]
  },
  {
   "cell_type": "markdown",
   "metadata": {},
   "source": [
    "---\n",
    "## Super fast (too fast):"
   ]
  },
  {
   "cell_type": "code",
   "execution_count": 163,
   "metadata": {},
   "outputs": [
    {
     "name": "stdout",
     "output_type": "stream",
     "text": [
      "[0.44       0.45333333 0.46666667 0.48       0.49333333 0.50666667\n",
      " 0.52       0.53333333 0.54666667 0.56      ]\n"
     ]
    }
   ],
   "source": [
    "num_drive_amps = 10\n",
    "drive_amps = np.linspace(0.44, 0.56, num_drive_amps)\n",
    "drive_samples = 4\n",
    "drive_sigma = 0.5\n",
    "\n",
    "print(drive_amps)"
   ]
  },
  {
   "cell_type": "code",
   "execution_count": 164,
   "metadata": {},
   "outputs": [],
   "source": [
    "schedules = []\n",
    "for drive_amp in drive_amps:\n",
    "    rabi_pulse = pulse_lib.gaussian(duration=drive_samples,\n",
    "                                    amp=drive_amp,\n",
    "                                    sigma=drive_sigma,\n",
    "                                    name='rabi_pulse_with_drive_amp_%s' % drive_amp)\n",
    "    \n",
    "    # add commands to schedule\n",
    "    schedule = pulse.Schedule(name='Rabi Experiment at drive amp = %s' % drive_amp)\n",
    "    \n",
    "    schedule |= rabi_pulse(system.qubits[0].drive)\n",
    "    schedule |= measure << schedule.duration\n",
    " \n",
    "    schedules.append(schedule)"
   ]
  },
  {
   "cell_type": "code",
   "execution_count": 165,
   "metadata": {},
   "outputs": [
    {
     "data": {
      "text/plain": [
       "'5d892dc348b726001ab3c3ad'"
      ]
     },
     "execution_count": 165,
     "metadata": {},
     "output_type": "execute_result"
    }
   ],
   "source": [
    "qobj = assemble(schedules, backend, shots=512)\n",
    "job = backend.run(qobj)\n",
    "job.job_id()"
   ]
  },
  {
   "cell_type": "code",
   "execution_count": 166,
   "metadata": {},
   "outputs": [],
   "source": [
    "frac_ones = []\n",
    "for i in range(num_drive_amps):\n",
    "    counts = job.result().get_counts(i)\n",
    "    num_ones = sum({freq for (bitstring, freq) in counts.items() if bitstring.endswith('1')})\n",
    "    frac_ones.append(num_ones / 512)"
   ]
  },
  {
   "cell_type": "code",
   "execution_count": 167,
   "metadata": {},
   "outputs": [
    {
     "data": {
      "text/plain": [
       "(0.44, 0.56)"
      ]
     },
     "execution_count": 167,
     "metadata": {},
     "output_type": "execute_result"
    },
    {
     "data": {
      "image/png": "[encoded data removed]",
      "text/plain": [
       "<Figure size 432x288 with 1 Axes>"
      ]
     },
     "metadata": {
      "needs_background": "light"
     },
     "output_type": "display_data"
    }
   ],
   "source": [
    "plt.scatter(drive_amps, frac_ones)\n",
    "plt.xticks(np.arange(0.44, 0.56, step=0.01))\n",
    "plt.xlim(0.44, 0.56)"
   ]
  },
  {
   "cell_type": "markdown",
   "metadata": {},
   "source": [
    "---\n",
    "## A little slower"
   ]
  },
  {
   "cell_type": "code",
   "execution_count": 168,
   "metadata": {},
   "outputs": [
    {
     "name": "stdout",
     "output_type": "stream",
     "text": [
      "[0.34       0.36444444 0.38888889 0.41333333 0.43777778 0.46222222\n",
      " 0.48666667 0.51111111 0.53555556 0.56      ]\n"
     ]
    }
   ],
   "source": [
    "num_drive_amps = 10\n",
    "drive_amps = np.linspace(0.34, 0.56, num_drive_amps)\n",
    "drive_samples = 6\n",
    "drive_sigma = 0.75\n",
    "\n",
    "print(drive_amps)"
   ]
  },
  {
   "cell_type": "code",
   "execution_count": 169,
   "metadata": {},
   "outputs": [],
   "source": [
    "schedules = []\n",
    "for drive_amp in drive_amps:\n",
    "    rabi_pulse = pulse_lib.gaussian(duration=drive_samples,\n",
    "                                    amp=drive_amp,\n",
    "                                    sigma=drive_sigma,\n",
    "                                    name='rabi_pulse_with_drive_amp_%s' % drive_amp)\n",
    "    \n",
    "    # add commands to schedule\n",
    "    schedule = pulse.Schedule(name='Rabi Experiment at drive amp = %s' % drive_amp)\n",
    "    \n",
    "    schedule |= rabi_pulse(system.qubits[0].drive)\n",
    "    schedule |= measure << schedule.duration\n",
    " \n",
    "    schedules.append(schedule)"
   ]
  },
  {
   "cell_type": "code",
   "execution_count": 170,
   "metadata": {},
   "outputs": [
    {
     "data": {
      "text/plain": [
       "'5d893832a807ac0018bac7b1'"
      ]
     },
     "execution_count": 170,
     "metadata": {},
     "output_type": "execute_result"
    }
   ],
   "source": [
    "qobj = assemble(schedules, backend, shots=512)\n",
    "job = backend.run(qobj)\n",
    "job.job_id()"
   ]
  },
  {
   "cell_type": "code",
   "execution_count": 171,
   "metadata": {},
   "outputs": [
    {
     "name": "stderr",
     "output_type": "stream",
     "text": [
      "Error checking job status using websocket, retrying using HTTP.\n"
     ]
    }
   ],
   "source": [
    "frac_ones = []\n",
    "for i in range(num_drive_amps):\n",
    "    counts = job.result().get_counts(i)\n",
    "    num_ones = sum({freq for (bitstring, freq) in counts.items() if bitstring.endswith('1')})\n",
    "    frac_ones.append(num_ones / 512)"
   ]
  },
  {
   "cell_type": "code",
   "execution_count": 173,
   "metadata": {},
   "outputs": [
    {
     "data": {
      "text/plain": [
       "(0.34, 0.56)"
      ]
     },
     "execution_count": 173,
     "metadata": {},
     "output_type": "execute_result"
    },
    {
     "data": {
      "image/png": "[encoded data removed]",
      "text/plain": [
       "<Figure size 432x288 with 1 Axes>"
      ]
     },
     "metadata": {
      "needs_background": "light"
     },
     "output_type": "display_data"
    }
   ],
   "source": [
    "plt.scatter(drive_amps, frac_ones)\n",
    "plt.xticks(np.arange(0.34, 0.56, step=0.01))\n",
    "plt.xlim(0.34, 0.56)"
   ]
  },
  {
   "cell_type": "markdown",
   "metadata": {},
   "source": [
    "---\n",
    "## Compare to calibrated X gate"
   ]
  },
  {
   "cell_type": "code",
   "execution_count": 174,
   "metadata": {},
   "outputs": [],
   "source": [
    "schedule = pulse.Schedule()\n",
    "schedule |= cmd_def.get('x', qubits=[0])\n",
    "schedule |= measure << schedule.duration"
   ]
  },
  {
   "cell_type": "code",
   "execution_count": 175,
   "metadata": {},
   "outputs": [
    {
     "name": "stdout",
     "output_type": "stream",
     "text": [
      "5d8949641765500018c3e487\n"
     ]
    }
   ],
   "source": [
    "job = execute(schedule, backend=backend)\n",
    "print(job.job_id())"
   ]
  },
  {
   "cell_type": "code",
   "execution_count": 178,
   "metadata": {},
   "outputs": [
    {
     "name": "stdout",
     "output_type": "stream",
     "text": [
      "0.87109375\n"
     ]
    },
    {
     "data": {
      "image/png": "[encoded data removed]",
      "text/plain": [
       "<Figure size 504x360 with 1 Axes>"
      ]
     },
     "execution_count": 178,
     "metadata": {},
     "output_type": "execute_result"
    }
   ],
   "source": [
    "counts = job.result().get_counts()\n",
    "counts = {key: value for key, value in counts.items()}\n",
    "num_ones = sum({key: value for (key,value) in counts.items() if key[-1] == '1'}.values())\n",
    "print(num_ones/1024)\n",
    "plot_histogram(counts)"
   ]
  }
 ],
 "metadata": {
  "kernelspec": {
   "display_name": "Python 3",
   "language": "python",
   "name": "python3"
  },
  "language_info": {
   "codemirror_mode": {
    "name": "ipython",
    "version": 3
   },
   "file_extension": ".py",
   "mimetype": "text/x-python",
   "name": "python",
   "nbconvert_exporter": "python",
   "pygments_lexer": "ipython3",
   "version": "3.7.1"
  }
 },
 "nbformat": 4,
 "nbformat_minor": 2
}
