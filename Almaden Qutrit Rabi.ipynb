{
 "cells": [
  {
   "cell_type": "code",
   "execution_count": null,
   "metadata": {},
   "outputs": [],
   "source": []
  },
  {
   "cell_type": "code",
   "execution_count": 1,
   "metadata": {},
   "outputs": [],
   "source": [
    "import numpy as np\n",
    "import time\n",
    "import matplotlib.pyplot as plt\n",
    "%matplotlib inline"
   ]
  },
  {
   "cell_type": "code",
   "execution_count": 3,
   "metadata": {},
   "outputs": [],
   "source": [
    "from qiskit import IBMQ, execute\n",
    "import qiskit.tools.jupyter\n",
    "from qiskit import pulse\n",
    "from qiskit.pulse import pulse_lib"
   ]
  },
  {
   "cell_type": "code",
   "execution_count": 4,
   "metadata": {},
   "outputs": [
    {
     "data": {
      "text/plain": [
       "<AccountProvider for IBMQ(hub='ibm-q', group='open', project='main')>"
      ]
     },
     "execution_count": 4,
     "metadata": {},
     "output_type": "execute_result"
    }
   ],
   "source": [
    "IBMQ.load_account() # Load account from disk"
   ]
  },
  {
   "cell_type": "code",
   "execution_count": 5,
   "metadata": {},
   "outputs": [],
   "source": [
    "provider = IBMQ.get_provider(group='qiskit-terra', project='pulse-testing')\n",
    "backend = provider.get_backend('alt_almaden')\n",
    "cmd_def = pulse.CmdDef.from_defaults(backend.defaults().cmd_def, backend.defaults().pulse_library)\n",
    "measure = cmd_def.get('measure', qubits=backend.configuration().meas_map[0])\n",
    "config = backend.configuration()"
   ]
  },
  {
   "cell_type": "code",
   "execution_count": 6,
   "metadata": {},
   "outputs": [],
   "source": [
    "anh_almaden = [-320.2, -319.7, -317.2, -320.6, -322.0, -322.5,\n",
    "               -269.1, -297.1, -320.4, -325.0, -318.7, -319.5,\n",
    "               -321.1, -319.8, -322.7, -325.5, -320.9, -321.3,\n",
    "               -321.6, -323.0]"
   ]
  },
  {
   "cell_type": "code",
   "execution_count": 7,
   "metadata": {},
   "outputs": [],
   "source": [
    "anh = anh_almaden"
   ]
  },
  {
   "cell_type": "code",
   "execution_count": 8,
   "metadata": {},
   "outputs": [
    {
     "data": {
      "application/vnd.jupyter.widget-view+json": {
       "model_id": "26595e4d29144453bb64177ff81440e1",
       "version_major": 2,
       "version_minor": 0
      },
      "text/plain": [
       "VBox(children=(HTML(value=\"<h1 style='color:#ffffff;background-color:#000000;padding-top: 1%;padding-bottom: 1…"
      ]
     },
     "metadata": {},
     "output_type": "display_data"
    },
    {
     "data": {
      "text/plain": [
       "<IBMQBackend('alt_almaden') from IBMQ(hub='ibm-q-dev', group='qiskit-terra', project='pulse-testing')>"
      ]
     },
     "execution_count": 8,
     "metadata": {},
     "output_type": "execute_result"
    }
   ],
   "source": [
    "backend"
   ]
  },
  {
   "cell_type": "markdown",
   "metadata": {},
   "source": [
    "------------"
   ]
  },
  {
   "cell_type": "code",
   "execution_count": 9,
   "metadata": {},
   "outputs": [],
   "source": [
    "MEASUREMENT_START_TIMESTEP = 500"
   ]
  },
  {
   "cell_type": "code",
   "execution_count": 10,
   "metadata": {},
   "outputs": [],
   "source": [
    "# just measure\n",
    "schedule0 = pulse.Schedule()\n",
    "schedule0 |= measure << MEASUREMENT_START_TIMESTEP\n",
    "\n",
    "#job = execute(schedule, backend=backend, shots=1000, meas_level=1, meas_return='single')\n",
    "#print(job.job_id())"
   ]
  },
  {
   "cell_type": "code",
   "execution_count": 11,
   "metadata": {},
   "outputs": [],
   "source": [
    "# X, then measure\n",
    "schedule1 = pulse.Schedule()\n",
    "schedule1 |= cmd_def.get('x', qubits=[0])\n",
    "schedule1 |= measure << MEASUREMENT_START_TIMESTEP\n",
    "\n",
    "#job = q.execute(schedule, backend=backend, shots=1000, meas_level=1, meas_return='single')\n",
    "#print(job.job_id())"
   ]
  },
  {
   "cell_type": "code",
   "execution_count": 13,
   "metadata": {},
   "outputs": [
    {
     "data": {
      "image/png": "[encoded data removed]",
      "text/plain": [
       "<Figure size 504x360 with 1 Axes>"
      ]
     },
     "execution_count": 13,
     "metadata": {},
     "output_type": "execute_result"
    }
   ],
   "source": [
    "# Approximate X as a gaussian pulse:\n",
    "DURATION = 240\n",
    "AMP = 0.10\n",
    "SIGMA = 40\n",
    "pulse_lib.gaussian(duration=DURATION, amp=AMP, sigma=SIGMA).draw(scaling=0.18)"
   ]
  },
  {
   "cell_type": "code",
   "execution_count": 22,
   "metadata": {},
   "outputs": [],
   "source": [
    "# X, then pulse at 1-2 frequency, then measure\n",
    "schedule2 = pulse.Schedule()\n",
    "schedule2 |= cmd_def.get('x', qubits=[0])\n",
    "\n",
    "freq = config.dt * -anh[0]/1000  # anharmonicity is 312 MHz. In units of dt, we have .304/ns * config.dt/ns\n",
    "wave_samples = pulse.pulse_lib.cos(duration=DURATION, amp=1, freq=freq).samples - 1j * pulse.pulse_lib.sin(\n",
    "            duration=DURATION, amp=1, freq=freq).samples\n",
    "# use amplitude of AMP / sqrt(2) for 1->2 transition\n",
    "gaussian_samples = pulse.pulse_lib.gaussian(duration=DURATION, amp=AMP / np.sqrt(2), sigma=SIGMA).samples\n",
    "schedule2 |= pulse.SamplePulse(gaussian_samples * wave_samples)(config.drive(0)) << schedule2.duration\n",
    "\n",
    "schedule2 |= measure << MEASUREMENT_START_TIMESTEP\n",
    "\n",
    "#job = q.execute(schedule, backend=backend, shots=1000, meas_level=1, meas_return='single')\n",
    "#print(job.job_id())"
   ]
  },
  {
   "cell_type": "code",
   "execution_count": 21,
   "metadata": {},
   "outputs": [
    {
     "data": {
      "text/plain": [
       "BackendStatus(backend_name='alt_almaden', backend_version='1.2.4', operational=True, pending_jobs=0, status_msg='active')"
      ]
     },
     "execution_count": 21,
     "metadata": {},
     "output_type": "execute_result"
    }
   ],
   "source": [
    "backend.status()"
   ]
  },
  {
   "cell_type": "code",
   "execution_count": 29,
   "metadata": {},
   "outputs": [
    {
     "ename": "TypeError",
     "evalue": "can only concatenate list (not \"NoneType\") to list",
     "output_type": "error",
     "traceback": [
      "\u001b[0;31m---------------------------------------------------------------------------\u001b[0m",
      "\u001b[0;31mTypeError\u001b[0m                                 Traceback (most recent call last)",
      "\u001b[0;32m<ipython-input-29-c97917cb0dc9>\u001b[0m in \u001b[0;36m<module>\u001b[0;34m\u001b[0m\n\u001b[0;32m----> 1\u001b[0;31m \u001b[0mschedule0\u001b[0m\u001b[0;34m.\u001b[0m\u001b[0mdraw\u001b[0m\u001b[0;34m(\u001b[0m\u001b[0mplot_range\u001b[0m\u001b[0;34m=\u001b[0m\u001b[0;34m[\u001b[0m\u001b[0;36m0\u001b[0m\u001b[0;34m,\u001b[0m \u001b[0;36m500\u001b[0m\u001b[0;34m]\u001b[0m\u001b[0;34m,\u001b[0m \u001b[0mchannels_to_plot\u001b[0m\u001b[0;34m=\u001b[0m\u001b[0;34m[\u001b[0m\u001b[0mconfig\u001b[0m\u001b[0;34m.\u001b[0m\u001b[0mdrive\u001b[0m\u001b[0;34m(\u001b[0m\u001b[0;36m0\u001b[0m\u001b[0;34m)\u001b[0m\u001b[0;34m]\u001b[0m\u001b[0;34m)\u001b[0m\u001b[0;34m\u001b[0m\u001b[0;34m\u001b[0m\u001b[0m\n\u001b[0m",
      "\u001b[0;32m~/Desktop/ajavadia-terra/qiskit/pulse/schedule.py\u001b[0m in \u001b[0;36mdraw\u001b[0;34m(self, dt, style, filename, interp_method, scaling, channels_to_plot, plot_all, plot_range, interactive, table, label, framechange, channels)\u001b[0m\n\u001b[1;32m    392\u001b[0m                                           \u001b[0mplot_range\u001b[0m\u001b[0;34m=\u001b[0m\u001b[0mplot_range\u001b[0m\u001b[0;34m,\u001b[0m \u001b[0minteractive\u001b[0m\u001b[0;34m=\u001b[0m\u001b[0minteractive\u001b[0m\u001b[0;34m,\u001b[0m\u001b[0;34m\u001b[0m\u001b[0;34m\u001b[0m\u001b[0m\n\u001b[1;32m    393\u001b[0m                                           \u001b[0mtable\u001b[0m\u001b[0;34m=\u001b[0m\u001b[0mtable\u001b[0m\u001b[0;34m,\u001b[0m \u001b[0mlabel\u001b[0m\u001b[0;34m=\u001b[0m\u001b[0mlabel\u001b[0m\u001b[0;34m,\u001b[0m\u001b[0;34m\u001b[0m\u001b[0;34m\u001b[0m\u001b[0m\n\u001b[0;32m--> 394\u001b[0;31m                                           framechange=framechange, channels=channels)\n\u001b[0m\u001b[1;32m    395\u001b[0m \u001b[0;34m\u001b[0m\u001b[0m\n\u001b[1;32m    396\u001b[0m     \u001b[0;32mdef\u001b[0m \u001b[0m__eq__\u001b[0m\u001b[0;34m(\u001b[0m\u001b[0mself\u001b[0m\u001b[0;34m,\u001b[0m \u001b[0mother\u001b[0m\u001b[0;34m:\u001b[0m \u001b[0mScheduleComponent\u001b[0m\u001b[0;34m)\u001b[0m \u001b[0;34m->\u001b[0m \u001b[0mbool\u001b[0m\u001b[0;34m:\u001b[0m\u001b[0;34m\u001b[0m\u001b[0;34m\u001b[0m\u001b[0m\n",
      "\u001b[0;32m~/Desktop/ajavadia-terra/qiskit/visualization/pulse_visualization.py\u001b[0m in \u001b[0;36mpulse_drawer\u001b[0;34m(data, dt, style, filename, interp_method, scaling, channels_to_plot, plot_all, plot_range, interactive, table, label, framechange, channels)\u001b[0m\n\u001b[1;32m     75\u001b[0m         image = drawer.draw(data, dt=dt, interp_method=interp_method, scaling=scaling,\n\u001b[1;32m     76\u001b[0m                             \u001b[0mplot_range\u001b[0m\u001b[0;34m=\u001b[0m\u001b[0mplot_range\u001b[0m\u001b[0;34m,\u001b[0m \u001b[0mplot_all\u001b[0m\u001b[0;34m=\u001b[0m\u001b[0mplot_all\u001b[0m\u001b[0;34m,\u001b[0m \u001b[0mtable\u001b[0m\u001b[0;34m=\u001b[0m\u001b[0mtable\u001b[0m\u001b[0;34m,\u001b[0m\u001b[0;34m\u001b[0m\u001b[0;34m\u001b[0m\u001b[0m\n\u001b[0;32m---> 77\u001b[0;31m                             label=label, framechange=framechange, channels=channels)\n\u001b[0m\u001b[1;32m     78\u001b[0m     \u001b[0;32melse\u001b[0m\u001b[0;34m:\u001b[0m\u001b[0;34m\u001b[0m\u001b[0;34m\u001b[0m\u001b[0m\n\u001b[1;32m     79\u001b[0m         \u001b[0;32mraise\u001b[0m \u001b[0mVisualizationError\u001b[0m\u001b[0;34m(\u001b[0m\u001b[0;34m'This data cannot be visualized.'\u001b[0m\u001b[0;34m)\u001b[0m\u001b[0;34m\u001b[0m\u001b[0;34m\u001b[0m\u001b[0m\n",
      "\u001b[0;32m~/Desktop/ajavadia-terra/qiskit/visualization/pulse/matplotlib.py\u001b[0m in \u001b[0;36mdraw\u001b[0;34m(self, schedule, dt, interp_method, plot_range, scaling, channels_to_plot, plot_all, table, label, framechange, channels)\u001b[0m\n\u001b[1;32m    601\u001b[0m         \u001b[0;31m# prepare waveform channels\u001b[0m\u001b[0;34m\u001b[0m\u001b[0;34m\u001b[0m\u001b[0;34m\u001b[0m\u001b[0m\n\u001b[1;32m    602\u001b[0m         (schedule_channels, output_channels,\n\u001b[0;32m--> 603\u001b[0;31m          snapshot_channels) = self._build_channels(schedule, channels_to_plot, t0, tf)\n\u001b[0m\u001b[1;32m    604\u001b[0m \u001b[0;34m\u001b[0m\u001b[0m\n\u001b[1;32m    605\u001b[0m         \u001b[0;31m# count numbers of valid waveform\u001b[0m\u001b[0;34m\u001b[0m\u001b[0;34m\u001b[0m\u001b[0;34m\u001b[0m\u001b[0m\n",
      "\u001b[0;32m~/Desktop/ajavadia-terra/qiskit/visualization/pulse/matplotlib.py\u001b[0m in \u001b[0;36m_build_channels\u001b[0;34m(self, schedule, channels_to_plot, t0, tf)\u001b[0m\n\u001b[1;32m    290\u001b[0m         \u001b[0msnapshot_channels\u001b[0m \u001b[0;34m=\u001b[0m \u001b[0mcollections\u001b[0m\u001b[0;34m.\u001b[0m\u001b[0mOrderedDict\u001b[0m\u001b[0;34m(\u001b[0m\u001b[0;34m)\u001b[0m\u001b[0;34m\u001b[0m\u001b[0;34m\u001b[0m\u001b[0m\n\u001b[1;32m    291\u001b[0m \u001b[0;34m\u001b[0m\u001b[0m\n\u001b[0;32m--> 292\u001b[0;31m         \u001b[0m_channels\u001b[0m \u001b[0;34m=\u001b[0m \u001b[0mlist\u001b[0m\u001b[0;34m(\u001b[0m\u001b[0mschedule\u001b[0m\u001b[0;34m.\u001b[0m\u001b[0mchannels\u001b[0m\u001b[0;34m)\u001b[0m \u001b[0;34m+\u001b[0m \u001b[0mchannels_to_plot\u001b[0m\u001b[0;34m\u001b[0m\u001b[0;34m\u001b[0m\u001b[0m\n\u001b[0m\u001b[1;32m    293\u001b[0m         \u001b[0m_channels\u001b[0m \u001b[0;34m=\u001b[0m \u001b[0mlist\u001b[0m\u001b[0;34m(\u001b[0m\u001b[0mset\u001b[0m\u001b[0;34m(\u001b[0m\u001b[0m_channels\u001b[0m\u001b[0;34m)\u001b[0m\u001b[0;34m)\u001b[0m\u001b[0;34m\u001b[0m\u001b[0;34m\u001b[0m\u001b[0m\n\u001b[1;32m    294\u001b[0m \u001b[0;34m\u001b[0m\u001b[0m\n",
      "\u001b[0;31mTypeError\u001b[0m: can only concatenate list (not \"NoneType\") to list"
     ]
    },
    {
     "data": {
      "text/plain": [
       "<Figure size 432x288 with 0 Axes>"
      ]
     },
     "metadata": {},
     "output_type": "display_data"
    }
   ],
   "source": [
    "schedule0.draw(plot_range=[0, 500], channels_to_plot=[config.drive(0)])"
   ]
  },
  {
   "cell_type": "code",
   "execution_count": 16,
   "metadata": {},
   "outputs": [
    {
     "data": {
      "image/png": "[encoded data removed]",
      "text/plain": [
       "<Figure size 504x360 with 1 Axes>"
      ]
     },
     "execution_count": 16,
     "metadata": {},
     "output_type": "execute_result"
    }
   ],
   "source": [
    "cmd_def.get('x', qubits=[0]).instructions[0][1].command.draw(scaling=0.18)"
   ]
  },
  {
   "cell_type": "code",
   "execution_count": 17,
   "metadata": {
    "scrolled": false
   },
   "outputs": [
    {
     "data": {
      "text/plain": [
       "array([ 0.00084972 -7.85212469e-05j,  0.00173157 -8.14578598e-05j,\n",
       "        0.00264603 -8.44378010e-05j,  0.00359357 -8.74574980e-05j,\n",
       "        0.00457460 -9.05131237e-05j,  0.00558950 -9.36005599e-05j,\n",
       "        0.00663860 -9.67153974e-05j,  0.00772216 -9.98529649e-05j,\n",
       "        0.00884042 -1.03008308e-04j,  0.00999354 -1.06176194e-04j,\n",
       "        0.01118164 -1.09351116e-04j,  0.01240474 -1.12527312e-04j,\n",
       "        0.01366285 -1.15698749e-04j,  0.01495586 -1.18859149e-04j,\n",
       "        0.01628363 -1.22001991e-04j,  0.01764592 -1.25120525e-04j,\n",
       "        0.01904243 -1.28207772e-04j,  0.02047276 -1.31256544e-04j,\n",
       "        0.02193647 -1.34259491e-04j,  0.02343299 -1.37209034e-04j,\n",
       "        0.02496171 -1.40097487e-04j,  0.02652189 -1.42916993e-04j,\n",
       "        0.02811275 -1.45659564e-04j,  0.02973338 -1.48317151e-04j,\n",
       "        0.03138280 -1.50881577e-04j,  0.03305995 -1.53344634e-04j,\n",
       "        0.03476365 -1.55698101e-04j,  0.03649266 -1.57933711e-04j,\n",
       "        0.03824563 -1.60043244e-04j,  0.04002113 -1.62018507e-04j,\n",
       "        0.04181762 -1.63851393e-04j,  0.04363350 -1.65533900e-04j,\n",
       "        0.04546706 -1.67058141e-04j,  0.04731653 -1.68416402e-04j,\n",
       "        0.04918001 -1.69601160e-04j,  0.05105557 -1.70605083e-04j,\n",
       "        0.05294117 -1.71421110e-04j,  0.05483469 -1.72042463e-04j,\n",
       "        0.05673397 -1.72462649e-04j,  0.05863674 -1.72675514e-04j,\n",
       "        0.06054068 -1.72675296e-04j,  0.06244343 -1.72456581e-04j,\n",
       "        0.06434254 -1.72014392e-04j,  0.06623551 -1.71344218e-04j,\n",
       "        0.06811982 -1.70441970e-04j,  0.06999289 -1.69304112e-04j,\n",
       "        0.07185211 -1.67927559e-04j,  0.07369482 -1.66309794e-04j,\n",
       "        0.07551835 -1.64448880e-04j,  0.07732002 -1.62343407e-04j,\n",
       "        0.07909712 -1.59992589e-04j,  0.08084696 -1.57396222e-04j,\n",
       "        0.08256681 -1.54554727e-04j,  0.08425400 -1.51469154e-04j,\n",
       "        0.08590582 -1.48141175e-04j,  0.08751963 -1.44573118e-04j,\n",
       "        0.08909279 -1.40767923e-04j,  0.09062271 -1.36729228e-04j,\n",
       "        0.09210683 -1.32461253e-04j,  0.09354266 -1.27968873e-04j,\n",
       "        0.09492774 -1.23257632e-04j,  0.09625971 -1.18333621e-04j,\n",
       "        0.09753624 -1.13203612e-04j,  0.09875512 -1.07874941e-04j,\n",
       "        0.09991419 -1.02355523e-04j,  0.10101140 -9.66538355e-05j,\n",
       "        0.10204477 -9.07788999e-05j,  0.10301246 -8.47402625e-05j,\n",
       "        0.10391273 -7.85479497e-05j,  0.10474393 -7.22124532e-05j,\n",
       "        0.10550453 -6.57446944e-05j,  0.10619316 -5.91560201e-05j,\n",
       "        0.10680852 -5.24581264e-05j,  0.10734950 -4.56630478e-05j,\n",
       "        0.10781508 -3.87831278e-05j,  0.10820440 -3.18309685e-05j,\n",
       "        0.10851674 -2.48193901e-05j,  0.10875150 -1.77614074e-05j,\n",
       "        0.10890825 -1.06701737e-05j,  0.10898671 -3.55894826e-06j,\n",
       "        0.10898671 +3.55894826e-06j,  0.10890825 +1.06701737e-05j,\n",
       "        0.10875150 +1.77614074e-05j,  0.10851674 +2.48193901e-05j,\n",
       "        0.10820440 +3.18309685e-05j,  0.10781508 +3.87831278e-05j,\n",
       "        0.10734950 +4.56630478e-05j,  0.10680852 +5.24581264e-05j,\n",
       "        0.10619316 +5.91560201e-05j,  0.10550453 +6.57446944e-05j,\n",
       "        0.10474393 +7.22124532e-05j,  0.10391273 +7.85479497e-05j,\n",
       "        0.10301246 +8.47402625e-05j,  0.10204477 +9.07788999e-05j,\n",
       "        0.10101140 +9.66538355e-05j,  0.09991419 +1.02355523e-04j,\n",
       "        0.09875512 +1.07874941e-04j,  0.09753624 +1.13203612e-04j,\n",
       "        0.09625971 +1.18333621e-04j,  0.09492774 +1.23257632e-04j,\n",
       "        0.09354266 +1.27968873e-04j,  0.09210683 +1.32461253e-04j,\n",
       "        0.09062271 +1.36729228e-04j,  0.08909279 +1.40767923e-04j,\n",
       "        0.08751963 +1.44573118e-04j,  0.08590582 +1.48141175e-04j,\n",
       "        0.08425400 +1.51469154e-04j,  0.08256681 +1.54554727e-04j,\n",
       "        0.08084696 +1.57396222e-04j,  0.07909712 +1.59992589e-04j,\n",
       "        0.07732002 +1.62343407e-04j,  0.07551835 +1.64448880e-04j,\n",
       "        0.07369482 +1.66309794e-04j,  0.07185211 +1.67927559e-04j,\n",
       "        0.06999289 +1.69304112e-04j,  0.06811982 +1.70441970e-04j,\n",
       "        0.06623551 +1.71344218e-04j,  0.06434254 +1.72014392e-04j,\n",
       "        0.06244343 +1.72456581e-04j,  0.06054068 +1.72675296e-04j,\n",
       "        0.05863674 +1.72675514e-04j,  0.05673397 +1.72462649e-04j,\n",
       "        0.05483469 +1.72042463e-04j,  0.05294117 +1.71421110e-04j,\n",
       "        0.05105557 +1.70605083e-04j,  0.04918001 +1.69601160e-04j,\n",
       "        0.04731653 +1.68416402e-04j,  0.04546706 +1.67058141e-04j,\n",
       "        0.04363350 +1.65533900e-04j,  0.04181762 +1.63851393e-04j,\n",
       "        0.04002113 +1.62018507e-04j,  0.03824563 +1.60043244e-04j,\n",
       "        0.03649266 +1.57933711e-04j,  0.03476365 +1.55698101e-04j,\n",
       "        0.03305995 +1.53344634e-04j,  0.03138280 +1.50881577e-04j,\n",
       "        0.02973338 +1.48317151e-04j,  0.02811275 +1.45659564e-04j,\n",
       "        0.02652189 +1.42916993e-04j,  0.02496171 +1.40097487e-04j,\n",
       "        0.02343299 +1.37209034e-04j,  0.02193647 +1.34259491e-04j,\n",
       "        0.02047276 +1.31256544e-04j,  0.01904243 +1.28207772e-04j,\n",
       "        0.01764592 +1.25120525e-04j,  0.01628363 +1.22001991e-04j,\n",
       "        0.01495586 +1.18859149e-04j,  0.01366285 +1.15698749e-04j,\n",
       "        0.01240474 +1.12527312e-04j,  0.01118164 +1.09351116e-04j,\n",
       "        0.00999354 +1.06176194e-04j,  0.00884042 +1.03008308e-04j,\n",
       "        0.00772216 +9.98529649e-05j,  0.00663860 +9.67153974e-05j,\n",
       "        0.00558950 +9.36005599e-05j,  0.00457460 +9.05131237e-05j,\n",
       "        0.00359357 +8.74574980e-05j,  0.00264603 +8.44378010e-05j,\n",
       "        0.00173157 +8.14578598e-05j,  0.00084972 +7.85212469e-05j])"
      ]
     },
     "execution_count": 17,
     "metadata": {},
     "output_type": "execute_result"
    }
   ],
   "source": [
    "cmd_def.get('x', qubits=[0]).instructions[0][1].command.samples"
   ]
  },
  {
   "cell_type": "code",
   "execution_count": 31,
   "metadata": {},
   "outputs": [],
   "source": [
    "job = execute([schedule0, schedule1, schedule2], backend=backend, shots=1000, meas_level=1, meas_return='single')"
   ]
  },
  {
   "cell_type": "code",
   "execution_count": 32,
   "metadata": {},
   "outputs": [
    {
     "data": {
      "text/plain": [
       "<JobStatus.VALIDATING: 'job is being validated'>"
      ]
     },
     "execution_count": 32,
     "metadata": {},
     "output_type": "execute_result"
    }
   ],
   "source": [
    "job.status()"
   ]
  },
  {
   "cell_type": "code",
   "execution_count": null,
   "metadata": {},
   "outputs": [],
   "source": [
    "for j in backend.jobs(limit=3):\n",
    "    print(j.job_id())\n",
    "    print(j.status())"
   ]
  },
  {
   "cell_type": "code",
   "execution_count": null,
   "metadata": {},
   "outputs": [],
   "source": []
  },
  {
   "cell_type": "code",
   "execution_count": null,
   "metadata": {},
   "outputs": [],
   "source": [
    "%matplotlib inline\n",
    "fig, axes = plt.subplots(1, 3)\n",
    "i = 0\n",
    "fig.set_size_inches(14,7)\n",
    "\n",
    "for (job, title) in zip(backend.jobs(limit=3), ['X, then 1->2, then measure', 'X, then measure', 'Just measure']):\n",
    "    result = job.result()\n",
    "    memory_shots = result.get_memory()\n",
    "    qubit_0_readouts = [memory_shot[0] for memory_shot in memory_shots]\n",
    "\n",
    "    ax = axes[i]\n",
    "    ax.set_title(title, fontsize=16)\n",
    "    ax.set_xlabel('I (a.u.)', fontsize=16)\n",
    "    ax.set_ylabel('Q (a.u.)', fontsize=16)\n",
    "    ax.scatter(np.real(qubit_0_readouts) * 1e-10, np.imag(qubit_0_readouts) * 1e-10,\n",
    "               s=1, cmap='viridis',c='blue',alpha=0.5)\n",
    "    i += 1"
   ]
  },
  {
   "cell_type": "code",
   "execution_count": null,
   "metadata": {
    "scrolled": false
   },
   "outputs": [],
   "source": [
    "schedule.draw(plot_range=(0, 1000))"
   ]
  },
  {
   "cell_type": "code",
   "execution_count": null,
   "metadata": {
    "scrolled": false
   },
   "outputs": [],
   "source": [
    "backend.properties().gates[7]"
   ]
  },
  {
   "cell_type": "code",
   "execution_count": null,
   "metadata": {},
   "outputs": [],
   "source": [
    "import json\n",
    "with open(\"/Users/alijavadi/Desktop/ajavadia-terra/qiskit/test/mock/config_burlington.json\", \"w+\") as f:\n",
    "    json.dump(backend.configuration().to_dict(), f)"
   ]
  },
  {
   "cell_type": "code",
   "execution_count": null,
   "metadata": {},
   "outputs": [],
   "source": [
    "config.hamiltonian"
   ]
  },
  {
   "cell_type": "code",
   "execution_count": null,
   "metadata": {},
   "outputs": [],
   "source": [
    "backend"
   ]
  },
  {
   "cell_type": "code",
   "execution_count": null,
   "metadata": {},
   "outputs": [],
   "source": []
  }
 ],
 "metadata": {
  "kernelspec": {
   "display_name": "Python 3",
   "language": "python",
   "name": "python3"
  },
  "language_info": {
   "codemirror_mode": {
    "name": "ipython",
    "version": 3
   },
   "file_extension": ".py",
   "mimetype": "text/x-python",
   "name": "python",
   "nbconvert_exporter": "python",
   "pygments_lexer": "ipython3",
   "version": "3.6.9"
  }
 },
 "nbformat": 4,
 "nbformat_minor": 2
}
