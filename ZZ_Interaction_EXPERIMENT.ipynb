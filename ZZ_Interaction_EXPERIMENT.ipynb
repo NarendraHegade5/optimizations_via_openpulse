{
 "cells": [
  {
   "cell_type": "code",
   "execution_count": null,
   "metadata": {},
   "outputs": [],
   "source": [
    "import numpy as np\n",
    "import time\n",
    "from collections import namedtuple\n",
    "import matplotlib.pyplot as plt\n",
    "%matplotlib inline"
   ]
  },
  {
   "cell_type": "code",
   "execution_count": null,
   "metadata": {},
   "outputs": [],
   "source": [
    "import qiskit as q\n",
    "import qiskit.tools.jupyter\n",
    "from qiskit.pulse import pulse_lib as _  # only want to call pulse_lib as q.pulse.pulse_lib"
   ]
  },
  {
   "cell_type": "code",
   "execution_count": null,
   "metadata": {},
   "outputs": [],
   "source": [
    "import pulse_compiler_helper_fns"
   ]
  },
  {
   "cell_type": "code",
   "execution_count": null,
   "metadata": {},
   "outputs": [],
   "source": [
    "q.IBMQ.load_account() # Load account from disk"
   ]
  },
  {
   "cell_type": "code",
   "execution_count": null,
   "metadata": {},
   "outputs": [],
   "source": [
    "provider = q.IBMQ.get_provider(group='qiskit-terra', project='pulse-testing')\n",
    "backend = provider.get_backend('alt_almaden')\n",
    "system = q.pulse.PulseChannelSpec.from_backend(backend)\n",
    "cmd_def = q.pulse.CmdDef.from_defaults(backend.defaults().cmd_def, backend.defaults().pulse_library)\n",
    "measure = cmd_def.get('measure', qubits=backend.configuration().meas_map[0])"
   ]
  },
  {
   "cell_type": "code",
   "execution_count": null,
   "metadata": {},
   "outputs": [],
   "source": [
    "thetas = np.linspace(0, np.pi/2, 20, endpoint=False)\n",
    "print(thetas)"
   ]
  },
  {
   "cell_type": "markdown",
   "metadata": {},
   "source": [
    "-------\n",
    "## Standard Way: Cnot RZ Cnot"
   ]
  },
  {
   "cell_type": "code",
   "execution_count": null,
   "metadata": {},
   "outputs": [],
   "source": [
    "schedules = []\n",
    "for theta in thetas:\n",
    "    circuit = q.QuantumCircuit(2)\n",
    "    circuit.h(0)\n",
    "    circuit.h(1)\n",
    "    circuit.cx(0, 1)\n",
    "    circuit.rx(theta, 1)\n",
    "    circuit.cx(0, 1)\n",
    "    circuit.h(0)\n",
    "    circuit.h(1)\n",
    "\n",
    "    decomposed_circuit = circuit.decompose()\n",
    "\n",
    "    pulse_compiler_helper_fns.update_basis_gates_and_cmd_def(decomposed_circuit, backend, system, cmd_def)\n",
    "    transpiled_circuit = q.transpile(decomposed_circuit, backend, optimization_level=1)\n",
    "\n",
    "    schedule = q.schedule(transpiled_circuit, backend=backend, cmd_def=cmd_def)\n",
    "    schedule |= measure << schedule.duration\n",
    "    schedules.append(schedule)"
   ]
  },
  {
   "cell_type": "code",
   "execution_count": null,
   "metadata": {},
   "outputs": [],
   "source": [
    "shots = 1000\n",
    "standard_job = q.execute(schedules, backend=backend, shots=shots)\n",
    "print('job is %s' % standard_job.job_id())"
   ]
  },
  {
   "cell_type": "markdown",
   "metadata": {},
   "source": [
    "-------\n",
    "## Optimized Way Way: zz_interaction decomposes directly to cross resonance"
   ]
  },
  {
   "cell_type": "code",
   "execution_count": null,
   "metadata": {},
   "outputs": [],
   "source": [
    "schedules = []\n",
    "for theta in thetas:\n",
    "    circuit = q.QuantumCircuit(2)\n",
    "    circuit.h(0)\n",
    "    circuit.h(1)\n",
    "    circuit.zz_interaction(theta, 0, 1)\n",
    "    circuit.h(0)\n",
    "    circuit.h(1)\n",
    "\n",
    "    decomposed_circuit = circuit.decompose()\n",
    "\n",
    "    pulse_compiler_helper_fns.update_basis_gates_and_cmd_def(decomposed_circuit, backend, system, cmd_def)\n",
    "    transpiled_circuit = q.transpile(decomposed_circuit, backend, optimization_level=1)\n",
    "\n",
    "    schedule = q.schedule(transpiled_circuit, backend=backend, cmd_def=cmd_def)\n",
    "    schedule |= measure << schedule.duration\n",
    "    schedules.append(schedule)"
   ]
  },
  {
   "cell_type": "code",
   "execution_count": null,
   "metadata": {},
   "outputs": [],
   "source": [
    "shots = 1000\n",
    "optimized_job = q.execute(schedules, backend=backend, shots=shots)\n",
    "print('job is %s' % optimized_job.job_id())"
   ]
  },
  {
   "cell_type": "markdown",
   "metadata": {},
   "source": [
    "-----\n",
    "## Analysis"
   ]
  },
  {
   "cell_type": "code",
   "execution_count": null,
   "metadata": {},
   "outputs": [],
   "source": [
    "from qiskit.ignis.verification.tomography.data import marginal_counts"
   ]
  },
  {
   "cell_type": "code",
   "execution_count": null,
   "metadata": {},
   "outputs": [],
   "source": [
    "result = standard_job.result()\n",
    "standard_counts_list = []\n",
    "for i in range(len(thetas)):\n",
    "    counts = marginal_counts(result.get_counts(i), meas_qubits=[0,1])    \n",
    "    standard_counts_list.append(counts)\n",
    "print(standard_counts_list)"
   ]
  },
  {
   "cell_type": "code",
   "execution_count": null,
   "metadata": {},
   "outputs": [],
   "source": [
    "result = optimized_job.result()\n",
    "optimized_counts_list = []\n",
    "for i in range(len(thetas)):\n",
    "    counts = marginal_counts(result.get_counts(i), meas_qubits=[0,1])    \n",
    "    optimized_counts_list.append(counts)\n",
    "print(optimized_counts_list)"
   ]
  },
  {
   "cell_type": "code",
   "execution_count": null,
   "metadata": {},
   "outputs": [],
   "source": [
    "# # infer output state vectors, up to phase of each element (phase won't matter for overlap calculation)\n",
    "# standard_state_vectors = []\n",
    "# for counts in standard_counts_list:\n",
    "#         standard_state_vectors.append(np.array([\n",
    "#             np.sqrt(counts.get('00', 0)/shots),\n",
    "#             np.sqrt(counts.get('01', 0)/shots),\n",
    "#             np.sqrt(counts.get('10', 0)/shots),\n",
    "#             np.sqrt(counts.get('11', 0)/shots)]))"
   ]
  },
  {
   "cell_type": "code",
   "execution_count": null,
   "metadata": {},
   "outputs": [],
   "source": [
    "# optimized_state_vectors = []\n",
    "# for counts in standard_counts_list:\n",
    "#         standard_state_vectors.append(np.array([\n",
    "#             np.sqrt(counts.get('00', 0)/shots),\n",
    "#             np.sqrt(counts.get('01', 0)/shots),\n",
    "#             np.sqrt(counts.get('10', 0)/shots),\n",
    "#             np.sqrt(counts.get('11', 0)/shots)]))"
   ]
  },
  {
   "cell_type": "code",
   "execution_count": null,
   "metadata": {},
   "outputs": [],
   "source": [
    "# pranav can add fidelity plotting cells below here"
   ]
  }
 ],
 "metadata": {
  "kernelspec": {
   "display_name": "Python 3",
   "language": "python",
   "name": "python3"
  },
  "language_info": {
   "codemirror_mode": {
    "name": "ipython",
    "version": 3
   },
   "file_extension": ".py",
   "mimetype": "text/x-python",
   "name": "python",
   "nbconvert_exporter": "python",
   "pygments_lexer": "ipython3",
   "version": "3.7.3"
  }
 },
 "nbformat": 4,
 "nbformat_minor": 2
}
