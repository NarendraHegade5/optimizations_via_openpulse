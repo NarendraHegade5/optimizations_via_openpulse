{
 "cells": [
  {
   "cell_type": "code",
   "execution_count": 1,
   "metadata": {},
   "outputs": [],
   "source": [
    "import numpy as np\n",
    "import time\n",
    "from collections import namedtuple\n",
    "import matplotlib.pyplot as plt\n",
    "%matplotlib inline"
   ]
  },
  {
   "cell_type": "code",
   "execution_count": 2,
   "metadata": {},
   "outputs": [],
   "source": [
    "import qiskit as q\n",
    "import qiskit.tools.jupyter\n",
    "from qiskit.pulse import pulse_lib as _  # only want to call pulse_lib as q.pulse.pulse_lib"
   ]
  },
  {
   "cell_type": "code",
   "execution_count": 3,
   "metadata": {},
   "outputs": [],
   "source": [
    "import pulse_compiler_helper_fns"
   ]
  },
  {
   "cell_type": "code",
   "execution_count": 4,
   "metadata": {},
   "outputs": [
    {
     "data": {
      "text/plain": [
       "<AccountProvider for IBMQ(hub='ibm-q', group='open', project='main')>"
      ]
     },
     "execution_count": 4,
     "metadata": {},
     "output_type": "execute_result"
    }
   ],
   "source": [
    "q.IBMQ.load_account() # Load account from disk"
   ]
  },
  {
   "cell_type": "code",
   "execution_count": 5,
   "metadata": {},
   "outputs": [
    {
     "name": "stderr",
     "output_type": "stream",
     "text": [
      "/Users/alijavadi/Desktop/ajavadia-terra/qiskit/pulse/channels/pulse_channel_spec.py:87: DeprecationWarning: The PulseChannelSpec is deprecated. Use backend.configuration() instead. The supported methods require some migrations; check out the release notes for the complete details.\n",
      "  DeprecationWarning)\n"
     ]
    }
   ],
   "source": [
    "provider = q.IBMQ.get_provider(group='qiskit-terra', project='pulse-testing')\n",
    "backend = provider.get_backend('alt_almaden')\n",
    "system = q.pulse.PulseChannelSpec.from_backend(backend)\n",
    "cmd_def = q.pulse.CmdDef.from_defaults(backend.defaults().cmd_def, backend.defaults().pulse_library)\n",
    "measure = cmd_def.get('measure', qubits=backend.configuration().meas_map[0])"
   ]
  },
  {
   "cell_type": "code",
   "execution_count": 6,
   "metadata": {},
   "outputs": [
    {
     "name": "stdout",
     "output_type": "stream",
     "text": [
      "[0.         0.07853982 0.15707963 0.23561945 0.31415927 0.39269908\n",
      " 0.4712389  0.54977871 0.62831853 0.70685835 0.78539816 0.86393798\n",
      " 0.9424778  1.02101761 1.09955743 1.17809725 1.25663706 1.33517688\n",
      " 1.41371669 1.49225651]\n"
     ]
    }
   ],
   "source": [
    "thetas = np.linspace(0, np.pi/2, 20, endpoint=False)\n",
    "print(thetas)"
   ]
  },
  {
   "cell_type": "code",
   "execution_count": 7,
   "metadata": {},
   "outputs": [],
   "source": [
    "schedules = []\n",
    "for theta in thetas:\n",
    "    circuit = q.QuantumCircuit(2)\n",
    "    circuit.h(0)\n",
    "    circuit.h(1)\n",
    "    circuit.zz_interaction(theta, 0, 1)\n",
    "    circuit.h(0)\n",
    "    circuit.h(1)\n",
    "\n",
    "    decomposed_circuit = circuit.decompose()\n",
    "\n",
    "    pulse_compiler_helper_fns.update_basis_gates_and_cmd_def(decomposed_circuit, backend, system, cmd_def)\n",
    "    transpiled_circuit = q.transpile(decomposed_circuit, backend, optimization_level=1)\n",
    "\n",
    "    schedule = q.schedule(transpiled_circuit, backend=backend, cmd_def=cmd_def)\n",
    "    schedule |= measure << schedule.duration\n",
    "    schedules.append(schedule)"
   ]
  },
  {
   "cell_type": "code",
   "execution_count": 8,
   "metadata": {},
   "outputs": [
    {
     "name": "stdout",
     "output_type": "stream",
     "text": [
      "job is 5dd702a6a903af00180af98d\n"
     ]
    },
    {
     "name": "stderr",
     "output_type": "stream",
     "text": [
      "/anaconda3/lib/python3.6/site-packages/ipywidgets/widgets/widget_layout.py:84: DeprecationWarning: Layout properties overflow_x and overflow_y have been deprecated and will be dropped in a future release. Please use the overflow shorthand property instead\n",
      "  warnings.warn(\"Layout properties overflow_x and overflow_y have been deprecated and will be dropped in a future release. Please use the overflow shorthand property instead\", DeprecationWarning)\n"
     ]
    }
   ],
   "source": [
    "shots = 1000\n",
    "job = q.execute(schedules, backend=backend, shots=shots)\n",
    "print('job is %s' % job.job_id())"
   ]
  },
  {
   "cell_type": "code",
   "execution_count": 10,
   "metadata": {
    "scrolled": true
   },
   "outputs": [
    {
     "data": {
      "text/plain": [
       "<JobStatus.DONE: 'job has successfully run'>"
      ]
     },
     "execution_count": 10,
     "metadata": {},
     "output_type": "execute_result"
    }
   ],
   "source": [
    "job.status()"
   ]
  },
  {
   "cell_type": "code",
   "execution_count": 11,
   "metadata": {},
   "outputs": [],
   "source": [
    "result = job.result()"
   ]
  },
  {
   "cell_type": "code",
   "execution_count": 12,
   "metadata": {},
   "outputs": [],
   "source": [
    "from qiskit.ignis.verification.tomography.data import marginal_counts"
   ]
  },
  {
   "cell_type": "code",
   "execution_count": 13,
   "metadata": {},
   "outputs": [
    {
     "name": "stdout",
     "output_type": "stream",
     "text": [
      "{'00': 958, '01': 30, '10': 11, '11': 1}\n",
      "{'00': 942, '01': 33, '10': 16, '11': 9}\n",
      "{'00': 955, '01': 24, '10': 4, '11': 17}\n",
      "{'00': 911, '01': 45, '10': 14, '11': 30}\n",
      "{'00': 884, '01': 29, '10': 16, '11': 71}\n",
      "{'00': 861, '01': 30, '10': 19, '11': 90}\n",
      "{'00': 800, '01': 27, '10': 36, '11': 137}\n",
      "{'00': 786, '01': 38, '10': 27, '11': 149}\n",
      "{'00': 770, '01': 43, '10': 21, '11': 166}\n",
      "{'00': 692, '01': 42, '10': 31, '11': 235}\n",
      "{'00': 665, '01': 48, '10': 35, '11': 252}\n",
      "{'00': 628, '01': 50, '10': 44, '11': 278}\n",
      "{'00': 636, '01': 40, '10': 38, '11': 286}\n",
      "{'00': 605, '01': 51, '10': 47, '11': 297}\n",
      "{'00': 598, '01': 55, '10': 37, '11': 310}\n",
      "{'00': 520, '01': 58, '10': 60, '11': 362}\n",
      "{'00': 498, '01': 60, '10': 62, '11': 380}\n",
      "{'00': 516, '01': 55, '10': 38, '11': 391}\n",
      "{'00': 517, '01': 64, '10': 53, '11': 366}\n",
      "{'00': 514, '01': 57, '10': 44, '11': 385}\n"
     ]
    }
   ],
   "source": [
    "counts_list = []\n",
    "for i in range(len(thetas)):\n",
    "    counts = marginal_counts(result.get_counts(i), meas_qubits=[0,1])    \n",
    "    counts_list.append(counts)\n",
    "    print(counts)"
   ]
  },
  {
   "cell_type": "code",
   "execution_count": 14,
   "metadata": {},
   "outputs": [
    {
     "name": "stdout",
     "output_type": "stream",
     "text": [
      "[{'00': 958, '01': 30, '10': 11, '11': 1}, {'00': 942, '01': 33, '10': 16, '11': 9}, {'00': 955, '01': 24, '10': 4, '11': 17}, {'00': 911, '01': 45, '10': 14, '11': 30}, {'00': 884, '01': 29, '10': 16, '11': 71}, {'00': 861, '01': 30, '10': 19, '11': 90}, {'00': 800, '01': 27, '10': 36, '11': 137}, {'00': 786, '01': 38, '10': 27, '11': 149}, {'00': 770, '01': 43, '10': 21, '11': 166}, {'00': 692, '01': 42, '10': 31, '11': 235}, {'00': 665, '01': 48, '10': 35, '11': 252}, {'00': 628, '01': 50, '10': 44, '11': 278}, {'00': 636, '01': 40, '10': 38, '11': 286}, {'00': 605, '01': 51, '10': 47, '11': 297}, {'00': 598, '01': 55, '10': 37, '11': 310}, {'00': 520, '01': 58, '10': 60, '11': 362}, {'00': 498, '01': 60, '10': 62, '11': 380}, {'00': 516, '01': 55, '10': 38, '11': 391}, {'00': 517, '01': 64, '10': 53, '11': 366}, {'00': 514, '01': 57, '10': 44, '11': 385}]\n"
     ]
    }
   ],
   "source": [
    "print(counts_list)"
   ]
  },
  {
   "cell_type": "code",
   "execution_count": null,
   "metadata": {},
   "outputs": [],
   "source": []
  }
 ],
 "metadata": {
  "kernelspec": {
   "display_name": "Python 3",
   "language": "python",
   "name": "python3"
  },
  "language_info": {
   "codemirror_mode": {
    "name": "ipython",
    "version": 3
   },
   "file_extension": ".py",
   "mimetype": "text/x-python",
   "name": "python",
   "nbconvert_exporter": "python",
   "pygments_lexer": "ipython3",
   "version": "3.6.9"
  }
 },
 "nbformat": 4,
 "nbformat_minor": 2
}
