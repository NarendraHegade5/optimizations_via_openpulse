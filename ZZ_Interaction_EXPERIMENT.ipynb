{
 "cells": [
  {
   "cell_type": "code",
   "execution_count": 1,
   "metadata": {},
   "outputs": [],
   "source": [
    "import numpy as np\n",
    "import time\n",
    "from collections import namedtuple\n",
    "import matplotlib.pyplot as plt\n",
    "%matplotlib inline"
   ]
  },
  {
   "cell_type": "code",
   "execution_count": 2,
   "metadata": {},
   "outputs": [],
   "source": [
    "import qiskit as q\n",
    "import qiskit.tools.jupyter\n",
    "from qiskit.pulse import pulse_lib as _  # only want to call pulse_lib as q.pulse.pulse_lib"
   ]
  },
  {
   "cell_type": "code",
   "execution_count": 3,
   "metadata": {},
   "outputs": [],
   "source": [
    "import pulse_compiler_helper_fns"
   ]
  },
  {
   "cell_type": "code",
   "execution_count": 4,
   "metadata": {},
   "outputs": [
    {
     "data": {
      "text/plain": [
       "<AccountProvider for IBMQ(hub='ibm-q', group='open', project='main')>"
      ]
     },
     "execution_count": 4,
     "metadata": {},
     "output_type": "execute_result"
    }
   ],
   "source": [
    "q.IBMQ.load_account() # Load account from disk"
   ]
  },
  {
   "cell_type": "code",
   "execution_count": 5,
   "metadata": {},
   "outputs": [
    {
     "name": "stderr",
     "output_type": "stream",
     "text": [
      "/Users/alijavadi/Desktop/ajavadia-terra/qiskit/pulse/channels/pulse_channel_spec.py:87: DeprecationWarning: The PulseChannelSpec is deprecated. Use backend.configuration() instead. The supported methods require some migrations; check out the release notes for the complete details.\n",
      "  DeprecationWarning)\n"
     ]
    }
   ],
   "source": [
    "provider = q.IBMQ.get_provider(group='qiskit-terra', project='pulse-testing')\n",
    "backend = provider.get_backend('alt_almaden')\n",
    "system = q.pulse.PulseChannelSpec.from_backend(backend)\n",
    "cmd_def = q.pulse.CmdDef.from_defaults(backend.defaults().cmd_def, backend.defaults().pulse_library)\n",
    "measure = cmd_def.get('measure', qubits=backend.configuration().meas_map[0])"
   ]
  },
  {
   "cell_type": "code",
   "execution_count": 6,
   "metadata": {},
   "outputs": [
    {
     "name": "stdout",
     "output_type": "stream",
     "text": [
      "[0.         0.07853982 0.15707963 0.23561945 0.31415927 0.39269908\n",
      " 0.4712389  0.54977871 0.62831853 0.70685835 0.78539816 0.86393798\n",
      " 0.9424778  1.02101761 1.09955743 1.17809725 1.25663706 1.33517688\n",
      " 1.41371669 1.49225651]\n"
     ]
    }
   ],
   "source": [
    "thetas = np.linspace(0, np.pi/2, 20, endpoint=False)\n",
    "print(thetas)"
   ]
  },
  {
   "cell_type": "code",
   "execution_count": 7,
   "metadata": {},
   "outputs": [],
   "source": [
    "schedules = []\n",
    "for theta in thetas:\n",
    "    circuit = q.QuantumCircuit(2)\n",
    "    circuit.h(0)\n",
    "    circuit.h(1)\n",
    "    circuit.zz_interaction(theta, 0, 1)\n",
    "    circuit.h(0)\n",
    "    circuit.h(1)\n",
    "\n",
    "    decomposed_circuit = circuit.decompose()\n",
    "\n",
    "    pulse_compiler_helper_fns.update_basis_gates_and_cmd_def(decomposed_circuit, backend, system, cmd_def)\n",
    "    transpiled_circuit = q.transpile(decomposed_circuit, backend, optimization_level=1)\n",
    "\n",
    "    schedule = q.schedule(transpiled_circuit, backend=backend, cmd_def=cmd_def)\n",
    "    schedule |= measure << schedule.duration\n",
    "    schedules.append(schedule)"
   ]
  },
  {
   "cell_type": "code",
   "execution_count": 8,
   "metadata": {},
   "outputs": [
    {
     "name": "stdout",
     "output_type": "stream",
     "text": [
      "job is 5dd6d997fa67c10018ceb194\n"
     ]
    },
    {
     "name": "stderr",
     "output_type": "stream",
     "text": [
      "/anaconda3/lib/python3.6/site-packages/ipywidgets/widgets/widget_layout.py:84: DeprecationWarning: Layout properties overflow_x and overflow_y have been deprecated and will be dropped in a future release. Please use the overflow shorthand property instead\n",
      "  warnings.warn(\"Layout properties overflow_x and overflow_y have been deprecated and will be dropped in a future release. Please use the overflow shorthand property instead\", DeprecationWarning)\n"
     ]
    }
   ],
   "source": [
    "shots = 1000\n",
    "job = q.execute(schedules, backend=backend, shots=shots)\n",
    "print('job is %s' % job.job_id())"
   ]
  },
  {
   "cell_type": "code",
   "execution_count": 18,
   "metadata": {
    "scrolled": true
   },
   "outputs": [
    {
     "data": {
      "text/plain": [
       "<JobStatus.DONE: 'job has successfully run'>"
      ]
     },
     "execution_count": 18,
     "metadata": {},
     "output_type": "execute_result"
    }
   ],
   "source": [
    "job.status()"
   ]
  },
  {
   "cell_type": "code",
   "execution_count": 19,
   "metadata": {},
   "outputs": [],
   "source": [
    "result = job.result()"
   ]
  },
  {
   "cell_type": "code",
   "execution_count": 20,
   "metadata": {},
   "outputs": [],
   "source": [
    "from qiskit.ignis.verification.tomography.data import marginal_counts"
   ]
  },
  {
   "cell_type": "code",
   "execution_count": 21,
   "metadata": {},
   "outputs": [
    {
     "name": "stdout",
     "output_type": "stream",
     "text": [
      "{'00': 954, '01': 28, '10': 14, '11': 4}\n",
      "{'00': 946, '01': 28, '10': 17, '11': 9}\n",
      "{'00': 931, '01': 40, '10': 12, '11': 17}\n",
      "{'00': 874, '01': 67, '10': 20, '11': 39}\n",
      "{'00': 867, '01': 45, '10': 22, '11': 66}\n",
      "{'00': 820, '01': 69, '10': 22, '11': 89}\n",
      "{'00': 777, '01': 89, '10': 30, '11': 104}\n",
      "{'00': 741, '01': 98, '10': 28, '11': 133}\n",
      "{'00': 691, '01': 104, '10': 46, '11': 159}\n",
      "{'00': 618, '01': 143, '10': 45, '11': 194}\n",
      "{'00': 600, '01': 137, '10': 65, '11': 198}\n",
      "{'00': 535, '01': 145, '10': 78, '11': 242}\n",
      "{'00': 517, '01': 183, '10': 84, '11': 216}\n",
      "{'00': 448, '01': 200, '10': 93, '11': 259}\n",
      "{'00': 409, '01': 204, '10': 128, '11': 259}\n",
      "{'00': 364, '01': 241, '10': 148, '11': 247}\n",
      "{'00': 347, '01': 233, '10': 170, '11': 250}\n",
      "{'00': 310, '01': 239, '10': 189, '11': 262}\n",
      "{'00': 273, '01': 259, '10': 211, '11': 257}\n",
      "{'00': 263, '01': 270, '10': 235, '11': 232}\n"
     ]
    }
   ],
   "source": [
    "counts_list = []\n",
    "for i in range(len(thetas)):\n",
    "    counts = marginal_counts(result.get_counts(i), meas_qubits=[0,1])    \n",
    "    counts_list.append(counts)\n",
    "    print(counts)"
   ]
  },
  {
   "cell_type": "code",
   "execution_count": 22,
   "metadata": {},
   "outputs": [
    {
     "name": "stdout",
     "output_type": "stream",
     "text": [
      "[{'00': 954, '01': 28, '10': 14, '11': 4}, {'00': 946, '01': 28, '10': 17, '11': 9}, {'00': 931, '01': 40, '10': 12, '11': 17}, {'00': 874, '01': 67, '10': 20, '11': 39}, {'00': 867, '01': 45, '10': 22, '11': 66}, {'00': 820, '01': 69, '10': 22, '11': 89}, {'00': 777, '01': 89, '10': 30, '11': 104}, {'00': 741, '01': 98, '10': 28, '11': 133}, {'00': 691, '01': 104, '10': 46, '11': 159}, {'00': 618, '01': 143, '10': 45, '11': 194}, {'00': 600, '01': 137, '10': 65, '11': 198}, {'00': 535, '01': 145, '10': 78, '11': 242}, {'00': 517, '01': 183, '10': 84, '11': 216}, {'00': 448, '01': 200, '10': 93, '11': 259}, {'00': 409, '01': 204, '10': 128, '11': 259}, {'00': 364, '01': 241, '10': 148, '11': 247}, {'00': 347, '01': 233, '10': 170, '11': 250}, {'00': 310, '01': 239, '10': 189, '11': 262}, {'00': 273, '01': 259, '10': 211, '11': 257}, {'00': 263, '01': 270, '10': 235, '11': 232}]\n"
     ]
    }
   ],
   "source": [
    "print(counts_list)"
   ]
  },
  {
   "cell_type": "code",
   "execution_count": null,
   "metadata": {},
   "outputs": [],
   "source": []
  }
 ],
 "metadata": {
  "kernelspec": {
   "display_name": "Python 3",
   "language": "python",
   "name": "python3"
  },
  "language_info": {
   "codemirror_mode": {
    "name": "ipython",
    "version": 3
   },
   "file_extension": ".py",
   "mimetype": "text/x-python",
   "name": "python",
   "nbconvert_exporter": "python",
   "pygments_lexer": "ipython3",
   "version": "3.6.9"
  }
 },
 "nbformat": 4,
 "nbformat_minor": 2
}
