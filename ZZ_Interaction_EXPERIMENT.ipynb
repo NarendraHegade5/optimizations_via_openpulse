{
 "cells": [
  {
   "cell_type": "code",
   "execution_count": 1,
   "metadata": {},
   "outputs": [],
   "source": [
    "import numpy as np\n",
    "import time\n",
    "from collections import namedtuple\n",
    "import matplotlib.pyplot as plt\n",
    "%matplotlib inline"
   ]
  },
  {
   "cell_type": "code",
   "execution_count": 2,
   "metadata": {},
   "outputs": [],
   "source": [
    "import qiskit as q\n",
    "import qiskit.tools.jupyter\n",
    "from qiskit.pulse import pulse_lib as _  # only want to call pulse_lib as q.pulse.pulse_lib"
   ]
  },
  {
   "cell_type": "code",
   "execution_count": 3,
   "metadata": {},
   "outputs": [],
   "source": [
    "import pulse_compiler_helper_fns"
   ]
  },
  {
   "cell_type": "code",
   "execution_count": 4,
   "metadata": {},
   "outputs": [
    {
     "data": {
      "text/plain": [
       "<AccountProvider for IBMQ(hub='ibm-q', group='open', project='main')>"
      ]
     },
     "execution_count": 4,
     "metadata": {},
     "output_type": "execute_result"
    }
   ],
   "source": [
    "q.IBMQ.load_account() # Load account from disk"
   ]
  },
  {
   "cell_type": "code",
   "execution_count": 5,
   "metadata": {},
   "outputs": [
    {
     "name": "stderr",
     "output_type": "stream",
     "text": [
      "/Users/alijavadi/Desktop/ajavadia-terra/qiskit/pulse/channels/pulse_channel_spec.py:87: DeprecationWarning: The PulseChannelSpec is deprecated. Use backend.configuration() instead. The supported methods require some migrations; check out the release notes for the complete details.\n",
      "  DeprecationWarning)\n"
     ]
    }
   ],
   "source": [
    "provider = q.IBMQ.get_provider(group='qiskit-terra', project='pulse-testing')\n",
    "backend = provider.get_backend('alt_almaden')\n",
    "system = q.pulse.PulseChannelSpec.from_backend(backend)\n",
    "cmd_def = q.pulse.CmdDef.from_defaults(backend.defaults().cmd_def, backend.defaults().pulse_library)\n",
    "measure = cmd_def.get('measure', qubits=backend.configuration().meas_map[0])"
   ]
  },
  {
   "cell_type": "code",
   "execution_count": 6,
   "metadata": {},
   "outputs": [
    {
     "name": "stdout",
     "output_type": "stream",
     "text": [
      "[0.         0.07853982 0.15707963 0.23561945 0.31415927 0.39269908\n",
      " 0.4712389  0.54977871 0.62831853 0.70685835 0.78539816 0.86393798\n",
      " 0.9424778  1.02101761 1.09955743 1.17809725 1.25663706 1.33517688\n",
      " 1.41371669 1.49225651]\n"
     ]
    }
   ],
   "source": [
    "thetas = np.linspace(0, np.pi/2, 20, endpoint=False)\n",
    "print(thetas)"
   ]
  },
  {
   "cell_type": "code",
   "execution_count": 7,
   "metadata": {},
   "outputs": [],
   "source": [
    "schedules = []"
   ]
  },
  {
   "cell_type": "code",
   "execution_count": 8,
   "metadata": {},
   "outputs": [],
   "source": [
    "## Standard Way: Cnot RZ Cnot\n",
    "for theta in thetas:\n",
    "    circuit = q.QuantumCircuit(2)\n",
    "    circuit.h(0)\n",
    "    circuit.h(1)\n",
    "    circuit.cx(0, 1)\n",
    "    circuit.rx(theta, 1)\n",
    "    circuit.cx(0, 1)\n",
    "    circuit.h(0)\n",
    "    circuit.h(1)\n",
    "\n",
    "    decomposed_circuit = circuit.decompose()\n",
    "\n",
    "    pulse_compiler_helper_fns.update_basis_gates_and_cmd_def(decomposed_circuit, backend, system, cmd_def)\n",
    "    transpiled_circuit = q.transpile(decomposed_circuit, backend, optimization_level=1)\n",
    "\n",
    "    schedule = q.schedule(transpiled_circuit, backend=backend, cmd_def=cmd_def)\n",
    "    schedule |= measure << schedule.duration\n",
    "    schedules.append(schedule)"
   ]
  },
  {
   "cell_type": "code",
   "execution_count": 9,
   "metadata": {},
   "outputs": [],
   "source": [
    "## Optimized Way Way: zz_interaction decomposes directly to cross resonancefor theta in thetas:\n",
    "for theta in thetas:\n",
    "    circuit = q.QuantumCircuit(2)\n",
    "    circuit.h(0)\n",
    "    circuit.h(1)\n",
    "    circuit.zz_interaction(theta, 0, 1)\n",
    "    circuit.h(0)\n",
    "    circuit.h(1)\n",
    "\n",
    "    decomposed_circuit = circuit.decompose()\n",
    "\n",
    "    pulse_compiler_helper_fns.update_basis_gates_and_cmd_def(decomposed_circuit, backend, system, cmd_def)\n",
    "    transpiled_circuit = q.transpile(decomposed_circuit, backend, optimization_level=1)\n",
    "\n",
    "    schedule = q.schedule(transpiled_circuit, backend=backend, cmd_def=cmd_def)\n",
    "    schedule |= measure << schedule.duration\n",
    "    schedules.append(schedule)"
   ]
  },
  {
   "cell_type": "code",
   "execution_count": 10,
   "metadata": {},
   "outputs": [
    {
     "name": "stdout",
     "output_type": "stream",
     "text": [
      "job is 5dd735d0d4872d00185a5603\n"
     ]
    },
    {
     "name": "stderr",
     "output_type": "stream",
     "text": [
      "/anaconda3/lib/python3.6/site-packages/ipywidgets/widgets/widget_layout.py:84: DeprecationWarning: Layout properties overflow_x and overflow_y have been deprecated and will be dropped in a future release. Please use the overflow shorthand property instead\n",
      "  warnings.warn(\"Layout properties overflow_x and overflow_y have been deprecated and will be dropped in a future release. Please use the overflow shorthand property instead\", DeprecationWarning)\n"
     ]
    }
   ],
   "source": [
    "shots = 1000\n",
    "job = q.execute(schedules, backend=backend, shots=shots)\n",
    "print('job is %s' % job.job_id())"
   ]
  },
  {
   "cell_type": "code",
   "execution_count": 15,
   "metadata": {},
   "outputs": [
    {
     "data": {
      "text/plain": [
       "<JobStatus.RUNNING: 'job is actively running'>"
      ]
     },
     "execution_count": 15,
     "metadata": {},
     "output_type": "execute_result"
    }
   ],
   "source": [
    "job.status()"
   ]
  },
  {
   "cell_type": "markdown",
   "metadata": {},
   "source": [
    "-----\n",
    "## Analysis"
   ]
  },
  {
   "cell_type": "code",
   "execution_count": 16,
   "metadata": {},
   "outputs": [],
   "source": [
    "result = job.result()"
   ]
  },
  {
   "cell_type": "code",
   "execution_count": 17,
   "metadata": {},
   "outputs": [],
   "source": [
    "from qiskit.ignis.verification.tomography.data import marginal_counts"
   ]
  },
  {
   "cell_type": "code",
   "execution_count": 18,
   "metadata": {},
   "outputs": [
    {
     "name": "stdout",
     "output_type": "stream",
     "text": [
      "[{'00': 937, '01': 44, '10': 15, '11': 4}, {'00': 933, '01': 48, '10': 16, '11': 3}, {'00': 928, '01': 53, '10': 15, '11': 4}, {'00': 926, '01': 57, '10': 15, '11': 2}, {'00': 942, '01': 34, '10': 18, '11': 6}, {'00': 914, '01': 62, '10': 19, '11': 5}, {'00': 935, '01': 45, '10': 14, '11': 6}, {'00': 936, '01': 44, '10': 16, '11': 4}, {'00': 936, '01': 41, '10': 18, '11': 5}, {'00': 917, '01': 58, '10': 16, '11': 9}, {'00': 923, '01': 64, '10': 7, '11': 6}, {'00': 932, '01': 53, '10': 13, '11': 2}, {'00': 942, '01': 43, '10': 9, '11': 6}, {'00': 943, '01': 41, '10': 14, '11': 2}, {'00': 921, '01': 56, '10': 16, '11': 7}, {'00': 935, '01': 44, '10': 18, '11': 3}, {'00': 944, '01': 37, '10': 13, '11': 6}, {'00': 926, '01': 40, '10': 25, '11': 9}, {'00': 927, '01': 51, '10': 11, '11': 11}, {'00': 915, '01': 56, '10': 20, '11': 9}]\n"
     ]
    }
   ],
   "source": [
    "standard_counts_list = []\n",
    "for i in range(len(thetas)):\n",
    "    counts = marginal_counts(result.get_counts(i), meas_qubits=[0,1])    \n",
    "    standard_counts_list.append(counts)\n",
    "print(standard_counts_list)"
   ]
  },
  {
   "cell_type": "code",
   "execution_count": 24,
   "metadata": {},
   "outputs": [
    {
     "name": "stdout",
     "output_type": "stream",
     "text": [
      "[{'00': 954, '01': 26, '10': 16, '11': 4}, {'00': 951, '01': 25, '10': 18, '11': 6}, {'00': 943, '01': 32, '10': 15, '11': 10}, {'00': 922, '01': 26, '10': 21, '11': 31}, {'00': 902, '01': 25, '10': 20, '11': 53}, {'00': 865, '01': 39, '10': 24, '11': 72}, {'00': 818, '01': 46, '10': 16, '11': 120}, {'00': 793, '01': 34, '10': 37, '11': 136}, {'00': 768, '01': 37, '10': 38, '11': 157}, {'00': 729, '01': 30, '10': 49, '11': 192}, {'00': 706, '01': 43, '10': 40, '11': 211}, {'00': 650, '01': 49, '10': 42, '11': 259}, {'00': 604, '01': 59, '10': 45, '11': 292}, {'00': 607, '01': 54, '10': 50, '11': 289}, {'00': 586, '01': 48, '10': 42, '11': 324}, {'00': 529, '01': 61, '10': 53, '11': 357}, {'00': 508, '01': 49, '10': 58, '11': 385}, {'00': 552, '01': 42, '10': 52, '11': 354}, {'00': 491, '01': 63, '10': 49, '11': 397}, {'00': 465, '01': 74, '10': 53, '11': 408}]\n"
     ]
    }
   ],
   "source": [
    "optimized_counts_list = []\n",
    "for i in range(len(thetas), len(thetas) * 2):\n",
    "    counts = marginal_counts(result.get_counts(i), meas_qubits=[0,1])    \n",
    "    optimized_counts_list.append(counts)\n",
    "print(optimized_counts_list)"
   ]
  },
  {
   "cell_type": "code",
   "execution_count": null,
   "metadata": {},
   "outputs": [],
   "source": [
    "# # infer output state vectors, up to phase of each element (phase won't matter for overlap calculation)\n",
    "# standard_state_vectors = []\n",
    "# for counts in standard_counts_list:\n",
    "#         standard_state_vectors.append(np.array([\n",
    "#             np.sqrt(counts.get('00', 0)/shots),\n",
    "#             np.sqrt(counts.get('01', 0)/shots),\n",
    "#             np.sqrt(counts.get('10', 0)/shots),\n",
    "#             np.sqrt(counts.get('11', 0)/shots)]))"
   ]
  },
  {
   "cell_type": "code",
   "execution_count": null,
   "metadata": {},
   "outputs": [],
   "source": [
    "# optimized_state_vectors = []\n",
    "# for counts in standard_counts_list:\n",
    "#         standard_state_vectors.append(np.array([\n",
    "#             np.sqrt(counts.get('00', 0)/shots),\n",
    "#             np.sqrt(counts.get('01', 0)/shots),\n",
    "#             np.sqrt(counts.get('10', 0)/shots),\n",
    "#             np.sqrt(counts.get('11', 0)/shots)]))"
   ]
  },
  {
   "cell_type": "code",
   "execution_count": null,
   "metadata": {},
   "outputs": [],
   "source": [
    "# pranav can add fidelity plotting cells below here"
   ]
  }
 ],
 "metadata": {
  "kernelspec": {
   "display_name": "Python 3",
   "language": "python",
   "name": "python3"
  },
  "language_info": {
   "codemirror_mode": {
    "name": "ipython",
    "version": 3
   },
   "file_extension": ".py",
   "mimetype": "text/x-python",
   "name": "python",
   "nbconvert_exporter": "python",
   "pygments_lexer": "ipython3",
   "version": "3.6.9"
  }
 },
 "nbformat": 4,
 "nbformat_minor": 2
}
