{
 "cells": [
  {
   "cell_type": "code",
   "execution_count": 1,
   "metadata": {},
   "outputs": [],
   "source": [
    "import numpy as np\n",
    "import time\n",
    "from collections import namedtuple\n",
    "import matplotlib.pyplot as plt\n",
    "%matplotlib inline"
   ]
  },
  {
   "cell_type": "code",
   "execution_count": 2,
   "metadata": {},
   "outputs": [],
   "source": [
    "import qiskit as q\n",
    "import qiskit.tools.jupyter\n",
    "from qiskit.pulse import pulse_lib as _  # only want to call pulse_lib as q.pulse.pulse_lib"
   ]
  },
  {
   "cell_type": "code",
   "execution_count": 3,
   "metadata": {},
   "outputs": [],
   "source": [
    "import pulse_compiler_helper_fns"
   ]
  },
  {
   "cell_type": "code",
   "execution_count": 4,
   "metadata": {},
   "outputs": [
    {
     "data": {
      "text/plain": [
       "<AccountProvider for IBMQ(hub='ibm-q', group='open', project='main')>"
      ]
     },
     "execution_count": 4,
     "metadata": {},
     "output_type": "execute_result"
    }
   ],
   "source": [
    "q.IBMQ.load_account() # Load account from disk"
   ]
  },
  {
   "cell_type": "code",
   "execution_count": 5,
   "metadata": {},
   "outputs": [
    {
     "name": "stderr",
     "output_type": "stream",
     "text": [
      "/Users/alijavadi/Desktop/ajavadia-terra/qiskit/pulse/channels/pulse_channel_spec.py:87: DeprecationWarning: The PulseChannelSpec is deprecated. Use backend.configuration() instead. The supported methods require some migrations; check out the release notes for the complete details.\n",
      "  DeprecationWarning)\n"
     ]
    }
   ],
   "source": [
    "provider = q.IBMQ.get_provider(group='qiskit-terra', project='pulse-testing')\n",
    "backend = provider.get_backend('alt_almaden')\n",
    "system = q.pulse.PulseChannelSpec.from_backend(backend)\n",
    "cmd_def = q.pulse.CmdDef.from_defaults(backend.defaults().cmd_def, backend.defaults().pulse_library)\n",
    "measure = cmd_def.get('measure', qubits=backend.configuration().meas_map[0])"
   ]
  },
  {
   "cell_type": "code",
   "execution_count": 6,
   "metadata": {},
   "outputs": [
    {
     "name": "stdout",
     "output_type": "stream",
     "text": [
      "[0.         0.07853982 0.15707963 0.23561945 0.31415927 0.39269908\n",
      " 0.4712389  0.54977871 0.62831853 0.70685835 0.78539816 0.86393798\n",
      " 0.9424778  1.02101761 1.09955743 1.17809725 1.25663706 1.33517688\n",
      " 1.41371669 1.49225651]\n"
     ]
    }
   ],
   "source": [
    "thetas = np.linspace(0, np.pi/2, 20, endpoint=False)\n",
    "print(thetas)"
   ]
  },
  {
   "cell_type": "code",
   "execution_count": 7,
   "metadata": {},
   "outputs": [],
   "source": [
    "schedules = []\n",
    "for theta in thetas:\n",
    "    circuit = q.QuantumCircuit(2)\n",
    "    circuit.h(0)\n",
    "    circuit.h(1)\n",
    "    circuit.cx(0, 1)\n",
    "    circuit.rz(theta, 1)\n",
    "    circuit.cx(0, 1)\n",
    "    circuit.h(0)\n",
    "    circuit.h(1)\n",
    "\n",
    "    decomposed_circuit = circuit.decompose()\n",
    "\n",
    "    pulse_compiler_helper_fns.update_basis_gates_and_cmd_def(decomposed_circuit, backend, system, cmd_def)\n",
    "    transpiled_circuit = q.transpile(decomposed_circuit, backend, optimization_level=1)\n",
    "\n",
    "    schedule = q.schedule(transpiled_circuit, backend=backend, cmd_def=cmd_def)\n",
    "    schedule |= measure << schedule.duration\n",
    "    schedules.append(schedule)"
   ]
  },
  {
   "cell_type": "code",
   "execution_count": 8,
   "metadata": {},
   "outputs": [
    {
     "name": "stdout",
     "output_type": "stream",
     "text": [
      "job is 5dd6b5ab33f85e00194bfd80\n"
     ]
    },
    {
     "name": "stderr",
     "output_type": "stream",
     "text": [
      "/anaconda3/lib/python3.6/site-packages/ipywidgets/widgets/widget_layout.py:84: DeprecationWarning: Layout properties overflow_x and overflow_y have been deprecated and will be dropped in a future release. Please use the overflow shorthand property instead\n",
      "  warnings.warn(\"Layout properties overflow_x and overflow_y have been deprecated and will be dropped in a future release. Please use the overflow shorthand property instead\", DeprecationWarning)\n"
     ]
    }
   ],
   "source": [
    "shots = 1000\n",
    "job = q.execute(schedules, backend=backend, shots=shots)\n",
    "print('job is %s' % job.job_id())"
   ]
  },
  {
   "cell_type": "code",
   "execution_count": 17,
   "metadata": {
    "scrolled": true
   },
   "outputs": [
    {
     "data": {
      "text/plain": [
       "<JobStatus.DONE: 'job has successfully run'>"
      ]
     },
     "execution_count": 17,
     "metadata": {},
     "output_type": "execute_result"
    }
   ],
   "source": [
    "job.status()"
   ]
  },
  {
   "cell_type": "code",
   "execution_count": 18,
   "metadata": {},
   "outputs": [],
   "source": [
    "result = job.result()"
   ]
  },
  {
   "cell_type": "code",
   "execution_count": 19,
   "metadata": {},
   "outputs": [],
   "source": [
    "from qiskit.ignis.verification.tomography.data import marginal_counts"
   ]
  },
  {
   "cell_type": "code",
   "execution_count": 20,
   "metadata": {},
   "outputs": [
    {
     "name": "stdout",
     "output_type": "stream",
     "text": [
      "{'00': 951, '01': 30, '10': 13, '11': 6}\n",
      "{'00': 954, '01': 28, '10': 15, '11': 3}\n",
      "{'00': 954, '01': 23, '10': 18, '11': 5}\n",
      "{'00': 937, '01': 31, '10': 16, '11': 16}\n",
      "{'00': 936, '01': 27, '10': 12, '11': 25}\n",
      "{'00': 908, '01': 26, '10': 26, '11': 40}\n",
      "{'00': 910, '01': 23, '10': 16, '11': 51}\n",
      "{'00': 866, '01': 40, '10': 21, '11': 73}\n",
      "{'00': 832, '01': 43, '10': 31, '11': 94}\n",
      "{'00': 830, '01': 51, '10': 24, '11': 95}\n",
      "{'00': 822, '01': 29, '10': 24, '11': 125}\n",
      "{'00': 800, '01': 37, '10': 21, '11': 142}\n",
      "{'00': 759, '01': 42, '10': 24, '11': 175}\n",
      "{'00': 725, '01': 35, '10': 26, '11': 214}\n",
      "{'00': 707, '01': 39, '10': 35, '11': 219}\n",
      "{'00': 683, '01': 41, '10': 25, '11': 251}\n",
      "{'00': 632, '01': 45, '10': 56, '11': 267}\n",
      "{'00': 628, '01': 37, '10': 41, '11': 294}\n",
      "{'00': 556, '01': 42, '10': 46, '11': 356}\n",
      "{'00': 508, '01': 54, '10': 47, '11': 391}\n"
     ]
    }
   ],
   "source": [
    "counts_list = []\n",
    "for i in range(len(thetas)):\n",
    "    counts = marginal_counts(result.get_counts(i), meas_qubits=[0,1])    \n",
    "    counts_list.append(counts)\n",
    "    print(counts)"
   ]
  },
  {
   "cell_type": "code",
   "execution_count": 21,
   "metadata": {},
   "outputs": [
    {
     "name": "stdout",
     "output_type": "stream",
     "text": [
      "[{'00': 951, '01': 30, '10': 13, '11': 6}, {'00': 954, '01': 28, '10': 15, '11': 3}, {'00': 954, '01': 23, '10': 18, '11': 5}, {'00': 937, '01': 31, '10': 16, '11': 16}, {'00': 936, '01': 27, '10': 12, '11': 25}, {'00': 908, '01': 26, '10': 26, '11': 40}, {'00': 910, '01': 23, '10': 16, '11': 51}, {'00': 866, '01': 40, '10': 21, '11': 73}, {'00': 832, '01': 43, '10': 31, '11': 94}, {'00': 830, '01': 51, '10': 24, '11': 95}, {'00': 822, '01': 29, '10': 24, '11': 125}, {'00': 800, '01': 37, '10': 21, '11': 142}, {'00': 759, '01': 42, '10': 24, '11': 175}, {'00': 725, '01': 35, '10': 26, '11': 214}, {'00': 707, '01': 39, '10': 35, '11': 219}, {'00': 683, '01': 41, '10': 25, '11': 251}, {'00': 632, '01': 45, '10': 56, '11': 267}, {'00': 628, '01': 37, '10': 41, '11': 294}, {'00': 556, '01': 42, '10': 46, '11': 356}, {'00': 508, '01': 54, '10': 47, '11': 391}]\n"
     ]
    }
   ],
   "source": [
    "print(counts_list)"
   ]
  }
 ],
 "metadata": {
  "kernelspec": {
   "display_name": "Python 3",
   "language": "python",
   "name": "python3"
  },
  "language_info": {
   "codemirror_mode": {
    "name": "ipython",
    "version": 3
   },
   "file_extension": ".py",
   "mimetype": "text/x-python",
   "name": "python",
   "nbconvert_exporter": "python",
   "pygments_lexer": "ipython3",
   "version": "3.6.9"
  }
 },
 "nbformat": 4,
 "nbformat_minor": 2
}
