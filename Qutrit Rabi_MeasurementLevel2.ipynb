{
 "cells": [
  {
   "cell_type": "code",
   "execution_count": 8,
   "metadata": {},
   "outputs": [],
   "source": [
    "import numpy as np\n",
    "import time\n",
    "import matplotlib.pyplot as plt\n",
    "%matplotlib inline"
   ]
  },
  {
   "cell_type": "code",
   "execution_count": 9,
   "metadata": {},
   "outputs": [],
   "source": [
    "import qiskit as q\n",
    "import qiskit.tools.jupyter\n",
    "from qiskit.pulse import pulse_lib as _  # only want to call pulse_lib as q.pulse.pulse_lib"
   ]
  },
  {
   "cell_type": "code",
   "execution_count": 10,
   "metadata": {},
   "outputs": [
    {
     "name": "stderr",
     "output_type": "stream",
     "text": [
      "Credentials are already in use. The existing account in the session will be replaced.\n"
     ]
    },
    {
     "data": {
      "text/plain": [
       "[<AccountProvider for IBMQ(hub='ibm-q', group='open', project='main')>,\n",
       " <AccountProvider for IBMQ(hub='ibm-q-ornl', group='bes-qis', project='argonne')>]"
      ]
     },
     "execution_count": 10,
     "metadata": {},
     "output_type": "execute_result"
    }
   ],
   "source": [
    "q.IBMQ.load_account() # Load account from disk\n",
    "q.IBMQ.providers()    # List all available providers"
   ]
  },
  {
   "cell_type": "code",
   "execution_count": 11,
   "metadata": {},
   "outputs": [],
   "source": [
    "provider = q.IBMQ.get_provider(group='bes-qis')\n",
    "backend = provider.get_backend('ibmq_boeblingen')\n",
    "system = q.pulse.PulseChannelSpec.from_backend(backend)\n",
    "config = backend.configuration()\n",
    "defaults = backend.defaults()\n",
    "cmd_def = q.pulse.CmdDef.from_defaults(backend.defaults().cmd_def, backend.defaults().pulse_library)\n",
    "measure = cmd_def.get('measure', qubits=config.meas_map[0])"
   ]
  },
  {
   "cell_type": "code",
   "execution_count": 12,
   "metadata": {},
   "outputs": [
    {
     "data": {
      "application/vnd.jupyter.widget-view+json": {
       "model_id": "19d8376e89804a1282f9cc2e38d9455b",
       "version_major": 2,
       "version_minor": 0
      },
      "text/plain": [
       "Accordion(children=(VBox(layout=Layout(max_width='710px', min_width='710px')),), layout=Layout(max_height='500…"
      ]
     },
     "metadata": {},
     "output_type": "display_data"
    },
    {
     "data": {
      "application/javascript": [
       "$('div.job_widget')\n",
       "        .detach()\n",
       "        .appendTo($('#header'))\n",
       "        .css({\n",
       "            'z-index': 999,\n",
       "             'position': 'fixed',\n",
       "            'box-shadow': '5px 5px 5px -3px black',\n",
       "            'opacity': 0.95,\n",
       "            'float': 'left,'\n",
       "        })\n",
       "        "
      ],
      "text/plain": [
       "<IPython.core.display.Javascript object>"
      ]
     },
     "metadata": {},
     "output_type": "display_data"
    }
   ],
   "source": [
    "%qiskit_job_watcher"
   ]
  },
  {
   "cell_type": "code",
   "execution_count": 13,
   "metadata": {
    "scrolled": true
   },
   "outputs": [
    {
     "data": {
      "image/png": "[encoded data removed]",
      "text/plain": [
       "<Figure size 504x360 with 1 Axes>"
      ]
     },
     "execution_count": 13,
     "metadata": {},
     "output_type": "execute_result"
    }
   ],
   "source": [
    "cmd_def.get('x', qubits=[0]).instructions[0][1].command.draw(scaling=0.18)"
   ]
  },
  {
   "cell_type": "code",
   "execution_count": 14,
   "metadata": {},
   "outputs": [
    {
     "data": {
      "image/png": "[encoded data removed]",
      "text/plain": [
       "<Figure size 504x360 with 1 Axes>"
      ]
     },
     "execution_count": 14,
     "metadata": {},
     "output_type": "execute_result"
    }
   ],
   "source": [
    "# Approximate X as a gaussian pulse:\n",
    "DURATION = 10\n",
    "AMP = 0.15\n",
    "SIGMA = 2.6\n",
    "q.pulse.pulse_lib.gaussian(duration=DURATION, amp=AMP, sigma=SIGMA).draw(scaling=0.18)"
   ]
  },
  {
   "cell_type": "markdown",
   "metadata": {},
   "source": [
    "------------"
   ]
  },
  {
   "cell_type": "code",
   "execution_count": 15,
   "metadata": {},
   "outputs": [],
   "source": [
    "MEASUREMENT_START_TIMESTEP = 30"
   ]
  },
  {
   "cell_type": "code",
   "execution_count": 16,
   "metadata": {},
   "outputs": [
    {
     "name": "stdout",
     "output_type": "stream",
     "text": [
      "5daf349524a011001959eea3\n"
     ]
    }
   ],
   "source": [
    "# just measure\n",
    "schedule = q.pulse.Schedule()\n",
    "schedule |= measure << MEASUREMENT_START_TIMESTEP\n",
    "\n",
    "job = q.execute(schedule, backend=backend, shots=1000)\n",
    "print(job.job_id())"
   ]
  },
  {
   "cell_type": "code",
   "execution_count": 17,
   "metadata": {},
   "outputs": [
    {
     "name": "stdout",
     "output_type": "stream",
     "text": [
      "5daf349a140f700018632a0a\n"
     ]
    }
   ],
   "source": [
    "# X, then measure\n",
    "schedule = q.pulse.Schedule()\n",
    "schedule |= cmd_def.get('x', qubits=[0])\n",
    "schedule |= measure << MEASUREMENT_START_TIMESTEP\n",
    "\n",
    "job = q.execute(schedule, backend=backend, shots=1000)\n",
    "print(job.job_id())"
   ]
  },
  {
   "cell_type": "code",
   "execution_count": 18,
   "metadata": {},
   "outputs": [
    {
     "name": "stdout",
     "output_type": "stream",
     "text": [
      "5daf34a0140f700018632a0c\n"
     ]
    }
   ],
   "source": [
    "# X, X, then measure\n",
    "schedule = q.pulse.Schedule()\n",
    "schedule |= cmd_def.get('x', qubits=[0])\n",
    "schedule |= cmd_def.get('x', qubits=[0]) << schedule.duration\n",
    "schedule |= measure << MEASUREMENT_START_TIMESTEP\n",
    "\n",
    "job = q.execute(schedule, backend=backend, shots=1000)\n",
    "print(job.job_id())"
   ]
  },
  {
   "cell_type": "code",
   "execution_count": 19,
   "metadata": {},
   "outputs": [
    {
     "name": "stdout",
     "output_type": "stream",
     "text": [
      "5daf3502c1592500190bdced\n"
     ]
    }
   ],
   "source": [
    "schedules = []\n",
    "\n",
    "for scaling_factor in [0.2, 0.4, 0.6, 0.8, 1.0]:\n",
    "    # X, then pulse at 1-2 frequency, then X, then measure\n",
    "    schedule = q.pulse.Schedule()\n",
    "    schedule |= cmd_def.get('x', qubits=[0])\n",
    "\n",
    "    freq = config.dt * 0.304  # anharmonicity is 304 MHz. In units of dt, we have .304/ns * config.dt/ns\n",
    "    wave_samples = q.pulse.pulse_lib.cos(duration=DURATION, amp=1, freq=freq).samples - 1j * q.pulse.pulse_lib.sin(\n",
    "                duration=DURATION, amp=1, freq=freq).samples\n",
    "    # use amplitude of AMP / sqrt(2) for 1->2 transition\n",
    "    gaussian_samples = q.pulse.pulse_lib.gaussian(\n",
    "        duration=DURATION, amp=AMP * scaling_factor / np.sqrt(2), sigma=SIGMA).samples\n",
    "    schedule |= q.pulse.SamplePulse(gaussian_samples * wave_samples)(system.qubits[0].drive) << schedule.duration\n",
    "\n",
    "    schedule |= cmd_def.get('x', qubits=[0]) << schedule.duration\n",
    "\n",
    "    schedule |= measure << MEASUREMENT_START_TIMESTEP\n",
    "    \n",
    "    schedules.append(schedule)\n",
    "\n",
    "job = q.execute(schedules, backend=backend, shots=1000)\n",
    "print(job.job_id())"
   ]
  },
  {
   "cell_type": "code",
   "execution_count": 20,
   "metadata": {},
   "outputs": [],
   "source": [
    "job_ids = ['5daf349524a011001959eea3', '5daf349a140f700018632a0a', '5daf34a0140f700018632a0c', '5daf3502c1592500190bdced']\n",
    "jobs = [provider.backends.retrieve_job(job_id) for job_id in job_ids]"
   ]
  },
  {
   "cell_type": "code",
   "execution_count": 21,
   "metadata": {},
   "outputs": [
    {
     "name": "stdout",
     "output_type": "stream",
     "text": [
      "frac_ones is 0.092\n"
     ]
    }
   ],
   "source": [
    "# just measure\n",
    "job = jobs[0]\n",
    "counts = job.result().get_counts()\n",
    "frac_ones = sum([value for (key,value) in counts.items() if key[-1] == '1']) / 1000\n",
    "print('frac_ones is %s' % frac_ones)"
   ]
  },
  {
   "cell_type": "code",
   "execution_count": 22,
   "metadata": {},
   "outputs": [
    {
     "name": "stdout",
     "output_type": "stream",
     "text": [
      "frac_ones is 0.863\n"
     ]
    }
   ],
   "source": [
    "# X, then measure\n",
    "job = jobs[1]\n",
    "counts = job.result().get_counts()\n",
    "frac_ones = sum([value for (key,value) in counts.items() if key[-1] == '1']) / 1000\n",
    "print('frac_ones is %s' % frac_ones)"
   ]
  },
  {
   "cell_type": "code",
   "execution_count": 23,
   "metadata": {},
   "outputs": [
    {
     "name": "stdout",
     "output_type": "stream",
     "text": [
      "frac_ones is 0.226\n"
     ]
    }
   ],
   "source": [
    "# X, X, then measure:\n",
    "job = jobs[2]\n",
    "counts = job.result().get_counts()\n",
    "frac_ones = sum([value for (key,value) in counts.items() if key[-1] == '1']) / 1000\n",
    "print('frac_ones is %s' % frac_ones)"
   ]
  },
  {
   "cell_type": "code",
   "execution_count": 24,
   "metadata": {},
   "outputs": [
    {
     "name": "stdout",
     "output_type": "stream",
     "text": [
      "frac_ones is 0.106\n",
      "frac_ones is 0.084\n",
      "frac_ones is 0.078\n",
      "frac_ones is 0.106\n",
      "frac_ones is 0.151\n"
     ]
    }
   ],
   "source": [
    "# X, then pulse at 1-2 frequency, then X, then measure:\n",
    "job = jobs[3]\n",
    "\n",
    "for i in range(5):\n",
    "    counts = job.result().get_counts(i)\n",
    "    frac_ones = sum([value for (key,value) in counts.items() if key[-1] == '1']) / 1000\n",
    "    print('frac_ones is %s' % frac_ones)"
   ]
  },
  {
   "cell_type": "code",
   "execution_count": null,
   "metadata": {},
   "outputs": [],
   "source": []
  }
 ],
 "metadata": {
  "kernelspec": {
   "display_name": "Python 3",
   "language": "python",
   "name": "python3"
  },
  "language_info": {
   "codemirror_mode": {
    "name": "ipython",
    "version": 3
   },
   "file_extension": ".py",
   "mimetype": "text/x-python",
   "name": "python",
   "nbconvert_exporter": "python",
   "pygments_lexer": "ipython3",
   "version": "3.7.3"
  }
 },
 "nbformat": 4,
 "nbformat_minor": 2
}
