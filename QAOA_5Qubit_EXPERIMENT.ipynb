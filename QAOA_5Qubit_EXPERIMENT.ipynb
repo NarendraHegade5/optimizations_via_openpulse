{
 "cells": [
  {
   "cell_type": "code",
   "execution_count": 1,
   "metadata": {},
   "outputs": [],
   "source": [
    "import numpy as np\n",
    "import time\n",
    "from collections import namedtuple\n",
    "import matplotlib.pyplot as plt\n",
    "%matplotlib inline"
   ]
  },
  {
   "cell_type": "code",
   "execution_count": 2,
   "metadata": {},
   "outputs": [],
   "source": [
    "import qiskit as q\n",
    "import qiskit.tools.jupyter\n",
    "from qiskit.pulse import pulse_lib as _  # only want to call pulse_lib as q.pulse.pulse_lib"
   ]
  },
  {
   "cell_type": "code",
   "execution_count": 3,
   "metadata": {},
   "outputs": [],
   "source": [
    "import pulse_compiler_helper_fns"
   ]
  },
  {
   "cell_type": "code",
   "execution_count": 4,
   "metadata": {},
   "outputs": [
    {
     "data": {
      "text/plain": [
       "<AccountProvider for IBMQ(hub='ibm-q', group='open', project='main')>"
      ]
     },
     "execution_count": 4,
     "metadata": {},
     "output_type": "execute_result"
    }
   ],
   "source": [
    "q.IBMQ.load_account() # Load account from disk"
   ]
  },
  {
   "cell_type": "code",
   "execution_count": 5,
   "metadata": {
    "scrolled": true
   },
   "outputs": [
    {
     "name": "stderr",
     "output_type": "stream",
     "text": [
      "/Users/alijavadi/Desktop/ajavadia-terra/qiskit/pulse/channels/pulse_channel_spec.py:87: DeprecationWarning: The PulseChannelSpec is deprecated. Use backend.configuration() instead. The supported methods require some migrations; check out the release notes for the complete details.\n",
      "  DeprecationWarning)\n"
     ]
    }
   ],
   "source": [
    "provider = q.IBMQ.get_provider(group='qiskit-terra', project='pulse-testing')\n",
    "backend = provider.get_backend('alt_almaden')\n",
    "system = q.pulse.PulseChannelSpec.from_backend(backend)\n",
    "config = backend.configuration()\n",
    "cmd_def = q.pulse.CmdDef.from_defaults(backend.defaults().cmd_def, backend.defaults().pulse_library)\n",
    "measure = cmd_def.get('measure', qubits=backend.configuration().meas_map[0])"
   ]
  },
  {
   "cell_type": "code",
   "execution_count": 6,
   "metadata": {},
   "outputs": [],
   "source": [
    "beta = 3 * np.pi / 4\n",
    "gamma = np.pi / 2"
   ]
  },
  {
   "cell_type": "code",
   "execution_count": 7,
   "metadata": {},
   "outputs": [],
   "source": [
    "schedules = []"
   ]
  },
  {
   "cell_type": "code",
   "execution_count": 8,
   "metadata": {},
   "outputs": [],
   "source": [
    "H = cmd_def.get('u2', qubits=[0], P0=0, P1=np.pi) | cmd_def.get('u2', qubits=[1], P0=0, P1=np.pi) | cmd_def.get('u2', qubits=[2], P0=0, P1=np.pi) | cmd_def.get('u2', qubits=[3], P0=0, P1=np.pi) | cmd_def.get('u2', qubits=[4], P0=0, P1=np.pi)\n",
    "\n",
    "CNOT_RZ_CNOT_01 = cmd_def.get('cx', qubits=[0, 1])\n",
    "CNOT_RZ_CNOT_01 |= cmd_def.get('u1', qubits=[1], P0=gamma) << CNOT_RZ_CNOT_01.duration\n",
    "CNOT_RZ_CNOT_01 |= cmd_def.get('cx', qubits=[0, 1]) << CNOT_RZ_CNOT_01.duration\n",
    "\n",
    "CNOT_RZ_CNOT_12 = cmd_def.get('cx', qubits=[1, 2])\n",
    "CNOT_RZ_CNOT_12 |= cmd_def.get('u1', qubits=[2], P0=gamma) << CNOT_RZ_CNOT_12.duration\n",
    "CNOT_RZ_CNOT_12 |= cmd_def.get('cx', qubits=[1, 2]) << CNOT_RZ_CNOT_12.duration\n",
    "\n",
    "CNOT_RZ_CNOT_23 = cmd_def.get('cx', qubits=[2, 3])\n",
    "CNOT_RZ_CNOT_23 |= cmd_def.get('u1', qubits=[3], P0=gamma) << CNOT_RZ_CNOT_23.duration\n",
    "CNOT_RZ_CNOT_23 |= cmd_def.get('cx', qubits=[2, 3]) << CNOT_RZ_CNOT_23.duration\n",
    "\n",
    "CNOT_RZ_CNOT_34 = cmd_def.get('cx', qubits=[3, 4])\n",
    "CNOT_RZ_CNOT_34 |= cmd_def.get('u1', qubits=[4], P0=gamma) << CNOT_RZ_CNOT_34.duration\n",
    "CNOT_RZ_CNOT_34 |= cmd_def.get('cx', qubits=[3, 4]) << CNOT_RZ_CNOT_34.duration\n",
    "\n",
    "# RX(beta) = U3(beta, 3*pi/2, pi/2), hence line below\n",
    "RX = cmd_def.get('u3', qubits=[0], P0=beta, P1=3*np.pi/2, P2=np.pi/2) | cmd_def.get('u3', qubits=[1], P0=beta, P1=3*np.pi/2, P2=np.pi/2) | cmd_def.get('u3', qubits=[2], P0=beta, P1=3*np.pi/2, P2=np.pi/2) | cmd_def.get('u3', qubits=[3], P0=beta, P1=3*np.pi/2, P2=np.pi/2) | cmd_def.get('u3', qubits=[4], P0=beta, P1=3*np.pi/2, P2=np.pi/2)\n",
    "\n",
    "schedule = H\n",
    "schedule |= CNOT_RZ_CNOT_01 << schedule.duration\n",
    "schedule |= CNOT_RZ_CNOT_12 << schedule.duration\n",
    "schedule |= CNOT_RZ_CNOT_23 << schedule.duration\n",
    "schedule |= CNOT_RZ_CNOT_34 << schedule.duration\n",
    "schedule |= RX << schedule.duration\n",
    "schedule |= measure << schedule.duration\n",
    "\n",
    "schedules.append(schedule)"
   ]
  },
  {
   "cell_type": "code",
   "execution_count": 9,
   "metadata": {},
   "outputs": [],
   "source": [
    "## Optimized Way: zz_interaction decomposes directly to cross resonancefor theta in thetas:\n",
    "circuit = q.QuantumCircuit(5)\n",
    "circuit.h(0)\n",
    "circuit.h(1)\n",
    "circuit.h(2)\n",
    "circuit.h(3)\n",
    "circuit.h(4)\n",
    "\n",
    "circuit.zz_interaction(gamma, 0, 1)\n",
    "circuit.zz_interaction(gamma, 1, 2)\n",
    "circuit.zz_interaction(gamma, 2, 3)\n",
    "circuit.zz_interaction(gamma, 3, 4)\n",
    "\n",
    "circuit.rx(beta, 0)\n",
    "circuit.rx(beta, 1)\n",
    "circuit.rx(beta, 2)\n",
    "circuit.rx(beta, 3)\n",
    "circuit.rx(beta, 4)\n",
    "\n",
    "decomposed_circuit = circuit.decompose()\n",
    "\n",
    "pulse_compiler_helper_fns.update_basis_gates_and_cmd_def(decomposed_circuit, backend, system, cmd_def)\n",
    "transpiled_circuit = q.transpile(decomposed_circuit, backend, optimization_level=1)\n",
    "\n",
    "schedule = q.schedule(transpiled_circuit, backend=backend, cmd_def=cmd_def)\n",
    "schedule |= measure << schedule.duration\n",
    "schedules.append(schedule)"
   ]
  },
  {
   "cell_type": "code",
   "execution_count": 11,
   "metadata": {
    "scrolled": true
   },
   "outputs": [
    {
     "name": "stdout",
     "output_type": "stream",
     "text": [
      "job is 5dda0e668aa7e00018b8fc54\n"
     ]
    },
    {
     "name": "stderr",
     "output_type": "stream",
     "text": [
      "/anaconda3/lib/python3.6/site-packages/ipywidgets/widgets/widget_layout.py:84: DeprecationWarning: Layout properties overflow_x and overflow_y have been deprecated and will be dropped in a future release. Please use the overflow shorthand property instead\n",
      "  warnings.warn(\"Layout properties overflow_x and overflow_y have been deprecated and will be dropped in a future release. Please use the overflow shorthand property instead\", DeprecationWarning)\n"
     ]
    }
   ],
   "source": [
    "shots = 8000\n",
    "job = q.execute(schedules, backend=backend, shots=shots)\n",
    "print('job is %s' % job.job_id())"
   ]
  },
  {
   "cell_type": "code",
   "execution_count": 17,
   "metadata": {},
   "outputs": [
    {
     "data": {
      "text/plain": [
       "<JobStatus.DONE: 'job has successfully run'>"
      ]
     },
     "execution_count": 17,
     "metadata": {},
     "output_type": "execute_result"
    }
   ],
   "source": [
    "job.status()"
   ]
  },
  {
   "cell_type": "markdown",
   "metadata": {},
   "source": [
    "# Run a mitigation cal job"
   ]
  },
  {
   "cell_type": "code",
   "execution_count": 13,
   "metadata": {
    "scrolled": true
   },
   "outputs": [],
   "source": [
    "import qiskit.ignis.mitigation.measurement as mit\n",
    "meas_qcs, meas_labels = mit.complete_meas_cal(qubit_list=[0,1,2,3,4])\n",
    "meas_qcs_transpiled = q.transpile(meas_qcs, backend, basis_gates=['x'])\n",
    "meas_schedules = q.schedule(meas_qcs_transpiled, backend=backend, cmd_def=cmd_def)\n",
    "job_mit = q.execute(meas_schedules, backend)"
   ]
  },
  {
   "cell_type": "code",
   "execution_count": 19,
   "metadata": {
    "scrolled": true
   },
   "outputs": [
    {
     "data": {
      "text/plain": [
       "<JobStatus.DONE: 'job has successfully run'>"
      ]
     },
     "execution_count": 19,
     "metadata": {},
     "output_type": "execute_result"
    }
   ],
   "source": [
    "job_mit.status()"
   ]
  },
  {
   "cell_type": "markdown",
   "metadata": {},
   "source": [
    "-----\n",
    "## Analysis"
   ]
  },
  {
   "cell_type": "code",
   "execution_count": 20,
   "metadata": {},
   "outputs": [],
   "source": [
    "from qiskit.result import marginal_counts"
   ]
  },
  {
   "cell_type": "code",
   "execution_count": 21,
   "metadata": {},
   "outputs": [],
   "source": [
    "result = job.result()"
   ]
  },
  {
   "cell_type": "code",
   "execution_count": 22,
   "metadata": {},
   "outputs": [
    {
     "data": {
      "text/plain": [
       "array([[0.94433594, 0.09277344, 0.07324219, ..., 0.        , 0.        ,\n",
       "        0.        ],\n",
       "       [0.01757812, 0.86523438, 0.00488281, ..., 0.        , 0.        ,\n",
       "        0.        ],\n",
       "       [0.01074219, 0.00390625, 0.87792969, ..., 0.        , 0.        ,\n",
       "        0.        ],\n",
       "       ...,\n",
       "       [0.        , 0.        , 0.        , ..., 0.69628906, 0.00292969,\n",
       "        0.046875  ],\n",
       "       [0.        , 0.        , 0.        , ..., 0.00195312, 0.68945312,\n",
       "        0.06640625],\n",
       "       [0.        , 0.        , 0.        , ..., 0.01171875, 0.01660156,\n",
       "        0.65039062]])"
      ]
     },
     "execution_count": 22,
     "metadata": {},
     "output_type": "execute_result"
    }
   ],
   "source": [
    "# mitigate results\n",
    "result_mit = marginal_counts(job_mit.result(), [0,1,2,3,4])\n",
    "readout_fitter = mit.CompleteMeasFitter(result_mit, meas_labels)\n",
    "readout_fitter.cal_matrix"
   ]
  },
  {
   "cell_type": "code",
   "execution_count": 23,
   "metadata": {},
   "outputs": [
    {
     "name": "stdout",
     "output_type": "stream",
     "text": [
      "before mitigation:\n",
      "{'00000': 164, '00001': 164, '00010': 336, '00011': 115, '00100': 519, '00101': 410, '00110': 233, '00111': 298, '01000': 321, '01001': 674, '01010': 606, '01011': 142, '01100': 144, '01101': 91, '01110': 333, '01111': 157, '10000': 194, '10001': 305, '10010': 692, '10011': 172, '10100': 397, '10101': 368, '10110': 127, '10111': 161, '11000': 86, '11001': 112, '11010': 59, '11011': 34, '11100': 187, '11101': 112, '11110': 150, '11111': 137}\n",
      "\n",
      "\n",
      "\n",
      " after mitigation:\n",
      "{'00000': 56.0317743295955, '00001': 49.608741329688826, '00010': 233.25655060761525, '00011': 72.04401115442808, '00100': 497.5412592197259, '00101': 425.80781745986343, '00110': 191.40861644183047, '00111': 351.7756409220617, '01000': 258.24915472273256, '01001': 782.1808720496601, '01010': 673.1475417448868, '01011': 139.01879058418655, '01100': 123.70304638525421, '01101': 77.18258613496097, '01110': 391.67768391966774, '01111': 197.21151749040482, '10000': 99.71941798841743, '10001': 303.91121484311293, '10010': 782.1117027213626, '10011': 168.31321496173828, '10100': 403.60532283734057, '10101': 421.9026892500369, '10110': 100.4617955028196, '10111': 196.20226405155302, '11000': 64.22776571611261, '11001': 123.02100110811973, '11010': 46.13332098687505, '11011': 23.28528462339101, '11100': 222.79771921079475, '11101': 135.15183898711166, '11110': 189.66524500281713, '11111': 199.64459771183522}\n"
     ]
    }
   ],
   "source": [
    "standard_counts = marginal_counts(result.get_counts(0), [0,1,2,3,4])\n",
    "print('before mitigation:')\n",
    "print(standard_counts)\n",
    "\n",
    "standard_counts = readout_fitter.filter.apply(standard_counts)\n",
    "print('\\n\\n\\n after mitigation:')\n",
    "print(standard_counts)"
   ]
  },
  {
   "cell_type": "code",
   "execution_count": 24,
   "metadata": {},
   "outputs": [
    {
     "name": "stdout",
     "output_type": "stream",
     "text": [
      "before mitigation:\n",
      "{'00000': 117, '00001': 390, '00010': 189, '00011': 70, '00100': 97, '00101': 198, '00110': 275, '00111': 90, '01000': 149, '01001': 671, '01010': 480, '01011': 96, '01100': 218, '01101': 371, '01110': 431, '01111': 198, '10000': 197, '10001': 337, '10010': 758, '10011': 213, '10100': 250, '10101': 873, '10110': 274, '10111': 110, '11000': 84, '11001': 294, '11010': 80, '11011': 41, '11100': 58, '11101': 101, '11110': 218, '11111': 72}\n",
      "\n",
      "\n",
      "\n",
      " after mitigation:\n",
      "{'00000': 48.554937113039834, '00001': 340.1763230210594, '00010': 75.63289725789416, '00011': 42.0592253351569, '00100': 27.872465261153312, '00101': 123.84651469767034, '00110': 264.44475335407054, '00111': 77.4884546175043, '01000': 62.98634356272676, '01001': 740.9626458060229, '01010': 517.9178209928541, '01011': 77.33099295501312, '01100': 193.58779976451143, '01101': 448.0522112256852, '01110': 509.57754720356303, '01111': 254.79473205844093, '10000': 114.1175521443675, '10001': 268.6072352574158, '10010': 833.4411508781126, '10011': 223.89007219466959, '10100': 183.62584572820828, '10101': 1080.2110181839478, '10110': 291.10254412503446, '10111': 121.94429381530566, '11000': 60.56820896585753, '11001': 357.41109315555485, '11010': 62.43467557665865, '11011': 37.83121379992658, '11100': 41.30997656064813, '11101': 123.08900427664987, '11110': 297.9505777849185, '11111': 97.17987332635727}\n"
     ]
    }
   ],
   "source": [
    "optimized_counts = marginal_counts(result.get_counts(1), [0,1,2,3,4])\n",
    "print('before mitigation:')\n",
    "print(optimized_counts)\n",
    "\n",
    "optimized_counts = readout_fitter.filter.apply(optimized_counts)\n",
    "print('\\n\\n\\n after mitigation:')\n",
    "print(optimized_counts)"
   ]
  },
  {
   "cell_type": "code",
   "execution_count": 25,
   "metadata": {},
   "outputs": [],
   "source": [
    "# sanitize data and plot\n",
    "for key in standard_counts:\n",
    "    standard_counts[key] = int(standard_counts[key])\n",
    "for key in optimized_counts:\n",
    "    optimized_counts[key] = int(optimized_counts[key])"
   ]
  },
  {
   "cell_type": "code",
   "execution_count": 26,
   "metadata": {},
   "outputs": [
    {
     "data": {
      "text/plain": [
       "{'00000': 56,\n",
       " '00001': 49,\n",
       " '00010': 233,\n",
       " '00011': 72,\n",
       " '00100': 497,\n",
       " '00101': 425,\n",
       " '00110': 191,\n",
       " '00111': 351,\n",
       " '01000': 258,\n",
       " '01001': 782,\n",
       " '01010': 673,\n",
       " '01011': 139,\n",
       " '01100': 123,\n",
       " '01101': 77,\n",
       " '01110': 391,\n",
       " '01111': 197,\n",
       " '10000': 99,\n",
       " '10001': 303,\n",
       " '10010': 782,\n",
       " '10011': 168,\n",
       " '10100': 403,\n",
       " '10101': 421,\n",
       " '10110': 100,\n",
       " '10111': 196,\n",
       " '11000': 64,\n",
       " '11001': 123,\n",
       " '11010': 46,\n",
       " '11011': 23,\n",
       " '11100': 222,\n",
       " '11101': 135,\n",
       " '11110': 189,\n",
       " '11111': 199}"
      ]
     },
     "execution_count": 26,
     "metadata": {},
     "output_type": "execute_result"
    }
   ],
   "source": [
    "standard_counts"
   ]
  },
  {
   "cell_type": "code",
   "execution_count": 27,
   "metadata": {},
   "outputs": [
    {
     "data": {
      "text/plain": [
       "{'00000': 48,\n",
       " '00001': 340,\n",
       " '00010': 75,\n",
       " '00011': 42,\n",
       " '00100': 27,\n",
       " '00101': 123,\n",
       " '00110': 264,\n",
       " '00111': 77,\n",
       " '01000': 62,\n",
       " '01001': 740,\n",
       " '01010': 517,\n",
       " '01011': 77,\n",
       " '01100': 193,\n",
       " '01101': 448,\n",
       " '01110': 509,\n",
       " '01111': 254,\n",
       " '10000': 114,\n",
       " '10001': 268,\n",
       " '10010': 833,\n",
       " '10011': 223,\n",
       " '10100': 183,\n",
       " '10101': 1080,\n",
       " '10110': 291,\n",
       " '10111': 121,\n",
       " '11000': 60,\n",
       " '11001': 357,\n",
       " '11010': 62,\n",
       " '11011': 37,\n",
       " '11100': 41,\n",
       " '11101': 123,\n",
       " '11110': 297,\n",
       " '11111': 97}"
      ]
     },
     "execution_count": 27,
     "metadata": {},
     "output_type": "execute_result"
    }
   ],
   "source": [
    "optimized_counts"
   ]
  },
  {
   "cell_type": "code",
   "execution_count": 35,
   "metadata": {},
   "outputs": [
    {
     "data": {
      "image/png": "[encoded data removed]",
      "text/plain": [
       "<Figure size 720x576 with 1 Axes>"
      ]
     },
     "execution_count": 35,
     "metadata": {},
     "output_type": "execute_result"
    }
   ],
   "source": [
    "from qiskit.visualization import plot_histogram\n",
    "plot_histogram([standard_counts, optimized_counts], legend=['standard', 'optimized'], figsize=(10,8))"
   ]
  },
  {
   "cell_type": "code",
   "execution_count": null,
   "metadata": {},
   "outputs": [],
   "source": [
    "# ideal_counts = {'01': 4000, '10': 4000}\n",
    "# standard_counts = {'00': 9.306905529044516e-10, '01': 4340.499596429236, '10': 3659.5004035698817}\n",
    "# optimized_counts = {'00': 3.2117147307346117e-09, '01': 4201.575210406215, '10': 3798.4247895903336, '11': 2.401224165590816e-10}"
   ]
  },
  {
   "cell_type": "code",
   "execution_count": null,
   "metadata": {},
   "outputs": [],
   "source": [
    "# print(pulse_compiler_helper_fns.kl_divergence(ideal_counts, standard_counts))\n",
    "# print(pulse_compiler_helper_fns.kl_divergence(ideal_counts, optimized_counts))"
   ]
  },
  {
   "cell_type": "code",
   "execution_count": null,
   "metadata": {},
   "outputs": [],
   "source": [
    "# print(pulse_compiler_helper_fns.cross_entropy(ideal_counts, standard_counts))\n",
    "# print(pulse_compiler_helper_fns.cross_entropy(ideal_counts, optimized_counts))"
   ]
  }
 ],
 "metadata": {
  "kernelspec": {
   "display_name": "Python 3",
   "language": "python",
   "name": "python3"
  },
  "language_info": {
   "codemirror_mode": {
    "name": "ipython",
    "version": 3
   },
   "file_extension": ".py",
   "mimetype": "text/x-python",
   "name": "python",
   "nbconvert_exporter": "python",
   "pygments_lexer": "ipython3",
   "version": "3.6.9"
  }
 },
 "nbformat": 4,
 "nbformat_minor": 2
}
