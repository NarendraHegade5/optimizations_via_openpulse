{
 "cells": [
  {
   "cell_type": "code",
   "execution_count": null,
   "metadata": {},
   "outputs": [],
   "source": [
    "import numpy as np\n",
    "import time\n",
    "from collections import namedtuple\n",
    "import matplotlib.pyplot as plt\n",
    "%matplotlib inline"
   ]
  },
  {
   "cell_type": "code",
   "execution_count": null,
   "metadata": {},
   "outputs": [],
   "source": [
    "import qiskit as q\n",
    "import qiskit.tools.jupyter\n",
    "from qiskit.pulse import pulse_lib as _  # only want to call pulse_lib as q.pulse.pulse_lib"
   ]
  },
  {
   "cell_type": "code",
   "execution_count": null,
   "metadata": {},
   "outputs": [],
   "source": [
    "import pulse_compiler_helper_fns"
   ]
  },
  {
   "cell_type": "code",
   "execution_count": null,
   "metadata": {},
   "outputs": [],
   "source": [
    "q.IBMQ.load_account() # Load account from disk"
   ]
  },
  {
   "cell_type": "code",
   "execution_count": null,
   "metadata": {
    "scrolled": true
   },
   "outputs": [],
   "source": [
    "provider = q.IBMQ.get_provider(group='qiskit-terra', project='pulse-testing')\n",
    "backend = provider.get_backend('alt_almaden')\n",
    "system = q.pulse.PulseChannelSpec.from_backend(backend)\n",
    "config = backend.configuration()\n",
    "cmd_def = q.pulse.CmdDef.from_defaults(backend.defaults().cmd_def, backend.defaults().pulse_library)\n",
    "measure = cmd_def.get('measure', qubits=backend.configuration().meas_map[0])"
   ]
  },
  {
   "cell_type": "code",
   "execution_count": null,
   "metadata": {},
   "outputs": [],
   "source": [
    "beta = 3 * np.pi / 4\n",
    "gamma = np.pi / 2"
   ]
  },
  {
   "cell_type": "code",
   "execution_count": null,
   "metadata": {},
   "outputs": [],
   "source": [
    "schedules = []"
   ]
  },
  {
   "cell_type": "code",
   "execution_count": null,
   "metadata": {},
   "outputs": [],
   "source": [
    "H = cmd_def.get('u2', qubits=[0], P0=0, P1=np.pi) | cmd_def.get('u2', qubits=[1], P0=0, P1=np.pi) | cmd_def.get('u2', qubits=[2], P0=0, P1=np.pi) | cmd_def.get('u2', qubits=[3], P0=0, P1=np.pi) | cmd_def.get('u2', qubits=[4], P0=0, P1=np.pi)\n",
    "\n",
    "CNOT_RZ_CNOT_01 = cmd_def.get('cx', qubits=[0, 1])\n",
    "CNOT_RZ_CNOT_01 |= cmd_def.get('u1', qubits=[1], P0=gamma) << CNOT_RZ_CNOT_01.duration\n",
    "CNOT_RZ_CNOT_01 |= cmd_def.get('cx', qubits=[0, 1]) << CNOT_RZ_CNOT_01.duration\n",
    "\n",
    "CNOT_RZ_CNOT_12 = cmd_def.get('cx', qubits=[1, 2])\n",
    "CNOT_RZ_CNOT_12 |= cmd_def.get('u1', qubits=[2], P0=gamma) << CNOT_RZ_CNOT_12.duration\n",
    "CNOT_RZ_CNOT_12 |= cmd_def.get('cx', qubits=[1, 2]) << CNOT_RZ_CNOT_12.duration\n",
    "\n",
    "CNOT_RZ_CNOT_23 = cmd_def.get('cx', qubits=[2, 3])\n",
    "CNOT_RZ_CNOT_23 |= cmd_def.get('u1', qubits=[3], P0=gamma) << CNOT_RZ_CNOT_23.duration\n",
    "CNOT_RZ_CNOT_23 |= cmd_def.get('cx', qubits=[2, 3]) << CNOT_RZ_CNOT_23.duration\n",
    "\n",
    "CNOT_RZ_CNOT_34 = cmd_def.get('cx', qubits=[3, 4])\n",
    "CNOT_RZ_CNOT_34 |= cmd_def.get('u1', qubits=[4], P0=gamma) << CNOT_RZ_CNOT_34.duration\n",
    "CNOT_RZ_CNOT_34 |= cmd_def.get('cx', qubits=[3, 4]) << CNOT_RZ_CNOT_34.duration\n",
    "\n",
    "# RX(beta) = U3(beta, 3*pi/2, pi/2), hence line below\n",
    "RX = cmd_def.get('u3', qubits=[0], P0=beta, P1=3*np.pi/2, P2=np.pi/2) | cmd_def.get('u3', qubits=[1], P0=beta, P1=3*np.pi/2, P2=np.pi/2) | cmd_def.get('u3', qubits=[2], P0=beta, P1=3*np.pi/2, P2=np.pi/2) | cmd_def.get('u3', qubits=[3], P0=beta, P1=3*np.pi/2, P2=np.pi/2) | cmd_def.get('u3', qubits=[4], P0=beta, P1=3*np.pi/2, P2=np.pi/2)\n",
    "\n",
    "schedule = H\n",
    "schedule |= CNOT_RZ_CNOT_01 << schedule.duration\n",
    "schedule |= CNOT_RZ_CNOT_12 << schedule.duration\n",
    "schedule |= CNOT_RZ_CNOT_23 << schedule.duration\n",
    "schedule |= CNOT_RZ_CNOT_34 << schedule.duration\n",
    "schedule |= RX << schedule.duration\n",
    "schedule |= measure << schedule.duration\n",
    "\n",
    "schedules.append(schedule)"
   ]
  },
  {
   "cell_type": "code",
   "execution_count": null,
   "metadata": {},
   "outputs": [],
   "source": [
    "## Optimized Way: zz_interaction decomposes directly to cross resonancefor theta in thetas:\n",
    "circuit = q.QuantumCircuit(5)\n",
    "circuit.h(0)\n",
    "circuit.h(1)\n",
    "circuit.h(2)\n",
    "circuit.h(3)\n",
    "circuit.h(4)\n",
    "\n",
    "circuit.zz_interaction(gamma, 0, 1)\n",
    "circuit.zz_interaction(gamma, 1, 2)\n",
    "circuit.zz_interaction(gamma, 2, 3)\n",
    "circuit.zz_interaction(gamma, 3, 4)\n",
    "\n",
    "circuit.rx(beta, 0)\n",
    "circuit.rx(beta, 1)\n",
    "circuit.rx(beta, 2)\n",
    "circuit.rx(beta, 3)\n",
    "circuit.rx(beta, 4)\n",
    "\n",
    "decomposed_circuit = circuit.decompose()\n",
    "\n",
    "pulse_compiler_helper_fns.update_basis_gates_and_cmd_def(decomposed_circuit, backend, system, cmd_def)\n",
    "transpiled_circuit = q.transpile(decomposed_circuit, backend, optimization_level=1)\n",
    "\n",
    "schedule = q.schedule(transpiled_circuit, backend=backend, cmd_def=cmd_def)\n",
    "schedule |= measure << schedule.duration\n",
    "schedules.append(schedule)"
   ]
  },
  {
   "cell_type": "code",
   "execution_count": null,
   "metadata": {
    "scrolled": true
   },
   "outputs": [],
   "source": [
    "shots = 8000\n",
    "job = q.execute(schedules, backend=backend, shots=shots)\n",
    "print('job is %s' % job.job_id())"
   ]
  },
  {
   "cell_type": "code",
   "execution_count": null,
   "metadata": {},
   "outputs": [],
   "source": [
    "job.status()"
   ]
  },
  {
   "cell_type": "markdown",
   "metadata": {},
   "source": [
    "# Run a mitigation cal job"
   ]
  },
  {
   "cell_type": "code",
   "execution_count": null,
   "metadata": {
    "scrolled": true
   },
   "outputs": [],
   "source": [
    "import qiskit.ignis.mitigation.measurement as mit\n",
    "meas_qcs, meas_labels = mit.complete_meas_cal(qubit_list=[0,1,2,3,4])\n",
    "meas_qcs_transpiled = q.transpile(meas_qcs, backend, basis_gates=['x'])\n",
    "meas_schedules = q.schedule(meas_qcs_transpiled, backend=backend, cmd_def=cmd_def)\n",
    "job_mit = q.execute(meas_schedules, backend)"
   ]
  },
  {
   "cell_type": "code",
   "execution_count": null,
   "metadata": {
    "scrolled": false
   },
   "outputs": [],
   "source": [
    "job_mit.status()"
   ]
  },
  {
   "cell_type": "markdown",
   "metadata": {},
   "source": [
    "-----\n",
    "## Analysis"
   ]
  },
  {
   "cell_type": "code",
   "execution_count": null,
   "metadata": {},
   "outputs": [],
   "source": [
    "from qiskit.result import marginal_counts"
   ]
  },
  {
   "cell_type": "code",
   "execution_count": null,
   "metadata": {},
   "outputs": [],
   "source": [
    "result = job.result()"
   ]
  },
  {
   "cell_type": "code",
   "execution_count": null,
   "metadata": {},
   "outputs": [],
   "source": [
    "# mitigate results\n",
    "result_mit = marginal_counts(job_mit.result(), [0,1,2,3,4])\n",
    "readout_fitter = mit.CompleteMeasFitter(result_mit, meas_labels)\n",
    "readout_fitter.cal_matrix"
   ]
  },
  {
   "cell_type": "code",
   "execution_count": null,
   "metadata": {},
   "outputs": [],
   "source": [
    "standard_counts = marginal_counts(result.get_counts(0), [0,1,2,3,4])\n",
    "print('before mitigation:')\n",
    "print(standard_counts)\n",
    "\n",
    "standard_counts = readout_fitter.filter.apply(standard_counts)\n",
    "print('\\n\\n\\n after mitigation:')\n",
    "print(standard_counts)"
   ]
  },
  {
   "cell_type": "code",
   "execution_count": null,
   "metadata": {},
   "outputs": [],
   "source": [
    "optimized_counts = marginal_counts(result.get_counts(1), [0,1,2,3,4])\n",
    "print('before mitigation:')\n",
    "print(optimized_counts)\n",
    "\n",
    "optimized_counts = readout_fitter.filter.apply(optimized_counts)\n",
    "print('\\n\\n\\n after mitigation:')\n",
    "print(optimized_counts)"
   ]
  },
  {
   "cell_type": "code",
   "execution_count": null,
   "metadata": {},
   "outputs": [],
   "source": [
    "# sanitize data and plot\n",
    "for key in standard_counts:\n",
    "    standard_counts[key] = int(standard_counts[key])\n",
    "for key in optimized_counts:\n",
    "    optimized_counts[key] = int(optimized_counts[key])"
   ]
  },
  {
   "cell_type": "code",
   "execution_count": null,
   "metadata": {},
   "outputs": [],
   "source": [
    "standard_counts"
   ]
  },
  {
   "cell_type": "code",
   "execution_count": null,
   "metadata": {},
   "outputs": [],
   "source": [
    "optimized_counts"
   ]
  },
  {
   "cell_type": "code",
   "execution_count": null,
   "metadata": {},
   "outputs": [],
   "source": [
    "plot_histogram([standard_counts, optimized_counts], legend=['standard', 'optimized'])"
   ]
  },
  {
   "cell_type": "code",
   "execution_count": null,
   "metadata": {},
   "outputs": [],
   "source": [
    "# ideal_counts = {'01': 4000, '10': 4000}\n",
    "# standard_counts = {'00': 9.306905529044516e-10, '01': 4340.499596429236, '10': 3659.5004035698817}\n",
    "# optimized_counts = {'00': 3.2117147307346117e-09, '01': 4201.575210406215, '10': 3798.4247895903336, '11': 2.401224165590816e-10}"
   ]
  },
  {
   "cell_type": "code",
   "execution_count": null,
   "metadata": {},
   "outputs": [],
   "source": [
    "# print(pulse_compiler_helper_fns.kl_divergence(ideal_counts, standard_counts))\n",
    "# print(pulse_compiler_helper_fns.kl_divergence(ideal_counts, optimized_counts))"
   ]
  },
  {
   "cell_type": "code",
   "execution_count": null,
   "metadata": {},
   "outputs": [],
   "source": [
    "# print(pulse_compiler_helper_fns.cross_entropy(ideal_counts, standard_counts))\n",
    "# print(pulse_compiler_helper_fns.cross_entropy(ideal_counts, optimized_counts))"
   ]
  }
 ],
 "metadata": {
  "kernelspec": {
   "display_name": "Python 3",
   "language": "python",
   "name": "python3"
  },
  "language_info": {
   "codemirror_mode": {
    "name": "ipython",
    "version": 3
   },
   "file_extension": ".py",
   "mimetype": "text/x-python",
   "name": "python",
   "nbconvert_exporter": "python",
   "pygments_lexer": "ipython3",
   "version": "3.7.3"
  }
 },
 "nbformat": 4,
 "nbformat_minor": 2
}
