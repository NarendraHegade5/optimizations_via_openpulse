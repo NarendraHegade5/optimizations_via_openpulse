{
 "cells": [
  {
   "cell_type": "code",
   "execution_count": 1,
   "metadata": {},
   "outputs": [],
   "source": [
    "import numpy as np\n",
    "import time\n",
    "from collections import namedtuple\n",
    "import matplotlib.pyplot as plt\n",
    "%matplotlib inline"
   ]
  },
  {
   "cell_type": "code",
   "execution_count": 2,
   "metadata": {},
   "outputs": [],
   "source": [
    "import qiskit as q\n",
    "import qiskit.tools.jupyter\n",
    "from qiskit.pulse import pulse_lib as _  # only want to call pulse_lib as q.pulse.pulse_lib"
   ]
  },
  {
   "cell_type": "code",
   "execution_count": 3,
   "metadata": {},
   "outputs": [],
   "source": [
    "import pulse_compiler_helper_fns"
   ]
  },
  {
   "cell_type": "code",
   "execution_count": 4,
   "metadata": {},
   "outputs": [
    {
     "data": {
      "text/plain": [
       "<AccountProvider for IBMQ(hub='ibm-q', group='open', project='main')>"
      ]
     },
     "execution_count": 4,
     "metadata": {},
     "output_type": "execute_result"
    }
   ],
   "source": [
    "q.IBMQ.load_account() # Load account from disk"
   ]
  },
  {
   "cell_type": "code",
   "execution_count": 5,
   "metadata": {
    "scrolled": true
   },
   "outputs": [
    {
     "name": "stderr",
     "output_type": "stream",
     "text": [
      "/Users/alijavadi/Desktop/ajavadia-terra/qiskit/pulse/channels/pulse_channel_spec.py:87: DeprecationWarning: The PulseChannelSpec is deprecated. Use backend.configuration() instead. The supported methods require some migrations; check out the release notes for the complete details.\n",
      "  DeprecationWarning)\n"
     ]
    }
   ],
   "source": [
    "provider = q.IBMQ.get_provider(group='qiskit-terra', project='pulse-testing')\n",
    "backend = provider.get_backend('alt_almaden')\n",
    "system = q.pulse.PulseChannelSpec.from_backend(backend)\n",
    "config = backend.configuration()\n",
    "cmd_def = q.pulse.CmdDef.from_defaults(backend.defaults().cmd_def, backend.defaults().pulse_library)\n",
    "measure = cmd_def.get('measure', qubits=backend.configuration().meas_map[0])"
   ]
  },
  {
   "cell_type": "code",
   "execution_count": 6,
   "metadata": {},
   "outputs": [],
   "source": [
    "beta = 3 * np.pi / 4\n",
    "gamma = np.pi / 2"
   ]
  },
  {
   "cell_type": "code",
   "execution_count": 7,
   "metadata": {},
   "outputs": [],
   "source": [
    "schedules = []"
   ]
  },
  {
   "cell_type": "code",
   "execution_count": 8,
   "metadata": {},
   "outputs": [],
   "source": [
    "H = cmd_def.get('u2', qubits=[0], P0=0, P1=np.pi) | cmd_def.get('u2', qubits=[1], P0=0, P1=np.pi) | cmd_def.get('u2', qubits=[2], P0=0, P1=np.pi) | cmd_def.get('u2', qubits=[3], P0=0, P1=np.pi) | cmd_def.get('u2', qubits=[4], P0=0, P1=np.pi)\n",
    "\n",
    "CNOT_RZ_CNOT_01 = cmd_def.get('cx', qubits=[0, 1])\n",
    "CNOT_RZ_CNOT_01 |= cmd_def.get('u1', qubits=[1], P0=gamma) << CNOT_RZ_CNOT_01.duration\n",
    "CNOT_RZ_CNOT_01 |= cmd_def.get('cx', qubits=[0, 1]) << CNOT_RZ_CNOT_01.duration\n",
    "\n",
    "CNOT_RZ_CNOT_12 = cmd_def.get('cx', qubits=[1, 2])\n",
    "CNOT_RZ_CNOT_12 |= cmd_def.get('u1', qubits=[2], P0=gamma) << CNOT_RZ_CNOT_12.duration\n",
    "CNOT_RZ_CNOT_12 |= cmd_def.get('cx', qubits=[1, 2]) << CNOT_RZ_CNOT_12.duration\n",
    "\n",
    "CNOT_RZ_CNOT_23 = cmd_def.get('cx', qubits=[2, 3])\n",
    "CNOT_RZ_CNOT_23 |= cmd_def.get('u1', qubits=[3], P0=gamma) << CNOT_RZ_CNOT_23.duration\n",
    "CNOT_RZ_CNOT_23 |= cmd_def.get('cx', qubits=[2, 3]) << CNOT_RZ_CNOT_23.duration\n",
    "\n",
    "CNOT_RZ_CNOT_34 = cmd_def.get('cx', qubits=[3, 4])\n",
    "CNOT_RZ_CNOT_34 |= cmd_def.get('u1', qubits=[4], P0=gamma) << CNOT_RZ_CNOT_34.duration\n",
    "CNOT_RZ_CNOT_34 |= cmd_def.get('cx', qubits=[3, 4]) << CNOT_RZ_CNOT_34.duration\n",
    "\n",
    "# RX(beta) = U3(beta, 3*pi/2, pi/2), hence line below\n",
    "RX = cmd_def.get('u3', qubits=[0], P0=beta, P1=3*np.pi/2, P2=np.pi/2) | cmd_def.get('u3', qubits=[1], P0=beta, P1=3*np.pi/2, P2=np.pi/2) | cmd_def.get('u3', qubits=[2], P0=beta, P1=3*np.pi/2, P2=np.pi/2) | cmd_def.get('u3', qubits=[3], P0=beta, P1=3*np.pi/2, P2=np.pi/2) | cmd_def.get('u3', qubits=[4], P0=beta, P1=3*np.pi/2, P2=np.pi/2)\n",
    "\n",
    "schedule = H\n",
    "schedule |= CNOT_RZ_CNOT_01 << schedule.duration\n",
    "schedule |= CNOT_RZ_CNOT_12 << schedule.duration\n",
    "schedule |= CNOT_RZ_CNOT_23 << schedule.duration\n",
    "schedule |= CNOT_RZ_CNOT_34 << schedule.duration\n",
    "schedule |= RX << schedule.duration\n",
    "schedule |= measure << schedule.duration\n",
    "\n",
    "schedules.append(schedule)"
   ]
  },
  {
   "cell_type": "code",
   "execution_count": 9,
   "metadata": {},
   "outputs": [],
   "source": [
    "## Optimized Way: zz_interaction decomposes directly to cross resonancefor theta in thetas:\n",
    "circuit = q.QuantumCircuit(5)\n",
    "circuit.h(0)\n",
    "circuit.h(1)\n",
    "circuit.h(2)\n",
    "circuit.h(3)\n",
    "circuit.h(4)\n",
    "\n",
    "circuit.zz_interaction(gamma, 0, 1)\n",
    "circuit.zz_interaction(gamma, 1, 2)\n",
    "circuit.zz_interaction(gamma, 2, 3)\n",
    "circuit.zz_interaction(gamma, 3, 4)\n",
    "\n",
    "circuit.rx(beta, 0)\n",
    "circuit.rx(beta, 1)\n",
    "circuit.rx(beta, 2)\n",
    "circuit.rx(beta, 3)\n",
    "circuit.rx(beta, 4)\n",
    "\n",
    "decomposed_circuit = circuit.decompose()\n",
    "\n",
    "pulse_compiler_helper_fns.update_basis_gates_and_cmd_def(decomposed_circuit, backend, system, cmd_def)\n",
    "transpiled_circuit = q.transpile(decomposed_circuit, backend, optimization_level=1)\n",
    "\n",
    "schedule = q.schedule(transpiled_circuit, backend=backend, cmd_def=cmd_def)\n",
    "schedule |= measure << schedule.duration\n",
    "schedules.append(schedule)"
   ]
  },
  {
   "cell_type": "code",
   "execution_count": 11,
   "metadata": {
    "scrolled": true
   },
   "outputs": [
    {
     "name": "stdout",
     "output_type": "stream",
     "text": [
      "job is 5dda0e668aa7e00018b8fc54\n"
     ]
    },
    {
     "name": "stderr",
     "output_type": "stream",
     "text": [
      "/anaconda3/lib/python3.6/site-packages/ipywidgets/widgets/widget_layout.py:84: DeprecationWarning: Layout properties overflow_x and overflow_y have been deprecated and will be dropped in a future release. Please use the overflow shorthand property instead\n",
      "  warnings.warn(\"Layout properties overflow_x and overflow_y have been deprecated and will be dropped in a future release. Please use the overflow shorthand property instead\", DeprecationWarning)\n"
     ]
    }
   ],
   "source": [
    "shots = 8000\n",
    "job = q.execute(schedules, backend=backend, shots=shots)\n",
    "print('job is %s' % job.job_id())"
   ]
  },
  {
   "cell_type": "code",
   "execution_count": 17,
   "metadata": {},
   "outputs": [
    {
     "data": {
      "text/plain": [
       "<JobStatus.DONE: 'job has successfully run'>"
      ]
     },
     "execution_count": 17,
     "metadata": {},
     "output_type": "execute_result"
    }
   ],
   "source": [
    "job.status()"
   ]
  },
  {
   "cell_type": "markdown",
   "metadata": {},
   "source": [
    "# Run a mitigation cal job"
   ]
  },
  {
   "cell_type": "code",
   "execution_count": 36,
   "metadata": {
    "scrolled": true
   },
   "outputs": [
    {
     "name": "stderr",
     "output_type": "stream",
     "text": [
      "/anaconda3/lib/python3.6/site-packages/ipywidgets/widgets/widget_layout.py:84: DeprecationWarning: Layout properties overflow_x and overflow_y have been deprecated and will be dropped in a future release. Please use the overflow shorthand property instead\n",
      "  warnings.warn(\"Layout properties overflow_x and overflow_y have been deprecated and will be dropped in a future release. Please use the overflow shorthand property instead\", DeprecationWarning)\n"
     ]
    }
   ],
   "source": [
    "import qiskit.ignis.mitigation.measurement as mit\n",
    "meas_qcs, meas_labels = mit.complete_meas_cal(qubit_list=[0,1,2,3,4])\n",
    "meas_qcs_transpiled = q.transpile(meas_qcs, backend, basis_gates=['x'])\n",
    "meas_schedules = q.schedule(meas_qcs_transpiled, backend=backend, cmd_def=cmd_def)\n",
    "job_mit = q.execute(meas_schedules, backend, shots=shots)"
   ]
  },
  {
   "cell_type": "code",
   "execution_count": 50,
   "metadata": {
    "scrolled": true
   },
   "outputs": [
    {
     "data": {
      "text/plain": [
       "<JobStatus.DONE: 'job has successfully run'>"
      ]
     },
     "execution_count": 50,
     "metadata": {},
     "output_type": "execute_result"
    }
   ],
   "source": [
    "job_mit.status()"
   ]
  },
  {
   "cell_type": "markdown",
   "metadata": {},
   "source": [
    "-----\n",
    "## Analysis"
   ]
  },
  {
   "cell_type": "code",
   "execution_count": 51,
   "metadata": {},
   "outputs": [],
   "source": [
    "from qiskit.result import marginal_counts"
   ]
  },
  {
   "cell_type": "code",
   "execution_count": 52,
   "metadata": {},
   "outputs": [],
   "source": [
    "result = job.result()"
   ]
  },
  {
   "cell_type": "code",
   "execution_count": 53,
   "metadata": {},
   "outputs": [
    {
     "data": {
      "text/plain": [
       "array([[9.17125e-01, 7.68750e-02, 6.70000e-02, ..., 0.00000e+00,\n",
       "        0.00000e+00, 0.00000e+00],\n",
       "       [2.48750e-02, 8.66375e-01, 2.50000e-03, ..., 2.50000e-04,\n",
       "        0.00000e+00, 1.25000e-04],\n",
       "       [1.66250e-02, 1.87500e-03, 8.64000e-01, ..., 0.00000e+00,\n",
       "        3.75000e-04, 1.25000e-04],\n",
       "       ...,\n",
       "       [0.00000e+00, 0.00000e+00, 0.00000e+00, ..., 6.97125e-01,\n",
       "        1.75000e-03, 5.02500e-02],\n",
       "       [0.00000e+00, 0.00000e+00, 0.00000e+00, ..., 1.75000e-03,\n",
       "        7.05000e-01, 7.08750e-02],\n",
       "       [0.00000e+00, 0.00000e+00, 0.00000e+00, ..., 1.00000e-02,\n",
       "        2.01250e-02, 6.62250e-01]])"
      ]
     },
     "execution_count": 53,
     "metadata": {},
     "output_type": "execute_result"
    }
   ],
   "source": [
    "# mitigate results\n",
    "result_mit = marginal_counts(job_mit.result(), [0,1,2,3,4])\n",
    "readout_fitter = mit.CompleteMeasFitter(result_mit, meas_labels)\n",
    "readout_fitter.cal_matrix"
   ]
  },
  {
   "cell_type": "code",
   "execution_count": 54,
   "metadata": {},
   "outputs": [
    {
     "name": "stdout",
     "output_type": "stream",
     "text": [
      "before mitigation:\n",
      "{'00000': 164, '00001': 164, '00010': 336, '00011': 115, '00100': 519, '00101': 410, '00110': 233, '00111': 298, '01000': 321, '01001': 674, '01010': 606, '01011': 142, '01100': 144, '01101': 91, '01110': 333, '01111': 157, '10000': 194, '10001': 305, '10010': 692, '10011': 172, '10100': 397, '10101': 368, '10110': 127, '10111': 161, '11000': 86, '11001': 112, '11010': 59, '11011': 34, '11100': 187, '11101': 112, '11110': 150, '11111': 137}\n",
      "\n",
      "\n",
      "\n",
      " after mitigation:\n",
      "{'00000': 73.94759199923955, '00001': 52.54881494049934, '00010': 246.61233017315266, '00011': 76.54636554893855, '00100': 502.98842129484694, '00101': 422.76416480593656, '00110': 181.1370116592928, '00111': 346.1019888084021, '01000': 245.57265258929428, '01001': 803.6477688297599, '01010': 702.1454816996077, '01011': 146.8753727776203, '01100': 110.75884864311479, '01101': 66.9421552034904, '01110': 382.8956728785569, '01111': 192.0042067884139, '10000': 85.34274306674088, '10001': 303.45093628342903, '10010': 791.5749341592119, '10011': 179.61143657197357, '10100': 401.13600383272933, '10101': 413.94108032533273, '10110': 87.80932793167389, '10111': 187.18205043008425, '11000': 70.16541711830234, '11001': 124.03586223906025, '11010': 46.82375542935432, '11011': 26.428537249373623, '11100': 218.413980785087, '11101': 131.11281133813605, '11110': 184.54604326708943, '11111': 194.93623133225395}\n"
     ]
    }
   ],
   "source": [
    "standard_counts = marginal_counts(result.get_counts(0), [0,1,2,3,4])\n",
    "print('before mitigation:')\n",
    "print(standard_counts)\n",
    "\n",
    "standard_counts = readout_fitter.filter.apply(standard_counts)\n",
    "print('\\n\\n\\n after mitigation:')\n",
    "print(standard_counts)"
   ]
  },
  {
   "cell_type": "code",
   "execution_count": 55,
   "metadata": {},
   "outputs": [
    {
     "name": "stdout",
     "output_type": "stream",
     "text": [
      "before mitigation:\n",
      "{'00000': 117, '00001': 390, '00010': 189, '00011': 70, '00100': 97, '00101': 198, '00110': 275, '00111': 90, '01000': 149, '01001': 671, '01010': 480, '01011': 96, '01100': 218, '01101': 371, '01110': 431, '01111': 198, '10000': 197, '10001': 337, '10010': 758, '10011': 213, '10100': 250, '10101': 873, '10110': 274, '10111': 110, '11000': 84, '11001': 294, '11010': 80, '11011': 41, '11100': 58, '11101': 101, '11110': 218, '11111': 72}\n",
      "\n",
      "\n",
      "\n",
      " after mitigation:\n",
      "{'00000': 64.31836727224682, '00001': 342.48789420516823, '00010': 88.92461530463044, '00011': 46.18446098380638, '00100': 41.71832442734677, '00101': 118.13220927356623, '00110': 250.63734268255885, '00111': 73.88916755483336, '01000': 48.20881623716803, '01001': 763.0900811585608, '01010': 542.621438365874, '01011': 82.86262196968067, '01100': 189.37167982351284, '01101': 439.99231512975155, '01110': 502.7120907277713, '01111': 252.68151359864967, '10000': 98.22639233689812, '10001': 263.68596468088134, '10010': 849.3561519756636, '10011': 234.3982505349286, '10100': 179.2605198330568, '10101': 1069.2856657864045, '10110': 273.91248613341645, '10111': 111.3078200817481, '11000': 62.60329054289367, '11001': 367.8758406018258, '11010': 66.34082890921485, '11011': 39.36920338890298, '11100': 38.60367935148936, '11101': 112.46687321069714, '11110': 291.8200175525248, '11111': 93.65407636432755}\n"
     ]
    }
   ],
   "source": [
    "optimized_counts = marginal_counts(result.get_counts(1), [0,1,2,3,4])\n",
    "print('before mitigation:')\n",
    "print(optimized_counts)\n",
    "\n",
    "optimized_counts = readout_fitter.filter.apply(optimized_counts)\n",
    "print('\\n\\n\\n after mitigation:')\n",
    "print(optimized_counts)"
   ]
  },
  {
   "cell_type": "code",
   "execution_count": 56,
   "metadata": {},
   "outputs": [],
   "source": [
    "# sanitize data and plot\n",
    "for key in standard_counts:\n",
    "    standard_counts[key] = int(standard_counts[key])\n",
    "for key in optimized_counts:\n",
    "    optimized_counts[key] = int(optimized_counts[key])"
   ]
  },
  {
   "cell_type": "code",
   "execution_count": 57,
   "metadata": {},
   "outputs": [
    {
     "data": {
      "text/plain": [
       "{'00000': 73,\n",
       " '00001': 52,\n",
       " '00010': 246,\n",
       " '00011': 76,\n",
       " '00100': 502,\n",
       " '00101': 422,\n",
       " '00110': 181,\n",
       " '00111': 346,\n",
       " '01000': 245,\n",
       " '01001': 803,\n",
       " '01010': 702,\n",
       " '01011': 146,\n",
       " '01100': 110,\n",
       " '01101': 66,\n",
       " '01110': 382,\n",
       " '01111': 192,\n",
       " '10000': 85,\n",
       " '10001': 303,\n",
       " '10010': 791,\n",
       " '10011': 179,\n",
       " '10100': 401,\n",
       " '10101': 413,\n",
       " '10110': 87,\n",
       " '10111': 187,\n",
       " '11000': 70,\n",
       " '11001': 124,\n",
       " '11010': 46,\n",
       " '11011': 26,\n",
       " '11100': 218,\n",
       " '11101': 131,\n",
       " '11110': 184,\n",
       " '11111': 194}"
      ]
     },
     "execution_count": 57,
     "metadata": {},
     "output_type": "execute_result"
    }
   ],
   "source": [
    "standard_counts"
   ]
  },
  {
   "cell_type": "code",
   "execution_count": 58,
   "metadata": {},
   "outputs": [
    {
     "data": {
      "text/plain": [
       "{'00000': 64,\n",
       " '00001': 342,\n",
       " '00010': 88,\n",
       " '00011': 46,\n",
       " '00100': 41,\n",
       " '00101': 118,\n",
       " '00110': 250,\n",
       " '00111': 73,\n",
       " '01000': 48,\n",
       " '01001': 763,\n",
       " '01010': 542,\n",
       " '01011': 82,\n",
       " '01100': 189,\n",
       " '01101': 439,\n",
       " '01110': 502,\n",
       " '01111': 252,\n",
       " '10000': 98,\n",
       " '10001': 263,\n",
       " '10010': 849,\n",
       " '10011': 234,\n",
       " '10100': 179,\n",
       " '10101': 1069,\n",
       " '10110': 273,\n",
       " '10111': 111,\n",
       " '11000': 62,\n",
       " '11001': 367,\n",
       " '11010': 66,\n",
       " '11011': 39,\n",
       " '11100': 38,\n",
       " '11101': 112,\n",
       " '11110': 291,\n",
       " '11111': 93}"
      ]
     },
     "execution_count": 58,
     "metadata": {},
     "output_type": "execute_result"
    }
   ],
   "source": [
    "optimized_counts"
   ]
  },
  {
   "cell_type": "code",
   "execution_count": 59,
   "metadata": {},
   "outputs": [
    {
     "data": {
      "image/png": "[encoded data removed]",
      "text/plain": [
       "<Figure size 720x576 with 1 Axes>"
      ]
     },
     "execution_count": 59,
     "metadata": {},
     "output_type": "execute_result"
    }
   ],
   "source": [
    "from qiskit.visualization import plot_histogram\n",
    "plot_histogram([standard_counts, optimized_counts], legend=['standard', 'optimized'], figsize=(10,8))"
   ]
  },
  {
   "cell_type": "code",
   "execution_count": null,
   "metadata": {},
   "outputs": [],
   "source": [
    "# ideal_counts = {'01': 4000, '10': 4000}\n",
    "# standard_counts = {'00': 9.306905529044516e-10, '01': 4340.499596429236, '10': 3659.5004035698817}\n",
    "# optimized_counts = {'00': 3.2117147307346117e-09, '01': 4201.575210406215, '10': 3798.4247895903336, '11': 2.401224165590816e-10}"
   ]
  },
  {
   "cell_type": "code",
   "execution_count": null,
   "metadata": {},
   "outputs": [],
   "source": [
    "# print(pulse_compiler_helper_fns.kl_divergence(ideal_counts, standard_counts))\n",
    "# print(pulse_compiler_helper_fns.kl_divergence(ideal_counts, optimized_counts))"
   ]
  },
  {
   "cell_type": "code",
   "execution_count": null,
   "metadata": {},
   "outputs": [],
   "source": [
    "# print(pulse_compiler_helper_fns.cross_entropy(ideal_counts, standard_counts))\n",
    "# print(pulse_compiler_helper_fns.cross_entropy(ideal_counts, optimized_counts))"
   ]
  },
  {
   "cell_type": "code",
   "execution_count": null,
   "metadata": {},
   "outputs": [],
   "source": []
  }
 ],
 "metadata": {
  "kernelspec": {
   "display_name": "Python 3",
   "language": "python",
   "name": "python3"
  },
  "language_info": {
   "codemirror_mode": {
    "name": "ipython",
    "version": 3
   },
   "file_extension": ".py",
   "mimetype": "text/x-python",
   "name": "python",
   "nbconvert_exporter": "python",
   "pygments_lexer": "ipython3",
   "version": "3.6.9"
  }
 },
 "nbformat": 4,
 "nbformat_minor": 2
}
